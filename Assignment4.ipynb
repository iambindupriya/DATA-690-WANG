{
  "nbformat": 4,
  "nbformat_minor": 0,
  "metadata": {
    "colab": {
      "name": "Assignment4.ipynb",
      "provenance": [],
      "collapsed_sections": []
    },
    "kernelspec": {
      "name": "python3",
      "display_name": "Python 3"
    },
    "language_info": {
      "name": "python"
    }
  },
  "cells": [
    {
      "cell_type": "code",
      "metadata": {
        "id": "yrlpAjXXXRbT"
      },
      "source": [
        "#opening the text file, read line by line , list each line with splitline breaks \n",
        "text_file = open('/census.txt') \n",
        "line_list = text_file.read().splitlines() \n",
        "text_file.close()"
      ],
      "execution_count": 4,
      "outputs": []
    },
    {
      "cell_type": "code",
      "metadata": {
        "id": "Gi_zptS-Szzm"
      },
      "source": [
        "with open('/census.txt', 'rt')as f:\n",
        "  line_list=f.readlines()"
      ],
      "execution_count": 7,
      "outputs": []
    },
    {
      "cell_type": "code",
      "metadata": {
        "colab": {
          "base_uri": "https://localhost:8080/"
        },
        "id": "UEOAzysES7Ib",
        "outputId": "070c5514-743f-42c7-a004-e6e3a5b467d2"
      },
      "source": [
        "for row in line_list:\n",
        "  print(row)"
      ],
      "execution_count": 8,
      "outputs": [
        {
          "output_type": "stream",
          "text": [
            "﻿Source: https://www.genealogybranches.com/censuscosts.html\n",
            "\n",
            "Census Year        Total Population        Census Cost        Average Cost Per Person\n",
            "\n",
            "1790        3,929,214        $44,377        1.13 cents\n",
            "\n",
            "1800        5,308,483        $66,109        1.24 cents\n",
            "\n",
            "1810        7,239,881        $178,445        2.46 cents\n",
            "\n",
            "1820        9,633,822        $208,526        2.16 cents\n",
            "\n",
            "1830        12,866,020        $378,545        2.94 cents\n",
            "\n",
            "1840        17,069,458        $833,371        4.88 cents\n",
            "\n",
            "1850        23,191,876        $1,423,351        6.14 cents\n",
            "\n",
            "1860        31,443,321        $1,969,377        6.26 cents\n",
            "\n",
            "1870        38,558,371        $3,421,198        8.87 cents\n",
            "\n",
            "1880        50,155,783        $5,790,678        11.54 cents\n",
            "\n",
            "1890        62,979,766        $11,547,127        18.33 cents\n",
            "\n",
            "1900        76,303,387        $11,854,000        15.54 cents\n",
            "\n",
            "1910        91,972,266        $15,968,000        17.07 cents\n",
            "\n",
            "1920        105,710,620        $25,117,000        23.76 cents\n",
            "\n",
            "1930        122,775,046        $40,156,000        32.71 cents\n",
            "\n",
            "1940        131,669,275        $67,527,000        51.29 cents\n",
            "\n",
            "1950        151,325,798        $91,462,000        60.44 cents\n",
            "\n",
            "1960        179,323,175        $127,934,000        71.34 cents\n",
            "\n",
            "1970        203,302,031        $247,653,000        $1.22\n",
            "\n",
            "1980        226,542,199        $1,078,488,000        $4.76\n",
            "\n",
            "1990        248,718,301        $2,492,830,000        $10.02\n",
            "\n",
            "2000        281,421,906        $4.5 Billion        $15.99\n",
            "\n",
            "2010*        308,745,538        $13 Billion        $42.11\n"
          ],
          "name": "stdout"
        }
      ]
    },
    {
      "cell_type": "code",
      "metadata": {
        "colab": {
          "base_uri": "https://localhost:8080/"
        },
        "id": "aZCvTLUpTAEg",
        "outputId": "b47ae31b-4785-4055-e524-a3308e0e8094"
      },
      "source": [
        "top2_list = line_list[0:2]\n",
        "top2_list"
      ],
      "execution_count": 9,
      "outputs": [
        {
          "output_type": "execute_result",
          "data": {
            "text/plain": [
              "['\\ufeffSource: https://www.genealogybranches.com/censuscosts.html\\n',\n",
              " 'Census Year        Total Population        Census Cost        Average Cost Per Person\\n']"
            ]
          },
          "metadata": {
            "tags": []
          },
          "execution_count": 9
        }
      ]
    },
    {
      "cell_type": "code",
      "metadata": {
        "colab": {
          "base_uri": "https://localhost:8080/"
        },
        "id": "2tMNiCZ4TEg7",
        "outputId": "2f5b4c4c-407f-447a-8ca1-104e5f6fc11d"
      },
      "source": [
        "data_list = line_list[2:25]\n",
        "print(\"data_list\", data_list)"
      ],
      "execution_count": 10,
      "outputs": [
        {
          "output_type": "stream",
          "text": [
            "data_list ['1790        3,929,214        $44,377        1.13 cents\\n', '1800        5,308,483        $66,109        1.24 cents\\n', '1810        7,239,881        $178,445        2.46 cents\\n', '1820        9,633,822        $208,526        2.16 cents\\n', '1830        12,866,020        $378,545        2.94 cents\\n', '1840        17,069,458        $833,371        4.88 cents\\n', '1850        23,191,876        $1,423,351        6.14 cents\\n', '1860        31,443,321        $1,969,377        6.26 cents\\n', '1870        38,558,371        $3,421,198        8.87 cents\\n', '1880        50,155,783        $5,790,678        11.54 cents\\n', '1890        62,979,766        $11,547,127        18.33 cents\\n', '1900        76,303,387        $11,854,000        15.54 cents\\n', '1910        91,972,266        $15,968,000        17.07 cents\\n', '1920        105,710,620        $25,117,000        23.76 cents\\n', '1930        122,775,046        $40,156,000        32.71 cents\\n', '1940        131,669,275        $67,527,000        51.29 cents\\n', '1950        151,325,798        $91,462,000        60.44 cents\\n', '1960        179,323,175        $127,934,000        71.34 cents\\n', '1970        203,302,031        $247,653,000        $1.22\\n', '1980        226,542,199        $1,078,488,000        $4.76\\n', '1990        248,718,301        $2,492,830,000        $10.02\\n', '2000        281,421,906        $4.5 Billion        $15.99\\n', '2010*        308,745,538        $13 Billion        $42.11']\n"
          ],
          "name": "stdout"
        }
      ]
    },
    {
      "cell_type": "code",
      "metadata": {
        "colab": {
          "base_uri": "https://localhost:8080/"
        },
        "id": "AoUVuVc6TG-a",
        "outputId": "f45d9a12-c707-4a7b-bfbc-3d2a9b21ff4f"
      },
      "source": [
        "year_list = [census.split()[0] for census in data_list]\n",
        "del year_list[-1]\n",
        "year_list.insert(23, str(2010))\n",
        "print(\"year_list: \", year_list)"
      ],
      "execution_count": 11,
      "outputs": [
        {
          "output_type": "stream",
          "text": [
            "year_list:  ['1790', '1800', '1810', '1820', '1830', '1840', '1850', '1860', '1870', '1880', '1890', '1900', '1910', '1920', '1930', '1940', '1950', '1960', '1970', '1980', '1990', '2000', '2010']\n"
          ],
          "name": "stdout"
        }
      ]
    },
    {
      "cell_type": "code",
      "metadata": {
        "colab": {
          "base_uri": "https://localhost:8080/"
        },
        "id": "oh1IygNMTKdu",
        "outputId": "639a1ed6-e959-4147-e8ba-1bbf002199e3"
      },
      "source": [
        "pop = [total_pop.split()[1] for total_pop in data_list]\n",
        "pop_list = []\n",
        "for pop1 in pop:\n",
        "  pop2 = pop1.replace(',','')\n",
        "  pop2 = int(pop2)\n",
        "  pop_list.append(pop2)\n",
        "print(\"pop_list: \", pop_list)"
      ],
      "execution_count": 12,
      "outputs": [
        {
          "output_type": "stream",
          "text": [
            "pop_list:  [3929214, 5308483, 7239881, 9633822, 12866020, 17069458, 23191876, 31443321, 38558371, 50155783, 62979766, 76303387, 91972266, 105710620, 122775046, 131669275, 151325798, 179323175, 203302031, 226542199, 248718301, 281421906, 308745538]\n"
          ],
          "name": "stdout"
        }
      ]
    },
    {
      "cell_type": "code",
      "metadata": {
        "colab": {
          "base_uri": "https://localhost:8080/"
        },
        "id": "1e_BUo-ETMoD",
        "outputId": "e24acf64-305f-47a7-ee95-e7d0608bd1c7"
      },
      "source": [
        "cost = [ccost.split()[2] for ccost in data_list]\n",
        "cost_list = []\n",
        "for cost1 in cost:\n",
        "  cost2 = cost1.replace(\",\", '')\n",
        "  cost3 = cost2.replace('$','')\n",
        "  cost4 = cost3.replace('4.5','4500000000')\n",
        "  cost5 = cost4.replace('13', '130000000000')\n",
        "  cost6 = cost5.replace(\"Billion\", '')\n",
        "  cost_list.append(cost6)\n",
        "print(\"cost_list: \",cost_list)"
      ],
      "execution_count": 13,
      "outputs": [
        {
          "output_type": "stream",
          "text": [
            "cost_list:  ['44377', '66109', '178445', '208526', '378545', '833371', '1423351', '1969377', '3421198', '5790678', '11547127', '11854000', '15968000', '25117000', '40156000', '67527000', '91462000', '127934000', '247653000', '1078488000', '2492830000', '4500000000', '130000000000']\n"
          ],
          "name": "stdout"
        }
      ]
    },
    {
      "cell_type": "code",
      "metadata": {
        "colab": {
          "base_uri": "https://localhost:8080/"
        },
        "id": "j-8hclCATO_V",
        "outputId": "329f7268-738f-4f1e-f802-631ddfc19bbc"
      },
      "source": [
        "avg = [avg.split()[3] for avg in data_list]\n",
        "del avg[22]\n",
        "del avg[21]\n",
        "avg.insert(21, str(15.99))\n",
        "avg.insert(22, str(42.11))\n",
        "\n",
        "avg2 = []\n",
        "for i in avg:\n",
        "  avg1 = i.replace(\"$\", \"\")\n",
        "  avg2.append(avg1)\n",
        "print(\"avg2: \", avg2)"
      ],
      "execution_count": 14,
      "outputs": [
        {
          "output_type": "stream",
          "text": [
            "avg2:  ['1.13', '1.24', '2.46', '2.16', '2.94', '4.88', '6.14', '6.26', '8.87', '11.54', '18.33', '15.54', '17.07', '23.76', '32.71', '51.29', '60.44', '71.34', '1.22', '4.76', '10.02', '15.99', '42.11']\n"
          ],
          "name": "stdout"
        }
      ]
    },
    {
      "cell_type": "code",
      "metadata": {
        "colab": {
          "base_uri": "https://localhost:8080/"
        },
        "id": "-kEKR75WTRmg",
        "outputId": "1d6a813a-8a00-4da0-f1b8-07465ada794a"
      },
      "source": [
        "avg_list = []\n",
        "for i in avg2[0:18]:\n",
        "  i = float(i)\n",
        "  avg3 = i/100\n",
        "  avg4 = round(avg3, 4)\n",
        "  avg4 = str(avg4)\n",
        "  avg_list.append(avg4)\n",
        "print(\"avg_list[0:18]: \", avg_list)"
      ],
      "execution_count": 15,
      "outputs": [
        {
          "output_type": "stream",
          "text": [
            "avg_list[0:18]:  ['0.0113', '0.0124', '0.0246', '0.0216', '0.0294', '0.0488', '0.0614', '0.0626', '0.0887', '0.1154', '0.1833', '0.1554', '0.1707', '0.2376', '0.3271', '0.5129', '0.6044', '0.7134']\n"
          ],
          "name": "stdout"
        }
      ]
    },
    {
      "cell_type": "code",
      "metadata": {
        "colab": {
          "base_uri": "https://localhost:8080/"
        },
        "id": "6n-qFEV9TUQx",
        "outputId": "cce8066f-09c6-4e74-bf8b-740c9148cd9b"
      },
      "source": [
        "for i in avg2[18:23]:\n",
        "  avg5 = float(i)\n",
        "  int_avg5 = int(avg5)\n",
        "  dec_avg5 = avg5-int_avg5\n",
        "  dollar_dec_avg5 = dec_avg5/100\n",
        "  avg6 = int_avg5 + dollar_dec_avg5\n",
        "  avg6 = str(avg6)\n",
        "  avg_list.append(avg6)\n",
        "  int_avg5 = 0\n",
        "  dec_avg5 = 0\n",
        "print(\"All avg_list: \", avg_list)"
      ],
      "execution_count": 16,
      "outputs": [
        {
          "output_type": "stream",
          "text": [
            "All avg_list:  ['0.0113', '0.0124', '0.0246', '0.0216', '0.0294', '0.0488', '0.0614', '0.0626', '0.0887', '0.1154', '0.1833', '0.1554', '0.1707', '0.2376', '0.3271', '0.5129', '0.6044', '0.7134', '1.0022', '4.0076', '10.0002', '15.0099', '42.0011']\n"
          ],
          "name": "stdout"
        }
      ]
    },
    {
      "cell_type": "code",
      "metadata": {
        "colab": {
          "base_uri": "https://localhost:8080/"
        },
        "id": "iDcrIR8pTW18",
        "outputId": "bfc3e7a3-43f7-4816-ea05-dee94f432294"
      },
      "source": [
        "cc1= []\n",
        "for j in range(0,23):\n",
        "    yl = str(year_list[j])\n",
        "    pl = str(pop_list[j])\n",
        "    cl = str(cost_list[j])\n",
        "    al = str(avg_list[j])\n",
        "    total =yl+'\\t\\t'+pl+'\\t\\t'+cl+'\\t\\t'+al+'\\n' \n",
        "    cc1.append(total)\n",
        "new_census_cost = top2_list + cc1 \n",
        "print(new_census_cost)"
      ],
      "execution_count": 17,
      "outputs": [
        {
          "output_type": "stream",
          "text": [
            "['\\ufeffSource: https://www.genealogybranches.com/censuscosts.html\\n', 'Census Year        Total Population        Census Cost        Average Cost Per Person\\n', '1790\\t\\t3929214\\t\\t44377\\t\\t0.0113\\n', '1800\\t\\t5308483\\t\\t66109\\t\\t0.0124\\n', '1810\\t\\t7239881\\t\\t178445\\t\\t0.0246\\n', '1820\\t\\t9633822\\t\\t208526\\t\\t0.0216\\n', '1830\\t\\t12866020\\t\\t378545\\t\\t0.0294\\n', '1840\\t\\t17069458\\t\\t833371\\t\\t0.0488\\n', '1850\\t\\t23191876\\t\\t1423351\\t\\t0.0614\\n', '1860\\t\\t31443321\\t\\t1969377\\t\\t0.0626\\n', '1870\\t\\t38558371\\t\\t3421198\\t\\t0.0887\\n', '1880\\t\\t50155783\\t\\t5790678\\t\\t0.1154\\n', '1890\\t\\t62979766\\t\\t11547127\\t\\t0.1833\\n', '1900\\t\\t76303387\\t\\t11854000\\t\\t0.1554\\n', '1910\\t\\t91972266\\t\\t15968000\\t\\t0.1707\\n', '1920\\t\\t105710620\\t\\t25117000\\t\\t0.2376\\n', '1930\\t\\t122775046\\t\\t40156000\\t\\t0.3271\\n', '1940\\t\\t131669275\\t\\t67527000\\t\\t0.5129\\n', '1950\\t\\t151325798\\t\\t91462000\\t\\t0.6044\\n', '1960\\t\\t179323175\\t\\t127934000\\t\\t0.7134\\n', '1970\\t\\t203302031\\t\\t247653000\\t\\t1.0022\\n', '1980\\t\\t226542199\\t\\t1078488000\\t\\t4.0076\\n', '1990\\t\\t248718301\\t\\t2492830000\\t\\t10.0002\\n', '2000\\t\\t281421906\\t\\t4500000000\\t\\t15.0099\\n', '2010\\t\\t308745538\\t\\t130000000000\\t\\t42.0011\\n']\n"
          ],
          "name": "stdout"
        }
      ]
    },
    {
      "cell_type": "code",
      "metadata": {
        "colab": {
          "base_uri": "https://localhost:8080/"
        },
        "id": "ZB8WKuhFTZR-",
        "outputId": "dabb795a-19fd-4ce6-b182-fb5ef916b9a3"
      },
      "source": [
        "for i in new_census_cost:\n",
        "  print(i)\n"
      ],
      "execution_count": 18,
      "outputs": [
        {
          "output_type": "stream",
          "text": [
            "﻿Source: https://www.genealogybranches.com/censuscosts.html\n",
            "\n",
            "Census Year        Total Population        Census Cost        Average Cost Per Person\n",
            "\n",
            "1790\t\t3929214\t\t44377\t\t0.0113\n",
            "\n",
            "1800\t\t5308483\t\t66109\t\t0.0124\n",
            "\n",
            "1810\t\t7239881\t\t178445\t\t0.0246\n",
            "\n",
            "1820\t\t9633822\t\t208526\t\t0.0216\n",
            "\n",
            "1830\t\t12866020\t\t378545\t\t0.0294\n",
            "\n",
            "1840\t\t17069458\t\t833371\t\t0.0488\n",
            "\n",
            "1850\t\t23191876\t\t1423351\t\t0.0614\n",
            "\n",
            "1860\t\t31443321\t\t1969377\t\t0.0626\n",
            "\n",
            "1870\t\t38558371\t\t3421198\t\t0.0887\n",
            "\n",
            "1880\t\t50155783\t\t5790678\t\t0.1154\n",
            "\n",
            "1890\t\t62979766\t\t11547127\t\t0.1833\n",
            "\n",
            "1900\t\t76303387\t\t11854000\t\t0.1554\n",
            "\n",
            "1910\t\t91972266\t\t15968000\t\t0.1707\n",
            "\n",
            "1920\t\t105710620\t\t25117000\t\t0.2376\n",
            "\n",
            "1930\t\t122775046\t\t40156000\t\t0.3271\n",
            "\n",
            "1940\t\t131669275\t\t67527000\t\t0.5129\n",
            "\n",
            "1950\t\t151325798\t\t91462000\t\t0.6044\n",
            "\n",
            "1960\t\t179323175\t\t127934000\t\t0.7134\n",
            "\n",
            "1970\t\t203302031\t\t247653000\t\t1.0022\n",
            "\n",
            "1980\t\t226542199\t\t1078488000\t\t4.0076\n",
            "\n",
            "1990\t\t248718301\t\t2492830000\t\t10.0002\n",
            "\n",
            "2000\t\t281421906\t\t4500000000\t\t15.0099\n",
            "\n",
            "2010\t\t308745538\t\t130000000000\t\t42.0011\n",
            "\n"
          ],
          "name": "stdout"
        }
      ]
    }
  ]
}