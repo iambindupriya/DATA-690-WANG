{
  "nbformat": 4,
  "nbformat_minor": 0,
  "metadata": {
    "colab": {
      "name": "Assignment9.ipynb",
      "provenance": [],
      "collapsed_sections": []
    },
    "kernelspec": {
      "name": "python3",
      "display_name": "Python 3"
    },
    "language_info": {
      "name": "python"
    }
  },
  "cells": [
    {
      "cell_type": "markdown",
      "metadata": {
        "id": "1BHohBXN8ekg"
      },
      "source": [
        "A random survey of enrollment at 35 community colleges across the United States yielded the following figures:\n",
        "\n",
        "6,414; 1,550; 2,109; 9,350; 21,828; 4,300; 5,944; 5,722; 2,825; 2,044;\n",
        "\n",
        "5,481; 5,200; 5,853; 2,750; 10,012; 6,357; 27,000; 9,414; 7,681; 3,200;\n",
        "\n",
        "17,500; 9,200; 7,380; 18,314; 6,557; 13,713; 17,768; 7,493; 2,771; 2,861;\n",
        "\n",
        "1,263; 7,285; 28,165; 5,080; 11,622\n",
        "\n",
        "Perform point estimate and interval estimate of average enrollment of US community colleges with 95% confidence level."
      ]
    },
    {
      "cell_type": "code",
      "metadata": {
        "id": "p__WlQrQ8gzU"
      },
      "source": [
        "#importing python packages\n",
        "import math\n",
        "import scipy.stats as stats\n",
        "import numpy as np"
      ],
      "execution_count": 2,
      "outputs": []
    },
    {
      "cell_type": "code",
      "metadata": {
        "id": "vKQPF1ws-IZX"
      },
      "source": [
        "my_data=[6414, 1550, 2109,9350, 21828, 4300, 5944, 5722, 2825, 2044,5481, 5200, 5853, 2750, 10012, 6357, 27000, 9414, 7681,\n",
        "3200,17500, 9200, 7380, 18314, 6557, 13713, 17768, 7493, 2771, 2861,1263, 7285, 28165, 5080, 11622]\n",
        "\n"
      ],
      "execution_count": 3,
      "outputs": []
    },
    {
      "cell_type": "code",
      "metadata": {
        "colab": {
          "base_uri": "https://localhost:8080/"
        },
        "id": "gziXUKOvlG2N",
        "outputId": "7b147347-1f3c-44ce-a641-c9c8eb092565"
      },
      "source": [
        "sample_mean = round(np.mean(my_data),2)\n",
        "print(\"Sample mean =\", sample_mean)"
      ],
      "execution_count": 4,
      "outputs": [
        {
          "output_type": "stream",
          "text": [
            "Sample mean = 8628.74\n"
          ],
          "name": "stdout"
        }
      ]
    },
    {
      "cell_type": "code",
      "metadata": {
        "colab": {
          "base_uri": "https://localhost:8080/"
        },
        "id": "lt9Aw2MUlKmI",
        "outputId": "2a1b4e67-532c-4149-da4f-63ccb1fc16d4"
      },
      "source": [
        "sample_std = np.std(my_data, ddof=1) \n",
        "sample_std = round(sample_std, 2)         \n",
        "print(\"Sample Standard Deviation =\", sample_std)"
      ],
      "execution_count": 5,
      "outputs": [
        {
          "output_type": "stream",
          "text": [
            "Sample Standard Deviation = 6943.88\n"
          ],
          "name": "stdout"
        }
      ]
    },
    {
      "cell_type": "code",
      "metadata": {
        "colab": {
          "base_uri": "https://localhost:8080/"
        },
        "id": "eW4MTc5ElQDB",
        "outputId": "b660304b-883d-4ed9-9f02-2f240a01016b"
      },
      "source": [
        "sample_std_err = sample_std / math.sqrt(len(my_data))\n",
        "sample_std_err = round(sample_std_err,2)\n",
        "print(\"Sample Standard Error is\", sample_std_err)"
      ],
      "execution_count": 6,
      "outputs": [
        {
          "output_type": "stream",
          "text": [
            "Sample Standard Error is 1173.73\n"
          ],
          "name": "stdout"
        }
      ]
    },
    {
      "cell_type": "code",
      "metadata": {
        "colab": {
          "base_uri": "https://localhost:8080/"
        },
        "id": "SZfBsERClUwN",
        "outputId": "c4bf7b05-576b-425d-88c2-3985d8680d12"
      },
      "source": [
        "#t test: t value for 95% interval \n",
        "t_value = stats.t.ppf(0.975, 34)\n",
        "print(\"t critical value or t statistics = \", round(t_value,2))\n",
        "#i used alpha as 0.975 because the interval is between 95 and 97.5"
      ],
      "execution_count": 7,
      "outputs": [
        {
          "output_type": "stream",
          "text": [
            "t critical value or t statistics =  2.03\n"
          ],
          "name": "stdout"
        }
      ]
    },
    {
      "cell_type": "code",
      "metadata": {
        "colab": {
          "base_uri": "https://localhost:8080/"
        },
        "id": "XhEwsvLhrL94",
        "outputId": "e10db681-5e6f-4c80-c47b-a03274917a8f"
      },
      "source": [
        "#margin of error = t-statistics * Sample Standard Error\n",
        "margin_of_error = round(t_value * sample_std_err,2) \n",
        "print(\"Margin of Error =\", margin_of_error)"
      ],
      "execution_count": 8,
      "outputs": [
        {
          "output_type": "stream",
          "text": [
            "Margin of Error = 2385.31\n"
          ],
          "name": "stdout"
        }
      ]
    },
    {
      "cell_type": "code",
      "metadata": {
        "colab": {
          "base_uri": "https://localhost:8080/"
        },
        "id": "W82CGJreroaZ",
        "outputId": "df910348-66f4-4f70-e9ca-6db377dd3777"
      },
      "source": [
        "lower_limit = sample_mean - margin_of_error\n",
        "print (\"Lower Limit = \", lower_limit)"
      ],
      "execution_count": 9,
      "outputs": [
        {
          "output_type": "stream",
          "text": [
            "Lower Limit =  6243.43\n"
          ],
          "name": "stdout"
        }
      ]
    },
    {
      "cell_type": "code",
      "metadata": {
        "colab": {
          "base_uri": "https://localhost:8080/"
        },
        "id": "uuzjfqs3rt7g",
        "outputId": "6bceb3a7-3eea-4bae-b491-29e91c07a38c"
      },
      "source": [
        "upper_limit = sample_mean + margin_of_error\n",
        "print (\"Upper Limit = \", upper_limit)"
      ],
      "execution_count": 10,
      "outputs": [
        {
          "output_type": "stream",
          "text": [
            "Upper Limit =  11014.05\n"
          ],
          "name": "stdout"
        }
      ]
    }
  ]
}