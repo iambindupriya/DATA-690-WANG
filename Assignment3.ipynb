{
  "nbformat": 4,
  "nbformat_minor": 0,
  "metadata": {
    "colab": {
      "name": "Assignment3.ipynb",
      "provenance": [],
      "collapsed_sections": []
    },
    "kernelspec": {
      "name": "python3",
      "display_name": "Python 3"
    }
  },
  "cells": [
    {
      "cell_type": "code",
      "metadata": {
        "id": "U9nSfAHs95c5"
      },
      "source": [
        "import random #importing python random"
      ],
      "execution_count": 1,
      "outputs": []
    },
    {
      "cell_type": "code",
      "metadata": {
        "colab": {
          "base_uri": "https://localhost:8080/"
        },
        "id": "Y0_5btQYAn3w",
        "outputId": "21ce52e6-fcd4-48e2-c2c5-bfb30872e444"
      },
      "source": [
        "random.randint(0,9) #this generates one random integer between 0 and 9 both inclusive "
      ],
      "execution_count": 2,
      "outputs": [
        {
          "output_type": "execute_result",
          "data": {
            "text/plain": [
              "8"
            ]
          },
          "metadata": {
            "tags": []
          },
          "execution_count": 2
        }
      ]
    },
    {
      "cell_type": "markdown",
      "metadata": {
        "id": "i64_5pP0Ag0p"
      },
      "source": [
        "## Print them in a 10 by 10 matrix neatly arranged like the following one space between each number"
      ]
    },
    {
      "cell_type": "code",
      "metadata": {
        "colab": {
          "base_uri": "https://localhost:8080/"
        },
        "id": "kXOD7LhzxKBt",
        "outputId": "bdd3a595-1193-4d9e-98f5-01fdca3aa57d"
      },
      "source": [
        "i=0;\n",
        "j=0\n",
        "for j in range(10):\n",
        "  for i in range(10):\n",
        "    num=random.randint(0,9);\n",
        "    print(num,\"\",end=\"\");\n",
        "   \n",
        "  print(\"\\n\",end=\"\");  "
      ],
      "execution_count": 11,
      "outputs": [
        {
          "output_type": "stream",
          "text": [
            "5 2 7 1 9 1 7 3 9 5 \n",
            "1 4 2 7 3 3 1 5 3 0 \n",
            "1 4 9 3 7 6 6 5 0 2 \n",
            "8 8 0 1 7 7 8 4 1 9 \n",
            "0 1 2 2 2 1 4 8 6 3 \n",
            "2 1 9 5 2 3 7 7 2 5 \n",
            "4 1 4 3 3 2 7 9 1 1 \n",
            "1 5 1 1 1 1 8 2 7 1 \n",
            "0 1 2 5 8 3 4 0 9 4 \n",
            "0 0 9 7 0 3 3 2 5 4 \n"
          ],
          "name": "stdout"
        }
      ]
    },
    {
      "cell_type": "markdown",
      "metadata": {
        "id": "vfnrDx2mAnYO"
      },
      "source": [
        "## If the random number is an odd number, print \"@\" instead."
      ]
    },
    {
      "cell_type": "code",
      "metadata": {
        "colab": {
          "base_uri": "https://localhost:8080/"
        },
        "id": "ysLj8V1TZOMj",
        "outputId": "9abae5e9-4120-40d8-abfe-cab8d1ec8ccc"
      },
      "source": [
        "i=0;\n",
        "j=0\n",
        "for j in range(10):\n",
        "  for i in range(10):\n",
        "    num=random.randint(0,9);\n",
        "    if(num%2!=0):# odd check\n",
        "      num=\"@\";\n",
        "    else:\n",
        "      num=num;\n",
        "    print(num,\"\",end=\"\");\n",
        "   \n",
        "  print(\"\\n\",end=\"\");  "
      ],
      "execution_count": 13,
      "outputs": [
        {
          "output_type": "stream",
          "text": [
            "2 @ @ 6 @ @ 8 @ @ 2 \n",
            "@ @ 6 4 8 2 @ @ @ 6 \n",
            "4 @ 4 2 @ @ 2 @ 2 8 \n",
            "8 @ 6 2 6 @ 2 @ @ @ \n",
            "2 8 0 @ 2 @ @ 0 @ @ \n",
            "@ 2 0 @ @ @ @ 0 @ @ \n",
            "@ 4 0 @ @ @ @ @ @ 4 \n",
            "@ @ 2 @ 2 2 8 2 8 0 \n",
            "0 @ 6 8 @ @ @ @ @ @ \n",
            "8 @ 6 @ 2 6 @ 8 @ @ \n"
          ],
          "name": "stdout"
        }
      ]
    },
    {
      "cell_type": "markdown",
      "metadata": {
        "id": "D7ht6CK3BtWT"
      },
      "source": [
        "## Calculate and Print the total of each row like the following (use \"*\" to separate the total from the numbers):"
      ]
    },
    {
      "cell_type": "code",
      "metadata": {
        "colab": {
          "base_uri": "https://localhost:8080/"
        },
        "id": "LJt86VGLxzaY",
        "outputId": "7513476b-50d5-41bf-fbed-264b8da05b41"
      },
      "source": [
        "sum=0;\n",
        "for j in range(10):\n",
        "  \n",
        "  for i in range(10):\n",
        "    num=random.randint(0,9);\n",
        "    \n",
        "    print(num,\"\",end=\"\");\n",
        "    sum = sum + num;\n",
        "  \n",
        "  print(\"*\",sum); \n",
        "  sum=0;\n",
        "print(\"\\n\");  "
      ],
      "execution_count": 14,
      "outputs": [
        {
          "output_type": "stream",
          "text": [
            "8 8 9 1 0 1 7 1 0 0 * 35\n",
            "2 6 5 6 0 3 8 3 6 1 * 40\n",
            "0 3 8 1 6 7 0 2 5 9 * 41\n",
            "2 9 3 0 4 2 2 3 5 0 * 30\n",
            "8 8 9 5 7 7 3 2 1 7 * 57\n",
            "4 3 9 0 8 6 3 4 9 6 * 52\n",
            "2 1 6 7 9 3 1 7 6 3 * 45\n",
            "5 7 7 9 0 9 0 2 7 7 * 53\n",
            "0 7 3 3 2 3 5 2 0 6 * 31\n",
            "4 5 4 2 0 2 8 4 2 2 * 33\n",
            "\n",
            "\n"
          ],
          "name": "stdout"
        }
      ]
    }
  ]
}