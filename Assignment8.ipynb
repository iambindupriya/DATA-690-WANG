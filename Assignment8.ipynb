{
 "cells": [
  {
   "cell_type": "code",
   "metadata": {
    "tags": [],
    "cell_id": "00000-e3d8d39f-3b4b-4bb4-8102-8bee56125a69",
    "deepnote_to_be_reexecuted": false,
    "source_hash": "19c466cd",
    "execution_start": 1621144765101,
    "execution_millis": 1056,
    "deepnote_cell_type": "code"
   },
   "source": "# Start writing code here...\n#libraries\nimport numpy as np\nimport pandas as pd\nfrom scipy import stats\nimport matplotlib.pyplot as plt\nimport seaborn as sns\nimport os",
   "execution_count": 1,
   "outputs": []
  },
  {
   "cell_type": "code",
   "source": "",
   "metadata": {
    "tags": [],
    "cell_id": "00001-a899142c-7647-41df-825b-e8b9fcf7b7f0",
    "deepnote_to_be_reexecuted": false,
    "source_hash": "b623e53d",
    "execution_start": 1621144766160,
    "execution_millis": 3,
    "deepnote_cell_type": "code"
   },
   "outputs": [],
   "execution_count": 1
  },
  {
   "cell_type": "code",
   "source": "!ls /datasets/myfiles",
   "metadata": {
    "tags": [],
    "cell_id": "00002-e51292eb-85f5-4caf-a697-252b05829821",
    "deepnote_to_be_reexecuted": false,
    "source_hash": "e644f3ec",
    "execution_start": 1621144766171,
    "execution_millis": 576,
    "deepnote_cell_type": "code"
   },
   "outputs": [],
   "execution_count": 2
  },
  {
   "cell_type": "code",
   "source": "present_folder = os.getcwd()\nprint(present_folder)",
   "metadata": {
    "tags": [],
    "cell_id": "00003-ffe543a9-c76f-4f34-b497-86cdf8af4c1b",
    "deepnote_to_be_reexecuted": false,
    "source_hash": "56271e47",
    "execution_start": 1621144766748,
    "execution_millis": 15,
    "deepnote_cell_type": "code"
   },
   "outputs": [
    {
     "name": "stdout",
     "text": "/work\n",
     "output_type": "stream"
    }
   ],
   "execution_count": 3
  },
  {
   "cell_type": "code",
   "source": "my_files=os.listdir('/work')\n\ndata=[]\nfor file in my_files:\n    print(file);",
   "metadata": {
    "tags": [],
    "cell_id": "00004-65cb92b8-b543-4cf5-b95a-d93b307ee3fd",
    "deepnote_to_be_reexecuted": false,
    "source_hash": "53b3de1c",
    "execution_start": 1621144766752,
    "execution_millis": 15,
    "deepnote_cell_type": "code"
   },
   "outputs": [
    {
     "name": "stdout",
     "text": "MERGED2008_09_PP.csv\nMERGED2016_17_PP.csv\nMERGED2009_10_PP.csv\nMERGED2017_18_PP.csv\nMERGED2001_02_PP.csv\nMERGED2014_15_PP.csv\nMERGED2005_06_PP.csv\nMERGED1998_99_PP.csv\nMERGED2010_11_PP.csv\nMERGED2003_04_PP.csv\nMERGED2012_13_PP.csv\ndata.yaml\nnotebook.ipynb\nMERGED1999_00_PP.csv\nMERGED2018_19_PP.csv\nMERGED2006_07_PP.csv\ninit.ipynb\nMERGED2007_08_PP.csv\nMERGED2011_12_PP.csv\nMERGED2004_05_PP.csv\nDATA-690-WANG\n.deepnote\nMERGED2015_16_PP.csv\nMERGED2000_01_PP.csv\nMERGED2013_14_PP.csv\nMERGED1996_97_PP.csv\nCrosswalks.zip\nMost-Recent-Cohorts-All-Data-Elements.csv\nMERGED2002_03_PP.csv\nMERGED1997_98_PP.csv\n",
     "output_type": "stream"
    }
   ],
   "execution_count": 4
  },
  {
   "cell_type": "code",
   "source": "#only files that start with merged\nfor file in my_files:\n    if file.startswith(\"MERGED\"):\n        data.append(os.path.join(file))\ndata",
   "metadata": {
    "tags": [],
    "cell_id": "00005-b37997b2-cad8-4f7e-9e2c-3e7ba126acf0",
    "deepnote_to_be_reexecuted": false,
    "source_hash": "88a0d5e6",
    "execution_start": 1621144766764,
    "execution_millis": 10,
    "deepnote_cell_type": "code"
   },
   "outputs": [
    {
     "output_type": "execute_result",
     "execution_count": 5,
     "data": {
      "text/plain": "['MERGED2008_09_PP.csv',\n 'MERGED2016_17_PP.csv',\n 'MERGED2009_10_PP.csv',\n 'MERGED2017_18_PP.csv',\n 'MERGED2001_02_PP.csv',\n 'MERGED2014_15_PP.csv',\n 'MERGED2005_06_PP.csv',\n 'MERGED1998_99_PP.csv',\n 'MERGED2010_11_PP.csv',\n 'MERGED2003_04_PP.csv',\n 'MERGED2012_13_PP.csv',\n 'MERGED1999_00_PP.csv',\n 'MERGED2018_19_PP.csv',\n 'MERGED2006_07_PP.csv',\n 'MERGED2007_08_PP.csv',\n 'MERGED2011_12_PP.csv',\n 'MERGED2004_05_PP.csv',\n 'MERGED2015_16_PP.csv',\n 'MERGED2000_01_PP.csv',\n 'MERGED2013_14_PP.csv',\n 'MERGED1996_97_PP.csv',\n 'MERGED2002_03_PP.csv',\n 'MERGED1997_98_PP.csv']"
     },
     "metadata": {}
    }
   ],
   "execution_count": 5
  },
  {
   "cell_type": "code",
   "source": "\n#random select \nthe_file=np.random.randint(22)\nrandom_file=data[the_file]\nprint(\"a random file from 22 files is\",random_file)",
   "metadata": {
    "tags": [],
    "cell_id": "00006-06d8e5c0-fc0e-41dc-be94-36ee3ac8ac38",
    "deepnote_to_be_reexecuted": false,
    "source_hash": "20264f50",
    "execution_start": 1621144766776,
    "execution_millis": 9,
    "deepnote_cell_type": "code"
   },
   "outputs": [
    {
     "name": "stdout",
     "text": "a random file from 22 files is MERGED2010_11_PP.csv\n",
     "output_type": "stream"
    }
   ],
   "execution_count": 6
  },
  {
   "cell_type": "code",
   "source": "df=pd.read_csv(random_file,usecols=[\"INSTNM\", \"TUITIONFEE_IN\"])\ndf",
   "metadata": {
    "tags": [],
    "cell_id": "00007-2bc0fc0e-a2ea-4a35-8298-53f8cd1743d6",
    "deepnote_to_be_reexecuted": false,
    "source_hash": "82a0e2b2",
    "execution_start": 1621144766787,
    "execution_millis": 832,
    "deepnote_cell_type": "code"
   },
   "outputs": [
    {
     "output_type": "execute_result",
     "execution_count": 7,
     "data": {
      "application/vnd.deepnote.dataframe.v2+json": {
       "row_count": 7470,
       "column_count": 2,
       "columns": [
        {
         "name": "INSTNM",
         "dtype": "object",
         "stats": {
          "unique_count": 7333,
          "nan_count": 0,
          "categories": [
           {
            "name": "McCann School of Business & Technology",
            "count": 6
           },
           {
            "name": "Academy of Cosmetology",
            "count": 5
           },
           {
            "name": "7331 others",
            "count": 7459
           }
          ]
         }
        },
        {
         "name": "TUITIONFEE_IN",
         "dtype": "float64",
         "stats": {
          "unique_count": 2921,
          "nan_count": 3133,
          "min": "0.0",
          "max": "48000.0",
          "histogram": [
           {
            "bin_start": 0,
            "bin_end": 4800,
            "count": 1162
           },
           {
            "bin_start": 4800,
            "bin_end": 9600,
            "count": 800
           },
           {
            "bin_start": 9600,
            "bin_end": 14400,
            "count": 860
           },
           {
            "bin_start": 14400,
            "bin_end": 19200,
            "count": 654
           },
           {
            "bin_start": 19200,
            "bin_end": 24000,
            "count": 281
           },
           {
            "bin_start": 24000,
            "bin_end": 28800,
            "count": 242
           },
           {
            "bin_start": 28800,
            "bin_end": 33600,
            "count": 159
           },
           {
            "bin_start": 33600,
            "bin_end": 38400,
            "count": 83
           },
           {
            "bin_start": 38400,
            "bin_end": 43200,
            "count": 92
           },
           {
            "bin_start": 43200,
            "bin_end": 48000,
            "count": 4
           }
          ]
         }
        },
        {
         "name": "_deepnote_index_column",
         "dtype": "int64"
        }
       ],
       "rows_top": [
        {
         "INSTNM": "Community College of the Air Force",
         "TUITIONFEE_IN": "nan",
         "_deepnote_index_column": 0
        },
        {
         "INSTNM": "Alabama A & M University",
         "TUITIONFEE_IN": "5800.0",
         "_deepnote_index_column": 1
        },
        {
         "INSTNM": "University of Alabama at Birmingham",
         "TUITIONFEE_IN": "5806.0",
         "_deepnote_index_column": 2
        },
        {
         "INSTNM": "Amridge University",
         "TUITIONFEE_IN": "8360.0",
         "_deepnote_index_column": 3
        },
        {
         "INSTNM": "University of Alabama in Huntsville",
         "TUITIONFEE_IN": "7492.0",
         "_deepnote_index_column": 4
        },
        {
         "INSTNM": "Alabama State University",
         "TUITIONFEE_IN": "7164.0",
         "_deepnote_index_column": 5
        },
        {
         "INSTNM": "The University of Alabama",
         "TUITIONFEE_IN": "7900.0",
         "_deepnote_index_column": 6
        },
        {
         "INSTNM": "Central Alabama Community College",
         "TUITIONFEE_IN": "3270.0",
         "_deepnote_index_column": 7
        },
        {
         "INSTNM": "Athens State University",
         "TUITIONFEE_IN": "nan",
         "_deepnote_index_column": 8
        },
        {
         "INSTNM": "Auburn University at Montgomery",
         "TUITIONFEE_IN": "6620.0",
         "_deepnote_index_column": 9
        },
        {
         "INSTNM": "Auburn University",
         "TUITIONFEE_IN": "7900.0",
         "_deepnote_index_column": 10
        },
        {
         "INSTNM": "Birmingham-Southern College",
         "TUITIONFEE_IN": "27890.0",
         "_deepnote_index_column": 11
        },
        {
         "INSTNM": "Chattahoochee Valley Community College",
         "TUITIONFEE_IN": "3510.0",
         "_deepnote_index_column": 12
        },
        {
         "INSTNM": "Concordia College Alabama",
         "TUITIONFEE_IN": "7370.0",
         "_deepnote_index_column": 13
        },
        {
         "INSTNM": "South University-Montgomery",
         "TUITIONFEE_IN": "15285.0",
         "_deepnote_index_column": 14
        },
        {
         "INSTNM": "Enterprise State Community College",
         "TUITIONFEE_IN": "3052.0",
         "_deepnote_index_column": 15
        },
        {
         "INSTNM": "Coastal Alabama Community College",
         "TUITIONFEE_IN": "3360.0",
         "_deepnote_index_column": 16
        },
        {
         "INSTNM": "Faulkner University",
         "TUITIONFEE_IN": "14810.0",
         "_deepnote_index_column": 17
        },
        {
         "INSTNM": "Gadsden State Community College",
         "TUITIONFEE_IN": "3270.0",
         "_deepnote_index_column": 18
        },
        {
         "INSTNM": "George C Wallace Community College-Dothan",
         "TUITIONFEE_IN": "3270.0",
         "_deepnote_index_column": 19
        },
        {
         "INSTNM": "George C Wallace State Community College-Hanceville",
         "TUITIONFEE_IN": "3570.0",
         "_deepnote_index_column": 20
        },
        {
         "INSTNM": "George C Wallace State Community College-Selma",
         "TUITIONFEE_IN": "3270.0",
         "_deepnote_index_column": 21
        },
        {
         "INSTNM": "Herzing University-Birmingham",
         "TUITIONFEE_IN": "10933.0",
         "_deepnote_index_column": 22
        },
        {
         "INSTNM": "Huntingdon College",
         "TUITIONFEE_IN": "20990.0",
         "_deepnote_index_column": 23
        },
        {
         "INSTNM": "Heritage Christian University",
         "TUITIONFEE_IN": "9360.0",
         "_deepnote_index_column": 24
        },
        {
         "INSTNM": "J. F. Drake State Community and Technical College",
         "TUITIONFEE_IN": "3270.0",
         "_deepnote_index_column": 25
        },
        {
         "INSTNM": "J F Ingram State Technical College",
         "TUITIONFEE_IN": "3924.0",
         "_deepnote_index_column": 26
        },
        {
         "INSTNM": "Jacksonville State University",
         "TUITIONFEE_IN": "5424.0",
         "_deepnote_index_column": 27
        },
        {
         "INSTNM": "Jefferson Davis Community College",
         "TUITIONFEE_IN": "3278.0",
         "_deepnote_index_column": 28
        },
        {
         "INSTNM": "Jefferson State Community College",
         "TUITIONFEE_IN": "3630.0",
         "_deepnote_index_column": 29
        },
        {
         "INSTNM": "John C Calhoun State Community College",
         "TUITIONFEE_IN": "3420.0",
         "_deepnote_index_column": 30
        },
        {
         "INSTNM": "Judson College",
         "TUITIONFEE_IN": "13900.0",
         "_deepnote_index_column": 31
        },
        {
         "INSTNM": "Lawson State Community College",
         "TUITIONFEE_IN": "3570.0",
         "_deepnote_index_column": 32
        },
        {
         "INSTNM": "University of West Alabama",
         "TUITIONFEE_IN": "6524.0",
         "_deepnote_index_column": 33
        },
        {
         "INSTNM": "Lurleen B Wallace Community College",
         "TUITIONFEE_IN": "3270.0",
         "_deepnote_index_column": 34
        },
        {
         "INSTNM": "Marion Military Institute",
         "TUITIONFEE_IN": "8570.0",
         "_deepnote_index_column": 35
        },
        {
         "INSTNM": "Miles College",
         "TUITIONFEE_IN": "9896.0",
         "_deepnote_index_column": 36
        },
        {
         "INSTNM": "University of Mobile",
         "TUITIONFEE_IN": "16120.0",
         "_deepnote_index_column": 37
        },
        {
         "INSTNM": "University of Montevallo",
         "TUITIONFEE_IN": "7750.0",
         "_deepnote_index_column": 38
        },
        {
         "INSTNM": "Northwest-Shoals Community College",
         "TUITIONFEE_IN": "3450.0",
         "_deepnote_index_column": 39
        },
        {
         "INSTNM": "University of North Alabama",
         "TUITIONFEE_IN": "5426.0",
         "_deepnote_index_column": 40
        },
        {
         "INSTNM": "Northeast Alabama Community College",
         "TUITIONFEE_IN": "3420.0",
         "_deepnote_index_column": 41
        },
        {
         "INSTNM": "Oakwood University",
         "TUITIONFEE_IN": "14250.0",
         "_deepnote_index_column": 42
        },
        {
         "INSTNM": "Alabama Southern Community College",
         "TUITIONFEE_IN": "3270.0",
         "_deepnote_index_column": 43
        },
        {
         "INSTNM": "Prince Institute-Southeast",
         "TUITIONFEE_IN": "8685.0",
         "_deepnote_index_column": 44
        },
        {
         "INSTNM": "Reid State Technical College",
         "TUITIONFEE_IN": "3360.0",
         "_deepnote_index_column": 45
        },
        {
         "INSTNM": "Bishop State Community College",
         "TUITIONFEE_IN": "3270.0",
         "_deepnote_index_column": 46
        },
        {
         "INSTNM": "Samford University",
         "TUITIONFEE_IN": "21942.0",
         "_deepnote_index_column": 47
        },
        {
         "INSTNM": "Selma University",
         "TUITIONFEE_IN": "5440.0",
         "_deepnote_index_column": 48
        },
        {
         "INSTNM": "Shelton State Community College",
         "TUITIONFEE_IN": "3270.0",
         "_deepnote_index_column": 49
        },
        {
         "INSTNM": "Snead State Community College",
         "TUITIONFEE_IN": "3390.0",
         "_deepnote_index_column": 50
        },
        {
         "INSTNM": "University of South Alabama",
         "TUITIONFEE_IN": "5748.0",
         "_deepnote_index_column": 51
        },
        {
         "INSTNM": "Spring Hill College",
         "TUITIONFEE_IN": "26730.0",
         "_deepnote_index_column": 52
        },
        {
         "INSTNM": "Southeastern Bible College",
         "TUITIONFEE_IN": "11600.0",
         "_deepnote_index_column": 53
        },
        {
         "INSTNM": "Stillman College",
         "TUITIONFEE_IN": "14464.0",
         "_deepnote_index_column": 54
        },
        {
         "INSTNM": "Talladega College",
         "TUITIONFEE_IN": "11111.0",
         "_deepnote_index_column": 55
        },
        {
         "INSTNM": "H Councill Trenholm State Community College",
         "TUITIONFEE_IN": "3270.0",
         "_deepnote_index_column": 56
        },
        {
         "INSTNM": "Troy University",
         "TUITIONFEE_IN": "5860.0",
         "_deepnote_index_column": 57
        },
        {
         "INSTNM": "Tuskegee University",
         "TUITIONFEE_IN": "16750.0",
         "_deepnote_index_column": 58
        },
        {
         "INSTNM": "United States Sports Academy",
         "TUITIONFEE_IN": "nan",
         "_deepnote_index_column": 59
        },
        {
         "INSTNM": "Bevill State Community College",
         "TUITIONFEE_IN": "3488.0",
         "_deepnote_index_column": 60
        },
        {
         "INSTNM": "University of Alaska Anchorage",
         "TUITIONFEE_IN": "5186.0",
         "_deepnote_index_column": 61
        },
        {
         "INSTNM": "Alaska Bible College",
         "TUITIONFEE_IN": "7130.0",
         "_deepnote_index_column": 62
        },
        {
         "INSTNM": "University of Alaska Fairbanks",
         "TUITIONFEE_IN": "5358.0",
         "_deepnote_index_column": 63
        },
        {
         "INSTNM": "University of Alaska Southeast",
         "TUITIONFEE_IN": "5130.0",
         "_deepnote_index_column": 64
        },
        {
         "INSTNM": "Alaska Pacific University",
         "TUITIONFEE_IN": "26360.0",
         "_deepnote_index_column": 65
        },
        {
         "INSTNM": "Alaska Vocational Technical Center",
         "TUITIONFEE_IN": "nan",
         "_deepnote_index_column": 66
        },
        {
         "INSTNM": "Charter College",
         "TUITIONFEE_IN": "17750.0",
         "_deepnote_index_column": 67
        },
        {
         "INSTNM": "Prince William Sound Community College",
         "TUITIONFEE_IN": "4405.0",
         "_deepnote_index_column": 68
        },
        {
         "INSTNM": "Alaska Career College",
         "TUITIONFEE_IN": "nan",
         "_deepnote_index_column": 69
        },
        {
         "INSTNM": "Everest College-Phoenix",
         "TUITIONFEE_IN": "15024.0",
         "_deepnote_index_column": 70
        },
        {
         "INSTNM": "Collins College",
         "TUITIONFEE_IN": "12475.0",
         "_deepnote_index_column": 71
        },
        {
         "INSTNM": "Empire Beauty School-Paradise Valley",
         "TUITIONFEE_IN": "nan",
         "_deepnote_index_column": 72
        },
        {
         "INSTNM": "Empire Beauty School-Tucson",
         "TUITIONFEE_IN": "nan",
         "_deepnote_index_column": 73
        },
        {
         "INSTNM": "Thunderbird School of Global Management",
         "TUITIONFEE_IN": "nan",
         "_deepnote_index_column": 74
        },
        {
         "INSTNM": "American Indian College Inc",
         "TUITIONFEE_IN": "9750.0",
         "_deepnote_index_column": 75
        },
        {
         "INSTNM": "American Institute of Trucking",
         "TUITIONFEE_IN": "nan",
         "_deepnote_index_column": 76
        },
        {
         "INSTNM": "Carrington College-Phoenix North",
         "TUITIONFEE_IN": "nan",
         "_deepnote_index_column": 77
        },
        {
         "INSTNM": "Carrington College-Mesa",
         "TUITIONFEE_IN": "nan",
         "_deepnote_index_column": 78
        },
        {
         "INSTNM": "Carrington College-Tucson",
         "TUITIONFEE_IN": "nan",
         "_deepnote_index_column": 79
        },
        {
         "INSTNM": "CollegeAmerica-Flagstaff",
         "TUITIONFEE_IN": "nan",
         "_deepnote_index_column": 80
        },
        {
         "INSTNM": "Arizona Academy of Beauty-East",
         "TUITIONFEE_IN": "nan",
         "_deepnote_index_column": 81
        },
        {
         "INSTNM": "Platt College-Arizona Automotive Institute Arizona",
         "TUITIONFEE_IN": "nan",
         "_deepnote_index_column": 82
        },
        {
         "INSTNM": "Brookline College-Phoenix",
         "TUITIONFEE_IN": "nan",
         "_deepnote_index_column": 83
        },
        {
         "INSTNM": "Arizona State University-Tempe",
         "TUITIONFEE_IN": "8132.0",
         "_deepnote_index_column": 84
        },
        {
         "INSTNM": "Arizona Western College",
         "TUITIONFEE_IN": "2000.0",
         "_deepnote_index_column": 85
        },
        {
         "INSTNM": "University of Arizona",
         "TUITIONFEE_IN": "8237.0",
         "_deepnote_index_column": 86
        },
        {
         "INSTNM": "Southwest University of Visual Arts-Tucson",
         "TUITIONFEE_IN": "27125.0",
         "_deepnote_index_column": 87
        },
        {
         "INSTNM": "Brillare Hairdressing Academy",
         "TUITIONFEE_IN": "nan",
         "_deepnote_index_column": 88
        },
        {
         "INSTNM": "Central Arizona College",
         "TUITIONFEE_IN": "1950.0",
         "_deepnote_index_column": 89
        },
        {
         "INSTNM": "Brown Mackie College-Tucson",
         "TUITIONFEE_IN": "11904.0",
         "_deepnote_index_column": 90
        },
        {
         "INSTNM": "Charles of Italy Beauty College",
         "TUITIONFEE_IN": "nan",
         "_deepnote_index_column": 91
        },
        {
         "INSTNM": "Cochise County Community College District",
         "TUITIONFEE_IN": "1560.0",
         "_deepnote_index_column": 92
        },
        {
         "INSTNM": "Empire Beauty School-Flagstaff",
         "TUITIONFEE_IN": "nan",
         "_deepnote_index_column": 93
        },
        {
         "INSTNM": "Empire Beauty School-Chandler",
         "TUITIONFEE_IN": "nan",
         "_deepnote_index_column": 94
        },
        {
         "INSTNM": "Cortiva Institute-Tucson",
         "TUITIONFEE_IN": "nan",
         "_deepnote_index_column": 95
        },
        {
         "INSTNM": "DeVry University-Arizona",
         "TUITIONFEE_IN": "14826.0",
         "_deepnote_index_column": 96
        },
        {
         "INSTNM": "Avalon School of Cosmetology-Mesa",
         "TUITIONFEE_IN": "nan",
         "_deepnote_index_column": 97
        },
        {
         "INSTNM": "Eastern Arizona College",
         "TUITIONFEE_IN": "1520.0",
         "_deepnote_index_column": 98
        },
        {
         "INSTNM": "Embry-Riddle Aeronautical University-Prescott",
         "TUITIONFEE_IN": "29428.0",
         "_deepnote_index_column": 99
        },
        {
         "INSTNM": "School of Architecture at Taliesin",
         "TUITIONFEE_IN": "nan",
         "_deepnote_index_column": 100
        },
        {
         "INSTNM": "Glendale Community College",
         "TUITIONFEE_IN": "1734.0",
         "_deepnote_index_column": 101
        },
        {
         "INSTNM": "Grand Canyon University",
         "TUITIONFEE_IN": "16500.0",
         "_deepnote_index_column": 102
        },
        {
         "INSTNM": "Anthem College-Phoenix",
         "TUITIONFEE_IN": "nan",
         "_deepnote_index_column": 103
        },
        {
         "INSTNM": "Olympian Academy of Cosmetology",
         "TUITIONFEE_IN": "nan",
         "_deepnote_index_column": 104
        },
        {
         "INSTNM": "Lamson College",
         "TUITIONFEE_IN": "nan",
         "_deepnote_index_column": 105
        },
        {
         "INSTNM": "Kaplan College-Phoenix",
         "TUITIONFEE_IN": "nan",
         "_deepnote_index_column": 106
        },
        {
         "INSTNM": "Maricopa Beauty College LLC",
         "TUITIONFEE_IN": "nan",
         "_deepnote_index_column": 107
        },
        {
         "INSTNM": "GateWay Community College",
         "TUITIONFEE_IN": "1734.0",
         "_deepnote_index_column": 108
        },
        {
         "INSTNM": "Mesa Community College",
         "TUITIONFEE_IN": "1734.0",
         "_deepnote_index_column": 109
        },
        {
         "INSTNM": "ITT Technical Institute-Tucson",
         "TUITIONFEE_IN": "18048.0",
         "_deepnote_index_column": 110
        },
        {
         "INSTNM": "ITT Technical Institute-Tempe",
         "TUITIONFEE_IN": "18048.0",
         "_deepnote_index_column": 111
        },
        {
         "INSTNM": "Mohave Community College",
         "TUITIONFEE_IN": "1848.0",
         "_deepnote_index_column": 112
        },
        {
         "INSTNM": "Universal Technical Institute of Arizona Inc-Motorcycle Mechanics Institute Division",
         "TUITIONFEE_IN": "nan",
         "_deepnote_index_column": 113
        },
        {
         "INSTNM": "Dine College",
         "TUITIONFEE_IN": "805.0",
         "_deepnote_index_column": 114
        },
        {
         "INSTNM": "Northern Arizona University",
         "TUITIONFEE_IN": "7667.0",
         "_deepnote_index_column": 115
        },
        {
         "INSTNM": "Northland Pioneer College",
         "TUITIONFEE_IN": "1414.0",
         "_deepnote_index_column": 116
        },
        {
         "INSTNM": "Ottawa University-Phoenix",
         "TUITIONFEE_IN": "nan",
         "_deepnote_index_column": 117
        },
        {
         "INSTNM": "Phoenix College",
         "TUITIONFEE_IN": "1734.0",
         "_deepnote_index_column": 118
        },
        {
         "INSTNM": "Cortiva Institute-Scottsdale",
         "TUITIONFEE_IN": "nan",
         "_deepnote_index_column": 119
        },
        {
         "INSTNM": "University of Phoenix-Phoenix Campus",
         "TUITIONFEE_IN": "10440.0",
         "_deepnote_index_column": 120
        },
        {
         "INSTNM": "Pima Community College",
         "TUITIONFEE_IN": "1412.0",
         "_deepnote_index_column": 121
        },
        {
         "INSTNM": "Pima Medical Institute-Tucson",
         "TUITIONFEE_IN": "nan",
         "_deepnote_index_column": 122
        },
        {
         "INSTNM": "Pima Medical Institute-Albuquerque",
         "TUITIONFEE_IN": "nan",
         "_deepnote_index_column": 123
        },
        {
         "INSTNM": "Prescott College",
         "TUITIONFEE_IN": "26235.0",
         "_deepnote_index_column": 124
        },
        {
         "INSTNM": "Refrigeration School Inc",
         "TUITIONFEE_IN": "nan",
         "_deepnote_index_column": 125
        },
        {
         "INSTNM": "Rio Salado College",
         "TUITIONFEE_IN": "1734.0",
         "_deepnote_index_column": 126
        },
        {
         "INSTNM": "Roberto-Venn School of Luthiery",
         "TUITIONFEE_IN": "nan",
         "_deepnote_index_column": 127
        },
        {
         "INSTNM": "Hair Academy of Safford",
         "TUITIONFEE_IN": "nan",
         "_deepnote_index_column": 128
        },
        {
         "INSTNM": "Scottsdale Community College",
         "TUITIONFEE_IN": "1734.0",
         "_deepnote_index_column": 129
        },
        {
         "INSTNM": "South Mountain Community College",
         "TUITIONFEE_IN": "1734.0",
         "_deepnote_index_column": 130
        },
        {
         "INSTNM": "Arizona Christian University",
         "TUITIONFEE_IN": "16174.0",
         "_deepnote_index_column": 131
        },
        {
         "INSTNM": "Tucson College",
         "TUITIONFEE_IN": "nan",
         "_deepnote_index_column": 132
        },
        {
         "INSTNM": "Universal Technical Institute of Arizona Inc",
         "TUITIONFEE_IN": "nan",
         "_deepnote_index_column": 133
        },
        {
         "INSTNM": "Western International University",
         "TUITIONFEE_IN": "10480.0",
         "_deepnote_index_column": 134
        },
        {
         "INSTNM": "Empire Beauty School-NW Phoenix",
         "TUITIONFEE_IN": "nan",
         "_deepnote_index_column": 135
        },
        {
         "INSTNM": "Yavapai College",
         "TUITIONFEE_IN": "1488.0",
         "_deepnote_index_column": 136
        },
        {
         "INSTNM": "University of Arkansas at Little Rock",
         "TUITIONFEE_IN": "6643.0",
         "_deepnote_index_column": 137
        },
        {
         "INSTNM": "University of Arkansas for Medical Sciences",
         "TUITIONFEE_IN": "nan",
         "_deepnote_index_column": 138
        },
        {
         "INSTNM": "ABC Beauty College Inc",
         "TUITIONFEE_IN": "nan",
         "_deepnote_index_column": 139
        },
        {
         "INSTNM": "Arkansas Baptist College",
         "TUITIONFEE_IN": "7432.0",
         "_deepnote_index_column": 140
        },
        {
         "INSTNM": "Arkansas Beauty School-Little Rock",
         "TUITIONFEE_IN": "nan",
         "_deepnote_index_column": 141
        },
        {
         "INSTNM": "Arkansas Beauty College",
         "TUITIONFEE_IN": "nan",
         "_deepnote_index_column": 142
        },
        {
         "INSTNM": "Lyon College",
         "TUITIONFEE_IN": "21324.0",
         "_deepnote_index_column": 143
        },
        {
         "INSTNM": "Arkansas College of Barbering and Hair Design",
         "TUITIONFEE_IN": "nan",
         "_deepnote_index_column": 144
        },
        {
         "INSTNM": "Arthur's Beauty College Inc-Fort Smith",
         "TUITIONFEE_IN": "nan",
         "_deepnote_index_column": 145
        },
        {
         "INSTNM": "University of Arkansas",
         "TUITIONFEE_IN": "6768.0",
         "_deepnote_index_column": 146
        },
        {
         "INSTNM": "University of Arkansas at Pine Bluff",
         "TUITIONFEE_IN": "5033.0",
         "_deepnote_index_column": 147
        },
        {
         "INSTNM": "Arkansas State University-Beebe",
         "TUITIONFEE_IN": "2160.0",
         "_deepnote_index_column": 148
        },
        {
         "INSTNM": "Arkansas State University-Main Campus",
         "TUITIONFEE_IN": "6640.0",
         "_deepnote_index_column": 149
        },
        {
         "INSTNM": "Arkansas Tech University",
         "TUITIONFEE_IN": "4804.0",
         "_deepnote_index_column": 150
        },
        {
         "INSTNM": "University of Arkansas at Monticello",
         "TUITIONFEE_IN": "4990.0",
         "_deepnote_index_column": 151
        },
        {
         "INSTNM": "Arthur's Beauty College Inc-Jacksonville",
         "TUITIONFEE_IN": "nan",
         "_deepnote_index_column": 152
        },
        {
         "INSTNM": "Baptist Health College Little Rock",
         "TUITIONFEE_IN": "7340.0",
         "_deepnote_index_column": 153
        },
        {
         "INSTNM": "Bee Jays Academy",
         "TUITIONFEE_IN": "nan",
         "_deepnote_index_column": 154
        },
        {
         "INSTNM": "Black River Technical College",
         "TUITIONFEE_IN": "1968.0",
         "_deepnote_index_column": 155
        },
        {
         "INSTNM": "University of Central Arkansas",
         "TUITIONFEE_IN": "6908.0",
         "_deepnote_index_column": 156
        },
        {
         "INSTNM": "Central Baptist College",
         "TUITIONFEE_IN": "10760.0",
         "_deepnote_index_column": 157
        },
        {
         "INSTNM": "Cossatot Community College of the University of Arkansas",
         "TUITIONFEE_IN": "1900.0",
         "_deepnote_index_column": 158
        },
        {
         "INSTNM": "Crowley's Ridge College",
         "TUITIONFEE_IN": "9910.0",
         "_deepnote_index_column": 159
        },
        {
         "INSTNM": "Crowley's Ridge Technical Institute",
         "TUITIONFEE_IN": "1350.0",
         "_deepnote_index_column": 160
        },
        {
         "INSTNM": "East Arkansas Community College",
         "TUITIONFEE_IN": "2190.0",
         "_deepnote_index_column": 161
        },
        {
         "INSTNM": "Eastern College of Health Vocations-Little Rock",
         "TUITIONFEE_IN": "nan",
         "_deepnote_index_column": 162
        },
        {
         "INSTNM": "Imagine-Paul Mitchell Partner School",
         "TUITIONFEE_IN": "nan",
         "_deepnote_index_column": 163
        },
        {
         "INSTNM": "National Park College",
         "TUITIONFEE_IN": "2718.0",
         "_deepnote_index_column": 164
        },
        {
         "INSTNM": "University of Arkansas Community College-Batesville",
         "TUITIONFEE_IN": "1772.0",
         "_deepnote_index_column": 165
        },
        {
         "INSTNM": "Harding University",
         "TUITIONFEE_IN": "14040.0",
         "_deepnote_index_column": 166
        },
        {
         "INSTNM": "Henderson State University",
         "TUITIONFEE_IN": "6740.0",
         "_deepnote_index_column": 167
        },
        {
         "INSTNM": "Hendrix College",
         "TUITIONFEE_IN": "32040.0",
         "_deepnote_index_column": 168
        },
        {
         "INSTNM": "Hot Springs Beauty College",
         "TUITIONFEE_IN": "nan",
         "_deepnote_index_column": 169
        },
        {
         "INSTNM": "Jefferson Regional Medical Center School of Nursing",
         "TUITIONFEE_IN": "nan",
         "_deepnote_index_column": 170
        },
        {
         "INSTNM": "John Brown University",
         "TUITIONFEE_IN": "19770.0",
         "_deepnote_index_column": 171
        },
        {
         "INSTNM": "Lees School of Cosmetology",
         "TUITIONFEE_IN": "nan",
         "_deepnote_index_column": 172
        },
        {
         "INSTNM": "Career Academy of Hair Design",
         "TUITIONFEE_IN": "nan",
         "_deepnote_index_column": 173
        },
        {
         "INSTNM": "Marsha Kay Beauty College",
         "TUITIONFEE_IN": "nan",
         "_deepnote_index_column": 174
        },
        {
         "INSTNM": "Academy of Salon and Spa",
         "TUITIONFEE_IN": "nan",
         "_deepnote_index_column": 175
        },
        {
         "INSTNM": "Arkansas State University Mid-South",
         "TUITIONFEE_IN": "2270.0",
         "_deepnote_index_column": 176
        },
        {
         "INSTNM": "Arkansas Northeastern College",
         "TUITIONFEE_IN": "1720.0",
         "_deepnote_index_column": 177
        },
        {
         "INSTNM": "Margaret's Hair Academy Inc",
         "TUITIONFEE_IN": "nan",
         "_deepnote_index_column": 178
        },
        {
         "INSTNM": "New Tyler Barber College Inc",
         "TUITIONFEE_IN": "nan",
         "_deepnote_index_column": 179
        },
        {
         "INSTNM": "North Arkansas College",
         "TUITIONFEE_IN": "1536.0",
         "_deepnote_index_column": 180
        },
        {
         "INSTNM": "Northwest Technical Institute",
         "TUITIONFEE_IN": "2321.0",
         "_deepnote_index_column": 181
        },
        {
         "INSTNM": "Ouachita Baptist University",
         "TUITIONFEE_IN": "19820.0",
         "_deepnote_index_column": 182
        },
        {
         "INSTNM": "Arkansas State University Three Rivers",
         "TUITIONFEE_IN": "2312.0",
         "_deepnote_index_column": 183
        },
        {
         "INSTNM": "Ozarka College",
         "TUITIONFEE_IN": "2186.0",
         "_deepnote_index_column": 184
        },
        {
         "INSTNM": "University of the Ozarks",
         "TUITIONFEE_IN": "20530.0",
         "_deepnote_index_column": 185
        },
        {
         "INSTNM": "University of Arkansas Community College-Morrilton",
         "TUITIONFEE_IN": "2793.0",
         "_deepnote_index_column": 186
        },
        {
         "INSTNM": "Philander Smith College",
         "TUITIONFEE_IN": "9450.0",
         "_deepnote_index_column": 187
        },
        {
         "INSTNM": "Phillips Community College of the University of Arkansas",
         "TUITIONFEE_IN": "2150.0",
         "_deepnote_index_column": 188
        },
        {
         "INSTNM": "Southeast Arkansas College",
         "TUITIONFEE_IN": "2770.0",
         "_deepnote_index_column": 189
        },
        {
         "INSTNM": "Professional Cosmetology Education Center",
         "TUITIONFEE_IN": "nan",
         "_deepnote_index_column": 190
        },
        {
         "INSTNM": "University of Arkansas-Pulaski Technical College",
         "TUITIONFEE_IN": "2840.0",
         "_deepnote_index_column": 191
        },
        {
         "INSTNM": "University of Arkansas Hope-Texarkana",
         "TUITIONFEE_IN": "1943.0",
         "_deepnote_index_column": 192
        },
        {
         "INSTNM": "University of Arkansas Community College Rich Mountain",
         "TUITIONFEE_IN": "1632.0",
         "_deepnote_index_column": 193
        },
        {
         "INSTNM": "Paul Mitchell the School-Arkansas",
         "TUITIONFEE_IN": "nan",
         "_deepnote_index_column": 194
        },
        {
         "INSTNM": "Searcy Beauty College",
         "TUITIONFEE_IN": "nan",
         "_deepnote_index_column": 195
        },
        {
         "INSTNM": "Williams Baptist University",
         "TUITIONFEE_IN": "12020.0",
         "_deepnote_index_column": 196
        },
        {
         "INSTNM": "South Arkansas Community College",
         "TUITIONFEE_IN": "1868.0",
         "_deepnote_index_column": 197
        },
        {
         "INSTNM": "Southern Arkansas University Main Campus",
         "TUITIONFEE_IN": "6426.0",
         "_deepnote_index_column": 198
        },
        {
         "INSTNM": "Southern Arkansas University Tech",
         "TUITIONFEE_IN": "3270.0",
         "_deepnote_index_column": 199
        },
        {
         "INSTNM": "Velvatex College of Beauty Culture",
         "TUITIONFEE_IN": "nan",
         "_deepnote_index_column": 200
        },
        {
         "INSTNM": "University of Arkansas-Fort Smith",
         "TUITIONFEE_IN": "4918.0",
         "_deepnote_index_column": 201
        },
        {
         "INSTNM": "Abram Friedman Occupational Center",
         "TUITIONFEE_IN": "nan",
         "_deepnote_index_column": 202
        },
        {
         "INSTNM": "Academy of Art University",
         "TUITIONFEE_IN": "18050.0",
         "_deepnote_index_column": 203
        },
        {
         "INSTNM": "ITT Technical Institute-Rancho Cordova",
         "TUITIONFEE_IN": "18048.0",
         "_deepnote_index_column": 204
        },
        {
         "INSTNM": "Academy of Chinese Culture and Health Sciences",
         "TUITIONFEE_IN": "nan",
         "_deepnote_index_column": 205
        },
        {
         "INSTNM": "The Academy of Radio and TV Broadcasting",
         "TUITIONFEE_IN": "nan",
         "_deepnote_index_column": 206
        },
        {
         "INSTNM": "Avalon School of Cosmetology-Alameda",
         "TUITIONFEE_IN": "nan",
         "_deepnote_index_column": 207
        },
        {
         "INSTNM": "College of Alameda",
         "TUITIONFEE_IN": "766.0",
         "_deepnote_index_column": 208
        },
        {
         "INSTNM": "Allan Hancock College",
         "TUITIONFEE_IN": "782.0",
         "_deepnote_index_column": 209
        },
        {
         "INSTNM": "American Academy of Dramatic Arts-Los Angeles",
         "TUITIONFEE_IN": "29220.0",
         "_deepnote_index_column": 210
        },
        {
         "INSTNM": "American Baptist Seminary of the West",
         "TUITIONFEE_IN": "nan",
         "_deepnote_index_column": 211
        },
        {
         "INSTNM": "American Film Institute Conservatory",
         "TUITIONFEE_IN": "nan",
         "_deepnote_index_column": 212
        },
        {
         "INSTNM": "American Beauty College",
         "TUITIONFEE_IN": "nan",
         "_deepnote_index_column": 213
        },
        {
         "INSTNM": "American Career College-Los Angeles",
         "TUITIONFEE_IN": "nan",
         "_deepnote_index_column": 214
        },
        {
         "INSTNM": "American Conservatory Theater",
         "TUITIONFEE_IN": "nan",
         "_deepnote_index_column": 215
        },
        {
         "INSTNM": "American River College",
         "TUITIONFEE_IN": "644.0",
         "_deepnote_index_column": 216
        },
        {
         "INSTNM": "Everest College-Hayward",
         "TUITIONFEE_IN": "nan",
         "_deepnote_index_column": 217
        },
        {
         "INSTNM": "Antelope Valley College",
         "TUITIONFEE_IN": "780.0",
         "_deepnote_index_column": 218
        },
        {
         "INSTNM": "Art Center College of Design",
         "TUITIONFEE_IN": "32168.0",
         "_deepnote_index_column": 219
        },
        {
         "INSTNM": "Associated Technical College-Los Angeles",
         "TUITIONFEE_IN": "nan",
         "_deepnote_index_column": 220
        },
        {
         "INSTNM": "Associated Technical College-San Diego",
         "TUITIONFEE_IN": "nan",
         "_deepnote_index_column": 221
        },
        {
         "INSTNM": "Azusa Pacific University",
         "TUITIONFEE_IN": "28800.0",
         "_deepnote_index_column": 222
        },
        {
         "INSTNM": "Bakersfield College",
         "TUITIONFEE_IN": "766.0",
         "_deepnote_index_column": 223
        },
        {
         "INSTNM": "Bridges Academy of Beauty",
         "TUITIONFEE_IN": "nan",
         "_deepnote_index_column": 224
        },
        {
         "INSTNM": "Barstow Community College",
         "TUITIONFEE_IN": "624.0",
         "_deepnote_index_column": 225
        },
        {
         "INSTNM": "Bellus Academy-Chula Vista",
         "TUITIONFEE_IN": "nan",
         "_deepnote_index_column": 226
        },
        {
         "INSTNM": "Bethany University",
         "TUITIONFEE_IN": "18900.0",
         "_deepnote_index_column": 227
        },
        {
         "INSTNM": "Bethesda University",
         "TUITIONFEE_IN": "7620.0",
         "_deepnote_index_column": 228
        },
        {
         "INSTNM": "Biola University",
         "TUITIONFEE_IN": "28852.0",
         "_deepnote_index_column": 229
        },
        {
         "INSTNM": "Brooks Institute",
         "TUITIONFEE_IN": "17880.0",
         "_deepnote_index_column": 230
        },
        {
         "INSTNM": "Brownson Technical School",
         "TUITIONFEE_IN": "nan",
         "_deepnote_index_column": 231
        },
        {
         "INSTNM": "Bryan University",
         "TUITIONFEE_IN": "12270.0",
         "_deepnote_index_column": 232
        },
        {
         "INSTNM": "Butte College",
         "TUITIONFEE_IN": "824.0",
         "_deepnote_index_column": 233
        },
        {
         "INSTNM": "Phillips Graduate University",
         "TUITIONFEE_IN": "nan",
         "_deepnote_index_column": 234
        },
        {
         "INSTNM": "California Institute of Integral Studies",
         "TUITIONFEE_IN": "nan",
         "_deepnote_index_column": 235
        },
        {
         "INSTNM": "Cabrillo College",
         "TUITIONFEE_IN": "774.0",
         "_deepnote_index_column": 236
        },
        {
         "INSTNM": "California Baptist University",
         "TUITIONFEE_IN": "24654.0",
         "_deepnote_index_column": 237
        },
        {
         "INSTNM": "California College of the Arts",
         "TUITIONFEE_IN": "35222.0",
         "_deepnote_index_column": 238
        },
        {
         "INSTNM": "University of California-Hastings College of Law",
         "TUITIONFEE_IN": "nan",
         "_deepnote_index_column": 239
        },
        {
         "INSTNM": "California Institute of Technology",
         "TUITIONFEE_IN": "36282.0",
         "_deepnote_index_column": 240
        },
        {
         "INSTNM": "California Lutheran University",
         "TUITIONFEE_IN": "31000.0",
         "_deepnote_index_column": 241
        },
        {
         "INSTNM": "California Polytechnic State University-San Luis Obispo",
         "TUITIONFEE_IN": "6480.0",
         "_deepnote_index_column": 242
        },
        {
         "INSTNM": "Alliant International University-San Diego",
         "TUITIONFEE_IN": "nan",
         "_deepnote_index_column": 243
        },
        {
         "INSTNM": "California State University-Bakersfield",
         "TUITIONFEE_IN": "5314.0",
         "_deepnote_index_column": 244
        },
        {
         "INSTNM": "California State University-Stanislaus",
         "TUITIONFEE_IN": "5302.0",
         "_deepnote_index_column": 245
        },
        {
         "INSTNM": "California State University-San Bernardino",
         "TUITIONFEE_IN": "5049.0",
         "_deepnote_index_column": 246
        },
        {
         "INSTNM": "California State Polytechnic University-Pomona",
         "TUITIONFEE_IN": "4807.0",
         "_deepnote_index_column": 247
        },
        {
         "INSTNM": "California State University-Chico",
         "TUITIONFEE_IN": "5620.0",
         "_deepnote_index_column": 248
        },
        {
         "INSTNM": "California State University-Dominguez Hills",
         "TUITIONFEE_IN": "4849.0",
         "_deepnote_index_column": 249
        }
       ],
       "rows_bottom": [
        {
         "INSTNM": "Troy University-Western Region",
         "TUITIONFEE_IN": "6000.0",
         "_deepnote_index_column": 7220
        },
        {
         "INSTNM": "Troy University-Online",
         "TUITIONFEE_IN": "6000.0",
         "_deepnote_index_column": 7221
        },
        {
         "INSTNM": "Arkansas College of Barbering and Hair Design",
         "TUITIONFEE_IN": "nan",
         "_deepnote_index_column": 7222
        },
        {
         "INSTNM": "Bee Jays Academy",
         "TUITIONFEE_IN": "nan",
         "_deepnote_index_column": 7223
        },
        {
         "INSTNM": "Harding School of Theology",
         "TUITIONFEE_IN": "nan",
         "_deepnote_index_column": 7224
        },
        {
         "INSTNM": "Career Academy of Hair Design-Siloam Springs",
         "TUITIONFEE_IN": "nan",
         "_deepnote_index_column": 7225
        },
        {
         "INSTNM": "Career Academy of Hair Design-Rogers",
         "TUITIONFEE_IN": "nan",
         "_deepnote_index_column": 7226
        },
        {
         "INSTNM": "Alliant International University-Fresno",
         "TUITIONFEE_IN": "nan",
         "_deepnote_index_column": 7227
        },
        {
         "INSTNM": "Alliant International University-Los Angeles",
         "TUITIONFEE_IN": "nan",
         "_deepnote_index_column": 7228
        },
        {
         "INSTNM": "Alliant International University-San Francisco",
         "TUITIONFEE_IN": "nan",
         "_deepnote_index_column": 7229
        },
        {
         "INSTNM": "Alliant International University-Irvine",
         "TUITIONFEE_IN": "nan",
         "_deepnote_index_column": 7230
        },
        {
         "INSTNM": "Alliant International University-Sacramento",
         "TUITIONFEE_IN": "nan",
         "_deepnote_index_column": 7231
        },
        {
         "INSTNM": "Casa Loma College-Anaheim Campus",
         "TUITIONFEE_IN": "nan",
         "_deepnote_index_column": 7232
        },
        {
         "INSTNM": "Golden Gate University-Los Angeles",
         "TUITIONFEE_IN": "nan",
         "_deepnote_index_column": 7233
        },
        {
         "INSTNM": "Golden Gate University-Seattle",
         "TUITIONFEE_IN": "nan",
         "_deepnote_index_column": 7234
        },
        {
         "INSTNM": "Golden Gate University-Silicon Valley",
         "TUITIONFEE_IN": "nan",
         "_deepnote_index_column": 7235
        },
        {
         "INSTNM": "Humphreys College-Modesto",
         "TUITIONFEE_IN": "10134.0",
         "_deepnote_index_column": 7236
        },
        {
         "INSTNM": "Marinello School of Beauty-Whittier",
         "TUITIONFEE_IN": "nan",
         "_deepnote_index_column": 7237
        },
        {
         "INSTNM": "Marinello School of Beauty-Reseda",
         "TUITIONFEE_IN": "nan",
         "_deepnote_index_column": 7238
        },
        {
         "INSTNM": "Marinello School of Beauty",
         "TUITIONFEE_IN": "nan",
         "_deepnote_index_column": 7239
        },
        {
         "INSTNM": "Marinello School of Beauty-Ontario",
         "TUITIONFEE_IN": "nan",
         "_deepnote_index_column": 7240
        },
        {
         "INSTNM": "Marinello School of Beauty-San Diego",
         "TUITIONFEE_IN": "nan",
         "_deepnote_index_column": 7241
        },
        {
         "INSTNM": "Marinello School of Beauty-San Bernardino",
         "TUITIONFEE_IN": "nan",
         "_deepnote_index_column": 7242
        },
        {
         "INSTNM": "Marinello School of Beauty-West Covina",
         "TUITIONFEE_IN": "nan",
         "_deepnote_index_column": 7243
        },
        {
         "INSTNM": "Marinello School of Beauty-West Los Angeles",
         "TUITIONFEE_IN": "nan",
         "_deepnote_index_column": 7244
        },
        {
         "INSTNM": "Marinello School of Beauty-Inglewood",
         "TUITIONFEE_IN": "nan",
         "_deepnote_index_column": 7245
        },
        {
         "INSTNM": "Mount Saint Mary's University - Doheny Campus",
         "TUITIONFEE_IN": "30132.0",
         "_deepnote_index_column": 7246
        },
        {
         "INSTNM": "San Joaquin General Hospital School of Radiation Technology",
         "TUITIONFEE_IN": "780.0",
         "_deepnote_index_column": 7247
        },
        {
         "INSTNM": "Pinnacle College-Sacramento",
         "TUITIONFEE_IN": "nan",
         "_deepnote_index_column": 7248
        },
        {
         "INSTNM": "UEI College-San Bernardino Campus",
         "TUITIONFEE_IN": "nan",
         "_deepnote_index_column": 7249
        },
        {
         "INSTNM": "UEI College-San Diego Campus",
         "TUITIONFEE_IN": "nan",
         "_deepnote_index_column": 7250
        },
        {
         "INSTNM": "UEI College-Huntington Park Campus",
         "TUITIONFEE_IN": "nan",
         "_deepnote_index_column": 7251
        },
        {
         "INSTNM": "UEI College",
         "TUITIONFEE_IN": "nan",
         "_deepnote_index_column": 7252
        },
        {
         "INSTNM": "UEI College",
         "TUITIONFEE_IN": "nan",
         "_deepnote_index_column": 7253
        },
        {
         "INSTNM": "UEI College",
         "TUITIONFEE_IN": "nan",
         "_deepnote_index_column": 7254
        },
        {
         "INSTNM": "UEI College",
         "TUITIONFEE_IN": "nan",
         "_deepnote_index_column": 7255
        },
        {
         "INSTNM": "Porter and Chester Institute of Rocky Hill",
         "TUITIONFEE_IN": "23291.0",
         "_deepnote_index_column": 7256
        },
        {
         "INSTNM": "Porter and Chester Institute of Enfield",
         "TUITIONFEE_IN": "23291.0",
         "_deepnote_index_column": 7257
        },
        {
         "INSTNM": "Porter and Chester Institute of Waterbury",
         "TUITIONFEE_IN": "23291.0",
         "_deepnote_index_column": 7258
        },
        {
         "INSTNM": "Porter and Chester Institute of Chicopee",
         "TUITIONFEE_IN": "23291.0",
         "_deepnote_index_column": 7259
        },
        {
         "INSTNM": "Porter and Chester Institute of Worcester",
         "TUITIONFEE_IN": "23291.0",
         "_deepnote_index_column": 7260
        },
        {
         "INSTNM": "Strayer University-Takoma Park Campus",
         "TUITIONFEE_IN": "14085.0",
         "_deepnote_index_column": 7261
        },
        {
         "INSTNM": "Keiser University-Melbourne",
         "TUITIONFEE_IN": "14176.0",
         "_deepnote_index_column": 7262
        },
        {
         "INSTNM": "Keiser University-Tallahassee",
         "TUITIONFEE_IN": "14176.0",
         "_deepnote_index_column": 7263
        },
        {
         "INSTNM": "Keiser University-Daytona",
         "TUITIONFEE_IN": "14176.0",
         "_deepnote_index_column": 7264
        },
        {
         "INSTNM": "Keiser University-Lakeland",
         "TUITIONFEE_IN": "14176.0",
         "_deepnote_index_column": 7265
        },
        {
         "INSTNM": "Keiser University- Miami",
         "TUITIONFEE_IN": "14176.0",
         "_deepnote_index_column": 7266
        },
        {
         "INSTNM": "Keiser University-Orlando",
         "TUITIONFEE_IN": "14176.0",
         "_deepnote_index_column": 7267
        },
        {
         "INSTNM": "Keiser University-Sarasota",
         "TUITIONFEE_IN": "14176.0",
         "_deepnote_index_column": 7268
        },
        {
         "INSTNM": "Keiser University-Jacksonville",
         "TUITIONFEE_IN": "14176.0",
         "_deepnote_index_column": 7269
        },
        {
         "INSTNM": "Keiser University-Tampa",
         "TUITIONFEE_IN": "14176.0",
         "_deepnote_index_column": 7270
        },
        {
         "INSTNM": "Keiser University-Pembroke Pines",
         "TUITIONFEE_IN": "14176.0",
         "_deepnote_index_column": 7271
        },
        {
         "INSTNM": "Keiser University-Port St Lucie",
         "TUITIONFEE_IN": "14176.0",
         "_deepnote_index_column": 7272
        },
        {
         "INSTNM": "Keiser University-West Palm Beach",
         "TUITIONFEE_IN": "14176.0",
         "_deepnote_index_column": 7273
        },
        {
         "INSTNM": "Keiser University-Ft Myers",
         "TUITIONFEE_IN": "14176.0",
         "_deepnote_index_column": 7274
        },
        {
         "INSTNM": "Manhattan Hairstyling Academy - North",
         "TUITIONFEE_IN": "nan",
         "_deepnote_index_column": 7275
        },
        {
         "INSTNM": "Rasmussen College-New Port Richey",
         "TUITIONFEE_IN": "13520.0",
         "_deepnote_index_column": 7276
        },
        {
         "INSTNM": "Rasmussen College-Fort Myers",
         "TUITIONFEE_IN": "13520.0",
         "_deepnote_index_column": 7277
        },
        {
         "INSTNM": "Rasmussen College-Tampa/Brandon",
         "TUITIONFEE_IN": "13520.0",
         "_deepnote_index_column": 7278
        },
        {
         "INSTNM": "UEI- Morrow Campus",
         "TUITIONFEE_IN": "nan",
         "_deepnote_index_column": 7279
        },
        {
         "INSTNM": "UEI-Jacksonville Campus",
         "TUITIONFEE_IN": "nan",
         "_deepnote_index_column": 7280
        },
        {
         "INSTNM": "Graceland University - Independence",
         "TUITIONFEE_IN": "nan",
         "_deepnote_index_column": 7281
        },
        {
         "INSTNM": "Baker University School of Nursing",
         "TUITIONFEE_IN": "nan",
         "_deepnote_index_column": 7282
        },
        {
         "INSTNM": "Baker University School of Professional and Graduate Studies and Graduate School of Education",
         "TUITIONFEE_IN": "nan",
         "_deepnote_index_column": 7283
        },
        {
         "INSTNM": "Coffeyville Technical Campus",
         "TUITIONFEE_IN": "2650.0",
         "_deepnote_index_column": 7284
        },
        {
         "INSTNM": "Columbus Technical Campus",
         "TUITIONFEE_IN": "2650.0",
         "_deepnote_index_column": 7285
        },
        {
         "INSTNM": "PJ's College of Cosmetology- Greenfield",
         "TUITIONFEE_IN": "nan",
         "_deepnote_index_column": 7286
        },
        {
         "INSTNM": "PJ's College of Cosmetology- Muncie",
         "TUITIONFEE_IN": "nan",
         "_deepnote_index_column": 7287
        },
        {
         "INSTNM": "PJ's College of Cosmetology- Indianapolis",
         "TUITIONFEE_IN": "nan",
         "_deepnote_index_column": 7288
        },
        {
         "INSTNM": "PJ's College of Cosmetology- Plainfield",
         "TUITIONFEE_IN": "nan",
         "_deepnote_index_column": 7289
        },
        {
         "INSTNM": "Daymar College-Owensboro",
         "TUITIONFEE_IN": "15344.0",
         "_deepnote_index_column": 7290
        },
        {
         "INSTNM": "Union College London Center",
         "TUITIONFEE_IN": "nan",
         "_deepnote_index_column": 7291
        },
        {
         "INSTNM": "Empire Beauty School-Caribou",
         "TUITIONFEE_IN": "nan",
         "_deepnote_index_column": 7292
        },
        {
         "INSTNM": "Empire Beauty School-Bangor",
         "TUITIONFEE_IN": "nan",
         "_deepnote_index_column": 7293
        },
        {
         "INSTNM": "Empire Beauty School-Waterville",
         "TUITIONFEE_IN": "nan",
         "_deepnote_index_column": 7294
        },
        {
         "INSTNM": "International Beauty School",
         "TUITIONFEE_IN": "nan",
         "_deepnote_index_column": 7295
        },
        {
         "INSTNM": "The Art Institute of Boston at Lesley University",
         "TUITIONFEE_IN": "27725.0",
         "_deepnote_index_column": 7296
        },
        {
         "INSTNM": "Cleary University",
         "TUITIONFEE_IN": "16560.0",
         "_deepnote_index_column": 7297
        },
        {
         "INSTNM": "Davenport University-Warren Location",
         "TUITIONFEE_IN": "11814.0",
         "_deepnote_index_column": 7298
        },
        {
         "INSTNM": "Davenport University-Kalamazoo Location",
         "TUITIONFEE_IN": "11814.0",
         "_deepnote_index_column": 7299
        },
        {
         "INSTNM": "Davenport University-Lansing Location",
         "TUITIONFEE_IN": "11814.0",
         "_deepnote_index_column": 7300
        },
        {
         "INSTNM": "Davenport University-Midland Location",
         "TUITIONFEE_IN": "10950.0",
         "_deepnote_index_column": 7301
        },
        {
         "INSTNM": "Davenport University-Holland Location",
         "TUITIONFEE_IN": "11814.0",
         "_deepnote_index_column": 7302
        },
        {
         "INSTNM": "Davenport University-Flint Location",
         "TUITIONFEE_IN": "10950.0",
         "_deepnote_index_column": 7303
        },
        {
         "INSTNM": "Davenport University-Caro Location",
         "TUITIONFEE_IN": "10950.0",
         "_deepnote_index_column": 7304
        },
        {
         "INSTNM": "Davenport University-Traverse City Location",
         "TUITIONFEE_IN": "10950.0",
         "_deepnote_index_column": 7305
        },
        {
         "INSTNM": "Davenport University-Alma Location",
         "TUITIONFEE_IN": "10950.0",
         "_deepnote_index_column": 7306
        },
        {
         "INSTNM": "Davenport University-Saginaw Location",
         "TUITIONFEE_IN": "10950.0",
         "_deepnote_index_column": 7307
        },
        {
         "INSTNM": "Davenport University-Livonia Location",
         "TUITIONFEE_IN": "11814.0",
         "_deepnote_index_column": 7308
        },
        {
         "INSTNM": "Davenport University-Battle Creek Location",
         "TUITIONFEE_IN": "10950.0",
         "_deepnote_index_column": 7309
        },
        {
         "INSTNM": "Anoka-Ramsey Community College-Cambridge Campus",
         "TUITIONFEE_IN": "4551.0",
         "_deepnote_index_column": 7310
        },
        {
         "INSTNM": "Central Lakes College-Staples Campus",
         "TUITIONFEE_IN": "5255.0",
         "_deepnote_index_column": 7311
        },
        {
         "INSTNM": "M State - Detroit Lakes Campus",
         "TUITIONFEE_IN": "4898.0",
         "_deepnote_index_column": 7312
        },
        {
         "INSTNM": "M State - Moorhead Campus",
         "TUITIONFEE_IN": "4973.0",
         "_deepnote_index_column": 7313
        },
        {
         "INSTNM": "M State - Wadena Campus",
         "TUITIONFEE_IN": "4868.0",
         "_deepnote_index_column": 7314
        },
        {
         "INSTNM": "South Central College-Faribault",
         "TUITIONFEE_IN": "4910.0",
         "_deepnote_index_column": 7315
        },
        {
         "INSTNM": "Mesabi Range College",
         "TUITIONFEE_IN": "4844.0",
         "_deepnote_index_column": 7316
        },
        {
         "INSTNM": "Northland Community and Technical College - East Grand Forks",
         "TUITIONFEE_IN": "5021.0",
         "_deepnote_index_column": 7317
        },
        {
         "INSTNM": "Rasmussen College-Bloomington",
         "TUITIONFEE_IN": "15180.0",
         "_deepnote_index_column": 7318
        },
        {
         "INSTNM": "Rasmussen College-Eagan",
         "TUITIONFEE_IN": "15180.0",
         "_deepnote_index_column": 7319
        },
        {
         "INSTNM": "Rasmussen College-Mankato",
         "TUITIONFEE_IN": "15180.0",
         "_deepnote_index_column": 7320
        },
        {
         "INSTNM": "Rasmussen College-Brooklyn Park",
         "TUITIONFEE_IN": "15180.0",
         "_deepnote_index_column": 7321
        },
        {
         "INSTNM": "Rasmussen College-Lake Elmo/Woodbury",
         "TUITIONFEE_IN": "15180.0",
         "_deepnote_index_column": 7322
        },
        {
         "INSTNM": "Rasmussen College-Blaine",
         "TUITIONFEE_IN": "15180.0",
         "_deepnote_index_column": 7323
        },
        {
         "INSTNM": "Ridgewater College",
         "TUITIONFEE_IN": "5280.0",
         "_deepnote_index_column": 7324
        },
        {
         "INSTNM": "Minnesota State CollegeSoutheast-Red Wing Campus",
         "TUITIONFEE_IN": "5318.0",
         "_deepnote_index_column": 7325
        },
        {
         "INSTNM": "Copiah-Lincoln Community College Simpson County Center",
         "TUITIONFEE_IN": "2100.0",
         "_deepnote_index_column": 7326
        },
        {
         "INSTNM": "Copiah-Lincoln Community College-Natchez Campus",
         "TUITIONFEE_IN": "2100.0",
         "_deepnote_index_column": 7327
        },
        {
         "INSTNM": "Pearl River Community College-Forrest County Center",
         "TUITIONFEE_IN": "2100.0",
         "_deepnote_index_column": 7328
        },
        {
         "INSTNM": "New Hampshire Institute for Therapeutic Arts",
         "TUITIONFEE_IN": "nan",
         "_deepnote_index_column": 7329
        },
        {
         "INSTNM": "Berkeley College - Westchester Campus",
         "TUITIONFEE_IN": "20700.0",
         "_deepnote_index_column": 7330
        },
        {
         "INSTNM": "Culinary Institute of America at Greystone",
         "TUITIONFEE_IN": "25400.0",
         "_deepnote_index_column": 7331
        },
        {
         "INSTNM": "Culinary Institute of America San Antonio",
         "TUITIONFEE_IN": "24980.0",
         "_deepnote_index_column": 7332
        },
        {
         "INSTNM": "New York Institute of Technology",
         "TUITIONFEE_IN": "nan",
         "_deepnote_index_column": 7333
        },
        {
         "INSTNM": "Pratt Manhattan-A Division of Pratt Institute",
         "TUITIONFEE_IN": "36790.0",
         "_deepnote_index_column": 7334
        },
        {
         "INSTNM": "St. Joseph's College Long Island",
         "TUITIONFEE_IN": "17565.0",
         "_deepnote_index_column": 7335
        },
        {
         "INSTNM": "Rasmussen College-Bismarck",
         "TUITIONFEE_IN": "nan",
         "_deepnote_index_column": 7336
        },
        {
         "INSTNM": "Akron Adult Vocational Services",
         "TUITIONFEE_IN": "nan",
         "_deepnote_index_column": 7337
        },
        {
         "INSTNM": "Los Angeles Center",
         "TUITIONFEE_IN": "11132.0",
         "_deepnote_index_column": 7338
        },
        {
         "INSTNM": "Florida Center",
         "TUITIONFEE_IN": "11132.0",
         "_deepnote_index_column": 7339
        },
        {
         "INSTNM": "Sacramento Center",
         "TUITIONFEE_IN": "11132.0",
         "_deepnote_index_column": 7340
        },
        {
         "INSTNM": "Montpelier Center - Closed July 2013",
         "TUITIONFEE_IN": "11132.0",
         "_deepnote_index_column": 7341
        },
        {
         "INSTNM": "Brattleboro Center - Closed July 2013",
         "TUITIONFEE_IN": "11132.0",
         "_deepnote_index_column": 7342
        },
        {
         "INSTNM": "New England Center",
         "TUITIONFEE_IN": "nan",
         "_deepnote_index_column": 7343
        },
        {
         "INSTNM": "Western Seminary-San Jose",
         "TUITIONFEE_IN": "nan",
         "_deepnote_index_column": 7344
        },
        {
         "INSTNM": "Western Seminary-Sacramento",
         "TUITIONFEE_IN": "nan",
         "_deepnote_index_column": 7345
        },
        {
         "INSTNM": "The Beauty Institute",
         "TUITIONFEE_IN": "nan",
         "_deepnote_index_column": 7346
        },
        {
         "INSTNM": "Bucks County Community College-Upper Bucks Campus",
         "TUITIONFEE_IN": "3742.0",
         "_deepnote_index_column": 7347
        },
        {
         "INSTNM": "Bucks County Community College-Lower Bucks Campus",
         "TUITIONFEE_IN": "3742.0",
         "_deepnote_index_column": 7348
        },
        {
         "INSTNM": "Harrisburg Area Community College-Lancaster",
         "TUITIONFEE_IN": "3885.0",
         "_deepnote_index_column": 7349
        },
        {
         "INSTNM": "Harrisburg Area Community College-Gettysburg",
         "TUITIONFEE_IN": "3885.0",
         "_deepnote_index_column": 7350
        },
        {
         "INSTNM": "Harrisburg Area Community College-Lebanon",
         "TUITIONFEE_IN": "3885.0",
         "_deepnote_index_column": 7351
        },
        {
         "INSTNM": "Harrisburg Area Community College-York",
         "TUITIONFEE_IN": "3885.0",
         "_deepnote_index_column": 7352
        },
        {
         "INSTNM": "Northampton County Area Community College-Monroe",
         "TUITIONFEE_IN": "3270.0",
         "_deepnote_index_column": 7353
        },
        {
         "INSTNM": "Laurel Technical Institute Meadville",
         "TUITIONFEE_IN": "8365.0",
         "_deepnote_index_column": 7354
        },
        {
         "INSTNM": "South Hills School of Business and Technology-Altoona",
         "TUITIONFEE_IN": "14358.0",
         "_deepnote_index_column": 7355
        },
        {
         "INSTNM": "San Jacinto College-North Campus",
         "TUITIONFEE_IN": "1410.0",
         "_deepnote_index_column": 7356
        },
        {
         "INSTNM": "San Jacinto College-South Campus",
         "TUITIONFEE_IN": "1410.0",
         "_deepnote_index_column": 7357
        },
        {
         "INSTNM": "Snow College-Richfield Campus",
         "TUITIONFEE_IN": "2542.0",
         "_deepnote_index_column": 7358
        },
        {
         "INSTNM": "Strayer University-Alexandria Campus",
         "TUITIONFEE_IN": "14085.0",
         "_deepnote_index_column": 7359
        },
        {
         "INSTNM": "Strayer University-Woodbridge Campus",
         "TUITIONFEE_IN": "14085.0",
         "_deepnote_index_column": 7360
        },
        {
         "INSTNM": "Strayer University-Manassas Campus",
         "TUITIONFEE_IN": "14085.0",
         "_deepnote_index_column": 7361
        },
        {
         "INSTNM": "Strayer University-Loudoun Campus",
         "TUITIONFEE_IN": "14085.0",
         "_deepnote_index_column": 7362
        },
        {
         "INSTNM": "Strayer University-Fredericksburg Campus",
         "TUITIONFEE_IN": "14085.0",
         "_deepnote_index_column": 7363
        },
        {
         "INSTNM": "Strayer University-Henrico Campus",
         "TUITIONFEE_IN": "14085.0",
         "_deepnote_index_column": 7364
        },
        {
         "INSTNM": "Strayer University-Chesterfield Campus",
         "TUITIONFEE_IN": "14085.0",
         "_deepnote_index_column": 7365
        },
        {
         "INSTNM": "Strayer University-Chesapeake Campus",
         "TUITIONFEE_IN": "14085.0",
         "_deepnote_index_column": 7366
        },
        {
         "INSTNM": "Strayer University-Newport News Campus",
         "TUITIONFEE_IN": "14085.0",
         "_deepnote_index_column": 7367
        },
        {
         "INSTNM": "Strayer University-Virginia Beach Campus",
         "TUITIONFEE_IN": "14085.0",
         "_deepnote_index_column": 7368
        },
        {
         "INSTNM": "Union Presbyterian Seminary-Charlotte",
         "TUITIONFEE_IN": "nan",
         "_deepnote_index_column": 7369
        },
        {
         "INSTNM": "Washington State University-Vancouver",
         "TUITIONFEE_IN": "8592.0",
         "_deepnote_index_column": 7370
        },
        {
         "INSTNM": "Washington State University-Spokane",
         "TUITIONFEE_IN": "nan",
         "_deepnote_index_column": 7371
        },
        {
         "INSTNM": "Washington State University-Tri Cities",
         "TUITIONFEE_IN": "8592.0",
         "_deepnote_index_column": 7372
        },
        {
         "INSTNM": "West Virginia Business College-Nutter Fort",
         "TUITIONFEE_IN": "9150.0",
         "_deepnote_index_column": 7373
        },
        {
         "INSTNM": "University of the Virgin Islands-Albert A. Sheen",
         "TUITIONFEE_IN": "4310.0",
         "_deepnote_index_column": 7374
        },
        {
         "INSTNM": "Vista College Amarillo",
         "TUITIONFEE_IN": "17200.0",
         "_deepnote_index_column": 7375
        },
        {
         "INSTNM": "Vista College Lubbock",
         "TUITIONFEE_IN": "18563.0",
         "_deepnote_index_column": 7376
        },
        {
         "INSTNM": "Computer Career Center-Las Cruces",
         "TUITIONFEE_IN": "18563.0",
         "_deepnote_index_column": 7377
        },
        {
         "INSTNM": "CC's Cosmetology College",
         "TUITIONFEE_IN": "nan",
         "_deepnote_index_column": 7378
        },
        {
         "INSTNM": "CC's Cosmetology College",
         "TUITIONFEE_IN": "nan",
         "_deepnote_index_column": 7379
        },
        {
         "INSTNM": "CC's Cosmetology College-Idabel",
         "TUITIONFEE_IN": "nan",
         "_deepnote_index_column": 7380
        },
        {
         "INSTNM": "CC's Cosmetology College-Texarkana",
         "TUITIONFEE_IN": "nan",
         "_deepnote_index_column": 7381
        },
        {
         "INSTNM": "CC's Cosmetology College-Texarkana",
         "TUITIONFEE_IN": "nan",
         "_deepnote_index_column": 7382
        },
        {
         "INSTNM": "Nuvani Institute-Del Rio",
         "TUITIONFEE_IN": "nan",
         "_deepnote_index_column": 7383
        },
        {
         "INSTNM": "Nuvani Institute-North Campus",
         "TUITIONFEE_IN": "nan",
         "_deepnote_index_column": 7384
        },
        {
         "INSTNM": "Nuvani Institute-South Campus",
         "TUITIONFEE_IN": "nan",
         "_deepnote_index_column": 7385
        },
        {
         "INSTNM": "Everglades University-Orlando",
         "TUITIONFEE_IN": "12920.0",
         "_deepnote_index_column": 7386
        },
        {
         "INSTNM": "Everglades University-Sarasota",
         "TUITIONFEE_IN": "12920.0",
         "_deepnote_index_column": 7387
        },
        {
         "INSTNM": "Wright Career College - Oklahoma City OK",
         "TUITIONFEE_IN": "9740.0",
         "_deepnote_index_column": 7388
        },
        {
         "INSTNM": "Wright Career College - Tulsa OK",
         "TUITIONFEE_IN": "9740.0",
         "_deepnote_index_column": 7389
        },
        {
         "INSTNM": "Florida National University-South Campus",
         "TUITIONFEE_IN": "13170.0",
         "_deepnote_index_column": 7390
        },
        {
         "INSTNM": "Florida National University Training Center",
         "TUITIONFEE_IN": "13170.0",
         "_deepnote_index_column": 7391
        },
        {
         "INSTNM": "Compu-Med Vocational Careers Corp",
         "TUITIONFEE_IN": "nan",
         "_deepnote_index_column": 7392
        },
        {
         "INSTNM": "Southeastern College-Miami Lakes",
         "TUITIONFEE_IN": "14176.0",
         "_deepnote_index_column": 7393
        },
        {
         "INSTNM": "Southeastern College-St. Petersburg",
         "TUITIONFEE_IN": "14176.0",
         "_deepnote_index_column": 7394
        },
        {
         "INSTNM": "Southeastern College-New Port Richey",
         "TUITIONFEE_IN": "14176.0",
         "_deepnote_index_column": 7395
        },
        {
         "INSTNM": "Strayer University-Rockville Campus",
         "TUITIONFEE_IN": "14085.0",
         "_deepnote_index_column": 7396
        },
        {
         "INSTNM": "Strayer University-Anne Arundel Campus",
         "TUITIONFEE_IN": "14085.0",
         "_deepnote_index_column": 7397
        },
        {
         "INSTNM": "Strayer University-White Marsh Campus",
         "TUITIONFEE_IN": "14085.0",
         "_deepnote_index_column": 7398
        },
        {
         "INSTNM": "Strayer University-Owings Mills Campus",
         "TUITIONFEE_IN": "14085.0",
         "_deepnote_index_column": 7399
        },
        {
         "INSTNM": "McCann School of Business & Technology",
         "TUITIONFEE_IN": "12816.0",
         "_deepnote_index_column": 7400
        },
        {
         "INSTNM": "McCann School of Business & Technology",
         "TUITIONFEE_IN": "12816.0",
         "_deepnote_index_column": 7401
        },
        {
         "INSTNM": "McCann School of Business & Technology",
         "TUITIONFEE_IN": "12816.0",
         "_deepnote_index_column": 7402
        },
        {
         "INSTNM": "McCann School of Business & Technology",
         "TUITIONFEE_IN": "12816.0",
         "_deepnote_index_column": 7403
        },
        {
         "INSTNM": "McCann School of Business & Technology",
         "TUITIONFEE_IN": "12816.0",
         "_deepnote_index_column": 7404
        },
        {
         "INSTNM": "Texas Barber College - Branch Campus #1",
         "TUITIONFEE_IN": "nan",
         "_deepnote_index_column": 7405
        },
        {
         "INSTNM": "Texas Barber College - Branch Campus #2",
         "TUITIONFEE_IN": "nan",
         "_deepnote_index_column": 7406
        },
        {
         "INSTNM": "Texas Barber Colleges and Hairstyling Schools Branch Campus #6",
         "TUITIONFEE_IN": "nan",
         "_deepnote_index_column": 7407
        },
        {
         "INSTNM": "Texas Barber College - Branch Campus #5",
         "TUITIONFEE_IN": "nan",
         "_deepnote_index_column": 7408
        },
        {
         "INSTNM": "Texas Barber Colleges and Hairstyling Schools Branch Campus #7",
         "TUITIONFEE_IN": "nan",
         "_deepnote_index_column": 7409
        },
        {
         "INSTNM": "Southeastern Institute-Nashville",
         "TUITIONFEE_IN": "nan",
         "_deepnote_index_column": 7410
        },
        {
         "INSTNM": "Strayer University-Nashville Campus",
         "TUITIONFEE_IN": "14310.0",
         "_deepnote_index_column": 7411
        },
        {
         "INSTNM": "Strayer University-Shelby Oaks Campus",
         "TUITIONFEE_IN": "14310.0",
         "_deepnote_index_column": 7412
        },
        {
         "INSTNM": "Strayer University-Knoxville Campus",
         "TUITIONFEE_IN": "14310.0",
         "_deepnote_index_column": 7413
        },
        {
         "INSTNM": "Strayer University-Delaware County Campus",
         "TUITIONFEE_IN": "14085.0",
         "_deepnote_index_column": 7414
        },
        {
         "INSTNM": "Strayer University-King of Prussia Campus",
         "TUITIONFEE_IN": "14085.0",
         "_deepnote_index_column": 7415
        },
        {
         "INSTNM": "Strayer University-Center City Campus",
         "TUITIONFEE_IN": "14085.0",
         "_deepnote_index_column": 7416
        },
        {
         "INSTNM": "Strayer University-Lower Bucks County Campus",
         "TUITIONFEE_IN": "14085.0",
         "_deepnote_index_column": 7417
        },
        {
         "INSTNM": "Strayer University-Warrendale Campus",
         "TUITIONFEE_IN": "14085.0",
         "_deepnote_index_column": 7418
        },
        {
         "INSTNM": "Strayer University-Allentown Campus",
         "TUITIONFEE_IN": "14085.0",
         "_deepnote_index_column": 7419
        },
        {
         "INSTNM": "Rasmussen College-Aurora",
         "TUITIONFEE_IN": "13560.0",
         "_deepnote_index_column": 7420
        },
        {
         "INSTNM": "Rasmussen College-Romeoville/Joliet",
         "TUITIONFEE_IN": "13560.0",
         "_deepnote_index_column": 7421
        },
        {
         "INSTNM": "Rasmussen College-Mokena/Tinley Park",
         "TUITIONFEE_IN": "13560.0",
         "_deepnote_index_column": 7422
        },
        {
         "INSTNM": "Strayer University-Tampa East Campus",
         "TUITIONFEE_IN": "14085.0",
         "_deepnote_index_column": 7423
        },
        {
         "INSTNM": "Strayer University-Maitland Campus",
         "TUITIONFEE_IN": "14085.0",
         "_deepnote_index_column": 7424
        },
        {
         "INSTNM": "Strayer University-Orlando East Campus",
         "TUITIONFEE_IN": "14085.0",
         "_deepnote_index_column": 7425
        },
        {
         "INSTNM": "Strayer University-Sand Lake Campus",
         "TUITIONFEE_IN": "14085.0",
         "_deepnote_index_column": 7426
        },
        {
         "INSTNM": "Strayer University-Baymeadows Campus",
         "TUITIONFEE_IN": "14085.0",
         "_deepnote_index_column": 7427
        },
        {
         "INSTNM": "Strayer University-Palm Beach Gardens Campus",
         "TUITIONFEE_IN": "14085.0",
         "_deepnote_index_column": 7428
        },
        {
         "INSTNM": "Strayer University-Coral Springs Campus",
         "TUITIONFEE_IN": "14085.0",
         "_deepnote_index_column": 7429
        },
        {
         "INSTNM": "Strayer University-Fort Lauderdale Campus",
         "TUITIONFEE_IN": "14085.0",
         "_deepnote_index_column": 7430
        },
        {
         "INSTNM": "Strayer University-Miramar Campus",
         "TUITIONFEE_IN": "14085.0",
         "_deepnote_index_column": 7431
        },
        {
         "INSTNM": "Strayer University-Doral",
         "TUITIONFEE_IN": "14085.0",
         "_deepnote_index_column": 7432
        },
        {
         "INSTNM": "Strayer University-Brickell",
         "TUITIONFEE_IN": "14085.0",
         "_deepnote_index_column": 7433
        },
        {
         "INSTNM": "Make-up Designory",
         "TUITIONFEE_IN": "nan",
         "_deepnote_index_column": 7434
        },
        {
         "INSTNM": "Dayton School of Medical Massage-Lima",
         "TUITIONFEE_IN": "14500.0",
         "_deepnote_index_column": 7435
        },
        {
         "INSTNM": "Cincinnati School of Medical Massage",
         "TUITIONFEE_IN": "14500.0",
         "_deepnote_index_column": 7436
        },
        {
         "INSTNM": "Cleveland Institute of Medical Massage",
         "TUITIONFEE_IN": "14500.0",
         "_deepnote_index_column": 7437
        },
        {
         "INSTNM": "Strayer University-Huntsville Campus",
         "TUITIONFEE_IN": "14085.0",
         "_deepnote_index_column": 7438
        },
        {
         "INSTNM": "Rasmussen College-Appleton",
         "TUITIONFEE_IN": "13560.0",
         "_deepnote_index_column": 7439
        },
        {
         "INSTNM": "Rasmussen College-Wausau",
         "TUITIONFEE_IN": "13560.0",
         "_deepnote_index_column": 7440
        },
        {
         "INSTNM": "Strayer University-Louisville Campus",
         "TUITIONFEE_IN": "14085.0",
         "_deepnote_index_column": 7441
        },
        {
         "INSTNM": "Strayer University-Florence Campus",
         "TUITIONFEE_IN": "14085.0",
         "_deepnote_index_column": 7442
        },
        {
         "INSTNM": "Strayer University-North Charlotte",
         "TUITIONFEE_IN": "14085.0",
         "_deepnote_index_column": 7443
        },
        {
         "INSTNM": "Strayer University-South Charlotte",
         "TUITIONFEE_IN": "14085.0",
         "_deepnote_index_column": 7444
        },
        {
         "INSTNM": "Strayer University-North Raleigh Campus",
         "TUITIONFEE_IN": "14085.0",
         "_deepnote_index_column": 7445
        },
        {
         "INSTNM": "Strayer University-Greensboro Campus",
         "TUITIONFEE_IN": "14085.0",
         "_deepnote_index_column": 7446
        },
        {
         "INSTNM": "Strayer University-Huntersville Campus",
         "TUITIONFEE_IN": "14085.0",
         "_deepnote_index_column": 7447
        },
        {
         "INSTNM": "Strayer University-South Raleigh Campus",
         "TUITIONFEE_IN": "14085.0",
         "_deepnote_index_column": 7448
        },
        {
         "INSTNM": "Strayer University-Willingboro Campus",
         "TUITIONFEE_IN": "14085.0",
         "_deepnote_index_column": 7449
        },
        {
         "INSTNM": "Strayer University-Lawrenceville",
         "TUITIONFEE_IN": "14085.0",
         "_deepnote_index_column": 7450
        },
        {
         "INSTNM": "Strayer University-Piscataway",
         "TUITIONFEE_IN": "14085.0",
         "_deepnote_index_column": 7451
        },
        {
         "INSTNM": "Strayer University-Columbus Campus",
         "TUITIONFEE_IN": "14085.0",
         "_deepnote_index_column": 7452
        },
        {
         "INSTNM": "Strayer University-Fairview Park Campus",
         "TUITIONFEE_IN": "14085.0",
         "_deepnote_index_column": 7453
        },
        {
         "INSTNM": "Strayer University-Akron Campus",
         "TUITIONFEE_IN": "14085.0",
         "_deepnote_index_column": 7454
        },
        {
         "INSTNM": "Finger Lakes School of Massage",
         "TUITIONFEE_IN": "nan",
         "_deepnote_index_column": 7455
        },
        {
         "INSTNM": "Strayer University-Cobb Campus",
         "TUITIONFEE_IN": "14085.0",
         "_deepnote_index_column": 7456
        },
        {
         "INSTNM": "Strayer University-Morrow Campus",
         "TUITIONFEE_IN": "14085.0",
         "_deepnote_index_column": 7457
        },
        {
         "INSTNM": "Strayer University-Roswell Campus",
         "TUITIONFEE_IN": "14085.0",
         "_deepnote_index_column": 7458
        },
        {
         "INSTNM": "Strayer University-Douglasville Campus",
         "TUITIONFEE_IN": "14085.0",
         "_deepnote_index_column": 7459
        },
        {
         "INSTNM": "Strayer University-Lithonia Campus",
         "TUITIONFEE_IN": "14085.0",
         "_deepnote_index_column": 7460
        },
        {
         "INSTNM": "Strayer University-Savannah Campus",
         "TUITIONFEE_IN": "14085.0",
         "_deepnote_index_column": 7461
        },
        {
         "INSTNM": "Strayer University-Augusta Campus",
         "TUITIONFEE_IN": "14085.0",
         "_deepnote_index_column": 7462
        },
        {
         "INSTNM": "Strayer University-Columbus",
         "TUITIONFEE_IN": "14085.0",
         "_deepnote_index_column": 7463
        },
        {
         "INSTNM": "Strayer University-Columbia Campus",
         "TUITIONFEE_IN": "14085.0",
         "_deepnote_index_column": 7464
        },
        {
         "INSTNM": "Strayer University-Charleston Campus",
         "TUITIONFEE_IN": "14085.0",
         "_deepnote_index_column": 7465
        },
        {
         "INSTNM": "Strayer University-Irving",
         "TUITIONFEE_IN": "14085.0",
         "_deepnote_index_column": 7466
        },
        {
         "INSTNM": "Strayer University-Katy",
         "TUITIONFEE_IN": "14085.0",
         "_deepnote_index_column": 7467
        },
        {
         "INSTNM": "Strayer University-Northwest Houston",
         "TUITIONFEE_IN": "14085.0",
         "_deepnote_index_column": 7468
        },
        {
         "INSTNM": "Strayer University-Plano",
         "TUITIONFEE_IN": "14085.0",
         "_deepnote_index_column": 7469
        }
       ]
      },
      "text/plain": "                                    INSTNM  TUITIONFEE_IN\n0       Community College of the Air Force            NaN\n1                 Alabama A & M University         5800.0\n2      University of Alabama at Birmingham         5806.0\n3                       Amridge University         8360.0\n4      University of Alabama in Huntsville         7492.0\n...                                    ...            ...\n7465  Strayer University-Charleston Campus        14085.0\n7466             Strayer University-Irving        14085.0\n7467               Strayer University-Katy        14085.0\n7468  Strayer University-Northwest Houston        14085.0\n7469              Strayer University-Plano        14085.0\n\n[7470 rows x 2 columns]",
      "text/html": "<div>\n<style scoped>\n    .dataframe tbody tr th:only-of-type {\n        vertical-align: middle;\n    }\n\n    .dataframe tbody tr th {\n        vertical-align: top;\n    }\n\n    .dataframe thead th {\n        text-align: right;\n    }\n</style>\n<table border=\"1\" class=\"dataframe\">\n  <thead>\n    <tr style=\"text-align: right;\">\n      <th></th>\n      <th>INSTNM</th>\n      <th>TUITIONFEE_IN</th>\n    </tr>\n  </thead>\n  <tbody>\n    <tr>\n      <th>0</th>\n      <td>Community College of the Air Force</td>\n      <td>NaN</td>\n    </tr>\n    <tr>\n      <th>1</th>\n      <td>Alabama A &amp; M University</td>\n      <td>5800.0</td>\n    </tr>\n    <tr>\n      <th>2</th>\n      <td>University of Alabama at Birmingham</td>\n      <td>5806.0</td>\n    </tr>\n    <tr>\n      <th>3</th>\n      <td>Amridge University</td>\n      <td>8360.0</td>\n    </tr>\n    <tr>\n      <th>4</th>\n      <td>University of Alabama in Huntsville</td>\n      <td>7492.0</td>\n    </tr>\n    <tr>\n      <th>...</th>\n      <td>...</td>\n      <td>...</td>\n    </tr>\n    <tr>\n      <th>7465</th>\n      <td>Strayer University-Charleston Campus</td>\n      <td>14085.0</td>\n    </tr>\n    <tr>\n      <th>7466</th>\n      <td>Strayer University-Irving</td>\n      <td>14085.0</td>\n    </tr>\n    <tr>\n      <th>7467</th>\n      <td>Strayer University-Katy</td>\n      <td>14085.0</td>\n    </tr>\n    <tr>\n      <th>7468</th>\n      <td>Strayer University-Northwest Houston</td>\n      <td>14085.0</td>\n    </tr>\n    <tr>\n      <th>7469</th>\n      <td>Strayer University-Plano</td>\n      <td>14085.0</td>\n    </tr>\n  </tbody>\n</table>\n<p>7470 rows × 2 columns</p>\n</div>"
     },
     "metadata": {}
    }
   ],
   "execution_count": 7
  },
  {
   "cell_type": "code",
   "source": "df.isnull().sum()",
   "metadata": {
    "tags": [],
    "cell_id": "00008-56c27abc-4246-47fc-9e3c-f449b1623d02",
    "deepnote_to_be_reexecuted": false,
    "source_hash": "f3dd26da",
    "execution_start": 1621144767619,
    "execution_millis": 11,
    "deepnote_cell_type": "code"
   },
   "outputs": [
    {
     "output_type": "execute_result",
     "execution_count": 8,
     "data": {
      "text/plain": "INSTNM              0\nTUITIONFEE_IN    3133\ndtype: int64"
     },
     "metadata": {}
    }
   ],
   "execution_count": 8
  },
  {
   "cell_type": "code",
   "source": "df1=df.dropna() \ndf1.isnull().sum()",
   "metadata": {
    "tags": [],
    "cell_id": "00009-dd7f6acf-90ae-4895-ba93-51ca179c5b48",
    "deepnote_to_be_reexecuted": false,
    "source_hash": "cdfea440",
    "execution_start": 1621144767627,
    "execution_millis": 14,
    "deepnote_cell_type": "code"
   },
   "outputs": [
    {
     "output_type": "execute_result",
     "execution_count": 9,
     "data": {
      "text/plain": "INSTNM           0\nTUITIONFEE_IN    0\ndtype: int64"
     },
     "metadata": {}
    }
   ],
   "execution_count": 9
  },
  {
   "cell_type": "code",
   "source": "len(df1.loc[df['TUITIONFEE_IN']==0])",
   "metadata": {
    "tags": [],
    "cell_id": "00010-ff044c46-1d29-4d20-8b34-7db7b9568b75",
    "deepnote_to_be_reexecuted": false,
    "source_hash": "52f3206c",
    "execution_start": 1621144767644,
    "execution_millis": 8,
    "deepnote_cell_type": "code"
   },
   "outputs": [
    {
     "output_type": "execute_result",
     "execution_count": 10,
     "data": {
      "text/plain": "5"
     },
     "metadata": {}
    }
   ],
   "execution_count": 10
  },
  {
   "cell_type": "code",
   "source": "df1.drop(df1.loc[df['TUITIONFEE_IN']==0].index, inplace=True)\ndf2=df1.reset_index(drop=True)              \nlen(df2)",
   "metadata": {
    "tags": [],
    "cell_id": "00011-125d738a-8774-4229-a432-b8d8bc57877a",
    "deepnote_to_be_reexecuted": false,
    "source_hash": "b7ac713a",
    "execution_start": 1621144767654,
    "execution_millis": 16,
    "deepnote_cell_type": "code"
   },
   "outputs": [
    {
     "name": "stderr",
     "text": "/shared-libs/python3.7/py/lib/python3.7/site-packages/pandas/core/frame.py:4315: SettingWithCopyWarning: \nA value is trying to be set on a copy of a slice from a DataFrame\n\nSee the caveats in the documentation: https://pandas.pydata.org/pandas-docs/stable/user_guide/indexing.html#returning-a-view-versus-a-copy\n  errors=errors,\n",
     "output_type": "stream"
    },
    {
     "output_type": "execute_result",
     "execution_count": 11,
     "data": {
      "text/plain": "4332"
     },
     "metadata": {}
    }
   ],
   "execution_count": 11
  },
  {
   "cell_type": "code",
   "source": "df2[\"TUITIONFEE_IN\"].mean()",
   "metadata": {
    "tags": [],
    "cell_id": "00012-dcfbfd79-65f7-418c-944f-2f8356adf0e7",
    "deepnote_to_be_reexecuted": false,
    "source_hash": "885df55a",
    "execution_start": 1621144767700,
    "execution_millis": 7,
    "deepnote_cell_type": "code"
   },
   "outputs": [
    {
     "output_type": "execute_result",
     "execution_count": 12,
     "data": {
      "text/plain": "12544.819252077563"
     },
     "metadata": {}
    }
   ],
   "execution_count": 12
  },
  {
   "cell_type": "code",
   "source": "observations=np.random.randint(0,4021)\nrand_observations=df2.loc[[observations]]\nrand_observations",
   "metadata": {
    "tags": [],
    "cell_id": "00013-84111418-e17a-4f0c-8e08-313594bc9b19",
    "deepnote_to_be_reexecuted": false,
    "source_hash": "e674b6ed",
    "execution_start": 1621144767701,
    "execution_millis": 6,
    "deepnote_cell_type": "code"
   },
   "outputs": [
    {
     "output_type": "execute_result",
     "execution_count": 13,
     "data": {
      "application/vnd.deepnote.dataframe.v2+json": {
       "row_count": 1,
       "column_count": 2,
       "columns": [
        {
         "name": "INSTNM",
         "dtype": "object",
         "stats": {
          "unique_count": 1,
          "nan_count": 0,
          "categories": [
           {
            "name": "Kansas City Kansas Community College",
            "count": 1
           }
          ]
         }
        },
        {
         "name": "TUITIONFEE_IN",
         "dtype": "float64",
         "stats": {
          "unique_count": 1,
          "nan_count": 0,
          "min": "1980.0",
          "max": "1980.0",
          "histogram": [
           {
            "bin_start": 1979.5,
            "bin_end": 1979.6,
            "count": 0
           },
           {
            "bin_start": 1979.6,
            "bin_end": 1979.7,
            "count": 0
           },
           {
            "bin_start": 1979.7,
            "bin_end": 1979.8,
            "count": 0
           },
           {
            "bin_start": 1979.8,
            "bin_end": 1979.9,
            "count": 0
           },
           {
            "bin_start": 1979.9,
            "bin_end": 1980,
            "count": 0
           },
           {
            "bin_start": 1980,
            "bin_end": 1980.1,
            "count": 1
           },
           {
            "bin_start": 1980.1,
            "bin_end": 1980.2,
            "count": 0
           },
           {
            "bin_start": 1980.2,
            "bin_end": 1980.3,
            "count": 0
           },
           {
            "bin_start": 1980.3,
            "bin_end": 1980.4,
            "count": 0
           },
           {
            "bin_start": 1980.4,
            "bin_end": 1980.5,
            "count": 0
           }
          ]
         }
        },
        {
         "name": "_deepnote_index_column",
         "dtype": "int64"
        }
       ],
       "rows_top": [
        {
         "INSTNM": "Kansas City Kansas Community College",
         "TUITIONFEE_IN": 1980,
         "_deepnote_index_column": 1003
        }
       ],
       "rows_bottom": null
      },
      "text/plain": "                                    INSTNM  TUITIONFEE_IN\n1003  Kansas City Kansas Community College         1980.0",
      "text/html": "<div>\n<style scoped>\n    .dataframe tbody tr th:only-of-type {\n        vertical-align: middle;\n    }\n\n    .dataframe tbody tr th {\n        vertical-align: top;\n    }\n\n    .dataframe thead th {\n        text-align: right;\n    }\n</style>\n<table border=\"1\" class=\"dataframe\">\n  <thead>\n    <tr style=\"text-align: right;\">\n      <th></th>\n      <th>INSTNM</th>\n      <th>TUITIONFEE_IN</th>\n    </tr>\n  </thead>\n  <tbody>\n    <tr>\n      <th>1003</th>\n      <td>Kansas City Kansas Community College</td>\n      <td>1980.0</td>\n    </tr>\n  </tbody>\n</table>\n</div>"
     },
     "metadata": {}
    }
   ],
   "execution_count": 13
  },
  {
   "cell_type": "code",
   "source": "diff=abs(df2[\"TUITIONFEE_IN\"].mean() - rand_observations[\"TUITIONFEE_IN\"])\ndiff",
   "metadata": {
    "tags": [],
    "cell_id": "00014-0e57bcdc-bcb2-4f4d-b19b-659e129c5019",
    "deepnote_to_be_reexecuted": false,
    "source_hash": "5035e8d9",
    "execution_start": 1621144767701,
    "execution_millis": 9,
    "deepnote_cell_type": "code"
   },
   "outputs": [
    {
     "output_type": "execute_result",
     "execution_count": 14,
     "data": {
      "text/plain": "1003    10564.819252\nName: TUITIONFEE_IN, dtype: float64"
     },
     "metadata": {}
    }
   ],
   "execution_count": 14
  },
  {
   "cell_type": "code",
   "source": "obs1=np.random.randint(0,4525)\nrand_obs1=df2.loc[[obs1]]\nrand_obs1",
   "metadata": {
    "tags": [],
    "cell_id": "00015-e93ee6f2-213d-4440-ad20-ff7f26222016",
    "deepnote_to_be_reexecuted": false,
    "source_hash": "920d541f",
    "execution_start": 1621144767719,
    "execution_millis": 12,
    "deepnote_cell_type": "code"
   },
   "outputs": [
    {
     "output_type": "execute_result",
     "execution_count": 15,
     "data": {
      "application/vnd.deepnote.dataframe.v2+json": {
       "row_count": 1,
       "column_count": 2,
       "columns": [
        {
         "name": "INSTNM",
         "dtype": "object",
         "stats": {
          "unique_count": 1,
          "nan_count": 0,
          "categories": [
           {
            "name": "UPMC St. Margaret School of Nursing",
            "count": 1
           }
          ]
         }
        },
        {
         "name": "TUITIONFEE_IN",
         "dtype": "float64",
         "stats": {
          "unique_count": 1,
          "nan_count": 0,
          "min": "6190.0",
          "max": "6190.0",
          "histogram": [
           {
            "bin_start": 6189.5,
            "bin_end": 6189.6,
            "count": 0
           },
           {
            "bin_start": 6189.6,
            "bin_end": 6189.7,
            "count": 0
           },
           {
            "bin_start": 6189.7,
            "bin_end": 6189.8,
            "count": 0
           },
           {
            "bin_start": 6189.8,
            "bin_end": 6189.9,
            "count": 0
           },
           {
            "bin_start": 6189.9,
            "bin_end": 6190,
            "count": 0
           },
           {
            "bin_start": 6190,
            "bin_end": 6190.1,
            "count": 1
           },
           {
            "bin_start": 6190.1,
            "bin_end": 6190.2,
            "count": 0
           },
           {
            "bin_start": 6190.2,
            "bin_end": 6190.3,
            "count": 0
           },
           {
            "bin_start": 6190.3,
            "bin_end": 6190.4,
            "count": 0
           },
           {
            "bin_start": 6190.4,
            "bin_end": 6190.5,
            "count": 0
           }
          ]
         }
        },
        {
         "name": "_deepnote_index_column",
         "dtype": "int64"
        }
       ],
       "rows_top": [
        {
         "INSTNM": "UPMC St. Margaret School of Nursing",
         "TUITIONFEE_IN": 6190,
         "_deepnote_index_column": 2459
        }
       ],
       "rows_bottom": null
      },
      "text/plain": "                                   INSTNM  TUITIONFEE_IN\n2459  UPMC St. Margaret School of Nursing         6190.0",
      "text/html": "<div>\n<style scoped>\n    .dataframe tbody tr th:only-of-type {\n        vertical-align: middle;\n    }\n\n    .dataframe tbody tr th {\n        vertical-align: top;\n    }\n\n    .dataframe thead th {\n        text-align: right;\n    }\n</style>\n<table border=\"1\" class=\"dataframe\">\n  <thead>\n    <tr style=\"text-align: right;\">\n      <th></th>\n      <th>INSTNM</th>\n      <th>TUITIONFEE_IN</th>\n    </tr>\n  </thead>\n  <tbody>\n    <tr>\n      <th>2459</th>\n      <td>UPMC St. Margaret School of Nursing</td>\n      <td>6190.0</td>\n    </tr>\n  </tbody>\n</table>\n</div>"
     },
     "metadata": {}
    }
   ],
   "execution_count": 15
  },
  {
   "cell_type": "code",
   "source": "diff1=abs(df2[\"TUITIONFEE_IN\"].mean() - rand_obs1[\"TUITIONFEE_IN\"])\ndiff1",
   "metadata": {
    "tags": [],
    "cell_id": "00016-821f0aa5-14ba-46e2-92d1-385e61b70db0",
    "deepnote_to_be_reexecuted": false,
    "source_hash": "7aa7b71c",
    "execution_start": 1621144767728,
    "execution_millis": 8,
    "deepnote_cell_type": "code"
   },
   "outputs": [
    {
     "output_type": "execute_result",
     "execution_count": 16,
     "data": {
      "text/plain": "2459    6354.819252\nName: TUITIONFEE_IN, dtype: float64"
     },
     "metadata": {}
    }
   ],
   "execution_count": 16
  },
  {
   "cell_type": "code",
   "source": "obs2=np.random.randint(0,4525)\nrand_obs2=df2.loc[[obs2]]\nrand_obs2",
   "metadata": {
    "tags": [],
    "cell_id": "00017-e4db7b19-7745-43b0-bf79-46047d394858",
    "deepnote_to_be_reexecuted": false,
    "source_hash": "bf25318e",
    "execution_start": 1621144767746,
    "execution_millis": 11,
    "deepnote_cell_type": "code"
   },
   "outputs": [
    {
     "output_type": "execute_result",
     "execution_count": 17,
     "data": {
      "application/vnd.deepnote.dataframe.v2+json": {
       "row_count": 1,
       "column_count": 2,
       "columns": [
        {
         "name": "INSTNM",
         "dtype": "object",
         "stats": {
          "unique_count": 1,
          "nan_count": 0,
          "categories": [
           {
            "name": "Mercy College",
            "count": 1
           }
          ]
         }
        },
        {
         "name": "TUITIONFEE_IN",
         "dtype": "float64",
         "stats": {
          "unique_count": 1,
          "nan_count": 0,
          "min": "17010.0",
          "max": "17010.0",
          "histogram": [
           {
            "bin_start": 17009.5,
            "bin_end": 17009.6,
            "count": 0
           },
           {
            "bin_start": 17009.6,
            "bin_end": 17009.7,
            "count": 0
           },
           {
            "bin_start": 17009.7,
            "bin_end": 17009.8,
            "count": 0
           },
           {
            "bin_start": 17009.8,
            "bin_end": 17009.9,
            "count": 0
           },
           {
            "bin_start": 17009.9,
            "bin_end": 17010,
            "count": 0
           },
           {
            "bin_start": 17010,
            "bin_end": 17010.1,
            "count": 1
           },
           {
            "bin_start": 17010.1,
            "bin_end": 17010.2,
            "count": 0
           },
           {
            "bin_start": 17010.2,
            "bin_end": 17010.3,
            "count": 0
           },
           {
            "bin_start": 17010.3,
            "bin_end": 17010.4,
            "count": 0
           },
           {
            "bin_start": 17010.4,
            "bin_end": 17010.5,
            "count": 0
           }
          ]
         }
        },
        {
         "name": "_deepnote_index_column",
         "dtype": "int64"
        }
       ],
       "rows_top": [
        {
         "INSTNM": "Mercy College",
         "TUITIONFEE_IN": 17010,
         "_deepnote_index_column": 1869
        }
       ],
       "rows_bottom": null
      },
      "text/plain": "             INSTNM  TUITIONFEE_IN\n1869  Mercy College        17010.0",
      "text/html": "<div>\n<style scoped>\n    .dataframe tbody tr th:only-of-type {\n        vertical-align: middle;\n    }\n\n    .dataframe tbody tr th {\n        vertical-align: top;\n    }\n\n    .dataframe thead th {\n        text-align: right;\n    }\n</style>\n<table border=\"1\" class=\"dataframe\">\n  <thead>\n    <tr style=\"text-align: right;\">\n      <th></th>\n      <th>INSTNM</th>\n      <th>TUITIONFEE_IN</th>\n    </tr>\n  </thead>\n  <tbody>\n    <tr>\n      <th>1869</th>\n      <td>Mercy College</td>\n      <td>17010.0</td>\n    </tr>\n  </tbody>\n</table>\n</div>"
     },
     "metadata": {}
    }
   ],
   "execution_count": 17
  },
  {
   "cell_type": "code",
   "source": "diff2=abs(df2[\"TUITIONFEE_IN\"].mean() - rand_obs2[\"TUITIONFEE_IN\"])\ndiff2",
   "metadata": {
    "tags": [],
    "cell_id": "00018-822eba83-06d7-4e80-b9b1-0bf7237e0ba8",
    "deepnote_to_be_reexecuted": false,
    "source_hash": "862b5ff4",
    "execution_start": 1621144767755,
    "execution_millis": 9,
    "deepnote_cell_type": "code"
   },
   "outputs": [
    {
     "output_type": "execute_result",
     "execution_count": 18,
     "data": {
      "text/plain": "1869    4465.180748\nName: TUITIONFEE_IN, dtype: float64"
     },
     "metadata": {}
    }
   ],
   "execution_count": 18
  },
  {
   "cell_type": "code",
   "source": "# 13 - Randomly select 20 observations, display the tuition of these observation.\ndf3 = pd.DataFrame()\nobs=np.random.randint(0,4525,20)\n\nfor i in obs:\n    df3=df3.append(df2.loc[[i]])\n\ndf3",
   "metadata": {
    "tags": [],
    "cell_id": "00019-ea526cd1-ace6-46be-9218-72ecf54b0fb5",
    "deepnote_to_be_reexecuted": false,
    "source_hash": "695ad915",
    "execution_start": 1621144767787,
    "execution_millis": 17,
    "deepnote_cell_type": "code"
   },
   "outputs": [
    {
     "output_type": "execute_result",
     "execution_count": 19,
     "data": {
      "application/vnd.deepnote.dataframe.v2+json": {
       "row_count": 20,
       "column_count": 2,
       "columns": [
        {
         "name": "INSTNM",
         "dtype": "object",
         "stats": {
          "unique_count": 20,
          "nan_count": 0,
          "categories": [
           {
            "name": "Neumont College of Computer Science",
            "count": 1
           },
           {
            "name": "Westminster College",
            "count": 1
           },
           {
            "name": "18 others",
            "count": 18
           }
          ]
         }
        },
        {
         "name": "TUITIONFEE_IN",
         "dtype": "float64",
         "stats": {
          "unique_count": 19,
          "nan_count": 0,
          "min": "2640.0",
          "max": "27350.0",
          "histogram": [
           {
            "bin_start": 2640,
            "bin_end": 5111,
            "count": 6
           },
           {
            "bin_start": 5111,
            "bin_end": 7582,
            "count": 2
           },
           {
            "bin_start": 7582,
            "bin_end": 10053,
            "count": 1
           },
           {
            "bin_start": 10053,
            "bin_end": 12524,
            "count": 5
           },
           {
            "bin_start": 12524,
            "bin_end": 14995,
            "count": 3
           },
           {
            "bin_start": 14995,
            "bin_end": 17466,
            "count": 0
           },
           {
            "bin_start": 17466,
            "bin_end": 19937,
            "count": 0
           },
           {
            "bin_start": 19937,
            "bin_end": 22408,
            "count": 0
           },
           {
            "bin_start": 22408,
            "bin_end": 24879,
            "count": 1
           },
           {
            "bin_start": 24879,
            "bin_end": 27350,
            "count": 2
           }
          ]
         }
        },
        {
         "name": "_deepnote_index_column",
         "dtype": "int64"
        }
       ],
       "rows_top": [
        {
         "INSTNM": "Neumont College of Computer Science",
         "TUITIONFEE_IN": 23100,
         "_deepnote_index_column": 3809
        },
        {
         "INSTNM": "Westminster College",
         "TUITIONFEE_IN": 25980,
         "_deepnote_index_column": 2891
        },
        {
         "INSTNM": "University of Illinois at Chicago",
         "TUITIONFEE_IN": 12056,
         "_deepnote_index_column": 750
        },
        {
         "INSTNM": "Trumbull Business College",
         "TUITIONFEE_IN": 11671,
         "_deepnote_index_column": 2282
        },
        {
         "INSTNM": "University of Phoenix-Illinois",
         "TUITIONFEE_IN": 10440,
         "_deepnote_index_column": 3710
        },
        {
         "INSTNM": "Sisseton Wahpeton College",
         "TUITIONFEE_IN": 3960,
         "_deepnote_index_column": 2655
        },
        {
         "INSTNM": "Le Moyne-Owen College",
         "TUITIONFEE_IN": 10298,
         "_deepnote_index_column": 2688
        },
        {
         "INSTNM": "Northeast Wisconsin Technical College",
         "TUITIONFEE_IN": 3511,
         "_deepnote_index_column": 3109
        },
        {
         "INSTNM": "California State University-Monterey Bay",
         "TUITIONFEE_IN": 4721,
         "_deepnote_index_column": 3450
        },
        {
         "INSTNM": "Montcalm Community College",
         "TUITIONFEE_IN": 2640,
         "_deepnote_index_column": 1352
        },
        {
         "INSTNM": "Heald College-Concord",
         "TUITIONFEE_IN": 13095,
         "_deepnote_index_column": 244
        },
        {
         "INSTNM": "University of Toledo",
         "TUITIONFEE_IN": 8491,
         "_deepnote_index_column": 2280
        },
        {
         "INSTNM": "South Suburban College",
         "TUITIONFEE_IN": 3473,
         "_deepnote_index_column": 830
        },
        {
         "INSTNM": "Terra State Community College",
         "TUITIONFEE_IN": 3845,
         "_deepnote_index_column": 2277
        },
        {
         "INSTNM": "Bloomsburg University of Pennsylvania",
         "TUITIONFEE_IN": 7456,
         "_deepnote_index_column": 2392
        },
        {
         "INSTNM": "Heald College-Stockton",
         "TUITIONFEE_IN": 13095,
         "_deepnote_index_column": 3319
        },
        {
         "INSTNM": "Strayer University-Lithonia Campus",
         "TUITIONFEE_IN": 14085,
         "_deepnote_index_column": 4322
        },
        {
         "INSTNM": "Texas State University",
         "TUITIONFEE_IN": 6458,
         "_deepnote_index_column": 2833
        },
        {
         "INSTNM": "The King's College",
         "TUITIONFEE_IN": 27350,
         "_deepnote_index_column": 3996
        },
        {
         "INSTNM": "Divine Word College",
         "TUITIONFEE_IN": 11300,
         "_deepnote_index_column": 925
        }
       ],
       "rows_bottom": null
      },
      "text/plain": "                                        INSTNM  TUITIONFEE_IN\n3809       Neumont College of Computer Science        23100.0\n2891                       Westminster College        25980.0\n750          University of Illinois at Chicago        12056.0\n2282                 Trumbull Business College        11671.0\n3710            University of Phoenix-Illinois        10440.0\n2655                 Sisseton Wahpeton College         3960.0\n2688                     Le Moyne-Owen College        10298.0\n3109     Northeast Wisconsin Technical College         3511.0\n3450  California State University-Monterey Bay         4721.0\n1352                Montcalm Community College         2640.0\n244                      Heald College-Concord        13095.0\n2280                      University of Toledo         8491.0\n830                     South Suburban College         3473.0\n2277             Terra State Community College         3845.0\n2392     Bloomsburg University of Pennsylvania         7456.0\n3319                    Heald College-Stockton        13095.0\n4322        Strayer University-Lithonia Campus        14085.0\n2833                    Texas State University         6458.0\n3996                        The King's College        27350.0\n925                        Divine Word College        11300.0",
      "text/html": "<div>\n<style scoped>\n    .dataframe tbody tr th:only-of-type {\n        vertical-align: middle;\n    }\n\n    .dataframe tbody tr th {\n        vertical-align: top;\n    }\n\n    .dataframe thead th {\n        text-align: right;\n    }\n</style>\n<table border=\"1\" class=\"dataframe\">\n  <thead>\n    <tr style=\"text-align: right;\">\n      <th></th>\n      <th>INSTNM</th>\n      <th>TUITIONFEE_IN</th>\n    </tr>\n  </thead>\n  <tbody>\n    <tr>\n      <th>3809</th>\n      <td>Neumont College of Computer Science</td>\n      <td>23100.0</td>\n    </tr>\n    <tr>\n      <th>2891</th>\n      <td>Westminster College</td>\n      <td>25980.0</td>\n    </tr>\n    <tr>\n      <th>750</th>\n      <td>University of Illinois at Chicago</td>\n      <td>12056.0</td>\n    </tr>\n    <tr>\n      <th>2282</th>\n      <td>Trumbull Business College</td>\n      <td>11671.0</td>\n    </tr>\n    <tr>\n      <th>3710</th>\n      <td>University of Phoenix-Illinois</td>\n      <td>10440.0</td>\n    </tr>\n    <tr>\n      <th>2655</th>\n      <td>Sisseton Wahpeton College</td>\n      <td>3960.0</td>\n    </tr>\n    <tr>\n      <th>2688</th>\n      <td>Le Moyne-Owen College</td>\n      <td>10298.0</td>\n    </tr>\n    <tr>\n      <th>3109</th>\n      <td>Northeast Wisconsin Technical College</td>\n      <td>3511.0</td>\n    </tr>\n    <tr>\n      <th>3450</th>\n      <td>California State University-Monterey Bay</td>\n      <td>4721.0</td>\n    </tr>\n    <tr>\n      <th>1352</th>\n      <td>Montcalm Community College</td>\n      <td>2640.0</td>\n    </tr>\n    <tr>\n      <th>244</th>\n      <td>Heald College-Concord</td>\n      <td>13095.0</td>\n    </tr>\n    <tr>\n      <th>2280</th>\n      <td>University of Toledo</td>\n      <td>8491.0</td>\n    </tr>\n    <tr>\n      <th>830</th>\n      <td>South Suburban College</td>\n      <td>3473.0</td>\n    </tr>\n    <tr>\n      <th>2277</th>\n      <td>Terra State Community College</td>\n      <td>3845.0</td>\n    </tr>\n    <tr>\n      <th>2392</th>\n      <td>Bloomsburg University of Pennsylvania</td>\n      <td>7456.0</td>\n    </tr>\n    <tr>\n      <th>3319</th>\n      <td>Heald College-Stockton</td>\n      <td>13095.0</td>\n    </tr>\n    <tr>\n      <th>4322</th>\n      <td>Strayer University-Lithonia Campus</td>\n      <td>14085.0</td>\n    </tr>\n    <tr>\n      <th>2833</th>\n      <td>Texas State University</td>\n      <td>6458.0</td>\n    </tr>\n    <tr>\n      <th>3996</th>\n      <td>The King's College</td>\n      <td>27350.0</td>\n    </tr>\n    <tr>\n      <th>925</th>\n      <td>Divine Word College</td>\n      <td>11300.0</td>\n    </tr>\n  </tbody>\n</table>\n</div>"
     },
     "metadata": {}
    }
   ],
   "execution_count": 19
  },
  {
   "cell_type": "code",
   "source": "df3[\"TUITIONFEE_IN\"].mean()",
   "metadata": {
    "tags": [],
    "cell_id": "00020-c53a85fe-b31d-4a23-a29f-f77863bc8234",
    "deepnote_to_be_reexecuted": false,
    "source_hash": "a3c6f25f",
    "execution_start": 1621144767805,
    "execution_millis": 9,
    "deepnote_cell_type": "code"
   },
   "outputs": [
    {
     "output_type": "execute_result",
     "execution_count": 20,
     "data": {
      "text/plain": "10851.25"
     },
     "metadata": {}
    }
   ],
   "execution_count": 20
  },
  {
   "cell_type": "code",
   "source": "diff4=abs(df2[\"TUITIONFEE_IN\"].mean() - df3[\"TUITIONFEE_IN\"].mean())\ndiff4",
   "metadata": {
    "tags": [],
    "cell_id": "00021-0aba4417-d590-4b55-ad16-b05ae786111e",
    "deepnote_to_be_reexecuted": false,
    "source_hash": "7c604621",
    "execution_start": 1621144767854,
    "execution_millis": 5,
    "deepnote_cell_type": "code"
   },
   "outputs": [
    {
     "output_type": "execute_result",
     "execution_count": 21,
     "data": {
      "text/plain": "1693.5692520775629"
     },
     "metadata": {}
    }
   ],
   "execution_count": 21
  },
  {
   "cell_type": "code",
   "source": "df4 = pd.DataFrame()\nobs=np.random.randint(0,4525,20)\n\nfor i in obs:\n    df4=df4.append(df2.loc[[i]])\n\ndf4",
   "metadata": {
    "tags": [],
    "cell_id": "00022-d0a17c72-8fc8-464b-8a72-1caaa84b81b2",
    "deepnote_to_be_reexecuted": false,
    "source_hash": "de753",
    "execution_start": 1621144767855,
    "execution_millis": 149,
    "deepnote_cell_type": "code"
   },
   "outputs": [
    {
     "output_type": "error",
     "ename": "KeyError",
     "evalue": "\"None of [Int64Index([4405], dtype='int64')] are in the [index]\"",
     "traceback": [
      "\u001b[0;31m---------------------------------------------------------------------------\u001b[0m",
      "\u001b[0;31mKeyError\u001b[0m                                  Traceback (most recent call last)",
      "\u001b[0;32m<ipython-input-22-e709d29610bf>\u001b[0m in \u001b[0;36m<module>\u001b[0;34m\u001b[0m\n\u001b[1;32m      3\u001b[0m \u001b[0;34m\u001b[0m\u001b[0m\n\u001b[1;32m      4\u001b[0m \u001b[0;32mfor\u001b[0m \u001b[0mi\u001b[0m \u001b[0;32min\u001b[0m \u001b[0mobs\u001b[0m\u001b[0;34m:\u001b[0m\u001b[0;34m\u001b[0m\u001b[0;34m\u001b[0m\u001b[0m\n\u001b[0;32m----> 5\u001b[0;31m     \u001b[0mdf4\u001b[0m\u001b[0;34m=\u001b[0m\u001b[0mdf4\u001b[0m\u001b[0;34m.\u001b[0m\u001b[0mappend\u001b[0m\u001b[0;34m(\u001b[0m\u001b[0mdf2\u001b[0m\u001b[0;34m.\u001b[0m\u001b[0mloc\u001b[0m\u001b[0;34m[\u001b[0m\u001b[0;34m[\u001b[0m\u001b[0mi\u001b[0m\u001b[0;34m]\u001b[0m\u001b[0;34m]\u001b[0m\u001b[0;34m)\u001b[0m\u001b[0;34m\u001b[0m\u001b[0;34m\u001b[0m\u001b[0m\n\u001b[0m\u001b[1;32m      6\u001b[0m \u001b[0;34m\u001b[0m\u001b[0m\n\u001b[1;32m      7\u001b[0m \u001b[0mdf4\u001b[0m\u001b[0;34m\u001b[0m\u001b[0;34m\u001b[0m\u001b[0m\n",
      "\u001b[0;32m/shared-libs/python3.7/py/lib/python3.7/site-packages/pandas/core/indexing.py\u001b[0m in \u001b[0;36m__getitem__\u001b[0;34m(self, key)\u001b[0m\n\u001b[1;32m    893\u001b[0m \u001b[0;34m\u001b[0m\u001b[0m\n\u001b[1;32m    894\u001b[0m             \u001b[0mmaybe_callable\u001b[0m \u001b[0;34m=\u001b[0m \u001b[0mcom\u001b[0m\u001b[0;34m.\u001b[0m\u001b[0mapply_if_callable\u001b[0m\u001b[0;34m(\u001b[0m\u001b[0mkey\u001b[0m\u001b[0;34m,\u001b[0m \u001b[0mself\u001b[0m\u001b[0;34m.\u001b[0m\u001b[0mobj\u001b[0m\u001b[0;34m)\u001b[0m\u001b[0;34m\u001b[0m\u001b[0;34m\u001b[0m\u001b[0m\n\u001b[0;32m--> 895\u001b[0;31m             \u001b[0;32mreturn\u001b[0m \u001b[0mself\u001b[0m\u001b[0;34m.\u001b[0m\u001b[0m_getitem_axis\u001b[0m\u001b[0;34m(\u001b[0m\u001b[0mmaybe_callable\u001b[0m\u001b[0;34m,\u001b[0m \u001b[0maxis\u001b[0m\u001b[0;34m=\u001b[0m\u001b[0maxis\u001b[0m\u001b[0;34m)\u001b[0m\u001b[0;34m\u001b[0m\u001b[0;34m\u001b[0m\u001b[0m\n\u001b[0m\u001b[1;32m    896\u001b[0m \u001b[0;34m\u001b[0m\u001b[0m\n\u001b[1;32m    897\u001b[0m     \u001b[0;32mdef\u001b[0m \u001b[0m_is_scalar_access\u001b[0m\u001b[0;34m(\u001b[0m\u001b[0mself\u001b[0m\u001b[0;34m,\u001b[0m \u001b[0mkey\u001b[0m\u001b[0;34m:\u001b[0m \u001b[0mTuple\u001b[0m\u001b[0;34m)\u001b[0m\u001b[0;34m:\u001b[0m\u001b[0;34m\u001b[0m\u001b[0;34m\u001b[0m\u001b[0m\n",
      "\u001b[0;32m/shared-libs/python3.7/py/lib/python3.7/site-packages/pandas/core/indexing.py\u001b[0m in \u001b[0;36m_getitem_axis\u001b[0;34m(self, key, axis)\u001b[0m\n\u001b[1;32m   1111\u001b[0m                     \u001b[0;32mraise\u001b[0m \u001b[0mValueError\u001b[0m\u001b[0;34m(\u001b[0m\u001b[0;34m\"Cannot index with multidimensional key\"\u001b[0m\u001b[0;34m)\u001b[0m\u001b[0;34m\u001b[0m\u001b[0;34m\u001b[0m\u001b[0m\n\u001b[1;32m   1112\u001b[0m \u001b[0;34m\u001b[0m\u001b[0m\n\u001b[0;32m-> 1113\u001b[0;31m                 \u001b[0;32mreturn\u001b[0m \u001b[0mself\u001b[0m\u001b[0;34m.\u001b[0m\u001b[0m_getitem_iterable\u001b[0m\u001b[0;34m(\u001b[0m\u001b[0mkey\u001b[0m\u001b[0;34m,\u001b[0m \u001b[0maxis\u001b[0m\u001b[0;34m=\u001b[0m\u001b[0maxis\u001b[0m\u001b[0;34m)\u001b[0m\u001b[0;34m\u001b[0m\u001b[0;34m\u001b[0m\u001b[0m\n\u001b[0m\u001b[1;32m   1114\u001b[0m \u001b[0;34m\u001b[0m\u001b[0m\n\u001b[1;32m   1115\u001b[0m             \u001b[0;31m# nested tuple slicing\u001b[0m\u001b[0;34m\u001b[0m\u001b[0;34m\u001b[0m\u001b[0;34m\u001b[0m\u001b[0m\n",
      "\u001b[0;32m/shared-libs/python3.7/py/lib/python3.7/site-packages/pandas/core/indexing.py\u001b[0m in \u001b[0;36m_getitem_iterable\u001b[0;34m(self, key, axis)\u001b[0m\n\u001b[1;32m   1051\u001b[0m \u001b[0;34m\u001b[0m\u001b[0m\n\u001b[1;32m   1052\u001b[0m         \u001b[0;31m# A collection of keys\u001b[0m\u001b[0;34m\u001b[0m\u001b[0;34m\u001b[0m\u001b[0;34m\u001b[0m\u001b[0m\n\u001b[0;32m-> 1053\u001b[0;31m         \u001b[0mkeyarr\u001b[0m\u001b[0;34m,\u001b[0m \u001b[0mindexer\u001b[0m \u001b[0;34m=\u001b[0m \u001b[0mself\u001b[0m\u001b[0;34m.\u001b[0m\u001b[0m_get_listlike_indexer\u001b[0m\u001b[0;34m(\u001b[0m\u001b[0mkey\u001b[0m\u001b[0;34m,\u001b[0m \u001b[0maxis\u001b[0m\u001b[0;34m,\u001b[0m \u001b[0mraise_missing\u001b[0m\u001b[0;34m=\u001b[0m\u001b[0;32mFalse\u001b[0m\u001b[0;34m)\u001b[0m\u001b[0;34m\u001b[0m\u001b[0;34m\u001b[0m\u001b[0m\n\u001b[0m\u001b[1;32m   1054\u001b[0m         return self.obj._reindex_with_indexers(\n\u001b[1;32m   1055\u001b[0m             \u001b[0;34m{\u001b[0m\u001b[0maxis\u001b[0m\u001b[0;34m:\u001b[0m \u001b[0;34m[\u001b[0m\u001b[0mkeyarr\u001b[0m\u001b[0;34m,\u001b[0m \u001b[0mindexer\u001b[0m\u001b[0;34m]\u001b[0m\u001b[0;34m}\u001b[0m\u001b[0;34m,\u001b[0m \u001b[0mcopy\u001b[0m\u001b[0;34m=\u001b[0m\u001b[0;32mTrue\u001b[0m\u001b[0;34m,\u001b[0m \u001b[0mallow_dups\u001b[0m\u001b[0;34m=\u001b[0m\u001b[0;32mTrue\u001b[0m\u001b[0;34m\u001b[0m\u001b[0;34m\u001b[0m\u001b[0m\n",
      "\u001b[0;32m/shared-libs/python3.7/py/lib/python3.7/site-packages/pandas/core/indexing.py\u001b[0m in \u001b[0;36m_get_listlike_indexer\u001b[0;34m(self, key, axis, raise_missing)\u001b[0m\n\u001b[1;32m   1264\u001b[0m             \u001b[0mkeyarr\u001b[0m\u001b[0;34m,\u001b[0m \u001b[0mindexer\u001b[0m\u001b[0;34m,\u001b[0m \u001b[0mnew_indexer\u001b[0m \u001b[0;34m=\u001b[0m \u001b[0max\u001b[0m\u001b[0;34m.\u001b[0m\u001b[0m_reindex_non_unique\u001b[0m\u001b[0;34m(\u001b[0m\u001b[0mkeyarr\u001b[0m\u001b[0;34m)\u001b[0m\u001b[0;34m\u001b[0m\u001b[0;34m\u001b[0m\u001b[0m\n\u001b[1;32m   1265\u001b[0m \u001b[0;34m\u001b[0m\u001b[0m\n\u001b[0;32m-> 1266\u001b[0;31m         \u001b[0mself\u001b[0m\u001b[0;34m.\u001b[0m\u001b[0m_validate_read_indexer\u001b[0m\u001b[0;34m(\u001b[0m\u001b[0mkeyarr\u001b[0m\u001b[0;34m,\u001b[0m \u001b[0mindexer\u001b[0m\u001b[0;34m,\u001b[0m \u001b[0maxis\u001b[0m\u001b[0;34m,\u001b[0m \u001b[0mraise_missing\u001b[0m\u001b[0;34m=\u001b[0m\u001b[0mraise_missing\u001b[0m\u001b[0;34m)\u001b[0m\u001b[0;34m\u001b[0m\u001b[0;34m\u001b[0m\u001b[0m\n\u001b[0m\u001b[1;32m   1267\u001b[0m         \u001b[0;32mreturn\u001b[0m \u001b[0mkeyarr\u001b[0m\u001b[0;34m,\u001b[0m \u001b[0mindexer\u001b[0m\u001b[0;34m\u001b[0m\u001b[0;34m\u001b[0m\u001b[0m\n\u001b[1;32m   1268\u001b[0m \u001b[0;34m\u001b[0m\u001b[0m\n",
      "\u001b[0;32m/shared-libs/python3.7/py/lib/python3.7/site-packages/pandas/core/indexing.py\u001b[0m in \u001b[0;36m_validate_read_indexer\u001b[0;34m(self, key, indexer, axis, raise_missing)\u001b[0m\n\u001b[1;32m   1306\u001b[0m             \u001b[0;32mif\u001b[0m \u001b[0mmissing\u001b[0m \u001b[0;34m==\u001b[0m \u001b[0mlen\u001b[0m\u001b[0;34m(\u001b[0m\u001b[0mindexer\u001b[0m\u001b[0;34m)\u001b[0m\u001b[0;34m:\u001b[0m\u001b[0;34m\u001b[0m\u001b[0;34m\u001b[0m\u001b[0m\n\u001b[1;32m   1307\u001b[0m                 \u001b[0maxis_name\u001b[0m \u001b[0;34m=\u001b[0m \u001b[0mself\u001b[0m\u001b[0;34m.\u001b[0m\u001b[0mobj\u001b[0m\u001b[0;34m.\u001b[0m\u001b[0m_get_axis_name\u001b[0m\u001b[0;34m(\u001b[0m\u001b[0maxis\u001b[0m\u001b[0;34m)\u001b[0m\u001b[0;34m\u001b[0m\u001b[0;34m\u001b[0m\u001b[0m\n\u001b[0;32m-> 1308\u001b[0;31m                 \u001b[0;32mraise\u001b[0m \u001b[0mKeyError\u001b[0m\u001b[0;34m(\u001b[0m\u001b[0;34mf\"None of [{key}] are in the [{axis_name}]\"\u001b[0m\u001b[0;34m)\u001b[0m\u001b[0;34m\u001b[0m\u001b[0;34m\u001b[0m\u001b[0m\n\u001b[0m\u001b[1;32m   1309\u001b[0m \u001b[0;34m\u001b[0m\u001b[0m\n\u001b[1;32m   1310\u001b[0m             \u001b[0max\u001b[0m \u001b[0;34m=\u001b[0m \u001b[0mself\u001b[0m\u001b[0;34m.\u001b[0m\u001b[0mobj\u001b[0m\u001b[0;34m.\u001b[0m\u001b[0m_get_axis\u001b[0m\u001b[0;34m(\u001b[0m\u001b[0maxis\u001b[0m\u001b[0;34m)\u001b[0m\u001b[0;34m\u001b[0m\u001b[0;34m\u001b[0m\u001b[0m\n",
      "\u001b[0;31mKeyError\u001b[0m: \"None of [Int64Index([4405], dtype='int64')] are in the [index]\""
     ]
    }
   ],
   "execution_count": 22
  },
  {
   "cell_type": "code",
   "source": "df4[\"TUITIONFEE_IN\"].mean()",
   "metadata": {
    "tags": [],
    "cell_id": "00023-82815c96-b15b-4df0-a177-1f0a095bbf0d",
    "deepnote_to_be_reexecuted": true,
    "source_hash": "3d69adb0",
    "execution_start": 1621144070556,
    "execution_millis": 0,
    "deepnote_cell_type": "code"
   },
   "outputs": [
    {
     "output_type": "execute_result",
     "execution_count": 23,
     "data": {
      "text/plain": "14808.3"
     },
     "metadata": {}
    }
   ],
   "execution_count": null
  },
  {
   "cell_type": "code",
   "source": "diff5=abs(df2[\"TUITIONFEE_IN\"].mean() - df4[\"TUITIONFEE_IN\"].mean())\ndiff5",
   "metadata": {
    "tags": [],
    "cell_id": "00024-fa3d3c01-a193-4642-9297-411e0491ee7d",
    "deepnote_to_be_reexecuted": true,
    "source_hash": "7a98aac2",
    "execution_start": 1621144070604,
    "execution_millis": 10,
    "deepnote_cell_type": "code"
   },
   "outputs": [
    {
     "output_type": "execute_result",
     "execution_count": 24,
     "data": {
      "text/plain": "656.8914661824783"
     },
     "metadata": {}
    }
   ],
   "execution_count": null
  },
  {
   "cell_type": "code",
   "source": "df5 = pd.DataFrame()\n\nobs=np.random.randint(0,4525,20)\n\nfor i in obs:\n    df5=df5.append(df2.loc[[i]])\n\ndf5",
   "metadata": {
    "tags": [],
    "cell_id": "00025-ccb0b281-4531-4cca-83fa-8c46834be532",
    "deepnote_to_be_reexecuted": true,
    "source_hash": "a9b6616b",
    "execution_start": 1621144070605,
    "execution_millis": 9,
    "deepnote_cell_type": "code"
   },
   "outputs": [
    {
     "output_type": "execute_result",
     "execution_count": 25,
     "data": {
      "application/vnd.deepnote.dataframe.v2+json": {
       "row_count": 20,
       "column_count": 2,
       "columns": [
        {
         "name": "INSTNM",
         "dtype": "object",
         "stats": {
          "unique_count": 20,
          "nan_count": 0,
          "categories": [
           {
            "name": "ITT Technical Institute-Fort Wayne",
            "count": 1
           },
           {
            "name": "George C Wallace Community College-Dothan",
            "count": 1
           },
           {
            "name": "18 others",
            "count": 18
           }
          ]
         }
        },
        {
         "name": "TUITIONFEE_IN",
         "dtype": "float64",
         "stats": {
          "unique_count": 20,
          "nan_count": 0,
          "min": "1188.0",
          "max": "47736.0",
          "histogram": [
           {
            "bin_start": 1188,
            "bin_end": 5842.8,
            "count": 8
           },
           {
            "bin_start": 5842.8,
            "bin_end": 10497.6,
            "count": 2
           },
           {
            "bin_start": 10497.6,
            "bin_end": 15152.400000000001,
            "count": 1
           },
           {
            "bin_start": 15152.400000000001,
            "bin_end": 19807.2,
            "count": 4
           },
           {
            "bin_start": 19807.2,
            "bin_end": 24462,
            "count": 0
           },
           {
            "bin_start": 24462,
            "bin_end": 29116.800000000003,
            "count": 3
           },
           {
            "bin_start": 29116.800000000003,
            "bin_end": 33771.600000000006,
            "count": 0
           },
           {
            "bin_start": 33771.600000000006,
            "bin_end": 38426.4,
            "count": 0
           },
           {
            "bin_start": 38426.4,
            "bin_end": 43081.200000000004,
            "count": 1
           },
           {
            "bin_start": 43081.200000000004,
            "bin_end": 47736,
            "count": 1
           }
          ]
         }
        },
        {
         "name": "_deepnote_index_column",
         "dtype": "int64"
        }
       ],
       "rows_top": [
        {
         "INSTNM": "ITT Technical Institute-Fort Wayne",
         "TUITIONFEE_IN": 18048,
         "_deepnote_index_column": 846
        },
        {
         "INSTNM": "George C Wallace Community College-Dothan",
         "TUITIONFEE_IN": 3960,
         "_deepnote_index_column": 17
        },
        {
         "INSTNM": "Wood Tobe-Coburn School",
         "TUITIONFEE_IN": 16820,
         "_deepnote_index_column": 1914
        },
        {
         "INSTNM": "Highline College",
         "TUITIONFEE_IN": 4000,
         "_deepnote_index_column": 2917
        },
        {
         "INSTNM": "Blue Ridge Community College",
         "TUITIONFEE_IN": 4794,
         "_deepnote_index_column": 2822
        },
        {
         "INSTNM": "Saint Charles Borromeo Seminary-Overbrook",
         "TUITIONFEE_IN": 19500,
         "_deepnote_index_column": 2457
        },
        {
         "INSTNM": "Lord Fairfax Community College",
         "TUITIONFEE_IN": 4199,
         "_deepnote_index_column": 2850
        },
        {
         "INSTNM": "Metropolitan State University",
         "TUITIONFEE_IN": 6642,
         "_deepnote_index_column": 1358
        },
        {
         "INSTNM": "Nebraska College of Technical Agriculture",
         "TUITIONFEE_IN": 5026,
         "_deepnote_index_column": 1559
        },
        {
         "INSTNM": "University of South Florida-Main Campus",
         "TUITIONFEE_IN": 6410,
         "_deepnote_index_column": 568
        },
        {
         "INSTNM": "Wingate University",
         "TUITIONFEE_IN": 26300,
         "_deepnote_index_column": 2040
        },
        {
         "INSTNM": "Rogue Community College",
         "TUITIONFEE_IN": 3825,
         "_deepnote_index_column": 2290
        },
        {
         "INSTNM": "Imperial Valley College",
         "TUITIONFEE_IN": 1365,
         "_deepnote_index_column": 245
        },
        {
         "INSTNM": "Yeshiva University",
         "TUITIONFEE_IN": 38730,
         "_deepnote_index_column": 1921
        },
        {
         "INSTNM": "Brenau University",
         "TUITIONFEE_IN": 24780,
         "_deepnote_index_column": 604
        },
        {
         "INSTNM": "Bryant & Stratton College-Buffalo",
         "TUITIONFEE_IN": 16059,
         "_deepnote_index_column": 1708
        },
        {
         "INSTNM": "Fresno City College",
         "TUITIONFEE_IN": 1188,
         "_deepnote_index_column": 227
        },
        {
         "INSTNM": "Our Lady of the Lake University",
         "TUITIONFEE_IN": 24596,
         "_deepnote_index_column": 2722
        },
        {
         "INSTNM": "Carleton College",
         "TUITIONFEE_IN": 47736,
         "_deepnote_index_column": 1336
        },
        {
         "INSTNM": "Everest College-Salt Lake City",
         "TUITIONFEE_IN": 14256,
         "_deepnote_index_column": 2791
        }
       ],
       "rows_bottom": null
      },
      "text/plain": "                                         INSTNM  TUITIONFEE_IN\n846          ITT Technical Institute-Fort Wayne        18048.0\n17    George C Wallace Community College-Dothan         3960.0\n1914                    Wood Tobe-Coburn School        16820.0\n2917                           Highline College         4000.0\n2822               Blue Ridge Community College         4794.0\n2457  Saint Charles Borromeo Seminary-Overbrook        19500.0\n2850             Lord Fairfax Community College         4199.0\n1358              Metropolitan State University         6642.0\n1559  Nebraska College of Technical Agriculture         5026.0\n568     University of South Florida-Main Campus         6410.0\n2040                         Wingate University        26300.0\n2290                    Rogue Community College         3825.0\n245                     Imperial Valley College         1365.0\n1921                         Yeshiva University        38730.0\n604                           Brenau University        24780.0\n1708          Bryant & Stratton College-Buffalo        16059.0\n227                         Fresno City College         1188.0\n2722            Our Lady of the Lake University        24596.0\n1336                           Carleton College        47736.0\n2791             Everest College-Salt Lake City        14256.0",
      "text/html": "<div>\n<style scoped>\n    .dataframe tbody tr th:only-of-type {\n        vertical-align: middle;\n    }\n\n    .dataframe tbody tr th {\n        vertical-align: top;\n    }\n\n    .dataframe thead th {\n        text-align: right;\n    }\n</style>\n<table border=\"1\" class=\"dataframe\">\n  <thead>\n    <tr style=\"text-align: right;\">\n      <th></th>\n      <th>INSTNM</th>\n      <th>TUITIONFEE_IN</th>\n    </tr>\n  </thead>\n  <tbody>\n    <tr>\n      <th>846</th>\n      <td>ITT Technical Institute-Fort Wayne</td>\n      <td>18048.0</td>\n    </tr>\n    <tr>\n      <th>17</th>\n      <td>George C Wallace Community College-Dothan</td>\n      <td>3960.0</td>\n    </tr>\n    <tr>\n      <th>1914</th>\n      <td>Wood Tobe-Coburn School</td>\n      <td>16820.0</td>\n    </tr>\n    <tr>\n      <th>2917</th>\n      <td>Highline College</td>\n      <td>4000.0</td>\n    </tr>\n    <tr>\n      <th>2822</th>\n      <td>Blue Ridge Community College</td>\n      <td>4794.0</td>\n    </tr>\n    <tr>\n      <th>2457</th>\n      <td>Saint Charles Borromeo Seminary-Overbrook</td>\n      <td>19500.0</td>\n    </tr>\n    <tr>\n      <th>2850</th>\n      <td>Lord Fairfax Community College</td>\n      <td>4199.0</td>\n    </tr>\n    <tr>\n      <th>1358</th>\n      <td>Metropolitan State University</td>\n      <td>6642.0</td>\n    </tr>\n    <tr>\n      <th>1559</th>\n      <td>Nebraska College of Technical Agriculture</td>\n      <td>5026.0</td>\n    </tr>\n    <tr>\n      <th>568</th>\n      <td>University of South Florida-Main Campus</td>\n      <td>6410.0</td>\n    </tr>\n    <tr>\n      <th>2040</th>\n      <td>Wingate University</td>\n      <td>26300.0</td>\n    </tr>\n    <tr>\n      <th>2290</th>\n      <td>Rogue Community College</td>\n      <td>3825.0</td>\n    </tr>\n    <tr>\n      <th>245</th>\n      <td>Imperial Valley College</td>\n      <td>1365.0</td>\n    </tr>\n    <tr>\n      <th>1921</th>\n      <td>Yeshiva University</td>\n      <td>38730.0</td>\n    </tr>\n    <tr>\n      <th>604</th>\n      <td>Brenau University</td>\n      <td>24780.0</td>\n    </tr>\n    <tr>\n      <th>1708</th>\n      <td>Bryant &amp; Stratton College-Buffalo</td>\n      <td>16059.0</td>\n    </tr>\n    <tr>\n      <th>227</th>\n      <td>Fresno City College</td>\n      <td>1188.0</td>\n    </tr>\n    <tr>\n      <th>2722</th>\n      <td>Our Lady of the Lake University</td>\n      <td>24596.0</td>\n    </tr>\n    <tr>\n      <th>1336</th>\n      <td>Carleton College</td>\n      <td>47736.0</td>\n    </tr>\n    <tr>\n      <th>2791</th>\n      <td>Everest College-Salt Lake City</td>\n      <td>14256.0</td>\n    </tr>\n  </tbody>\n</table>\n</div>"
     },
     "metadata": {}
    }
   ],
   "execution_count": null
  },
  {
   "cell_type": "code",
   "source": "df5[\"TUITIONFEE_IN\"].mean()",
   "metadata": {
    "tags": [],
    "cell_id": "00026-518c0cd9-3a11-45ea-bace-6b359b483208",
    "deepnote_to_be_reexecuted": true,
    "source_hash": "ca6a0012",
    "execution_start": 1621144070611,
    "execution_millis": 27,
    "deepnote_cell_type": "code"
   },
   "outputs": [
    {
     "output_type": "execute_result",
     "execution_count": 26,
     "data": {
      "text/plain": "14411.7"
     },
     "metadata": {}
    }
   ],
   "execution_count": null
  },
  {
   "cell_type": "code",
   "source": "diff6=abs(df2[\"TUITIONFEE_IN\"].mean() - df5[\"TUITIONFEE_IN\"].mean())\ndiff6",
   "metadata": {
    "tags": [],
    "cell_id": "00027-a56174d6-9457-4f55-8461-3c9cb4c86003",
    "deepnote_to_be_reexecuted": true,
    "source_hash": "8486b88c",
    "execution_start": 1621144070625,
    "execution_millis": 13,
    "deepnote_cell_type": "code"
   },
   "outputs": [
    {
     "output_type": "execute_result",
     "execution_count": 27,
     "data": {
      "text/plain": "260.2914661824798"
     },
     "metadata": {}
    }
   ],
   "execution_count": null
  },
  {
   "cell_type": "code",
   "source": "# 17 - write function Code here\ndef difference(x,y):\n    df6 = pd.DataFrame()\n    obs=np.random.randint(0,4525,x)\n    for i in obs:\n        df6=df6.append(y.loc[[i]])\n    avg_sub=df6[\"TUITIONFEE_IN\"].mean()\n    avg_all=y[\"TUITIONFEE_IN\"].mean()\n    diff1=abs(avg_sub-avg_all)\n    \n    return diff1",
   "metadata": {
    "tags": [],
    "cell_id": "00028-3403ce69-2ab0-4bc6-847c-2e28900e3163",
    "deepnote_to_be_reexecuted": true,
    "source_hash": "656fa357",
    "execution_start": 1621144070632,
    "execution_millis": 3,
    "deepnote_cell_type": "code"
   },
   "outputs": [],
   "execution_count": null
  },
  {
   "cell_type": "code",
   "source": "difference(10,df2)",
   "metadata": {
    "tags": [],
    "cell_id": "00029-5bad51f0-e5a2-482b-9655-15e2a317abae",
    "deepnote_to_be_reexecuted": true,
    "source_hash": "21c8b5a7",
    "execution_start": 1621144070651,
    "execution_millis": 19,
    "deepnote_cell_type": "code"
   },
   "outputs": [
    {
     "output_type": "execute_result",
     "execution_count": 29,
     "data": {
      "text/plain": "4130.29146618248"
     },
     "metadata": {}
    }
   ],
   "execution_count": null
  },
  {
   "cell_type": "code",
   "source": "sample_sizes_ay=np.arange(1,51,1)\nsample_sizes=sample_sizes_ay.tolist()\nsample_sizes",
   "metadata": {
    "tags": [],
    "cell_id": "00030-4372c07b-fa7d-434c-b4d0-0f5e0052f6d5",
    "deepnote_to_be_reexecuted": true,
    "source_hash": "3afef90f",
    "execution_start": 1621144070661,
    "execution_millis": 10,
    "deepnote_cell_type": "code"
   },
   "outputs": [
    {
     "output_type": "execute_result",
     "execution_count": 30,
     "data": {
      "text/plain": "[1,\n 2,\n 3,\n 4,\n 5,\n 6,\n 7,\n 8,\n 9,\n 10,\n 11,\n 12,\n 13,\n 14,\n 15,\n 16,\n 17,\n 18,\n 19,\n 20,\n 21,\n 22,\n 23,\n 24,\n 25,\n 26,\n 27,\n 28,\n 29,\n 30,\n 31,\n 32,\n 33,\n 34,\n 35,\n 36,\n 37,\n 38,\n 39,\n 40,\n 41,\n 42,\n 43,\n 44,\n 45,\n 46,\n 47,\n 48,\n 49,\n 50]"
     },
     "metadata": {}
    }
   ],
   "execution_count": null
  },
  {
   "cell_type": "code",
   "source": "means_diff=[]\nfor i in sample_sizes:\n    diff2=difference(i,df2)\n    means_diff.append(diff2)\nmeans_diff",
   "metadata": {
    "tags": [],
    "cell_id": "00031-ff4ff63a-887f-43b6-95d1-6d743f7f68ac",
    "deepnote_to_be_reexecuted": true,
    "source_hash": "8bc081e9",
    "execution_start": 1621144070668,
    "execution_millis": 205,
    "deepnote_cell_type": "code"
   },
   "outputs": [
    {
     "output_type": "error",
     "ename": "KeyError",
     "evalue": "\"None of [Int64Index([4511], dtype='int64')] are in the [index]\"",
     "traceback": [
      "\u001b[0;31m---------------------------------------------------------------------------\u001b[0m",
      "\u001b[0;31mKeyError\u001b[0m                                  Traceback (most recent call last)",
      "\u001b[0;32m<ipython-input-31-5fff0ad6eed3>\u001b[0m in \u001b[0;36m<module>\u001b[0;34m\u001b[0m\n\u001b[1;32m      1\u001b[0m \u001b[0mmeans_diff\u001b[0m\u001b[0;34m=\u001b[0m\u001b[0;34m[\u001b[0m\u001b[0;34m]\u001b[0m\u001b[0;34m\u001b[0m\u001b[0;34m\u001b[0m\u001b[0m\n\u001b[1;32m      2\u001b[0m \u001b[0;32mfor\u001b[0m \u001b[0mi\u001b[0m \u001b[0;32min\u001b[0m \u001b[0msample_sizes\u001b[0m\u001b[0;34m:\u001b[0m\u001b[0;34m\u001b[0m\u001b[0;34m\u001b[0m\u001b[0m\n\u001b[0;32m----> 3\u001b[0;31m     \u001b[0mdiff2\u001b[0m\u001b[0;34m=\u001b[0m\u001b[0mdifference\u001b[0m\u001b[0;34m(\u001b[0m\u001b[0mi\u001b[0m\u001b[0;34m,\u001b[0m\u001b[0mdf2\u001b[0m\u001b[0;34m)\u001b[0m\u001b[0;34m\u001b[0m\u001b[0;34m\u001b[0m\u001b[0m\n\u001b[0m\u001b[1;32m      4\u001b[0m     \u001b[0mmeans_diff\u001b[0m\u001b[0;34m.\u001b[0m\u001b[0mappend\u001b[0m\u001b[0;34m(\u001b[0m\u001b[0mdiff2\u001b[0m\u001b[0;34m)\u001b[0m\u001b[0;34m\u001b[0m\u001b[0;34m\u001b[0m\u001b[0m\n\u001b[1;32m      5\u001b[0m \u001b[0mmeans_diff\u001b[0m\u001b[0;34m\u001b[0m\u001b[0;34m\u001b[0m\u001b[0m\n",
      "\u001b[0;32m<ipython-input-28-75a87ef13e19>\u001b[0m in \u001b[0;36mdifference\u001b[0;34m(x, y)\u001b[0m\n\u001b[1;32m      4\u001b[0m     \u001b[0mobs\u001b[0m\u001b[0;34m=\u001b[0m\u001b[0mnp\u001b[0m\u001b[0;34m.\u001b[0m\u001b[0mrandom\u001b[0m\u001b[0;34m.\u001b[0m\u001b[0mrandint\u001b[0m\u001b[0;34m(\u001b[0m\u001b[0;36m0\u001b[0m\u001b[0;34m,\u001b[0m\u001b[0;36m4525\u001b[0m\u001b[0;34m,\u001b[0m\u001b[0mx\u001b[0m\u001b[0;34m)\u001b[0m\u001b[0;34m\u001b[0m\u001b[0;34m\u001b[0m\u001b[0m\n\u001b[1;32m      5\u001b[0m     \u001b[0;32mfor\u001b[0m \u001b[0mi\u001b[0m \u001b[0;32min\u001b[0m \u001b[0mobs\u001b[0m\u001b[0;34m:\u001b[0m\u001b[0;34m\u001b[0m\u001b[0;34m\u001b[0m\u001b[0m\n\u001b[0;32m----> 6\u001b[0;31m         \u001b[0mdf6\u001b[0m\u001b[0;34m=\u001b[0m\u001b[0mdf6\u001b[0m\u001b[0;34m.\u001b[0m\u001b[0mappend\u001b[0m\u001b[0;34m(\u001b[0m\u001b[0my\u001b[0m\u001b[0;34m.\u001b[0m\u001b[0mloc\u001b[0m\u001b[0;34m[\u001b[0m\u001b[0;34m[\u001b[0m\u001b[0mi\u001b[0m\u001b[0;34m]\u001b[0m\u001b[0;34m]\u001b[0m\u001b[0;34m)\u001b[0m\u001b[0;34m\u001b[0m\u001b[0;34m\u001b[0m\u001b[0m\n\u001b[0m\u001b[1;32m      7\u001b[0m     \u001b[0mavg_sub\u001b[0m\u001b[0;34m=\u001b[0m\u001b[0mdf6\u001b[0m\u001b[0;34m[\u001b[0m\u001b[0;34m\"TUITIONFEE_IN\"\u001b[0m\u001b[0;34m]\u001b[0m\u001b[0;34m.\u001b[0m\u001b[0mmean\u001b[0m\u001b[0;34m(\u001b[0m\u001b[0;34m)\u001b[0m\u001b[0;34m\u001b[0m\u001b[0;34m\u001b[0m\u001b[0m\n\u001b[1;32m      8\u001b[0m     \u001b[0mavg_all\u001b[0m\u001b[0;34m=\u001b[0m\u001b[0my\u001b[0m\u001b[0;34m[\u001b[0m\u001b[0;34m\"TUITIONFEE_IN\"\u001b[0m\u001b[0;34m]\u001b[0m\u001b[0;34m.\u001b[0m\u001b[0mmean\u001b[0m\u001b[0;34m(\u001b[0m\u001b[0;34m)\u001b[0m\u001b[0;34m\u001b[0m\u001b[0;34m\u001b[0m\u001b[0m\n",
      "\u001b[0;32m/shared-libs/python3.7/py/lib/python3.7/site-packages/pandas/core/indexing.py\u001b[0m in \u001b[0;36m__getitem__\u001b[0;34m(self, key)\u001b[0m\n\u001b[1;32m    893\u001b[0m \u001b[0;34m\u001b[0m\u001b[0m\n\u001b[1;32m    894\u001b[0m             \u001b[0mmaybe_callable\u001b[0m \u001b[0;34m=\u001b[0m \u001b[0mcom\u001b[0m\u001b[0;34m.\u001b[0m\u001b[0mapply_if_callable\u001b[0m\u001b[0;34m(\u001b[0m\u001b[0mkey\u001b[0m\u001b[0;34m,\u001b[0m \u001b[0mself\u001b[0m\u001b[0;34m.\u001b[0m\u001b[0mobj\u001b[0m\u001b[0;34m)\u001b[0m\u001b[0;34m\u001b[0m\u001b[0;34m\u001b[0m\u001b[0m\n\u001b[0;32m--> 895\u001b[0;31m             \u001b[0;32mreturn\u001b[0m \u001b[0mself\u001b[0m\u001b[0;34m.\u001b[0m\u001b[0m_getitem_axis\u001b[0m\u001b[0;34m(\u001b[0m\u001b[0mmaybe_callable\u001b[0m\u001b[0;34m,\u001b[0m \u001b[0maxis\u001b[0m\u001b[0;34m=\u001b[0m\u001b[0maxis\u001b[0m\u001b[0;34m)\u001b[0m\u001b[0;34m\u001b[0m\u001b[0;34m\u001b[0m\u001b[0m\n\u001b[0m\u001b[1;32m    896\u001b[0m \u001b[0;34m\u001b[0m\u001b[0m\n\u001b[1;32m    897\u001b[0m     \u001b[0;32mdef\u001b[0m \u001b[0m_is_scalar_access\u001b[0m\u001b[0;34m(\u001b[0m\u001b[0mself\u001b[0m\u001b[0;34m,\u001b[0m \u001b[0mkey\u001b[0m\u001b[0;34m:\u001b[0m \u001b[0mTuple\u001b[0m\u001b[0;34m)\u001b[0m\u001b[0;34m:\u001b[0m\u001b[0;34m\u001b[0m\u001b[0;34m\u001b[0m\u001b[0m\n",
      "\u001b[0;32m/shared-libs/python3.7/py/lib/python3.7/site-packages/pandas/core/indexing.py\u001b[0m in \u001b[0;36m_getitem_axis\u001b[0;34m(self, key, axis)\u001b[0m\n\u001b[1;32m   1111\u001b[0m                     \u001b[0;32mraise\u001b[0m \u001b[0mValueError\u001b[0m\u001b[0;34m(\u001b[0m\u001b[0;34m\"Cannot index with multidimensional key\"\u001b[0m\u001b[0;34m)\u001b[0m\u001b[0;34m\u001b[0m\u001b[0;34m\u001b[0m\u001b[0m\n\u001b[1;32m   1112\u001b[0m \u001b[0;34m\u001b[0m\u001b[0m\n\u001b[0;32m-> 1113\u001b[0;31m                 \u001b[0;32mreturn\u001b[0m \u001b[0mself\u001b[0m\u001b[0;34m.\u001b[0m\u001b[0m_getitem_iterable\u001b[0m\u001b[0;34m(\u001b[0m\u001b[0mkey\u001b[0m\u001b[0;34m,\u001b[0m \u001b[0maxis\u001b[0m\u001b[0;34m=\u001b[0m\u001b[0maxis\u001b[0m\u001b[0;34m)\u001b[0m\u001b[0;34m\u001b[0m\u001b[0;34m\u001b[0m\u001b[0m\n\u001b[0m\u001b[1;32m   1114\u001b[0m \u001b[0;34m\u001b[0m\u001b[0m\n\u001b[1;32m   1115\u001b[0m             \u001b[0;31m# nested tuple slicing\u001b[0m\u001b[0;34m\u001b[0m\u001b[0;34m\u001b[0m\u001b[0;34m\u001b[0m\u001b[0m\n",
      "\u001b[0;32m/shared-libs/python3.7/py/lib/python3.7/site-packages/pandas/core/indexing.py\u001b[0m in \u001b[0;36m_getitem_iterable\u001b[0;34m(self, key, axis)\u001b[0m\n\u001b[1;32m   1051\u001b[0m \u001b[0;34m\u001b[0m\u001b[0m\n\u001b[1;32m   1052\u001b[0m         \u001b[0;31m# A collection of keys\u001b[0m\u001b[0;34m\u001b[0m\u001b[0;34m\u001b[0m\u001b[0;34m\u001b[0m\u001b[0m\n\u001b[0;32m-> 1053\u001b[0;31m         \u001b[0mkeyarr\u001b[0m\u001b[0;34m,\u001b[0m \u001b[0mindexer\u001b[0m \u001b[0;34m=\u001b[0m \u001b[0mself\u001b[0m\u001b[0;34m.\u001b[0m\u001b[0m_get_listlike_indexer\u001b[0m\u001b[0;34m(\u001b[0m\u001b[0mkey\u001b[0m\u001b[0;34m,\u001b[0m \u001b[0maxis\u001b[0m\u001b[0;34m,\u001b[0m \u001b[0mraise_missing\u001b[0m\u001b[0;34m=\u001b[0m\u001b[0;32mFalse\u001b[0m\u001b[0;34m)\u001b[0m\u001b[0;34m\u001b[0m\u001b[0;34m\u001b[0m\u001b[0m\n\u001b[0m\u001b[1;32m   1054\u001b[0m         return self.obj._reindex_with_indexers(\n\u001b[1;32m   1055\u001b[0m             \u001b[0;34m{\u001b[0m\u001b[0maxis\u001b[0m\u001b[0;34m:\u001b[0m \u001b[0;34m[\u001b[0m\u001b[0mkeyarr\u001b[0m\u001b[0;34m,\u001b[0m \u001b[0mindexer\u001b[0m\u001b[0;34m]\u001b[0m\u001b[0;34m}\u001b[0m\u001b[0;34m,\u001b[0m \u001b[0mcopy\u001b[0m\u001b[0;34m=\u001b[0m\u001b[0;32mTrue\u001b[0m\u001b[0;34m,\u001b[0m \u001b[0mallow_dups\u001b[0m\u001b[0;34m=\u001b[0m\u001b[0;32mTrue\u001b[0m\u001b[0;34m\u001b[0m\u001b[0;34m\u001b[0m\u001b[0m\n",
      "\u001b[0;32m/shared-libs/python3.7/py/lib/python3.7/site-packages/pandas/core/indexing.py\u001b[0m in \u001b[0;36m_get_listlike_indexer\u001b[0;34m(self, key, axis, raise_missing)\u001b[0m\n\u001b[1;32m   1264\u001b[0m             \u001b[0mkeyarr\u001b[0m\u001b[0;34m,\u001b[0m \u001b[0mindexer\u001b[0m\u001b[0;34m,\u001b[0m \u001b[0mnew_indexer\u001b[0m \u001b[0;34m=\u001b[0m \u001b[0max\u001b[0m\u001b[0;34m.\u001b[0m\u001b[0m_reindex_non_unique\u001b[0m\u001b[0;34m(\u001b[0m\u001b[0mkeyarr\u001b[0m\u001b[0;34m)\u001b[0m\u001b[0;34m\u001b[0m\u001b[0;34m\u001b[0m\u001b[0m\n\u001b[1;32m   1265\u001b[0m \u001b[0;34m\u001b[0m\u001b[0m\n\u001b[0;32m-> 1266\u001b[0;31m         \u001b[0mself\u001b[0m\u001b[0;34m.\u001b[0m\u001b[0m_validate_read_indexer\u001b[0m\u001b[0;34m(\u001b[0m\u001b[0mkeyarr\u001b[0m\u001b[0;34m,\u001b[0m \u001b[0mindexer\u001b[0m\u001b[0;34m,\u001b[0m \u001b[0maxis\u001b[0m\u001b[0;34m,\u001b[0m \u001b[0mraise_missing\u001b[0m\u001b[0;34m=\u001b[0m\u001b[0mraise_missing\u001b[0m\u001b[0;34m)\u001b[0m\u001b[0;34m\u001b[0m\u001b[0;34m\u001b[0m\u001b[0m\n\u001b[0m\u001b[1;32m   1267\u001b[0m         \u001b[0;32mreturn\u001b[0m \u001b[0mkeyarr\u001b[0m\u001b[0;34m,\u001b[0m \u001b[0mindexer\u001b[0m\u001b[0;34m\u001b[0m\u001b[0;34m\u001b[0m\u001b[0m\n\u001b[1;32m   1268\u001b[0m \u001b[0;34m\u001b[0m\u001b[0m\n",
      "\u001b[0;32m/shared-libs/python3.7/py/lib/python3.7/site-packages/pandas/core/indexing.py\u001b[0m in \u001b[0;36m_validate_read_indexer\u001b[0;34m(self, key, indexer, axis, raise_missing)\u001b[0m\n\u001b[1;32m   1306\u001b[0m             \u001b[0;32mif\u001b[0m \u001b[0mmissing\u001b[0m \u001b[0;34m==\u001b[0m \u001b[0mlen\u001b[0m\u001b[0;34m(\u001b[0m\u001b[0mindexer\u001b[0m\u001b[0;34m)\u001b[0m\u001b[0;34m:\u001b[0m\u001b[0;34m\u001b[0m\u001b[0;34m\u001b[0m\u001b[0m\n\u001b[1;32m   1307\u001b[0m                 \u001b[0maxis_name\u001b[0m \u001b[0;34m=\u001b[0m \u001b[0mself\u001b[0m\u001b[0;34m.\u001b[0m\u001b[0mobj\u001b[0m\u001b[0;34m.\u001b[0m\u001b[0m_get_axis_name\u001b[0m\u001b[0;34m(\u001b[0m\u001b[0maxis\u001b[0m\u001b[0;34m)\u001b[0m\u001b[0;34m\u001b[0m\u001b[0;34m\u001b[0m\u001b[0m\n\u001b[0;32m-> 1308\u001b[0;31m                 \u001b[0;32mraise\u001b[0m \u001b[0mKeyError\u001b[0m\u001b[0;34m(\u001b[0m\u001b[0;34mf\"None of [{key}] are in the [{axis_name}]\"\u001b[0m\u001b[0;34m)\u001b[0m\u001b[0;34m\u001b[0m\u001b[0;34m\u001b[0m\u001b[0m\n\u001b[0m\u001b[1;32m   1309\u001b[0m \u001b[0;34m\u001b[0m\u001b[0m\n\u001b[1;32m   1310\u001b[0m             \u001b[0max\u001b[0m \u001b[0;34m=\u001b[0m \u001b[0mself\u001b[0m\u001b[0;34m.\u001b[0m\u001b[0mobj\u001b[0m\u001b[0;34m.\u001b[0m\u001b[0m_get_axis\u001b[0m\u001b[0;34m(\u001b[0m\u001b[0maxis\u001b[0m\u001b[0;34m)\u001b[0m\u001b[0;34m\u001b[0m\u001b[0;34m\u001b[0m\u001b[0m\n",
      "\u001b[0;31mKeyError\u001b[0m: \"None of [Int64Index([4511], dtype='int64')] are in the [index]\""
     ]
    }
   ],
   "execution_count": null
  },
  {
   "cell_type": "code",
   "source": "fig, ax = plt.subplots(figsize=(16,8))     \n\nax.scatter(sample_sizes, means_diff)\nax.set_title(\"Sample Sizes vs. Tuition Mean Differences\")\nax.set_xlabel(\"Sample Size\")\nax.set_ylabel(\"Means Difference\")\n\nfig.show()",
   "metadata": {
    "tags": [],
    "cell_id": "00032-991e32ce-bbe6-468d-b54d-3377b0a0ab15",
    "deepnote_to_be_reexecuted": true,
    "source_hash": "7dae3d5e",
    "execution_start": 1621144033527,
    "execution_millis": 112,
    "deepnote_cell_type": "code"
   },
   "outputs": [
    {
     "output_type": "error",
     "ename": "NameError",
     "evalue": "name 'plt' is not defined",
     "traceback": [
      "\u001b[0;31m---------------------------------------------------------------------------\u001b[0m",
      "\u001b[0;31mNameError\u001b[0m                                 Traceback (most recent call last)",
      "\u001b[0;32m<ipython-input-32-6bef19210c39>\u001b[0m in \u001b[0;36m<module>\u001b[0;34m\u001b[0m\n\u001b[0;32m----> 1\u001b[0;31m \u001b[0mfig\u001b[0m\u001b[0;34m,\u001b[0m \u001b[0max\u001b[0m \u001b[0;34m=\u001b[0m \u001b[0mplt\u001b[0m\u001b[0;34m.\u001b[0m\u001b[0msubplots\u001b[0m\u001b[0;34m(\u001b[0m\u001b[0mfigsize\u001b[0m\u001b[0;34m=\u001b[0m\u001b[0;34m(\u001b[0m\u001b[0;36m16\u001b[0m\u001b[0;34m,\u001b[0m\u001b[0;36m8\u001b[0m\u001b[0;34m)\u001b[0m\u001b[0;34m)\u001b[0m\u001b[0;34m\u001b[0m\u001b[0;34m\u001b[0m\u001b[0m\n\u001b[0m\u001b[1;32m      2\u001b[0m \u001b[0;34m\u001b[0m\u001b[0m\n\u001b[1;32m      3\u001b[0m \u001b[0max\u001b[0m\u001b[0;34m.\u001b[0m\u001b[0mscatter\u001b[0m\u001b[0;34m(\u001b[0m\u001b[0msample_sizes\u001b[0m\u001b[0;34m,\u001b[0m \u001b[0mmeans_diff\u001b[0m\u001b[0;34m)\u001b[0m\u001b[0;34m\u001b[0m\u001b[0;34m\u001b[0m\u001b[0m\n\u001b[1;32m      4\u001b[0m \u001b[0max\u001b[0m\u001b[0;34m.\u001b[0m\u001b[0mset_title\u001b[0m\u001b[0;34m(\u001b[0m\u001b[0;34m\"Sample Sizes vs. Tuition Mean Differences\"\u001b[0m\u001b[0;34m)\u001b[0m\u001b[0;34m\u001b[0m\u001b[0;34m\u001b[0m\u001b[0m\n\u001b[1;32m      5\u001b[0m \u001b[0max\u001b[0m\u001b[0;34m.\u001b[0m\u001b[0mset_xlabel\u001b[0m\u001b[0;34m(\u001b[0m\u001b[0;34m\"Sample Size\"\u001b[0m\u001b[0;34m)\u001b[0m\u001b[0;34m\u001b[0m\u001b[0;34m\u001b[0m\u001b[0m\n",
      "\u001b[0;31mNameError\u001b[0m: name 'plt' is not defined"
     ]
    }
   ],
   "execution_count": null
  },
  {
   "cell_type": "code",
   "source": "sample_sizes_ay=np.arange(1,300,1)\nsample_sizes=sample_sizes_ay.tolist()\n\nmeans_diff=[]\nfor i in sample_sizes:\n    diff2=difference(i,df2)\n    means_diff.append(diff2)\nmeans_diff\n\n\nfig, ax = plt.subplots(figsize=(16,8))     \nax.scatter(sample_sizes, means_diff)\nax.set_title(\"Sample Sizes vs. Tuition Mean Differences\")\nax.set_xlabel(\"Sample Size\")\nax.set_ylabel(\"Means Difference\")\n\nfig.show()",
   "metadata": {
    "tags": [],
    "cell_id": "00033-15d9891c-80b5-471a-ad04-6b037c9ba5fd",
    "deepnote_to_be_reexecuted": true,
    "source_hash": "eced65cd",
    "deepnote_cell_type": "code"
   },
   "outputs": [],
   "execution_count": null
  },
  {
   "cell_type": "code",
   "source": "sample_sizes_ay=np.arange(1,500,1)\nsample_sizes=sample_sizes_ay.tolist()\n\nmeans_diff=[]\nfor i in sample_sizes:\n    diff2=difference(i,df2)\n    means_diff.append(diff2)\nmeans_diff\n\nfig, ax = plt.subplots(figsize=(16,8))     \nax.scatter(sample_sizes, means_diff)\nax.set_title(\"sample size vs. tuitionmean diff\")\nax.set_xlabel(\"Sample Size\")\nax.set_ylabel(\"Means Difference\")\n\nfig.show()",
   "metadata": {
    "tags": [],
    "cell_id": "00034-d322823d-af92-4b44-b709-6503db076a23",
    "deepnote_to_be_reexecuted": true,
    "source_hash": "6f3f7268",
    "deepnote_cell_type": "code"
   },
   "outputs": [],
   "execution_count": null
  },
  {
   "cell_type": "markdown",
   "source": "<a style='text-decoration:none;line-height:16px;display:flex;color:#5B5B62;padding:10px;justify-content:end;' href='https://deepnote.com?utm_source=created-in-deepnote-cell&projectId=18807e03-ecfb-4e0c-9a27-6159e281083f' target=\"_blank\">\n<img alt='Created in deepnote.com' style='display:inline;max-height:16px;margin:0px;margin-right:7.5px;' src='data:image/svg+xml;base64,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' > </img>\nCreated in <span style='font-weight:600;margin-left:4px;'>Deepnote</span></a>",
   "metadata": {
    "tags": [],
    "created_in_deepnote_cell": true,
    "deepnote_cell_type": "markdown"
   }
  }
 ],
 "nbformat": 4,
 "nbformat_minor": 2,
 "metadata": {
  "orig_nbformat": 2,
  "deepnote": {
   "is_reactive": true
  },
  "deepnote_notebook_id": "1fcd3fda-9005-4f36-9999-614823ac4ada",
  "deepnote_execution_queue": []
 }
}