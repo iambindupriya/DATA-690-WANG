{
  "nbformat": 4,
  "nbformat_minor": 0,
  "metadata": {
    "colab": {
      "name": "Assignment2.ipynb",
      "provenance": [],
      "collapsed_sections": []
    },
    "kernelspec": {
      "name": "python3",
      "display_name": "Python 3"
    }
  },
  "cells": [
    {
      "cell_type": "markdown",
      "metadata": {
        "id": "veQuCPP1wHv2"
      },
      "source": [
        "# **Assignment 2**"
      ]
    },
    {
      "cell_type": "markdown",
      "metadata": {
        "id": "x0dautwOwJ0M"
      },
      "source": [
        "## Promting the user to enter exactly 10 integers and storing the record using a list. To handle the errors I used try & except blocks."
      ]
    },
    {
      "cell_type": "code",
      "metadata": {
        "id": "6KuGguICNCgX",
        "colab": {
          "base_uri": "https://localhost:8080/"
        },
        "outputId": "303ce42d-8b86-4acd-a26a-e7ab5749942b"
      },
      "source": [
        "user_inputs =[]\n",
        "MAX_TRY = 9 \n",
        "\n",
        "for i in range(0, MAX_TRY+1):\n",
        "\n",
        "    while True:\n",
        "        try: #try block in python lets you try a block of code for errors.\n",
        "            user_input = input(\"Please enter an integer: \")\n",
        "            in_input = int(user_input)\n",
        "            break\n",
        "        except:#except block in python lets you handle the errors, it lets you print more friendly messages when an error is caused by the block of code in try\n",
        "            print(\"PLEASE RETRY - ONLY INTEGERS ACCEPTED \") #this message is better than TYPE ERROR: or OUT OF RANGE ERROR:\n",
        "\n",
        "\n",
        "\n",
        "    user_inputs.append(user_input)   \n",
        "    print(f\"Value at List1(#{i}) is :\", user_input)\n",
        "\n",
        "    for i in range(0, len(user_inputs)): \n",
        "      user_inputs[i] = int(user_inputs[i]) \n",
        "\n",
        "print(\"YOUR FINAL LIST IS --> \", user_inputs)"
      ],
      "execution_count": null,
      "outputs": [
        {
          "output_type": "stream",
          "text": [
            "Please enter an integer: 1\n",
            "Value at List1(#0) is : 1\n",
            "Please enter an integer: 2\n",
            "Value at List1(#1) is : 2\n",
            "Please enter an integer: 3\n",
            "Value at List1(#2) is : 3\n",
            "Please enter an integer: 4\n",
            "Value at List1(#3) is : 4\n",
            "Please enter an integer: 5\n",
            "Value at List1(#4) is : 5\n",
            "Please enter an integer: 6\n",
            "Value at List1(#5) is : 6\n",
            "Please enter an integer: 7\n",
            "Value at List1(#6) is : 7\n",
            "Please enter an integer: 8\n",
            "Value at List1(#7) is : 8\n",
            "Please enter an integer: 2\n",
            "Value at List1(#8) is : 2\n",
            "Please enter an integer: 4\n",
            "Value at List1(#9) is : 4\n",
            "YOUR FINAL LIST IS -->  [1, 2, 3, 4, 5, 6, 7, 8, 2, 4]\n"
          ],
          "name": "stdout"
        }
      ]
    },
    {
      "cell_type": "markdown",
      "metadata": {
        "id": "jKW1IVVfxmL_"
      },
      "source": [
        "## Function to calculate the maximum value from the list\n"
      ]
    },
    {
      "cell_type": "code",
      "metadata": {
        "id": "nZP6gkEWLrD8"
      },
      "source": [
        "def max_check(x):\n",
        "  max_val = x[0] \n",
        "  for check in x: \n",
        "    if check > max_val: \n",
        "      max_val = check \n",
        "  return max_val"
      ],
      "execution_count": null,
      "outputs": []
    },
    {
      "cell_type": "code",
      "metadata": {
        "colab": {
          "base_uri": "https://localhost:8080/"
        },
        "id": "SU-alTAbLy--",
        "outputId": "bcac11e2-095f-44d0-edc1-26ed05401aae"
      },
      "source": [
        "max = max_check(user_inputs)\n",
        "max\n"
      ],
      "execution_count": null,
      "outputs": [
        {
          "output_type": "execute_result",
          "data": {
            "text/plain": [
              "8"
            ]
          },
          "metadata": {
            "tags": []
          },
          "execution_count": 37
        }
      ]
    },
    {
      "cell_type": "markdown",
      "metadata": {
        "id": "3lZNqPwbxxe_"
      },
      "source": [
        "## Function to calculate the minimum value from the list\n"
      ]
    },
    {
      "cell_type": "code",
      "metadata": {
        "id": "ID6YoqJ_PXLz"
      },
      "source": [
        "def min_check(x):\n",
        "  min_val = x[0] \n",
        "  for check in x: \n",
        "    if check < min_val: \n",
        "      min_val = check \n",
        "  return min_val"
      ],
      "execution_count": null,
      "outputs": []
    },
    {
      "cell_type": "code",
      "metadata": {
        "colab": {
          "base_uri": "https://localhost:8080/"
        },
        "id": "OtYhskD1PZCt",
        "outputId": "2b664841-81ad-4b72-e281-a208cd6f2ba3"
      },
      "source": [
        "min = min_check(user_inputs)\n",
        "min"
      ],
      "execution_count": null,
      "outputs": [
        {
          "output_type": "execute_result",
          "data": {
            "text/plain": [
              "1"
            ]
          },
          "metadata": {
            "tags": []
          },
          "execution_count": 40
        }
      ]
    },
    {
      "cell_type": "markdown",
      "metadata": {
        "id": "R01A2TGAyUVl"
      },
      "source": [
        "## Range "
      ]
    },
    {
      "cell_type": "code",
      "metadata": {
        "colab": {
          "base_uri": "https://localhost:8080/"
        },
        "id": "nmxLQunlQNwg",
        "outputId": "2c466c5c-220c-48f8-c2a5-912506b3a3cf"
      },
      "source": [
        "#Range in statistics is the resulting of subtracting lowest value of the series from the highest value\n",
        "#Range can be a postive number or 0, but not negative\n",
        "range_series = max - min\n",
        "\n",
        "#max_check(user_inputs)-min_check(user_inputs)\n",
        "print(range_series)"
      ],
      "execution_count": null,
      "outputs": [
        {
          "output_type": "stream",
          "text": [
            "7\n"
          ],
          "name": "stdout"
        }
      ]
    },
    {
      "cell_type": "markdown",
      "metadata": {
        "id": "B6Yuvzbb0SyC"
      },
      "source": [
        "## Mean of 10 integers"
      ]
    },
    {
      "cell_type": "code",
      "metadata": {
        "id": "6kspeXSUQ3vn"
      },
      "source": [
        "#Mean value is the average of numbers in a list\n",
        "def averageOfList(num):\n",
        "    sumOfNumbers = 0\n",
        "    for t in num:\n",
        "        sumOfNumbers = sumOfNumbers + t\n",
        "\n",
        "    avg = sumOfNumbers / len(num)\n",
        "    return avg"
      ],
      "execution_count": null,
      "outputs": []
    },
    {
      "cell_type": "code",
      "metadata": {
        "colab": {
          "base_uri": "https://localhost:8080/"
        },
        "id": "GSWdSoaLRo4U",
        "outputId": "0fb06ac0-b418-4a30-956d-a96a26613c48"
      },
      "source": [
        "avg1 = averageOfList(user_inputs)\n",
        "avg1"
      ],
      "execution_count": 50,
      "outputs": [
        {
          "output_type": "execute_result",
          "data": {
            "text/plain": [
              "4.2"
            ]
          },
          "metadata": {
            "tags": []
          },
          "execution_count": 50
        }
      ]
    },
    {
      "cell_type": "markdown",
      "metadata": {
        "id": "XwhbsiFB1JYC"
      },
      "source": [
        "## Variance "
      ]
    },
    {
      "cell_type": "code",
      "metadata": {
        "colab": {
          "base_uri": "https://localhost:8080/"
        },
        "id": "jWL4dDlHRsl5",
        "outputId": "48399381-c0e0-43ce-8354-404cd05a3cc3"
      },
      "source": [
        "#The variance (σ2) is a measure of how far each value in the data set is from the mean. Here is how it is defined:\n",
        "\n",
        "#Subtract the mean from each value in the data. This gives you a measure of the distance of each value from the mean.\n",
        "#Square each of these distances (so that they are all positive values), and add all of the squares together.\n",
        "#Divide the sum of the squares by the number of values in the data set.\n",
        "\n",
        "var = sum((i-avg1)**2 for i in user_inputs) / len(user_inputs)\n",
        "print(var)"
      ],
      "execution_count": 51,
      "outputs": [
        {
          "output_type": "stream",
          "text": [
            "4.76\n"
          ],
          "name": "stdout"
        }
      ]
    },
    {
      "cell_type": "markdown",
      "metadata": {
        "id": "jlRoIm5x1OF2"
      },
      "source": [
        "## Standard deviation"
      ]
    },
    {
      "cell_type": "code",
      "metadata": {
        "colab": {
          "base_uri": "https://localhost:8080/"
        },
        "id": "ftqW_W0GYNA0",
        "outputId": "9ebb9b7b-a535-4b6e-bb91-1c34039d8abb"
      },
      "source": [
        "#The standard deviation (σ) is simply the (positive) square root of the variance.\n",
        "\n",
        "standard_deviation = (var)**(1/2)\n",
        "print(standard_deviation)"
      ],
      "execution_count": 52,
      "outputs": [
        {
          "output_type": "stream",
          "text": [
            "2.181742422927143\n"
          ],
          "name": "stdout"
        }
      ]
    },
    {
      "cell_type": "markdown",
      "metadata": {
        "id": "K0ZhKF9Q15nP"
      },
      "source": [
        "# End of this notebook\n"
      ]
    }
  ]
}