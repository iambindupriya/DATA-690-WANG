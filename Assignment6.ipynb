{
  "nbformat": 4,
  "nbformat_minor": 0,
  "metadata": {
    "colab": {
      "name": "Assignment6.ipynb",
      "provenance": [],
      "collapsed_sections": []
    },
    "kernelspec": {
      "name": "python3",
      "display_name": "Python 3"
    },
    "language_info": {
      "name": "python"
    }
  },
  "cells": [
    {
      "cell_type": "code",
      "metadata": {
        "id": "ZrggJGE7zRF1"
      },
      "source": [
        "import pandas as pd\n",
        "import numpy as np\n",
        "import math"
      ],
      "execution_count": 18,
      "outputs": []
    },
    {
      "cell_type": "code",
      "metadata": {
        "colab": {
          "base_uri": "https://localhost:8080/"
        },
        "id": "Ivh2oCECzcvv",
        "outputId": "1ff5bb22-4b3a-4a14-ffeb-60163f2b3485"
      },
      "source": [
        "dfList = pd.read_html(\"https://www.genealogybranches.com/censuscosts.html\")\n",
        "print(len(dfList))"
      ],
      "execution_count": 19,
      "outputs": [
        {
          "output_type": "stream",
          "text": [
            "2\n"
          ],
          "name": "stdout"
        }
      ]
    },
    {
      "cell_type": "code",
      "metadata": {
        "colab": {
          "base_uri": "https://localhost:8080/",
          "height": 204
        },
        "id": "FYwOCDU8zkKu",
        "outputId": "e79f2ec1-4b67-4ef6-d551-a6cbe7545296"
      },
      "source": [
        "dfTable1=dfList[0]\n",
        "dfTable1.head()"
      ],
      "execution_count": 20,
      "outputs": [
        {
          "output_type": "execute_result",
          "data": {
            "text/html": [
              "<div>\n",
              "<style scoped>\n",
              "    .dataframe tbody tr th:only-of-type {\n",
              "        vertical-align: middle;\n",
              "    }\n",
              "\n",
              "    .dataframe tbody tr th {\n",
              "        vertical-align: top;\n",
              "    }\n",
              "\n",
              "    .dataframe thead th {\n",
              "        text-align: right;\n",
              "    }\n",
              "</style>\n",
              "<table border=\"1\" class=\"dataframe\">\n",
              "  <thead>\n",
              "    <tr style=\"text-align: right;\">\n",
              "      <th></th>\n",
              "      <th>0</th>\n",
              "      <th>1</th>\n",
              "      <th>2</th>\n",
              "      <th>3</th>\n",
              "    </tr>\n",
              "  </thead>\n",
              "  <tbody>\n",
              "    <tr>\n",
              "      <th>0</th>\n",
              "      <td>Census Year</td>\n",
              "      <td>Total Population</td>\n",
              "      <td>Census Cost</td>\n",
              "      <td>Average Cost Per Person</td>\n",
              "    </tr>\n",
              "    <tr>\n",
              "      <th>1</th>\n",
              "      <td>1790</td>\n",
              "      <td>3929214</td>\n",
              "      <td>$44,377</td>\n",
              "      <td>1.13 cents</td>\n",
              "    </tr>\n",
              "    <tr>\n",
              "      <th>2</th>\n",
              "      <td>1800</td>\n",
              "      <td>5308483</td>\n",
              "      <td>$66,109</td>\n",
              "      <td>1.24 cents</td>\n",
              "    </tr>\n",
              "    <tr>\n",
              "      <th>3</th>\n",
              "      <td>1810</td>\n",
              "      <td>7239881</td>\n",
              "      <td>$178,445</td>\n",
              "      <td>2.46 cents</td>\n",
              "    </tr>\n",
              "    <tr>\n",
              "      <th>4</th>\n",
              "      <td>1820</td>\n",
              "      <td>9633822</td>\n",
              "      <td>$208,526</td>\n",
              "      <td>2.16 cents</td>\n",
              "    </tr>\n",
              "  </tbody>\n",
              "</table>\n",
              "</div>"
            ],
            "text/plain": [
              "             0                 1            2                        3\n",
              "0  Census Year  Total Population  Census Cost  Average Cost Per Person\n",
              "1         1790           3929214      $44,377               1.13 cents\n",
              "2         1800           5308483      $66,109               1.24 cents\n",
              "3         1810           7239881     $178,445               2.46 cents\n",
              "4         1820           9633822     $208,526               2.16 cents"
            ]
          },
          "metadata": {
            "tags": []
          },
          "execution_count": 20
        }
      ]
    },
    {
      "cell_type": "code",
      "metadata": {
        "colab": {
          "base_uri": "https://localhost:8080/",
          "height": 80
        },
        "id": "3aSALtjpzwMh",
        "outputId": "9d839a15-c439-4488-fcda-d6d9fdc7ec51"
      },
      "source": [
        "dfTable2 = dfList[1]\n",
        "dfTable2.head()\n"
      ],
      "execution_count": 21,
      "outputs": [
        {
          "output_type": "execute_result",
          "data": {
            "text/html": [
              "<div>\n",
              "<style scoped>\n",
              "    .dataframe tbody tr th:only-of-type {\n",
              "        vertical-align: middle;\n",
              "    }\n",
              "\n",
              "    .dataframe tbody tr th {\n",
              "        vertical-align: top;\n",
              "    }\n",
              "\n",
              "    .dataframe thead th {\n",
              "        text-align: right;\n",
              "    }\n",
              "</style>\n",
              "<table border=\"1\" class=\"dataframe\">\n",
              "  <thead>\n",
              "    <tr style=\"text-align: right;\">\n",
              "      <th></th>\n",
              "      <th>0</th>\n",
              "    </tr>\n",
              "  </thead>\n",
              "  <tbody>\n",
              "    <tr>\n",
              "      <th>0</th>\n",
              "      <td>The U.S. population reached 300,000,000 on 17 ...</td>\n",
              "    </tr>\n",
              "  </tbody>\n",
              "</table>\n",
              "</div>"
            ],
            "text/plain": [
              "                                                   0\n",
              "0  The U.S. population reached 300,000,000 on 17 ..."
            ]
          },
          "metadata": {
            "tags": []
          },
          "execution_count": 21
        }
      ]
    },
    {
      "cell_type": "code",
      "metadata": {
        "colab": {
          "base_uri": "https://localhost:8080/"
        },
        "id": "_gwFdHdC0EiI",
        "outputId": "003ade75-a9bb-4f7d-8244-91a9a64d65a8"
      },
      "source": [
        "dfTable1.shape\n",
        "dfTable2.shape"
      ],
      "execution_count": 22,
      "outputs": [
        {
          "output_type": "execute_result",
          "data": {
            "text/plain": [
              "(1, 1)"
            ]
          },
          "metadata": {
            "tags": []
          },
          "execution_count": 22
        }
      ]
    },
    {
      "cell_type": "code",
      "metadata": {
        "colab": {
          "base_uri": "https://localhost:8080/",
          "height": 793
        },
        "id": "CUx3fHI00FOu",
        "outputId": "b860bbc9-6add-4d06-dd3b-6e84232c6bf3"
      },
      "source": [
        "dfTable1"
      ],
      "execution_count": 23,
      "outputs": [
        {
          "output_type": "execute_result",
          "data": {
            "text/html": [
              "<div>\n",
              "<style scoped>\n",
              "    .dataframe tbody tr th:only-of-type {\n",
              "        vertical-align: middle;\n",
              "    }\n",
              "\n",
              "    .dataframe tbody tr th {\n",
              "        vertical-align: top;\n",
              "    }\n",
              "\n",
              "    .dataframe thead th {\n",
              "        text-align: right;\n",
              "    }\n",
              "</style>\n",
              "<table border=\"1\" class=\"dataframe\">\n",
              "  <thead>\n",
              "    <tr style=\"text-align: right;\">\n",
              "      <th></th>\n",
              "      <th>0</th>\n",
              "      <th>1</th>\n",
              "      <th>2</th>\n",
              "      <th>3</th>\n",
              "    </tr>\n",
              "  </thead>\n",
              "  <tbody>\n",
              "    <tr>\n",
              "      <th>0</th>\n",
              "      <td>Census Year</td>\n",
              "      <td>Total Population</td>\n",
              "      <td>Census Cost</td>\n",
              "      <td>Average Cost Per Person</td>\n",
              "    </tr>\n",
              "    <tr>\n",
              "      <th>1</th>\n",
              "      <td>1790</td>\n",
              "      <td>3929214</td>\n",
              "      <td>$44,377</td>\n",
              "      <td>1.13 cents</td>\n",
              "    </tr>\n",
              "    <tr>\n",
              "      <th>2</th>\n",
              "      <td>1800</td>\n",
              "      <td>5308483</td>\n",
              "      <td>$66,109</td>\n",
              "      <td>1.24 cents</td>\n",
              "    </tr>\n",
              "    <tr>\n",
              "      <th>3</th>\n",
              "      <td>1810</td>\n",
              "      <td>7239881</td>\n",
              "      <td>$178,445</td>\n",
              "      <td>2.46 cents</td>\n",
              "    </tr>\n",
              "    <tr>\n",
              "      <th>4</th>\n",
              "      <td>1820</td>\n",
              "      <td>9633822</td>\n",
              "      <td>$208,526</td>\n",
              "      <td>2.16 cents</td>\n",
              "    </tr>\n",
              "    <tr>\n",
              "      <th>5</th>\n",
              "      <td>1830</td>\n",
              "      <td>12866020</td>\n",
              "      <td>$378,545</td>\n",
              "      <td>2.94 cents</td>\n",
              "    </tr>\n",
              "    <tr>\n",
              "      <th>6</th>\n",
              "      <td>1840</td>\n",
              "      <td>17069458</td>\n",
              "      <td>$833,371</td>\n",
              "      <td>4.88 cents</td>\n",
              "    </tr>\n",
              "    <tr>\n",
              "      <th>7</th>\n",
              "      <td>1850</td>\n",
              "      <td>23191876</td>\n",
              "      <td>$1,423,351</td>\n",
              "      <td>6.14 cents</td>\n",
              "    </tr>\n",
              "    <tr>\n",
              "      <th>8</th>\n",
              "      <td>1860</td>\n",
              "      <td>31443321</td>\n",
              "      <td>$1,969,377</td>\n",
              "      <td>6.26 cents</td>\n",
              "    </tr>\n",
              "    <tr>\n",
              "      <th>9</th>\n",
              "      <td>1870</td>\n",
              "      <td>38558371</td>\n",
              "      <td>$3,421,198</td>\n",
              "      <td>8.87 cents</td>\n",
              "    </tr>\n",
              "    <tr>\n",
              "      <th>10</th>\n",
              "      <td>1880</td>\n",
              "      <td>50155783</td>\n",
              "      <td>$5,790,678</td>\n",
              "      <td>11.54 cents</td>\n",
              "    </tr>\n",
              "    <tr>\n",
              "      <th>11</th>\n",
              "      <td>1890</td>\n",
              "      <td>62979766</td>\n",
              "      <td>$11,547,127</td>\n",
              "      <td>18.33 cents</td>\n",
              "    </tr>\n",
              "    <tr>\n",
              "      <th>12</th>\n",
              "      <td>1900</td>\n",
              "      <td>76303387</td>\n",
              "      <td>$11,854,000</td>\n",
              "      <td>15.54 cents</td>\n",
              "    </tr>\n",
              "    <tr>\n",
              "      <th>13</th>\n",
              "      <td>1910</td>\n",
              "      <td>91972266</td>\n",
              "      <td>$15,968,000</td>\n",
              "      <td>17.07 cents</td>\n",
              "    </tr>\n",
              "    <tr>\n",
              "      <th>14</th>\n",
              "      <td>1920</td>\n",
              "      <td>105710620</td>\n",
              "      <td>$25,117,000</td>\n",
              "      <td>23.76 cents</td>\n",
              "    </tr>\n",
              "    <tr>\n",
              "      <th>15</th>\n",
              "      <td>1930</td>\n",
              "      <td>122775046</td>\n",
              "      <td>$40,156,000</td>\n",
              "      <td>32.71 cents</td>\n",
              "    </tr>\n",
              "    <tr>\n",
              "      <th>16</th>\n",
              "      <td>1940</td>\n",
              "      <td>131669275</td>\n",
              "      <td>$67,527,000</td>\n",
              "      <td>51.29 cents</td>\n",
              "    </tr>\n",
              "    <tr>\n",
              "      <th>17</th>\n",
              "      <td>1950</td>\n",
              "      <td>151325798</td>\n",
              "      <td>$91,462,000</td>\n",
              "      <td>60.44 cents</td>\n",
              "    </tr>\n",
              "    <tr>\n",
              "      <th>18</th>\n",
              "      <td>1960</td>\n",
              "      <td>179323175</td>\n",
              "      <td>$127,934,000</td>\n",
              "      <td>71.34 cents</td>\n",
              "    </tr>\n",
              "    <tr>\n",
              "      <th>19</th>\n",
              "      <td>1970</td>\n",
              "      <td>203302031</td>\n",
              "      <td>$247,653,000</td>\n",
              "      <td>$1.22</td>\n",
              "    </tr>\n",
              "    <tr>\n",
              "      <th>20</th>\n",
              "      <td>1980</td>\n",
              "      <td>226542199</td>\n",
              "      <td>$1,078,488,000</td>\n",
              "      <td>$4.76</td>\n",
              "    </tr>\n",
              "    <tr>\n",
              "      <th>21</th>\n",
              "      <td>1990</td>\n",
              "      <td>248718301</td>\n",
              "      <td>$2,492,830,000</td>\n",
              "      <td>$10.02</td>\n",
              "    </tr>\n",
              "    <tr>\n",
              "      <th>22</th>\n",
              "      <td>2000</td>\n",
              "      <td>281421906</td>\n",
              "      <td>$4.5 Billion</td>\n",
              "      <td>$15.99</td>\n",
              "    </tr>\n",
              "    <tr>\n",
              "      <th>23</th>\n",
              "      <td>2010*</td>\n",
              "      <td>308745538</td>\n",
              "      <td>$13 Billion</td>\n",
              "      <td>$42.11</td>\n",
              "    </tr>\n",
              "  </tbody>\n",
              "</table>\n",
              "</div>"
            ],
            "text/plain": [
              "              0                 1               2                        3\n",
              "0   Census Year  Total Population     Census Cost  Average Cost Per Person\n",
              "1          1790           3929214         $44,377               1.13 cents\n",
              "2          1800           5308483         $66,109               1.24 cents\n",
              "3          1810           7239881        $178,445               2.46 cents\n",
              "4          1820           9633822        $208,526               2.16 cents\n",
              "5          1830          12866020        $378,545               2.94 cents\n",
              "6          1840          17069458        $833,371               4.88 cents\n",
              "7          1850          23191876      $1,423,351               6.14 cents\n",
              "8          1860          31443321      $1,969,377               6.26 cents\n",
              "9          1870          38558371      $3,421,198               8.87 cents\n",
              "10         1880          50155783      $5,790,678              11.54 cents\n",
              "11         1890          62979766     $11,547,127              18.33 cents\n",
              "12         1900          76303387     $11,854,000              15.54 cents\n",
              "13         1910          91972266     $15,968,000              17.07 cents\n",
              "14         1920         105710620     $25,117,000              23.76 cents\n",
              "15         1930         122775046     $40,156,000              32.71 cents\n",
              "16         1940         131669275     $67,527,000              51.29 cents\n",
              "17         1950         151325798     $91,462,000              60.44 cents\n",
              "18         1960         179323175    $127,934,000              71.34 cents\n",
              "19         1970         203302031    $247,653,000                    $1.22\n",
              "20         1980         226542199  $1,078,488,000                    $4.76\n",
              "21         1990         248718301  $2,492,830,000                   $10.02\n",
              "22         2000         281421906    $4.5 Billion                   $15.99\n",
              "23        2010*         308745538     $13 Billion                   $42.11"
            ]
          },
          "metadata": {
            "tags": []
          },
          "execution_count": 23
        }
      ]
    },
    {
      "cell_type": "code",
      "metadata": {
        "colab": {
          "base_uri": "https://localhost:8080/",
          "height": 204
        },
        "id": "KDMSS4730Q6g",
        "outputId": "b8ac62ad-625d-47d4-e993-ae42ea4afce7"
      },
      "source": [
        "dfTable1.columns = dfTable1.iloc[0]\n",
        "dfTable1.head()"
      ],
      "execution_count": 24,
      "outputs": [
        {
          "output_type": "execute_result",
          "data": {
            "text/html": [
              "<div>\n",
              "<style scoped>\n",
              "    .dataframe tbody tr th:only-of-type {\n",
              "        vertical-align: middle;\n",
              "    }\n",
              "\n",
              "    .dataframe tbody tr th {\n",
              "        vertical-align: top;\n",
              "    }\n",
              "\n",
              "    .dataframe thead th {\n",
              "        text-align: right;\n",
              "    }\n",
              "</style>\n",
              "<table border=\"1\" class=\"dataframe\">\n",
              "  <thead>\n",
              "    <tr style=\"text-align: right;\">\n",
              "      <th></th>\n",
              "      <th>Census Year</th>\n",
              "      <th>Total Population</th>\n",
              "      <th>Census Cost</th>\n",
              "      <th>Average Cost Per Person</th>\n",
              "    </tr>\n",
              "  </thead>\n",
              "  <tbody>\n",
              "    <tr>\n",
              "      <th>0</th>\n",
              "      <td>Census Year</td>\n",
              "      <td>Total Population</td>\n",
              "      <td>Census Cost</td>\n",
              "      <td>Average Cost Per Person</td>\n",
              "    </tr>\n",
              "    <tr>\n",
              "      <th>1</th>\n",
              "      <td>1790</td>\n",
              "      <td>3929214</td>\n",
              "      <td>$44,377</td>\n",
              "      <td>1.13 cents</td>\n",
              "    </tr>\n",
              "    <tr>\n",
              "      <th>2</th>\n",
              "      <td>1800</td>\n",
              "      <td>5308483</td>\n",
              "      <td>$66,109</td>\n",
              "      <td>1.24 cents</td>\n",
              "    </tr>\n",
              "    <tr>\n",
              "      <th>3</th>\n",
              "      <td>1810</td>\n",
              "      <td>7239881</td>\n",
              "      <td>$178,445</td>\n",
              "      <td>2.46 cents</td>\n",
              "    </tr>\n",
              "    <tr>\n",
              "      <th>4</th>\n",
              "      <td>1820</td>\n",
              "      <td>9633822</td>\n",
              "      <td>$208,526</td>\n",
              "      <td>2.16 cents</td>\n",
              "    </tr>\n",
              "  </tbody>\n",
              "</table>\n",
              "</div>"
            ],
            "text/plain": [
              "0  Census Year  Total Population  Census Cost  Average Cost Per Person\n",
              "0  Census Year  Total Population  Census Cost  Average Cost Per Person\n",
              "1         1790           3929214      $44,377               1.13 cents\n",
              "2         1800           5308483      $66,109               1.24 cents\n",
              "3         1810           7239881     $178,445               2.46 cents\n",
              "4         1820           9633822     $208,526               2.16 cents"
            ]
          },
          "metadata": {
            "tags": []
          },
          "execution_count": 24
        }
      ]
    },
    {
      "cell_type": "code",
      "metadata": {
        "colab": {
          "base_uri": "https://localhost:8080/",
          "height": 204
        },
        "id": "vLzoCsog0bAo",
        "outputId": "dc27cbce-f3a0-4da3-954a-2e01a340f266"
      },
      "source": [
        "dfTable1.drop([0], inplace=True)\n",
        "dfTable1.head()"
      ],
      "execution_count": 25,
      "outputs": [
        {
          "output_type": "execute_result",
          "data": {
            "text/html": [
              "<div>\n",
              "<style scoped>\n",
              "    .dataframe tbody tr th:only-of-type {\n",
              "        vertical-align: middle;\n",
              "    }\n",
              "\n",
              "    .dataframe tbody tr th {\n",
              "        vertical-align: top;\n",
              "    }\n",
              "\n",
              "    .dataframe thead th {\n",
              "        text-align: right;\n",
              "    }\n",
              "</style>\n",
              "<table border=\"1\" class=\"dataframe\">\n",
              "  <thead>\n",
              "    <tr style=\"text-align: right;\">\n",
              "      <th></th>\n",
              "      <th>Census Year</th>\n",
              "      <th>Total Population</th>\n",
              "      <th>Census Cost</th>\n",
              "      <th>Average Cost Per Person</th>\n",
              "    </tr>\n",
              "  </thead>\n",
              "  <tbody>\n",
              "    <tr>\n",
              "      <th>1</th>\n",
              "      <td>1790</td>\n",
              "      <td>3929214</td>\n",
              "      <td>$44,377</td>\n",
              "      <td>1.13 cents</td>\n",
              "    </tr>\n",
              "    <tr>\n",
              "      <th>2</th>\n",
              "      <td>1800</td>\n",
              "      <td>5308483</td>\n",
              "      <td>$66,109</td>\n",
              "      <td>1.24 cents</td>\n",
              "    </tr>\n",
              "    <tr>\n",
              "      <th>3</th>\n",
              "      <td>1810</td>\n",
              "      <td>7239881</td>\n",
              "      <td>$178,445</td>\n",
              "      <td>2.46 cents</td>\n",
              "    </tr>\n",
              "    <tr>\n",
              "      <th>4</th>\n",
              "      <td>1820</td>\n",
              "      <td>9633822</td>\n",
              "      <td>$208,526</td>\n",
              "      <td>2.16 cents</td>\n",
              "    </tr>\n",
              "    <tr>\n",
              "      <th>5</th>\n",
              "      <td>1830</td>\n",
              "      <td>12866020</td>\n",
              "      <td>$378,545</td>\n",
              "      <td>2.94 cents</td>\n",
              "    </tr>\n",
              "  </tbody>\n",
              "</table>\n",
              "</div>"
            ],
            "text/plain": [
              "0 Census Year Total Population Census Cost Average Cost Per Person\n",
              "1        1790          3929214     $44,377              1.13 cents\n",
              "2        1800          5308483     $66,109              1.24 cents\n",
              "3        1810          7239881    $178,445              2.46 cents\n",
              "4        1820          9633822    $208,526              2.16 cents\n",
              "5        1830         12866020    $378,545              2.94 cents"
            ]
          },
          "metadata": {
            "tags": []
          },
          "execution_count": 25
        }
      ]
    },
    {
      "cell_type": "code",
      "metadata": {
        "colab": {
          "base_uri": "https://localhost:8080/"
        },
        "id": "z5jozczK0ixn",
        "outputId": "3fe92ca2-f368-4004-b05b-dfdf03fa59c8"
      },
      "source": [
        "dfTable1.isnull().any()"
      ],
      "execution_count": 26,
      "outputs": [
        {
          "output_type": "execute_result",
          "data": {
            "text/plain": [
              "0\n",
              "Census Year                False\n",
              "Total Population           False\n",
              "Census Cost                False\n",
              "Average Cost Per Person    False\n",
              "dtype: bool"
            ]
          },
          "metadata": {
            "tags": []
          },
          "execution_count": 26
        }
      ]
    },
    {
      "cell_type": "code",
      "metadata": {
        "colab": {
          "base_uri": "https://localhost:8080/",
          "height": 35
        },
        "id": "-thXLGF-0og4",
        "outputId": "55bfedcd-ff9e-4594-abed-bfd93ceda303"
      },
      "source": [
        "def clean(year):\n",
        "    return year.replace(\"*\",\"\")\n",
        "\n",
        "clean(\"20*10\")"
      ],
      "execution_count": 27,
      "outputs": [
        {
          "output_type": "execute_result",
          "data": {
            "application/vnd.google.colaboratory.intrinsic+json": {
              "type": "string"
            },
            "text/plain": [
              "'2010'"
            ]
          },
          "metadata": {
            "tags": []
          },
          "execution_count": 27
        }
      ]
    },
    {
      "cell_type": "code",
      "metadata": {
        "colab": {
          "base_uri": "https://localhost:8080/"
        },
        "id": "vXOU2K6Z0uXl",
        "outputId": "9b1009e2-a54e-4e75-bafd-4095d139002e"
      },
      "source": [
        "dfTable1['Census Year'] = dfTable1['Census Year'].apply(clean)\n",
        "print(dfTable1)"
      ],
      "execution_count": 28,
      "outputs": [
        {
          "output_type": "stream",
          "text": [
            "0  Census Year Total Population     Census Cost Average Cost Per Person\n",
            "1         1790          3929214         $44,377              1.13 cents\n",
            "2         1800          5308483         $66,109              1.24 cents\n",
            "3         1810          7239881        $178,445              2.46 cents\n",
            "4         1820          9633822        $208,526              2.16 cents\n",
            "5         1830         12866020        $378,545              2.94 cents\n",
            "6         1840         17069458        $833,371              4.88 cents\n",
            "7         1850         23191876      $1,423,351              6.14 cents\n",
            "8         1860         31443321      $1,969,377              6.26 cents\n",
            "9         1870         38558371      $3,421,198              8.87 cents\n",
            "10        1880         50155783      $5,790,678             11.54 cents\n",
            "11        1890         62979766     $11,547,127             18.33 cents\n",
            "12        1900         76303387     $11,854,000             15.54 cents\n",
            "13        1910         91972266     $15,968,000             17.07 cents\n",
            "14        1920        105710620     $25,117,000             23.76 cents\n",
            "15        1930        122775046     $40,156,000             32.71 cents\n",
            "16        1940        131669275     $67,527,000             51.29 cents\n",
            "17        1950        151325798     $91,462,000             60.44 cents\n",
            "18        1960        179323175    $127,934,000             71.34 cents\n",
            "19        1970        203302031    $247,653,000                   $1.22\n",
            "20        1980        226542199  $1,078,488,000                   $4.76\n",
            "21        1990        248718301  $2,492,830,000                  $10.02\n",
            "22        2000        281421906    $4.5 Billion                  $15.99\n",
            "23        2010        308745538     $13 Billion                  $42.11\n"
          ],
          "name": "stdout"
        }
      ]
    },
    {
      "cell_type": "code",
      "metadata": {
        "colab": {
          "base_uri": "https://localhost:8080/",
          "height": 35
        },
        "id": "xnXOYZtZ08Df",
        "outputId": "e6a28ee6-2bcd-400d-ea91-a53e630772df"
      },
      "source": [
        "\n",
        "def cleanse_cost(raw_cost):\n",
        "    cost = raw_cost.lstrip(\"$\").replace(\",\",\"\")\n",
        "    if  cost.find(\"Billion\") != -1:          # if \"cell\" conatins \"Billion\":\n",
        "        cost = cost.replace('Billion','')\n",
        "        cost = float(cost)* math.pow(10,8)\n",
        "    elif raw_cost.find(\"Million\") != -1:     # elif \"cell\" contains Million: \n",
        "        cost = cost.replace('Million','')\n",
        "        cost = float(cost)* math.pow(10,6)\n",
        "    return str(cost)\n",
        "\n",
        "#Testing cleanse_cost function\n",
        "cleanse_cost(\"4.5 Billion\")"
      ],
      "execution_count": 29,
      "outputs": [
        {
          "output_type": "execute_result",
          "data": {
            "application/vnd.google.colaboratory.intrinsic+json": {
              "type": "string"
            },
            "text/plain": [
              "'450000000.0'"
            ]
          },
          "metadata": {
            "tags": []
          },
          "execution_count": 29
        }
      ]
    },
    {
      "cell_type": "code",
      "metadata": {
        "colab": {
          "base_uri": "https://localhost:8080/"
        },
        "id": "bJvFcK3z1MPS",
        "outputId": "675a9fb0-a203-44b4-fa9b-b187ea1f9ba2"
      },
      "source": [
        "dfTable1[\"Census Cost\"] = dfTable1[\"Census Cost\"].apply(cleanse_cost)\n",
        "print(dfTable1)"
      ],
      "execution_count": 30,
      "outputs": [
        {
          "output_type": "stream",
          "text": [
            "0  Census Year Total Population   Census Cost Average Cost Per Person\n",
            "1         1790          3929214         44377              1.13 cents\n",
            "2         1800          5308483         66109              1.24 cents\n",
            "3         1810          7239881        178445              2.46 cents\n",
            "4         1820          9633822        208526              2.16 cents\n",
            "5         1830         12866020        378545              2.94 cents\n",
            "6         1840         17069458        833371              4.88 cents\n",
            "7         1850         23191876       1423351              6.14 cents\n",
            "8         1860         31443321       1969377              6.26 cents\n",
            "9         1870         38558371       3421198              8.87 cents\n",
            "10        1880         50155783       5790678             11.54 cents\n",
            "11        1890         62979766      11547127             18.33 cents\n",
            "12        1900         76303387      11854000             15.54 cents\n",
            "13        1910         91972266      15968000             17.07 cents\n",
            "14        1920        105710620      25117000             23.76 cents\n",
            "15        1930        122775046      40156000             32.71 cents\n",
            "16        1940        131669275      67527000             51.29 cents\n",
            "17        1950        151325798      91462000             60.44 cents\n",
            "18        1960        179323175     127934000             71.34 cents\n",
            "19        1970        203302031     247653000                   $1.22\n",
            "20        1980        226542199    1078488000                   $4.76\n",
            "21        1990        248718301    2492830000                  $10.02\n",
            "22        2000        281421906   450000000.0                  $15.99\n",
            "23        2010        308745538  1300000000.0                  $42.11\n"
          ],
          "name": "stdout"
        }
      ]
    },
    {
      "cell_type": "code",
      "metadata": {
        "colab": {
          "base_uri": "https://localhost:8080/"
        },
        "id": "3mli2AbO1iCd",
        "outputId": "4ce33e84-887b-42dc-93b8-8f81cd1a9afe"
      },
      "source": [
        "def cleanse_population(popultaion):\n",
        "  return int(popultaion.replace(',',''))\n",
        "\n",
        "cleanse_population(\"123,000\")"
      ],
      "execution_count": 31,
      "outputs": [
        {
          "output_type": "execute_result",
          "data": {
            "text/plain": [
              "123000"
            ]
          },
          "metadata": {
            "tags": []
          },
          "execution_count": 31
        }
      ]
    },
    {
      "cell_type": "code",
      "metadata": {
        "colab": {
          "base_uri": "https://localhost:8080/"
        },
        "id": "3T02FIZJ1pUO",
        "outputId": "1368fb19-7dc3-4dc7-8a61-353df9f340da"
      },
      "source": [
        "dfTable1['Total Population'] = dfTable1['Total Population'].apply(cleanse_population)\n",
        "print(dfTable1)"
      ],
      "execution_count": 32,
      "outputs": [
        {
          "output_type": "stream",
          "text": [
            "0  Census Year  Total Population   Census Cost Average Cost Per Person\n",
            "1         1790           3929214         44377              1.13 cents\n",
            "2         1800           5308483         66109              1.24 cents\n",
            "3         1810           7239881        178445              2.46 cents\n",
            "4         1820           9633822        208526              2.16 cents\n",
            "5         1830          12866020        378545              2.94 cents\n",
            "6         1840          17069458        833371              4.88 cents\n",
            "7         1850          23191876       1423351              6.14 cents\n",
            "8         1860          31443321       1969377              6.26 cents\n",
            "9         1870          38558371       3421198              8.87 cents\n",
            "10        1880          50155783       5790678             11.54 cents\n",
            "11        1890          62979766      11547127             18.33 cents\n",
            "12        1900          76303387      11854000             15.54 cents\n",
            "13        1910          91972266      15968000             17.07 cents\n",
            "14        1920         105710620      25117000             23.76 cents\n",
            "15        1930         122775046      40156000             32.71 cents\n",
            "16        1940         131669275      67527000             51.29 cents\n",
            "17        1950         151325798      91462000             60.44 cents\n",
            "18        1960         179323175     127934000             71.34 cents\n",
            "19        1970         203302031     247653000                   $1.22\n",
            "20        1980         226542199    1078488000                   $4.76\n",
            "21        1990         248718301    2492830000                  $10.02\n",
            "22        2000         281421906   450000000.0                  $15.99\n",
            "23        2010         308745538  1300000000.0                  $42.11\n"
          ],
          "name": "stdout"
        }
      ]
    },
    {
      "cell_type": "code",
      "metadata": {
        "colab": {
          "base_uri": "https://localhost:8080/"
        },
        "id": "3xmNbf272OOt",
        "outputId": "e89f8075-c2b8-4e04-a23c-0bd058b0120e"
      },
      "source": [
        "def cleanse_avgcost(cost):\n",
        "  cost = cost.replace('$','')\n",
        "  cost = cost.replace('\\t','')\n",
        "  cost = cost.replace('\\n','')\n",
        "  if 'cents' in cost:\n",
        "    # print(\"Cost \",cost)\n",
        "    cost = cost.replace('cents','')\n",
        "    cost = float(cost)/100\n",
        "  return cost\n",
        "\n",
        "\n",
        "cleanse_avgcost(\"1.6 cents\")"
      ],
      "execution_count": 33,
      "outputs": [
        {
          "output_type": "execute_result",
          "data": {
            "text/plain": [
              "0.016"
            ]
          },
          "metadata": {
            "tags": []
          },
          "execution_count": 33
        }
      ]
    },
    {
      "cell_type": "code",
      "metadata": {
        "colab": {
          "base_uri": "https://localhost:8080/"
        },
        "id": "U_mlK-962UYD",
        "outputId": "264e0bca-b478-4588-9bf0-f7799170145a"
      },
      "source": [
        "dfTable1['Average Cost Per Person'] = dfTable1['Average Cost Per Person'].apply(cleanse_avgcost)\n",
        "print(dfTable1)"
      ],
      "execution_count": 34,
      "outputs": [
        {
          "output_type": "stream",
          "text": [
            "0  Census Year  Total Population   Census Cost Average Cost Per Person\n",
            "1         1790           3929214         44377                  0.0113\n",
            "2         1800           5308483         66109                  0.0124\n",
            "3         1810           7239881        178445                  0.0246\n",
            "4         1820           9633822        208526                  0.0216\n",
            "5         1830          12866020        378545                  0.0294\n",
            "6         1840          17069458        833371                  0.0488\n",
            "7         1850          23191876       1423351                  0.0614\n",
            "8         1860          31443321       1969377                  0.0626\n",
            "9         1870          38558371       3421198                  0.0887\n",
            "10        1880          50155783       5790678                  0.1154\n",
            "11        1890          62979766      11547127                  0.1833\n",
            "12        1900          76303387      11854000                  0.1554\n",
            "13        1910          91972266      15968000                  0.1707\n",
            "14        1920         105710620      25117000                  0.2376\n",
            "15        1930         122775046      40156000                  0.3271\n",
            "16        1940         131669275      67527000                  0.5129\n",
            "17        1950         151325798      91462000                  0.6044\n",
            "18        1960         179323175     127934000                  0.7134\n",
            "19        1970         203302031     247653000                    1.22\n",
            "20        1980         226542199    1078488000                    4.76\n",
            "21        1990         248718301    2492830000                   10.02\n",
            "22        2000         281421906   450000000.0                   15.99\n",
            "23        2010         308745538  1300000000.0                   42.11\n"
          ],
          "name": "stdout"
        }
      ]
    },
    {
      "cell_type": "code",
      "metadata": {
        "id": "KdqHLHBC2cyT"
      },
      "source": [
        "dfTable1.to_csv('census_cost_cleansed.csv',index=False)"
      ],
      "execution_count": 35,
      "outputs": []
    },
    {
      "cell_type": "code",
      "metadata": {
        "colab": {
          "base_uri": "https://localhost:8080/",
          "height": 1000
        },
        "id": "1QOZJ8k72m-M",
        "outputId": "61ae3f90-e01f-46e4-cbdd-8e87a61cb72d"
      },
      "source": [
        "dataframe2_cleansed = pd.read_csv('census_cost_cleansed.csv')\n",
        "print(dataframe2_cleansed)\n",
        "print(\"shape is\",dataframe2_cleansed.shape)\n",
        "dataframe2_cleansed.isnull()"
      ],
      "execution_count": 36,
      "outputs": [
        {
          "output_type": "stream",
          "text": [
            "    Census Year  Total Population   Census Cost  Average Cost Per Person\n",
            "0          1790           3929214  4.437700e+04                   0.0113\n",
            "1          1800           5308483  6.610900e+04                   0.0124\n",
            "2          1810           7239881  1.784450e+05                   0.0246\n",
            "3          1820           9633822  2.085260e+05                   0.0216\n",
            "4          1830          12866020  3.785450e+05                   0.0294\n",
            "5          1840          17069458  8.333710e+05                   0.0488\n",
            "6          1850          23191876  1.423351e+06                   0.0614\n",
            "7          1860          31443321  1.969377e+06                   0.0626\n",
            "8          1870          38558371  3.421198e+06                   0.0887\n",
            "9          1880          50155783  5.790678e+06                   0.1154\n",
            "10         1890          62979766  1.154713e+07                   0.1833\n",
            "11         1900          76303387  1.185400e+07                   0.1554\n",
            "12         1910          91972266  1.596800e+07                   0.1707\n",
            "13         1920         105710620  2.511700e+07                   0.2376\n",
            "14         1930         122775046  4.015600e+07                   0.3271\n",
            "15         1940         131669275  6.752700e+07                   0.5129\n",
            "16         1950         151325798  9.146200e+07                   0.6044\n",
            "17         1960         179323175  1.279340e+08                   0.7134\n",
            "18         1970         203302031  2.476530e+08                   1.2200\n",
            "19         1980         226542199  1.078488e+09                   4.7600\n",
            "20         1990         248718301  2.492830e+09                  10.0200\n",
            "21         2000         281421906  4.500000e+08                  15.9900\n",
            "22         2010         308745538  1.300000e+09                  42.1100\n",
            "shape is (23, 4)\n"
          ],
          "name": "stdout"
        },
        {
          "output_type": "execute_result",
          "data": {
            "text/html": [
              "<div>\n",
              "<style scoped>\n",
              "    .dataframe tbody tr th:only-of-type {\n",
              "        vertical-align: middle;\n",
              "    }\n",
              "\n",
              "    .dataframe tbody tr th {\n",
              "        vertical-align: top;\n",
              "    }\n",
              "\n",
              "    .dataframe thead th {\n",
              "        text-align: right;\n",
              "    }\n",
              "</style>\n",
              "<table border=\"1\" class=\"dataframe\">\n",
              "  <thead>\n",
              "    <tr style=\"text-align: right;\">\n",
              "      <th></th>\n",
              "      <th>Census Year</th>\n",
              "      <th>Total Population</th>\n",
              "      <th>Census Cost</th>\n",
              "      <th>Average Cost Per Person</th>\n",
              "    </tr>\n",
              "  </thead>\n",
              "  <tbody>\n",
              "    <tr>\n",
              "      <th>0</th>\n",
              "      <td>False</td>\n",
              "      <td>False</td>\n",
              "      <td>False</td>\n",
              "      <td>False</td>\n",
              "    </tr>\n",
              "    <tr>\n",
              "      <th>1</th>\n",
              "      <td>False</td>\n",
              "      <td>False</td>\n",
              "      <td>False</td>\n",
              "      <td>False</td>\n",
              "    </tr>\n",
              "    <tr>\n",
              "      <th>2</th>\n",
              "      <td>False</td>\n",
              "      <td>False</td>\n",
              "      <td>False</td>\n",
              "      <td>False</td>\n",
              "    </tr>\n",
              "    <tr>\n",
              "      <th>3</th>\n",
              "      <td>False</td>\n",
              "      <td>False</td>\n",
              "      <td>False</td>\n",
              "      <td>False</td>\n",
              "    </tr>\n",
              "    <tr>\n",
              "      <th>4</th>\n",
              "      <td>False</td>\n",
              "      <td>False</td>\n",
              "      <td>False</td>\n",
              "      <td>False</td>\n",
              "    </tr>\n",
              "    <tr>\n",
              "      <th>5</th>\n",
              "      <td>False</td>\n",
              "      <td>False</td>\n",
              "      <td>False</td>\n",
              "      <td>False</td>\n",
              "    </tr>\n",
              "    <tr>\n",
              "      <th>6</th>\n",
              "      <td>False</td>\n",
              "      <td>False</td>\n",
              "      <td>False</td>\n",
              "      <td>False</td>\n",
              "    </tr>\n",
              "    <tr>\n",
              "      <th>7</th>\n",
              "      <td>False</td>\n",
              "      <td>False</td>\n",
              "      <td>False</td>\n",
              "      <td>False</td>\n",
              "    </tr>\n",
              "    <tr>\n",
              "      <th>8</th>\n",
              "      <td>False</td>\n",
              "      <td>False</td>\n",
              "      <td>False</td>\n",
              "      <td>False</td>\n",
              "    </tr>\n",
              "    <tr>\n",
              "      <th>9</th>\n",
              "      <td>False</td>\n",
              "      <td>False</td>\n",
              "      <td>False</td>\n",
              "      <td>False</td>\n",
              "    </tr>\n",
              "    <tr>\n",
              "      <th>10</th>\n",
              "      <td>False</td>\n",
              "      <td>False</td>\n",
              "      <td>False</td>\n",
              "      <td>False</td>\n",
              "    </tr>\n",
              "    <tr>\n",
              "      <th>11</th>\n",
              "      <td>False</td>\n",
              "      <td>False</td>\n",
              "      <td>False</td>\n",
              "      <td>False</td>\n",
              "    </tr>\n",
              "    <tr>\n",
              "      <th>12</th>\n",
              "      <td>False</td>\n",
              "      <td>False</td>\n",
              "      <td>False</td>\n",
              "      <td>False</td>\n",
              "    </tr>\n",
              "    <tr>\n",
              "      <th>13</th>\n",
              "      <td>False</td>\n",
              "      <td>False</td>\n",
              "      <td>False</td>\n",
              "      <td>False</td>\n",
              "    </tr>\n",
              "    <tr>\n",
              "      <th>14</th>\n",
              "      <td>False</td>\n",
              "      <td>False</td>\n",
              "      <td>False</td>\n",
              "      <td>False</td>\n",
              "    </tr>\n",
              "    <tr>\n",
              "      <th>15</th>\n",
              "      <td>False</td>\n",
              "      <td>False</td>\n",
              "      <td>False</td>\n",
              "      <td>False</td>\n",
              "    </tr>\n",
              "    <tr>\n",
              "      <th>16</th>\n",
              "      <td>False</td>\n",
              "      <td>False</td>\n",
              "      <td>False</td>\n",
              "      <td>False</td>\n",
              "    </tr>\n",
              "    <tr>\n",
              "      <th>17</th>\n",
              "      <td>False</td>\n",
              "      <td>False</td>\n",
              "      <td>False</td>\n",
              "      <td>False</td>\n",
              "    </tr>\n",
              "    <tr>\n",
              "      <th>18</th>\n",
              "      <td>False</td>\n",
              "      <td>False</td>\n",
              "      <td>False</td>\n",
              "      <td>False</td>\n",
              "    </tr>\n",
              "    <tr>\n",
              "      <th>19</th>\n",
              "      <td>False</td>\n",
              "      <td>False</td>\n",
              "      <td>False</td>\n",
              "      <td>False</td>\n",
              "    </tr>\n",
              "    <tr>\n",
              "      <th>20</th>\n",
              "      <td>False</td>\n",
              "      <td>False</td>\n",
              "      <td>False</td>\n",
              "      <td>False</td>\n",
              "    </tr>\n",
              "    <tr>\n",
              "      <th>21</th>\n",
              "      <td>False</td>\n",
              "      <td>False</td>\n",
              "      <td>False</td>\n",
              "      <td>False</td>\n",
              "    </tr>\n",
              "    <tr>\n",
              "      <th>22</th>\n",
              "      <td>False</td>\n",
              "      <td>False</td>\n",
              "      <td>False</td>\n",
              "      <td>False</td>\n",
              "    </tr>\n",
              "  </tbody>\n",
              "</table>\n",
              "</div>"
            ],
            "text/plain": [
              "    Census Year  Total Population  Census Cost  Average Cost Per Person\n",
              "0         False             False        False                    False\n",
              "1         False             False        False                    False\n",
              "2         False             False        False                    False\n",
              "3         False             False        False                    False\n",
              "4         False             False        False                    False\n",
              "5         False             False        False                    False\n",
              "6         False             False        False                    False\n",
              "7         False             False        False                    False\n",
              "8         False             False        False                    False\n",
              "9         False             False        False                    False\n",
              "10        False             False        False                    False\n",
              "11        False             False        False                    False\n",
              "12        False             False        False                    False\n",
              "13        False             False        False                    False\n",
              "14        False             False        False                    False\n",
              "15        False             False        False                    False\n",
              "16        False             False        False                    False\n",
              "17        False             False        False                    False\n",
              "18        False             False        False                    False\n",
              "19        False             False        False                    False\n",
              "20        False             False        False                    False\n",
              "21        False             False        False                    False\n",
              "22        False             False        False                    False"
            ]
          },
          "metadata": {
            "tags": []
          },
          "execution_count": 36
        }
      ]
    },
    {
      "cell_type": "code",
      "metadata": {
        "colab": {
          "base_uri": "https://localhost:8080/"
        },
        "id": "RW-v6EJX2vDu",
        "outputId": "c2bb0acd-c3c3-4a5a-b9a7-26f6bcf7514d"
      },
      "source": [
        "dataframe2_cleansed.isnull().any()"
      ],
      "execution_count": 37,
      "outputs": [
        {
          "output_type": "execute_result",
          "data": {
            "text/plain": [
              "Census Year                False\n",
              "Total Population           False\n",
              "Census Cost                False\n",
              "Average Cost Per Person    False\n",
              "dtype: bool"
            ]
          },
          "metadata": {
            "tags": []
          },
          "execution_count": 37
        }
      ]
    },
    {
      "cell_type": "code",
      "metadata": {
        "id": "ze76Pyos2y0S"
      },
      "source": [
        "#END OF THIS NOTEBOOK"
      ],
      "execution_count": null,
      "outputs": []
    }
  ]
}