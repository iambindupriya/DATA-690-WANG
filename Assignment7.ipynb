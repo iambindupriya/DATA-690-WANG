{
 "cells": [
  {
   "cell_type": "code",
   "metadata": {
    "tags": [],
    "cell_id": "00000-67dfe24c-bd18-4f01-84a9-ca9d6066fc54",
    "deepnote_to_be_reexecuted": false,
    "source_hash": "1dd6dc01",
    "execution_start": 1621551936349,
    "execution_millis": 254,
    "deepnote_cell_type": "code"
   },
   "source": "# <1> \n# Import libraries\n\n#(Write code here)\nimport pandas as pd\nimport random as rand\nimport numpy as np\nimport matplotlib.pyplot as plt\nimport plotly as ply\nimport os",
   "execution_count": 1,
   "outputs": []
  },
  {
   "cell_type": "code",
   "source": "# <2> \n# Display the current workin directory using os.getcwd()\n# you would need to import a standard Python library called os which stands for operating system,\n# so place that import statement in the previous cell.\n# Since your notebook and your data files are not in # the same folder, \n# you want to make sure what is the current working folder and \n# how to access a data file in a different folder\ncur_dir=os.getcwd();\nprint(cur_dir);",
   "metadata": {
    "tags": [],
    "cell_id": "00001-d73b36fb-01b3-43f4-abc4-de7c4fd5da13",
    "deepnote_to_be_reexecuted": false,
    "source_hash": "956bc4cc",
    "execution_start": 1621551936609,
    "execution_millis": 12,
    "deepnote_cell_type": "code"
   },
   "outputs": [
    {
     "name": "stdout",
     "text": "/work\n",
     "output_type": "stream"
    }
   ],
   "execution_count": 2
  },
  {
   "cell_type": "code",
   "source": "print(os.listdir(cur_dir));#listing my current directory items",
   "metadata": {
    "tags": [],
    "cell_id": "00002-04e50d69-8482-4cf5-9bb2-c588d926ba53",
    "deepnote_to_be_reexecuted": false,
    "source_hash": "64e9a61f",
    "execution_start": 1621551936621,
    "execution_millis": 27359,
    "deepnote_cell_type": "code"
   },
   "outputs": [
    {
     "name": "stdout",
     "text": "['MERGED2008_09_PP.csv', 'MERGED2016_17_PP.csv', 'MERGED2009_10_PP.csv', 'MERGED2017_18_PP.csv', 'MERGED2001_02_PP.csv', 'MERGED2014_15_PP.csv', 'untitled.ipynb', 'MERGED2005_06_PP.csv', 'MERGED1998_99_PP.csv', 'MERGED2010_11_PP.csv', 'MERGED2003_04_PP.csv', 'MERGED2012_13_PP.csv', 'data.yaml', 'notebook.ipynb', 'MERGED1999_00_PP.csv', 'MERGED2018_19_PP.csv', 'MERGED2006_07_PP.csv', 'init.ipynb', 'MERGED2007_08_PP.csv', 'MERGED2011_12_PP.csv', 'MERGED2004_05_PP.csv', 'DATA-690-WANG', '.deepnote', 'MERGED2015_16_PP.csv', 'MERGED2000_01_PP.csv', 'MERGED2013_14_PP.csv', 'MERGED1996_97_PP.csv', 'Crosswalks.zip', 'Most-Recent-Cohorts-All-Data-Elements.csv', 'MERGED2002_03_PP.csv', 'MERGED1997_98_PP.csv']\n",
     "output_type": "stream"
    }
   ],
   "execution_count": 3
  },
  {
   "cell_type": "code",
   "source": "# <4> \n# The folder contains files that are not the yearly data files\n# write code to remove the unwanted files from the list vsriable \n# Note: don't remove/delete these files from the folder in your drive\n# For example, use the file extension to only keep the csv files \n# or use the name patter - data file name begins with \"MERGED\"\n# You can use the concept of list comprehension to write just \n# one line of code as well as using a for loop, your choice.\n\nmerged_files = [i for i in os.listdir(cur_dir) if 'MERGED' in i]\nmerged_files",
   "metadata": {
    "tags": [],
    "cell_id": "00004-425e4a61-855b-48f8-9c03-1731912e2352",
    "deepnote_to_be_reexecuted": false,
    "source_hash": "dd79d708",
    "execution_start": 1621551936628,
    "execution_millis": 1,
    "deepnote_cell_type": "code"
   },
   "outputs": [
    {
     "output_type": "execute_result",
     "execution_count": 4,
     "data": {
      "text/plain": "['MERGED2008_09_PP.csv',\n 'MERGED2016_17_PP.csv',\n 'MERGED2009_10_PP.csv',\n 'MERGED2017_18_PP.csv',\n 'MERGED2001_02_PP.csv',\n 'MERGED2014_15_PP.csv',\n 'MERGED2005_06_PP.csv',\n 'MERGED1998_99_PP.csv',\n 'MERGED2010_11_PP.csv',\n 'MERGED2003_04_PP.csv',\n 'MERGED2012_13_PP.csv',\n 'MERGED1999_00_PP.csv',\n 'MERGED2018_19_PP.csv',\n 'MERGED2006_07_PP.csv',\n 'MERGED2007_08_PP.csv',\n 'MERGED2011_12_PP.csv',\n 'MERGED2004_05_PP.csv',\n 'MERGED2015_16_PP.csv',\n 'MERGED2000_01_PP.csv',\n 'MERGED2013_14_PP.csv',\n 'MERGED1996_97_PP.csv',\n 'MERGED2002_03_PP.csv',\n 'MERGED1997_98_PP.csv']"
     },
     "metadata": {}
    }
   ],
   "execution_count": 4
  },
  {
   "cell_type": "code",
   "source": "col_list = [\"UNITID\", \"INSTNM\", \"STABBR\", \"REGION\", \"ADM_RATE\", \"TUITIONFEE_IN\"]\ndfs = []\nfor i in merged_files:\n    df = pd.read_csv(i, usecols=col_list)\n    df['YEAR'] = i[6:10]\n    dfs.append(df)\ndata_conct = pd.concat(dfs, axis=0, ignore_index=True)",
   "metadata": {
    "tags": [],
    "cell_id": "00004-db3910d7-6c91-4959-b916-b8ad2b016fce",
    "deepnote_to_be_reexecuted": false,
    "source_hash": "a7de5977",
    "execution_start": 1621551936673,
    "execution_millis": 15468,
    "deepnote_cell_type": "code"
   },
   "outputs": [],
   "execution_count": 5
  },
  {
   "cell_type": "code",
   "source": "data_conct.head()",
   "metadata": {
    "tags": [],
    "cell_id": "00005-26419c90-29df-4c7c-9089-ce226955d394",
    "deepnote_to_be_reexecuted": false,
    "source_hash": "42c1426e",
    "execution_start": 1621551952160,
    "execution_millis": 27,
    "deepnote_cell_type": "code"
   },
   "outputs": [
    {
     "output_type": "execute_result",
     "execution_count": 6,
     "data": {
      "application/vnd.deepnote.dataframe.v2+json": {
       "row_count": 5,
       "column_count": 7,
       "columns": [
        {
         "name": "UNITID",
         "dtype": "int64",
         "stats": {
          "unique_count": 5,
          "nan_count": 0,
          "min": "100636",
          "max": "100706",
          "histogram": [
           {
            "bin_start": 100636,
            "bin_end": 100643,
            "count": 1
           },
           {
            "bin_start": 100643,
            "bin_end": 100650,
            "count": 0
           },
           {
            "bin_start": 100650,
            "bin_end": 100657,
            "count": 1
           },
           {
            "bin_start": 100657,
            "bin_end": 100664,
            "count": 1
           },
           {
            "bin_start": 100664,
            "bin_end": 100671,
            "count": 0
           },
           {
            "bin_start": 100671,
            "bin_end": 100678,
            "count": 0
           },
           {
            "bin_start": 100678,
            "bin_end": 100685,
            "count": 0
           },
           {
            "bin_start": 100685,
            "bin_end": 100692,
            "count": 1
           },
           {
            "bin_start": 100692,
            "bin_end": 100699,
            "count": 0
           },
           {
            "bin_start": 100699,
            "bin_end": 100706,
            "count": 1
           }
          ]
         }
        },
        {
         "name": "INSTNM",
         "dtype": "object",
         "stats": {
          "unique_count": 5,
          "nan_count": 0,
          "categories": [
           {
            "name": "Community College of the Air Force",
            "count": 1
           },
           {
            "name": "Alabama A & M University",
            "count": 1
           },
           {
            "name": "3 others",
            "count": 3
           }
          ]
         }
        },
        {
         "name": "STABBR",
         "dtype": "object",
         "stats": {
          "unique_count": 1,
          "nan_count": 0,
          "categories": [
           {
            "name": "AL",
            "count": 5
           }
          ]
         }
        },
        {
         "name": "REGION",
         "dtype": "float64",
         "stats": {
          "unique_count": 2,
          "nan_count": 0,
          "min": "0.0",
          "max": "5.0",
          "histogram": [
           {
            "bin_start": 0,
            "bin_end": 0.5,
            "count": 1
           },
           {
            "bin_start": 0.5,
            "bin_end": 1,
            "count": 0
           },
           {
            "bin_start": 1,
            "bin_end": 1.5,
            "count": 0
           },
           {
            "bin_start": 1.5,
            "bin_end": 2,
            "count": 0
           },
           {
            "bin_start": 2,
            "bin_end": 2.5,
            "count": 0
           },
           {
            "bin_start": 2.5,
            "bin_end": 3,
            "count": 0
           },
           {
            "bin_start": 3,
            "bin_end": 3.5,
            "count": 0
           },
           {
            "bin_start": 3.5,
            "bin_end": 4,
            "count": 0
           },
           {
            "bin_start": 4,
            "bin_end": 4.5,
            "count": 0
           },
           {
            "bin_start": 4.5,
            "bin_end": 5,
            "count": 4
           }
          ]
         }
        },
        {
         "name": "ADM_RATE",
         "dtype": "float64",
         "stats": {
          "unique_count": 3,
          "nan_count": 2,
          "min": "0.49",
          "max": "0.8917",
          "histogram": [
           {
            "bin_start": 0.49,
            "bin_end": 0.53017,
            "count": 1
           },
           {
            "bin_start": 0.53017,
            "bin_end": 0.57034,
            "count": 0
           },
           {
            "bin_start": 0.57034,
            "bin_end": 0.61051,
            "count": 0
           },
           {
            "bin_start": 0.61051,
            "bin_end": 0.65068,
            "count": 0
           },
           {
            "bin_start": 0.65068,
            "bin_end": 0.69085,
            "count": 0
           },
           {
            "bin_start": 0.69085,
            "bin_end": 0.73102,
            "count": 0
           },
           {
            "bin_start": 0.73102,
            "bin_end": 0.77119,
            "count": 0
           },
           {
            "bin_start": 0.77119,
            "bin_end": 0.8113600000000001,
            "count": 0
           },
           {
            "bin_start": 0.8113600000000001,
            "bin_end": 0.85153,
            "count": 1
           },
           {
            "bin_start": 0.85153,
            "bin_end": 0.8917,
            "count": 1
           }
          ]
         }
        },
        {
         "name": "TUITIONFEE_IN",
         "dtype": "float64",
         "stats": {
          "unique_count": 4,
          "nan_count": 1,
          "min": "4072.0",
          "max": "6600.0",
          "histogram": [
           {
            "bin_start": 4072,
            "bin_end": 4324.8,
            "count": 1
           },
           {
            "bin_start": 4324.8,
            "bin_end": 4577.6,
            "count": 0
           },
           {
            "bin_start": 4577.6,
            "bin_end": 4830.4,
            "count": 1
           },
           {
            "bin_start": 4830.4,
            "bin_end": 5083.2,
            "count": 0
           },
           {
            "bin_start": 5083.2,
            "bin_end": 5336,
            "count": 0
           },
           {
            "bin_start": 5336,
            "bin_end": 5588.8,
            "count": 0
           },
           {
            "bin_start": 5588.8,
            "bin_end": 5841.6,
            "count": 0
           },
           {
            "bin_start": 5841.6,
            "bin_end": 6094.4,
            "count": 1
           },
           {
            "bin_start": 6094.4,
            "bin_end": 6347.200000000001,
            "count": 0
           },
           {
            "bin_start": 6347.200000000001,
            "bin_end": 6600,
            "count": 1
           }
          ]
         }
        },
        {
         "name": "YEAR",
         "dtype": "object",
         "stats": {
          "unique_count": 1,
          "nan_count": 0,
          "categories": [
           {
            "name": "2008",
            "count": 5
           }
          ]
         }
        },
        {
         "name": "_deepnote_index_column",
         "dtype": "int64"
        }
       ],
       "rows_top": [
        {
         "UNITID": 100636,
         "INSTNM": "Community College of the Air Force",
         "STABBR": "AL",
         "REGION": 0,
         "ADM_RATE": "nan",
         "TUITIONFEE_IN": "nan",
         "YEAR": "2008",
         "_deepnote_index_column": 0
        },
        {
         "UNITID": 100654,
         "INSTNM": "Alabama A & M University",
         "STABBR": "AL",
         "REGION": 5,
         "ADM_RATE": "0.49",
         "TUITIONFEE_IN": "4072.0",
         "YEAR": "2008",
         "_deepnote_index_column": 1
        },
        {
         "UNITID": 100663,
         "INSTNM": "University of Alabama at Birmingham",
         "STABBR": "AL",
         "REGION": 5,
         "ADM_RATE": "0.851",
         "TUITIONFEE_IN": "4664.0",
         "YEAR": "2008",
         "_deepnote_index_column": 2
        },
        {
         "UNITID": 100690,
         "INSTNM": "Amridge University",
         "STABBR": "AL",
         "REGION": 5,
         "ADM_RATE": "nan",
         "TUITIONFEE_IN": "6600.0",
         "YEAR": "2008",
         "_deepnote_index_column": 3
        },
        {
         "UNITID": 100706,
         "INSTNM": "University of Alabama in Huntsville",
         "STABBR": "AL",
         "REGION": 5,
         "ADM_RATE": "0.8917",
         "TUITIONFEE_IN": "5952.0",
         "YEAR": "2008",
         "_deepnote_index_column": 4
        }
       ],
       "rows_bottom": null
      },
      "text/plain": "   UNITID                               INSTNM STABBR  REGION  ADM_RATE  \\\n0  100636   Community College of the Air Force     AL     0.0       NaN   \n1  100654             Alabama A & M University     AL     5.0    0.4900   \n2  100663  University of Alabama at Birmingham     AL     5.0    0.8510   \n3  100690                   Amridge University     AL     5.0       NaN   \n4  100706  University of Alabama in Huntsville     AL     5.0    0.8917   \n\n   TUITIONFEE_IN  YEAR  \n0            NaN  2008  \n1         4072.0  2008  \n2         4664.0  2008  \n3         6600.0  2008  \n4         5952.0  2008  ",
      "text/html": "<div>\n<style scoped>\n    .dataframe tbody tr th:only-of-type {\n        vertical-align: middle;\n    }\n\n    .dataframe tbody tr th {\n        vertical-align: top;\n    }\n\n    .dataframe thead th {\n        text-align: right;\n    }\n</style>\n<table border=\"1\" class=\"dataframe\">\n  <thead>\n    <tr style=\"text-align: right;\">\n      <th></th>\n      <th>UNITID</th>\n      <th>INSTNM</th>\n      <th>STABBR</th>\n      <th>REGION</th>\n      <th>ADM_RATE</th>\n      <th>TUITIONFEE_IN</th>\n      <th>YEAR</th>\n    </tr>\n  </thead>\n  <tbody>\n    <tr>\n      <th>0</th>\n      <td>100636</td>\n      <td>Community College of the Air Force</td>\n      <td>AL</td>\n      <td>0.0</td>\n      <td>NaN</td>\n      <td>NaN</td>\n      <td>2008</td>\n    </tr>\n    <tr>\n      <th>1</th>\n      <td>100654</td>\n      <td>Alabama A &amp; M University</td>\n      <td>AL</td>\n      <td>5.0</td>\n      <td>0.4900</td>\n      <td>4072.0</td>\n      <td>2008</td>\n    </tr>\n    <tr>\n      <th>2</th>\n      <td>100663</td>\n      <td>University of Alabama at Birmingham</td>\n      <td>AL</td>\n      <td>5.0</td>\n      <td>0.8510</td>\n      <td>4664.0</td>\n      <td>2008</td>\n    </tr>\n    <tr>\n      <th>3</th>\n      <td>100690</td>\n      <td>Amridge University</td>\n      <td>AL</td>\n      <td>5.0</td>\n      <td>NaN</td>\n      <td>6600.0</td>\n      <td>2008</td>\n    </tr>\n    <tr>\n      <th>4</th>\n      <td>100706</td>\n      <td>University of Alabama in Huntsville</td>\n      <td>AL</td>\n      <td>5.0</td>\n      <td>0.8917</td>\n      <td>5952.0</td>\n      <td>2008</td>\n    </tr>\n  </tbody>\n</table>\n</div>"
     },
     "metadata": {}
    }
   ],
   "execution_count": 6
  },
  {
   "cell_type": "code",
   "source": "data_conct.sample(10)",
   "metadata": {
    "tags": [],
    "cell_id": "00006-4cffeb2e-726a-4de9-a761-b6af345b704d",
    "deepnote_to_be_reexecuted": false,
    "source_hash": "ff409192",
    "execution_start": 1621551952185,
    "execution_millis": 55,
    "deepnote_cell_type": "code"
   },
   "outputs": [
    {
     "output_type": "execute_result",
     "execution_count": 7,
     "data": {
      "application/vnd.deepnote.dataframe.v2+json": {
       "row_count": 10,
       "column_count": 7,
       "columns": [
        {
         "name": "UNITID",
         "dtype": "int64",
         "stats": {
          "unique_count": 10,
          "nan_count": 0,
          "min": "112312",
          "max": "17706533",
          "histogram": [
           {
            "bin_start": 112312,
            "bin_end": 1871734.1,
            "count": 9
           },
           {
            "bin_start": 1871734.1,
            "bin_end": 3631156.2,
            "count": 0
           },
           {
            "bin_start": 3631156.2,
            "bin_end": 5390578.300000001,
            "count": 0
           },
           {
            "bin_start": 5390578.300000001,
            "bin_end": 7150000.4,
            "count": 0
           },
           {
            "bin_start": 7150000.4,
            "bin_end": 8909422.5,
            "count": 0
           },
           {
            "bin_start": 8909422.5,
            "bin_end": 10668844.600000001,
            "count": 0
           },
           {
            "bin_start": 10668844.600000001,
            "bin_end": 12428266.700000001,
            "count": 0
           },
           {
            "bin_start": 12428266.700000001,
            "bin_end": 14187688.8,
            "count": 0
           },
           {
            "bin_start": 14187688.8,
            "bin_end": 15947110.9,
            "count": 0
           },
           {
            "bin_start": 15947110.9,
            "bin_end": 17706533,
            "count": 1
           }
          ]
         }
        },
        {
         "name": "INSTNM",
         "dtype": "object",
         "stats": {
          "unique_count": 10,
          "nan_count": 0,
          "categories": [
           {
            "name": "Toni & Guy Hairdressing Academy-Atlanta",
            "count": 1
           },
           {
            "name": "Spartan College of Aeronautics & Technology",
            "count": 1
           },
           {
            "name": "8 others",
            "count": 8
           }
          ]
         }
        },
        {
         "name": "STABBR",
         "dtype": "object",
         "stats": {
          "unique_count": 7,
          "nan_count": 0,
          "categories": [
           {
            "name": "CA",
            "count": 3
           },
           {
            "name": "NC",
            "count": 2
           },
           {
            "name": "5 others",
            "count": 5
           }
          ]
         }
        },
        {
         "name": "REGION",
         "dtype": "float64",
         "stats": {
          "unique_count": 4,
          "nan_count": 0,
          "min": "3.0",
          "max": "8.0",
          "histogram": [
           {
            "bin_start": 3,
            "bin_end": 3.5,
            "count": 2
           },
           {
            "bin_start": 3.5,
            "bin_end": 4,
            "count": 0
           },
           {
            "bin_start": 4,
            "bin_end": 4.5,
            "count": 0
           },
           {
            "bin_start": 4.5,
            "bin_end": 5,
            "count": 0
           },
           {
            "bin_start": 5,
            "bin_end": 5.5,
            "count": 4
           },
           {
            "bin_start": 5.5,
            "bin_end": 6,
            "count": 0
           },
           {
            "bin_start": 6,
            "bin_end": 6.5,
            "count": 1
           },
           {
            "bin_start": 6.5,
            "bin_end": 7,
            "count": 0
           },
           {
            "bin_start": 7,
            "bin_end": 7.5,
            "count": 0
           },
           {
            "bin_start": 7.5,
            "bin_end": 8,
            "count": 3
           }
          ]
         }
        },
        {
         "name": "ADM_RATE",
         "dtype": "float64",
         "stats": {
          "unique_count": 2,
          "nan_count": 8,
          "min": "0.7314",
          "max": "0.8205",
          "histogram": [
           {
            "bin_start": 0.7314,
            "bin_end": 0.74031,
            "count": 1
           },
           {
            "bin_start": 0.74031,
            "bin_end": 0.74922,
            "count": 0
           },
           {
            "bin_start": 0.74922,
            "bin_end": 0.7581300000000001,
            "count": 0
           },
           {
            "bin_start": 0.7581300000000001,
            "bin_end": 0.76704,
            "count": 0
           },
           {
            "bin_start": 0.76704,
            "bin_end": 0.77595,
            "count": 0
           },
           {
            "bin_start": 0.77595,
            "bin_end": 0.78486,
            "count": 0
           },
           {
            "bin_start": 0.78486,
            "bin_end": 0.79377,
            "count": 0
           },
           {
            "bin_start": 0.79377,
            "bin_end": 0.8026800000000001,
            "count": 0
           },
           {
            "bin_start": 0.8026800000000001,
            "bin_end": 0.81159,
            "count": 0
           },
           {
            "bin_start": 0.81159,
            "bin_end": 0.8205,
            "count": 1
           }
          ]
         }
        },
        {
         "name": "TUITIONFEE_IN",
         "dtype": "float64",
         "stats": {
          "unique_count": 5,
          "nan_count": 5,
          "min": "2409.0",
          "max": "13306.0",
          "histogram": [
           {
            "bin_start": 2409,
            "bin_end": 3498.7,
            "count": 1
           },
           {
            "bin_start": 3498.7,
            "bin_end": 4588.4,
            "count": 1
           },
           {
            "bin_start": 4588.4,
            "bin_end": 5678.1,
            "count": 0
           },
           {
            "bin_start": 5678.1,
            "bin_end": 6767.8,
            "count": 0
           },
           {
            "bin_start": 6767.8,
            "bin_end": 7857.5,
            "count": 0
           },
           {
            "bin_start": 7857.5,
            "bin_end": 8947.2,
            "count": 1
           },
           {
            "bin_start": 8947.2,
            "bin_end": 10036.900000000001,
            "count": 0
           },
           {
            "bin_start": 10036.900000000001,
            "bin_end": 11126.6,
            "count": 0
           },
           {
            "bin_start": 11126.6,
            "bin_end": 12216.300000000001,
            "count": 1
           },
           {
            "bin_start": 12216.300000000001,
            "bin_end": 13306,
            "count": 1
           }
          ]
         }
        },
        {
         "name": "YEAR",
         "dtype": "object",
         "stats": {
          "unique_count": 9,
          "nan_count": 0,
          "categories": [
           {
            "name": "1998",
            "count": 2
           },
           {
            "name": "1996",
            "count": 1
           },
           {
            "name": "7 others",
            "count": 7
           }
          ]
         }
        },
        {
         "name": "_deepnote_index_column",
         "dtype": "int64"
        }
       ],
       "rows_top": [
        {
         "UNITID": 413945,
         "INSTNM": "Toni & Guy Hairdressing Academy-Atlanta",
         "STABBR": "GA",
         "REGION": 5,
         "ADM_RATE": "nan",
         "TUITIONFEE_IN": "nan",
         "YEAR": "1998",
         "_deepnote_index_column": 56166
        },
        {
         "UNITID": 413680,
         "INSTNM": "Spartan College of Aeronautics & Technology",
         "STABBR": "CA",
         "REGION": 8,
         "ADM_RATE": "nan",
         "TUITIONFEE_IN": "nan",
         "YEAR": "1998",
         "_deepnote_index_column": 56151
        },
        {
         "UNITID": 364636,
         "INSTNM": "Portage Lakes Career Center",
         "STABBR": "OH",
         "REGION": 3,
         "ADM_RATE": "nan",
         "TUITIONFEE_IN": "nan",
         "YEAR": "1996",
         "_deepnote_index_column": 148530
        },
        {
         "UNITID": 485591,
         "INSTNM": "New Beginnings Beauty Academy",
         "STABBR": "AR",
         "REGION": 5,
         "ADM_RATE": "nan",
         "TUITIONFEE_IN": "nan",
         "YEAR": "2016",
         "_deepnote_index_column": 13637
        },
        {
         "UNITID": 199111,
         "INSTNM": "University of North Carolina at Asheville",
         "STABBR": "NC",
         "REGION": 5,
         "ADM_RATE": "0.7314",
         "TUITIONFEE_IN": "4330.0",
         "YEAR": "2009",
         "_deepnote_index_column": 17247
        },
        {
         "UNITID": 119605,
         "INSTNM": "National University",
         "STABBR": "CA",
         "REGION": 8,
         "ADM_RATE": "nan",
         "TUITIONFEE_IN": "12096.0",
         "YEAR": "2013",
         "_deepnote_index_column": 135316
        },
        {
         "UNITID": 17706533,
         "INSTNM": "Columbia College - Mesquite",
         "STABBR": "TX",
         "REGION": 6,
         "ADM_RATE": "nan",
         "TUITIONFEE_IN": "8400.0",
         "YEAR": "2018",
         "_deepnote_index_column": 91862
        },
        {
         "UNITID": 112312,
         "INSTNM": "Cleveland Chiropractic College of Los Angeles",
         "STABBR": "CA",
         "REGION": 8,
         "ADM_RATE": "nan",
         "TUITIONFEE_IN": "13306.0",
         "YEAR": "2004",
         "_deepnote_index_column": 114119
        },
        {
         "UNITID": 199023,
         "INSTNM": "Montgomery Community College",
         "STABBR": "NC",
         "REGION": 5,
         "ADM_RATE": "nan",
         "TUITIONFEE_IN": "2409.0",
         "YEAR": "2015",
         "_deepnote_index_column": 123221
        },
        {
         "UNITID": 145433,
         "INSTNM": "Hair Professionals School of Cosmetology",
         "STABBR": "IL",
         "REGION": 3,
         "ADM_RATE": "0.8205",
         "TUITIONFEE_IN": "nan",
         "YEAR": "2002",
         "_deepnote_index_column": 150963
        }
       ],
       "rows_bottom": null
      },
      "text/plain": "          UNITID                                         INSTNM STABBR  \\\n56166     413945        Toni & Guy Hairdressing Academy-Atlanta     GA   \n56151     413680    Spartan College of Aeronautics & Technology     CA   \n148530    364636                    Portage Lakes Career Center     OH   \n13637     485591                  New Beginnings Beauty Academy     AR   \n17247     199111      University of North Carolina at Asheville     NC   \n135316    119605                            National University     CA   \n91862   17706533                    Columbia College - Mesquite     TX   \n114119    112312  Cleveland Chiropractic College of Los Angeles     CA   \n123221    199023                   Montgomery Community College     NC   \n150963    145433       Hair Professionals School of Cosmetology     IL   \n\n        REGION  ADM_RATE  TUITIONFEE_IN  YEAR  \n56166      5.0       NaN            NaN  1998  \n56151      8.0       NaN            NaN  1998  \n148530     3.0       NaN            NaN  1996  \n13637      5.0       NaN            NaN  2016  \n17247      5.0    0.7314         4330.0  2009  \n135316     8.0       NaN        12096.0  2013  \n91862      6.0       NaN         8400.0  2018  \n114119     8.0       NaN        13306.0  2004  \n123221     5.0       NaN         2409.0  2015  \n150963     3.0    0.8205            NaN  2002  ",
      "text/html": "<div>\n<style scoped>\n    .dataframe tbody tr th:only-of-type {\n        vertical-align: middle;\n    }\n\n    .dataframe tbody tr th {\n        vertical-align: top;\n    }\n\n    .dataframe thead th {\n        text-align: right;\n    }\n</style>\n<table border=\"1\" class=\"dataframe\">\n  <thead>\n    <tr style=\"text-align: right;\">\n      <th></th>\n      <th>UNITID</th>\n      <th>INSTNM</th>\n      <th>STABBR</th>\n      <th>REGION</th>\n      <th>ADM_RATE</th>\n      <th>TUITIONFEE_IN</th>\n      <th>YEAR</th>\n    </tr>\n  </thead>\n  <tbody>\n    <tr>\n      <th>56166</th>\n      <td>413945</td>\n      <td>Toni &amp; Guy Hairdressing Academy-Atlanta</td>\n      <td>GA</td>\n      <td>5.0</td>\n      <td>NaN</td>\n      <td>NaN</td>\n      <td>1998</td>\n    </tr>\n    <tr>\n      <th>56151</th>\n      <td>413680</td>\n      <td>Spartan College of Aeronautics &amp; Technology</td>\n      <td>CA</td>\n      <td>8.0</td>\n      <td>NaN</td>\n      <td>NaN</td>\n      <td>1998</td>\n    </tr>\n    <tr>\n      <th>148530</th>\n      <td>364636</td>\n      <td>Portage Lakes Career Center</td>\n      <td>OH</td>\n      <td>3.0</td>\n      <td>NaN</td>\n      <td>NaN</td>\n      <td>1996</td>\n    </tr>\n    <tr>\n      <th>13637</th>\n      <td>485591</td>\n      <td>New Beginnings Beauty Academy</td>\n      <td>AR</td>\n      <td>5.0</td>\n      <td>NaN</td>\n      <td>NaN</td>\n      <td>2016</td>\n    </tr>\n    <tr>\n      <th>17247</th>\n      <td>199111</td>\n      <td>University of North Carolina at Asheville</td>\n      <td>NC</td>\n      <td>5.0</td>\n      <td>0.7314</td>\n      <td>4330.0</td>\n      <td>2009</td>\n    </tr>\n    <tr>\n      <th>135316</th>\n      <td>119605</td>\n      <td>National University</td>\n      <td>CA</td>\n      <td>8.0</td>\n      <td>NaN</td>\n      <td>12096.0</td>\n      <td>2013</td>\n    </tr>\n    <tr>\n      <th>91862</th>\n      <td>17706533</td>\n      <td>Columbia College - Mesquite</td>\n      <td>TX</td>\n      <td>6.0</td>\n      <td>NaN</td>\n      <td>8400.0</td>\n      <td>2018</td>\n    </tr>\n    <tr>\n      <th>114119</th>\n      <td>112312</td>\n      <td>Cleveland Chiropractic College of Los Angeles</td>\n      <td>CA</td>\n      <td>8.0</td>\n      <td>NaN</td>\n      <td>13306.0</td>\n      <td>2004</td>\n    </tr>\n    <tr>\n      <th>123221</th>\n      <td>199023</td>\n      <td>Montgomery Community College</td>\n      <td>NC</td>\n      <td>5.0</td>\n      <td>NaN</td>\n      <td>2409.0</td>\n      <td>2015</td>\n    </tr>\n    <tr>\n      <th>150963</th>\n      <td>145433</td>\n      <td>Hair Professionals School of Cosmetology</td>\n      <td>IL</td>\n      <td>3.0</td>\n      <td>0.8205</td>\n      <td>NaN</td>\n      <td>2002</td>\n    </tr>\n  </tbody>\n</table>\n</div>"
     },
     "metadata": {}
    }
   ],
   "execution_count": 7
  },
  {
   "cell_type": "code",
   "source": "data_conct.tail()",
   "metadata": {
    "tags": [],
    "cell_id": "00007-9abc47a6-9350-4290-97cc-1be2f3d49c7f",
    "deepnote_to_be_reexecuted": false,
    "source_hash": "b53372fa",
    "execution_start": 1621551952238,
    "execution_millis": 33,
    "deepnote_cell_type": "code"
   },
   "outputs": [
    {
     "output_type": "execute_result",
     "execution_count": 8,
     "data": {
      "application/vnd.deepnote.dataframe.v2+json": {
       "row_count": 5,
       "column_count": 7,
       "columns": [
        {
         "name": "UNITID",
         "dtype": "int64",
         "stats": {
          "unique_count": 5,
          "nan_count": 0,
          "min": "432418",
          "max": "432524",
          "histogram": [
           {
            "bin_start": 432418,
            "bin_end": 432428.6,
            "count": 1
           },
           {
            "bin_start": 432428.6,
            "bin_end": 432439.2,
            "count": 1
           },
           {
            "bin_start": 432439.2,
            "bin_end": 432449.8,
            "count": 1
           },
           {
            "bin_start": 432449.8,
            "bin_end": 432460.4,
            "count": 0
           },
           {
            "bin_start": 432460.4,
            "bin_end": 432471,
            "count": 0
           },
           {
            "bin_start": 432471,
            "bin_end": 432481.6,
            "count": 1
           },
           {
            "bin_start": 432481.6,
            "bin_end": 432492.2,
            "count": 0
           },
           {
            "bin_start": 432492.2,
            "bin_end": 432502.8,
            "count": 0
           },
           {
            "bin_start": 432502.8,
            "bin_end": 432513.4,
            "count": 0
           },
           {
            "bin_start": 432513.4,
            "bin_end": 432524,
            "count": 1
           }
          ]
         }
        },
        {
         "name": "INSTNM",
         "dtype": "object",
         "stats": {
          "unique_count": 5,
          "nan_count": 0,
          "categories": [
           {
            "name": "MANHATTAN BEAUTY SCHOOL",
            "count": 1
           },
           {
            "name": "COOPER CAREER INSTITUTE",
            "count": 1
           },
           {
            "name": "3 others",
            "count": 3
           }
          ]
         }
        },
        {
         "name": "STABBR",
         "dtype": "object",
         "stats": {
          "unique_count": 5,
          "nan_count": 0,
          "categories": [
           {
            "name": "FL",
            "count": 1
           },
           {
            "name": "VA",
            "count": 1
           },
           {
            "name": "3 others",
            "count": 3
           }
          ]
         }
        },
        {
         "name": "REGION",
         "dtype": "float64",
         "stats": {
          "unique_count": 3,
          "nan_count": 0,
          "min": "2.0",
          "max": "6.0",
          "histogram": [
           {
            "bin_start": 2,
            "bin_end": 2.4,
            "count": 1
           },
           {
            "bin_start": 2.4,
            "bin_end": 2.8,
            "count": 0
           },
           {
            "bin_start": 2.8,
            "bin_end": 3.2,
            "count": 0
           },
           {
            "bin_start": 3.2,
            "bin_end": 3.6,
            "count": 0
           },
           {
            "bin_start": 3.6,
            "bin_end": 4,
            "count": 0
           },
           {
            "bin_start": 4,
            "bin_end": 4.4,
            "count": 0
           },
           {
            "bin_start": 4.4,
            "bin_end": 4.800000000000001,
            "count": 0
           },
           {
            "bin_start": 4.800000000000001,
            "bin_end": 5.2,
            "count": 3
           },
           {
            "bin_start": 5.2,
            "bin_end": 5.6,
            "count": 0
           },
           {
            "bin_start": 5.6,
            "bin_end": 6,
            "count": 1
           }
          ]
         }
        },
        {
         "name": "ADM_RATE",
         "dtype": "float64",
         "stats": {
          "unique_count": 0,
          "nan_count": 5,
          "min": null,
          "max": null,
          "histogram": [
           {
            "bin_start": 0,
            "bin_end": 0.1,
            "count": 0
           },
           {
            "bin_start": 0.1,
            "bin_end": 0.2,
            "count": 0
           },
           {
            "bin_start": 0.2,
            "bin_end": 0.30000000000000004,
            "count": 0
           },
           {
            "bin_start": 0.30000000000000004,
            "bin_end": 0.4,
            "count": 0
           },
           {
            "bin_start": 0.4,
            "bin_end": 0.5,
            "count": 0
           },
           {
            "bin_start": 0.5,
            "bin_end": 0.6000000000000001,
            "count": 0
           },
           {
            "bin_start": 0.6000000000000001,
            "bin_end": 0.7000000000000001,
            "count": 0
           },
           {
            "bin_start": 0.7000000000000001,
            "bin_end": 0.8,
            "count": 0
           },
           {
            "bin_start": 0.8,
            "bin_end": 0.9,
            "count": 0
           },
           {
            "bin_start": 0.9,
            "bin_end": 1,
            "count": 0
           }
          ]
         }
        },
        {
         "name": "TUITIONFEE_IN",
         "dtype": "float64",
         "stats": {
          "unique_count": 0,
          "nan_count": 5,
          "min": null,
          "max": null,
          "histogram": [
           {
            "bin_start": 0,
            "bin_end": 0.1,
            "count": 0
           },
           {
            "bin_start": 0.1,
            "bin_end": 0.2,
            "count": 0
           },
           {
            "bin_start": 0.2,
            "bin_end": 0.30000000000000004,
            "count": 0
           },
           {
            "bin_start": 0.30000000000000004,
            "bin_end": 0.4,
            "count": 0
           },
           {
            "bin_start": 0.4,
            "bin_end": 0.5,
            "count": 0
           },
           {
            "bin_start": 0.5,
            "bin_end": 0.6000000000000001,
            "count": 0
           },
           {
            "bin_start": 0.6000000000000001,
            "bin_end": 0.7000000000000001,
            "count": 0
           },
           {
            "bin_start": 0.7000000000000001,
            "bin_end": 0.8,
            "count": 0
           },
           {
            "bin_start": 0.8,
            "bin_end": 0.9,
            "count": 0
           },
           {
            "bin_start": 0.9,
            "bin_end": 1,
            "count": 0
           }
          ]
         }
        },
        {
         "name": "YEAR",
         "dtype": "object",
         "stats": {
          "unique_count": 1,
          "nan_count": 0,
          "categories": [
           {
            "name": "1997",
            "count": 5
           }
          ]
         }
        },
        {
         "name": "_deepnote_index_column",
         "dtype": "int64"
        }
       ],
       "rows_top": [
        {
         "UNITID": 432418,
         "INSTNM": "MANHATTAN BEAUTY SCHOOL",
         "STABBR": "FL",
         "REGION": 5,
         "ADM_RATE": "nan",
         "TUITIONFEE_IN": "nan",
         "YEAR": "1997",
         "_deepnote_index_column": 163326
        },
        {
         "UNITID": 432436,
         "INSTNM": "COOPER CAREER INSTITUTE",
         "STABBR": "VA",
         "REGION": 5,
         "ADM_RATE": "nan",
         "TUITIONFEE_IN": "nan",
         "YEAR": "1997",
         "_deepnote_index_column": 163327
        },
        {
         "UNITID": 432445,
         "INSTNM": "OCCUPATIONAL TRAINING CENTER",
         "STABBR": "AZ",
         "REGION": 6,
         "ADM_RATE": "nan",
         "TUITIONFEE_IN": "nan",
         "YEAR": "1997",
         "_deepnote_index_column": 163328
        },
        {
         "UNITID": 432472,
         "INSTNM": "ABC SPA CITY BEAUTY AND BARBER COLLEGE",
         "STABBR": "AR",
         "REGION": 5,
         "ADM_RATE": "nan",
         "TUITIONFEE_IN": "nan",
         "YEAR": "1997",
         "_deepnote_index_column": 163329
        },
        {
         "UNITID": 432524,
         "INSTNM": "Delaware College of Art and Design",
         "STABBR": "DE",
         "REGION": 2,
         "ADM_RATE": "nan",
         "TUITIONFEE_IN": "nan",
         "YEAR": "1997",
         "_deepnote_index_column": 163330
        }
       ],
       "rows_bottom": null
      },
      "text/plain": "        UNITID                                  INSTNM STABBR  REGION  \\\n163326  432418                 MANHATTAN BEAUTY SCHOOL     FL     5.0   \n163327  432436                 COOPER CAREER INSTITUTE     VA     5.0   \n163328  432445            OCCUPATIONAL TRAINING CENTER     AZ     6.0   \n163329  432472  ABC SPA CITY BEAUTY AND BARBER COLLEGE     AR     5.0   \n163330  432524      Delaware College of Art and Design     DE     2.0   \n\n        ADM_RATE  TUITIONFEE_IN  YEAR  \n163326       NaN            NaN  1997  \n163327       NaN            NaN  1997  \n163328       NaN            NaN  1997  \n163329       NaN            NaN  1997  \n163330       NaN            NaN  1997  ",
      "text/html": "<div>\n<style scoped>\n    .dataframe tbody tr th:only-of-type {\n        vertical-align: middle;\n    }\n\n    .dataframe tbody tr th {\n        vertical-align: top;\n    }\n\n    .dataframe thead th {\n        text-align: right;\n    }\n</style>\n<table border=\"1\" class=\"dataframe\">\n  <thead>\n    <tr style=\"text-align: right;\">\n      <th></th>\n      <th>UNITID</th>\n      <th>INSTNM</th>\n      <th>STABBR</th>\n      <th>REGION</th>\n      <th>ADM_RATE</th>\n      <th>TUITIONFEE_IN</th>\n      <th>YEAR</th>\n    </tr>\n  </thead>\n  <tbody>\n    <tr>\n      <th>163326</th>\n      <td>432418</td>\n      <td>MANHATTAN BEAUTY SCHOOL</td>\n      <td>FL</td>\n      <td>5.0</td>\n      <td>NaN</td>\n      <td>NaN</td>\n      <td>1997</td>\n    </tr>\n    <tr>\n      <th>163327</th>\n      <td>432436</td>\n      <td>COOPER CAREER INSTITUTE</td>\n      <td>VA</td>\n      <td>5.0</td>\n      <td>NaN</td>\n      <td>NaN</td>\n      <td>1997</td>\n    </tr>\n    <tr>\n      <th>163328</th>\n      <td>432445</td>\n      <td>OCCUPATIONAL TRAINING CENTER</td>\n      <td>AZ</td>\n      <td>6.0</td>\n      <td>NaN</td>\n      <td>NaN</td>\n      <td>1997</td>\n    </tr>\n    <tr>\n      <th>163329</th>\n      <td>432472</td>\n      <td>ABC SPA CITY BEAUTY AND BARBER COLLEGE</td>\n      <td>AR</td>\n      <td>5.0</td>\n      <td>NaN</td>\n      <td>NaN</td>\n      <td>1997</td>\n    </tr>\n    <tr>\n      <th>163330</th>\n      <td>432524</td>\n      <td>Delaware College of Art and Design</td>\n      <td>DE</td>\n      <td>2.0</td>\n      <td>NaN</td>\n      <td>NaN</td>\n      <td>1997</td>\n    </tr>\n  </tbody>\n</table>\n</div>"
     },
     "metadata": {}
    }
   ],
   "execution_count": 8
  },
  {
   "cell_type": "code",
   "source": "data_conct.shape",
   "metadata": {
    "tags": [],
    "cell_id": "00008-6de6027c-1b4f-4c65-a92d-d74c8e910318",
    "deepnote_to_be_reexecuted": false,
    "source_hash": "b3bc664a",
    "execution_start": 1621551952273,
    "execution_millis": 8,
    "deepnote_cell_type": "code"
   },
   "outputs": [
    {
     "output_type": "execute_result",
     "execution_count": 9,
     "data": {
      "text/plain": "(163331, 7)"
     },
     "metadata": {}
    }
   ],
   "execution_count": 9
  },
  {
   "cell_type": "code",
   "source": "data_conct.isna().any()",
   "metadata": {
    "tags": [],
    "cell_id": "00009-bed66f93-34be-48b7-ba8f-33050a43935d",
    "deepnote_to_be_reexecuted": false,
    "source_hash": "e0ee7e96",
    "execution_start": 1621551952279,
    "execution_millis": 27,
    "deepnote_cell_type": "code"
   },
   "outputs": [
    {
     "output_type": "execute_result",
     "execution_count": 10,
     "data": {
      "text/plain": "UNITID           False\nINSTNM           False\nSTABBR           False\nREGION            True\nADM_RATE          True\nTUITIONFEE_IN     True\nYEAR             False\ndtype: bool"
     },
     "metadata": {}
    }
   ],
   "execution_count": 10
  },
  {
   "cell_type": "code",
   "source": "data_conct.describe()",
   "metadata": {
    "tags": [],
    "cell_id": "00010-79209de7-4755-496d-b552-d6e9f3ee0748",
    "deepnote_to_be_reexecuted": false,
    "source_hash": "b79fc662",
    "execution_start": 1621551952313,
    "execution_millis": 54,
    "deepnote_cell_type": "code"
   },
   "outputs": [
    {
     "output_type": "execute_result",
     "execution_count": 11,
     "data": {
      "application/vnd.deepnote.dataframe.v2+json": {
       "row_count": 8,
       "column_count": 4,
       "columns": [
        {
         "name": "UNITID",
         "dtype": "float64",
         "stats": {
          "unique_count": 8,
          "nan_count": 0,
          "min": "100636.0",
          "max": "49146401.0",
          "histogram": [
           {
            "bin_start": 100636,
            "bin_end": 5005212.5,
            "count": 7
           },
           {
            "bin_start": 5005212.5,
            "bin_end": 9909789,
            "count": 0
           },
           {
            "bin_start": 9909789,
            "bin_end": 14814365.5,
            "count": 0
           },
           {
            "bin_start": 14814365.5,
            "bin_end": 19718942,
            "count": 0
           },
           {
            "bin_start": 19718942,
            "bin_end": 24623518.5,
            "count": 0
           },
           {
            "bin_start": 24623518.5,
            "bin_end": 29528095,
            "count": 0
           },
           {
            "bin_start": 29528095,
            "bin_end": 34432671.5,
            "count": 0
           },
           {
            "bin_start": 34432671.5,
            "bin_end": 39337248,
            "count": 0
           },
           {
            "bin_start": 39337248,
            "bin_end": 44241824.5,
            "count": 0
           },
           {
            "bin_start": 44241824.5,
            "bin_end": 49146401,
            "count": 1
           }
          ]
         }
        },
        {
         "name": "REGION",
         "dtype": "float64",
         "stats": {
          "unique_count": 8,
          "nan_count": 0,
          "min": "0.0",
          "max": "163330.0",
          "histogram": [
           {
            "bin_start": 0,
            "bin_end": 16333,
            "count": 7
           },
           {
            "bin_start": 16333,
            "bin_end": 32666,
            "count": 0
           },
           {
            "bin_start": 32666,
            "bin_end": 48999,
            "count": 0
           },
           {
            "bin_start": 48999,
            "bin_end": 65332,
            "count": 0
           },
           {
            "bin_start": 65332,
            "bin_end": 81665,
            "count": 0
           },
           {
            "bin_start": 81665,
            "bin_end": 97998,
            "count": 0
           },
           {
            "bin_start": 97998,
            "bin_end": 114331,
            "count": 0
           },
           {
            "bin_start": 114331,
            "bin_end": 130664,
            "count": 0
           },
           {
            "bin_start": 130664,
            "bin_end": 146997,
            "count": 0
           },
           {
            "bin_start": 146997,
            "bin_end": 163330,
            "count": 1
           }
          ]
         }
        },
        {
         "name": "ADM_RATE",
         "dtype": "float64",
         "stats": {
          "unique_count": 8,
          "nan_count": 0,
          "min": "0.0",
          "max": "44912.0",
          "histogram": [
           {
            "bin_start": 0,
            "bin_end": 4491.2,
            "count": 7
           },
           {
            "bin_start": 4491.2,
            "bin_end": 8982.4,
            "count": 0
           },
           {
            "bin_start": 8982.4,
            "bin_end": 13473.599999999999,
            "count": 0
           },
           {
            "bin_start": 13473.599999999999,
            "bin_end": 17964.8,
            "count": 0
           },
           {
            "bin_start": 17964.8,
            "bin_end": 22456,
            "count": 0
           },
           {
            "bin_start": 22456,
            "bin_end": 26947.199999999997,
            "count": 0
           },
           {
            "bin_start": 26947.199999999997,
            "bin_end": 31438.399999999998,
            "count": 0
           },
           {
            "bin_start": 31438.399999999998,
            "bin_end": 35929.6,
            "count": 0
           },
           {
            "bin_start": 35929.6,
            "bin_end": 40420.799999999996,
            "count": 0
           },
           {
            "bin_start": 40420.799999999996,
            "bin_end": 44912,
            "count": 1
           }
          ]
         }
        },
        {
         "name": "TUITIONFEE_IN",
         "dtype": "float64",
         "stats": {
          "unique_count": 8,
          "nan_count": 0,
          "min": "0.0",
          "max": "79195.0",
          "histogram": [
           {
            "bin_start": 0,
            "bin_end": 7919.5,
            "count": 2
           },
           {
            "bin_start": 7919.5,
            "bin_end": 15839,
            "count": 3
           },
           {
            "bin_start": 15839,
            "bin_end": 23758.5,
            "count": 1
           },
           {
            "bin_start": 23758.5,
            "bin_end": 31678,
            "count": 0
           },
           {
            "bin_start": 31678,
            "bin_end": 39597.5,
            "count": 0
           },
           {
            "bin_start": 39597.5,
            "bin_end": 47517,
            "count": 0
           },
           {
            "bin_start": 47517,
            "bin_end": 55436.5,
            "count": 0
           },
           {
            "bin_start": 55436.5,
            "bin_end": 63356,
            "count": 0
           },
           {
            "bin_start": 63356,
            "bin_end": 71275.5,
            "count": 0
           },
           {
            "bin_start": 71275.5,
            "bin_end": 79195,
            "count": 2
           }
          ]
         }
        },
        {
         "name": "_deepnote_index_column",
         "dtype": "object"
        }
       ],
       "rows_top": [
        {
         "UNITID": 163331,
         "REGION": 163330,
         "ADM_RATE": 44912,
         "TUITIONFEE_IN": 79195,
         "_deepnote_index_column": "count"
        },
        {
         "UNITID": 943239.4596371785,
         "REGION": 4.5546929529174065,
         "ADM_RATE": 0.6929507659422872,
         "TUITIONFEE_IN": 11665.636871014583,
         "_deepnote_index_column": "mean"
        },
        {
         "UNITID": 4571721.476707598,
         "REGION": 2.1892166562210815,
         "ADM_RATE": 0.21705825783994498,
         "TUITIONFEE_IN": 9986.003541993254,
         "_deepnote_index_column": "std"
        },
        {
         "UNITID": 100636,
         "REGION": 0,
         "ADM_RATE": 0,
         "TUITIONFEE_IN": 0,
         "_deepnote_index_column": "min"
        },
        {
         "UNITID": 163338,
         "REGION": 3,
         "ADM_RATE": 0.5550750000000001,
         "TUITIONFEE_IN": 3776,
         "_deepnote_index_column": "25%"
        },
        {
         "UNITID": 212780,
         "REGION": 5,
         "ADM_RATE": 0.7175,
         "TUITIONFEE_IN": 9285,
         "_deepnote_index_column": "50%"
        },
        {
         "UNITID": 407568,
         "REGION": 6,
         "ADM_RATE": 0.8571,
         "TUITIONFEE_IN": 16148,
         "_deepnote_index_column": "75%"
        },
        {
         "UNITID": 49146401,
         "REGION": 9,
         "ADM_RATE": 1,
         "TUITIONFEE_IN": 74787,
         "_deepnote_index_column": "max"
        }
       ],
       "rows_bottom": null
      },
      "text/plain": "             UNITID         REGION      ADM_RATE  TUITIONFEE_IN\ncount  1.633310e+05  163330.000000  44912.000000   79195.000000\nmean   9.432395e+05       4.554693      0.692951   11665.636871\nstd    4.571721e+06       2.189217      0.217058    9986.003542\nmin    1.006360e+05       0.000000      0.000000       0.000000\n25%    1.633380e+05       3.000000      0.555075    3776.000000\n50%    2.127800e+05       5.000000      0.717500    9285.000000\n75%    4.075680e+05       6.000000      0.857100   16148.000000\nmax    4.914640e+07       9.000000      1.000000   74787.000000",
      "text/html": "<div>\n<style scoped>\n    .dataframe tbody tr th:only-of-type {\n        vertical-align: middle;\n    }\n\n    .dataframe tbody tr th {\n        vertical-align: top;\n    }\n\n    .dataframe thead th {\n        text-align: right;\n    }\n</style>\n<table border=\"1\" class=\"dataframe\">\n  <thead>\n    <tr style=\"text-align: right;\">\n      <th></th>\n      <th>UNITID</th>\n      <th>REGION</th>\n      <th>ADM_RATE</th>\n      <th>TUITIONFEE_IN</th>\n    </tr>\n  </thead>\n  <tbody>\n    <tr>\n      <th>count</th>\n      <td>1.633310e+05</td>\n      <td>163330.000000</td>\n      <td>44912.000000</td>\n      <td>79195.000000</td>\n    </tr>\n    <tr>\n      <th>mean</th>\n      <td>9.432395e+05</td>\n      <td>4.554693</td>\n      <td>0.692951</td>\n      <td>11665.636871</td>\n    </tr>\n    <tr>\n      <th>std</th>\n      <td>4.571721e+06</td>\n      <td>2.189217</td>\n      <td>0.217058</td>\n      <td>9986.003542</td>\n    </tr>\n    <tr>\n      <th>min</th>\n      <td>1.006360e+05</td>\n      <td>0.000000</td>\n      <td>0.000000</td>\n      <td>0.000000</td>\n    </tr>\n    <tr>\n      <th>25%</th>\n      <td>1.633380e+05</td>\n      <td>3.000000</td>\n      <td>0.555075</td>\n      <td>3776.000000</td>\n    </tr>\n    <tr>\n      <th>50%</th>\n      <td>2.127800e+05</td>\n      <td>5.000000</td>\n      <td>0.717500</td>\n      <td>9285.000000</td>\n    </tr>\n    <tr>\n      <th>75%</th>\n      <td>4.075680e+05</td>\n      <td>6.000000</td>\n      <td>0.857100</td>\n      <td>16148.000000</td>\n    </tr>\n    <tr>\n      <th>max</th>\n      <td>4.914640e+07</td>\n      <td>9.000000</td>\n      <td>1.000000</td>\n      <td>74787.000000</td>\n    </tr>\n  </tbody>\n</table>\n</div>"
     },
     "metadata": {}
    }
   ],
   "execution_count": 11
  },
  {
   "cell_type": "code",
   "source": "umbc_df = data_conct.loc[data_conct['INSTNM'] == 'University of Maryland-Baltimore County'].reset_index(drop=True)",
   "metadata": {
    "tags": [],
    "cell_id": "00011-a7e78da6-79bd-4709-9a55-b76fc7782e5b",
    "deepnote_to_be_reexecuted": false,
    "source_hash": "9d898bfe",
    "execution_start": 1621551952378,
    "execution_millis": 3,
    "deepnote_cell_type": "code"
   },
   "outputs": [],
   "execution_count": 12
  },
  {
   "cell_type": "code",
   "source": "umbc_df.shape",
   "metadata": {
    "tags": [],
    "cell_id": "00012-f7f74843-a1b9-4d9e-a2e1-83a2e3a9c7f9",
    "deepnote_to_be_reexecuted": false,
    "source_hash": "3289110a",
    "execution_start": 1621551952385,
    "execution_millis": 11,
    "deepnote_cell_type": "code"
   },
   "outputs": [
    {
     "output_type": "execute_result",
     "execution_count": 13,
     "data": {
      "text/plain": "(23, 7)"
     },
     "metadata": {}
    }
   ],
   "execution_count": 13
  },
  {
   "cell_type": "code",
   "source": "umbc_df.columns",
   "metadata": {
    "tags": [],
    "cell_id": "00013-a09447e0-1297-4f2a-80d8-6c5a5fa14da7",
    "deepnote_to_be_reexecuted": false,
    "source_hash": "c9026b6e",
    "execution_start": 1621551952393,
    "execution_millis": 9,
    "deepnote_cell_type": "code"
   },
   "outputs": [
    {
     "output_type": "execute_result",
     "execution_count": 14,
     "data": {
      "text/plain": "Index(['UNITID', 'INSTNM', 'STABBR', 'REGION', 'ADM_RATE', 'TUITIONFEE_IN',\n       'YEAR'],\n      dtype='object')"
     },
     "metadata": {}
    }
   ],
   "execution_count": 14
  },
  {
   "cell_type": "code",
   "source": "umbc_df.head()",
   "metadata": {
    "tags": [],
    "cell_id": "00014-c9a76b93-5554-4bd7-b785-303425c51262",
    "deepnote_to_be_reexecuted": false,
    "source_hash": "7d77bd3f",
    "execution_start": 1621551952436,
    "execution_millis": 5,
    "deepnote_cell_type": "code"
   },
   "outputs": [
    {
     "output_type": "execute_result",
     "execution_count": 15,
     "data": {
      "application/vnd.deepnote.dataframe.v2+json": {
       "row_count": 5,
       "column_count": 7,
       "columns": [
        {
         "name": "UNITID",
         "dtype": "int64",
         "stats": {
          "unique_count": 1,
          "nan_count": 0,
          "min": "163268",
          "max": "163268",
          "histogram": [
           {
            "bin_start": 163267.5,
            "bin_end": 163267.6,
            "count": 0
           },
           {
            "bin_start": 163267.6,
            "bin_end": 163267.7,
            "count": 0
           },
           {
            "bin_start": 163267.7,
            "bin_end": 163267.8,
            "count": 0
           },
           {
            "bin_start": 163267.8,
            "bin_end": 163267.9,
            "count": 0
           },
           {
            "bin_start": 163267.9,
            "bin_end": 163268,
            "count": 0
           },
           {
            "bin_start": 163268,
            "bin_end": 163268.1,
            "count": 5
           },
           {
            "bin_start": 163268.1,
            "bin_end": 163268.2,
            "count": 0
           },
           {
            "bin_start": 163268.2,
            "bin_end": 163268.3,
            "count": 0
           },
           {
            "bin_start": 163268.3,
            "bin_end": 163268.4,
            "count": 0
           },
           {
            "bin_start": 163268.4,
            "bin_end": 163268.5,
            "count": 0
           }
          ]
         }
        },
        {
         "name": "INSTNM",
         "dtype": "object",
         "stats": {
          "unique_count": 1,
          "nan_count": 0,
          "categories": [
           {
            "name": "University of Maryland-Baltimore County",
            "count": 5
           }
          ]
         }
        },
        {
         "name": "STABBR",
         "dtype": "object",
         "stats": {
          "unique_count": 1,
          "nan_count": 0,
          "categories": [
           {
            "name": "MD",
            "count": 5
           }
          ]
         }
        },
        {
         "name": "REGION",
         "dtype": "float64",
         "stats": {
          "unique_count": 1,
          "nan_count": 0,
          "min": "2.0",
          "max": "2.0",
          "histogram": [
           {
            "bin_start": 1.5,
            "bin_end": 1.6,
            "count": 0
           },
           {
            "bin_start": 1.6,
            "bin_end": 1.7,
            "count": 0
           },
           {
            "bin_start": 1.7,
            "bin_end": 1.8,
            "count": 0
           },
           {
            "bin_start": 1.8,
            "bin_end": 1.9,
            "count": 0
           },
           {
            "bin_start": 1.9,
            "bin_end": 2,
            "count": 0
           },
           {
            "bin_start": 2,
            "bin_end": 2.1,
            "count": 5
           },
           {
            "bin_start": 2.1,
            "bin_end": 2.2,
            "count": 0
           },
           {
            "bin_start": 2.2,
            "bin_end": 2.3,
            "count": 0
           },
           {
            "bin_start": 2.3,
            "bin_end": 2.4,
            "count": 0
           },
           {
            "bin_start": 2.4,
            "bin_end": 2.5,
            "count": 0
           }
          ]
         }
        },
        {
         "name": "ADM_RATE",
         "dtype": "float64",
         "stats": {
          "unique_count": 5,
          "nan_count": 0,
          "min": "0.5683",
          "max": "0.7174",
          "histogram": [
           {
            "bin_start": 0.5683,
            "bin_end": 0.58321,
            "count": 1
           },
           {
            "bin_start": 0.58321,
            "bin_end": 0.59812,
            "count": 0
           },
           {
            "bin_start": 0.59812,
            "bin_end": 0.6130300000000001,
            "count": 1
           },
           {
            "bin_start": 0.6130300000000001,
            "bin_end": 0.62794,
            "count": 0
           },
           {
            "bin_start": 0.62794,
            "bin_end": 0.64285,
            "count": 0
           },
           {
            "bin_start": 0.64285,
            "bin_end": 0.65776,
            "count": 1
           },
           {
            "bin_start": 0.65776,
            "bin_end": 0.67267,
            "count": 0
           },
           {
            "bin_start": 0.67267,
            "bin_end": 0.6875800000000001,
            "count": 0
           },
           {
            "bin_start": 0.6875800000000001,
            "bin_end": 0.7024900000000001,
            "count": 1
           },
           {
            "bin_start": 0.7024900000000001,
            "bin_end": 0.7174,
            "count": 1
           }
          ]
         }
        },
        {
         "name": "TUITIONFEE_IN",
         "dtype": "float64",
         "stats": {
          "unique_count": 5,
          "nan_count": 0,
          "min": "5910.0",
          "max": "11518.0",
          "histogram": [
           {
            "bin_start": 5910,
            "bin_end": 6470.8,
            "count": 1
           },
           {
            "bin_start": 6470.8,
            "bin_end": 7031.6,
            "count": 0
           },
           {
            "bin_start": 7031.6,
            "bin_end": 7592.4,
            "count": 0
           },
           {
            "bin_start": 7592.4,
            "bin_end": 8153.2,
            "count": 0
           },
           {
            "bin_start": 8153.2,
            "bin_end": 8714,
            "count": 0
           },
           {
            "bin_start": 8714,
            "bin_end": 9274.8,
            "count": 2
           },
           {
            "bin_start": 9274.8,
            "bin_end": 9835.599999999999,
            "count": 0
           },
           {
            "bin_start": 9835.599999999999,
            "bin_end": 10396.4,
            "count": 0
           },
           {
            "bin_start": 10396.4,
            "bin_end": 10957.2,
            "count": 0
           },
           {
            "bin_start": 10957.2,
            "bin_end": 11518,
            "count": 2
           }
          ]
         }
        },
        {
         "name": "YEAR",
         "dtype": "object",
         "stats": {
          "unique_count": 5,
          "nan_count": 0,
          "categories": [
           {
            "name": "2008",
            "count": 1
           },
           {
            "name": "2016",
            "count": 1
           },
           {
            "name": "3 others",
            "count": 3
           }
          ]
         }
        },
        {
         "name": "_deepnote_index_column",
         "dtype": "int64"
        }
       ],
       "rows_top": [
        {
         "UNITID": 163268,
         "INSTNM": "University of Maryland-Baltimore County",
         "STABBR": "MD",
         "REGION": 2,
         "ADM_RATE": 0.7174,
         "TUITIONFEE_IN": 8780,
         "YEAR": "2008",
         "_deepnote_index_column": 0
        },
        {
         "UNITID": 163268,
         "INSTNM": "University of Maryland-Baltimore County",
         "STABBR": "MD",
         "REGION": 2,
         "ADM_RATE": 0.5683,
         "TUITIONFEE_IN": 11264,
         "YEAR": "2016",
         "_deepnote_index_column": 1
        },
        {
         "UNITID": 163268,
         "INSTNM": "University of Maryland-Baltimore County",
         "STABBR": "MD",
         "REGION": 2,
         "ADM_RATE": 0.689,
         "TUITIONFEE_IN": 8872,
         "YEAR": "2009",
         "_deepnote_index_column": 2
        },
        {
         "UNITID": 163268,
         "INSTNM": "University of Maryland-Baltimore County",
         "STABBR": "MD",
         "REGION": 2,
         "ADM_RATE": 0.6021,
         "TUITIONFEE_IN": 11518,
         "YEAR": "2017",
         "_deepnote_index_column": 3
        },
        {
         "UNITID": 163268,
         "INSTNM": "University of Maryland-Baltimore County",
         "STABBR": "MD",
         "REGION": 2,
         "ADM_RATE": 0.6551,
         "TUITIONFEE_IN": 5910,
         "YEAR": "2001",
         "_deepnote_index_column": 4
        }
       ],
       "rows_bottom": null
      },
      "text/plain": "   UNITID                                   INSTNM STABBR  REGION  ADM_RATE  \\\n0  163268  University of Maryland-Baltimore County     MD     2.0    0.7174   \n1  163268  University of Maryland-Baltimore County     MD     2.0    0.5683   \n2  163268  University of Maryland-Baltimore County     MD     2.0    0.6890   \n3  163268  University of Maryland-Baltimore County     MD     2.0    0.6021   \n4  163268  University of Maryland-Baltimore County     MD     2.0    0.6551   \n\n   TUITIONFEE_IN  YEAR  \n0         8780.0  2008  \n1        11264.0  2016  \n2         8872.0  2009  \n3        11518.0  2017  \n4         5910.0  2001  ",
      "text/html": "<div>\n<style scoped>\n    .dataframe tbody tr th:only-of-type {\n        vertical-align: middle;\n    }\n\n    .dataframe tbody tr th {\n        vertical-align: top;\n    }\n\n    .dataframe thead th {\n        text-align: right;\n    }\n</style>\n<table border=\"1\" class=\"dataframe\">\n  <thead>\n    <tr style=\"text-align: right;\">\n      <th></th>\n      <th>UNITID</th>\n      <th>INSTNM</th>\n      <th>STABBR</th>\n      <th>REGION</th>\n      <th>ADM_RATE</th>\n      <th>TUITIONFEE_IN</th>\n      <th>YEAR</th>\n    </tr>\n  </thead>\n  <tbody>\n    <tr>\n      <th>0</th>\n      <td>163268</td>\n      <td>University of Maryland-Baltimore County</td>\n      <td>MD</td>\n      <td>2.0</td>\n      <td>0.7174</td>\n      <td>8780.0</td>\n      <td>2008</td>\n    </tr>\n    <tr>\n      <th>1</th>\n      <td>163268</td>\n      <td>University of Maryland-Baltimore County</td>\n      <td>MD</td>\n      <td>2.0</td>\n      <td>0.5683</td>\n      <td>11264.0</td>\n      <td>2016</td>\n    </tr>\n    <tr>\n      <th>2</th>\n      <td>163268</td>\n      <td>University of Maryland-Baltimore County</td>\n      <td>MD</td>\n      <td>2.0</td>\n      <td>0.6890</td>\n      <td>8872.0</td>\n      <td>2009</td>\n    </tr>\n    <tr>\n      <th>3</th>\n      <td>163268</td>\n      <td>University of Maryland-Baltimore County</td>\n      <td>MD</td>\n      <td>2.0</td>\n      <td>0.6021</td>\n      <td>11518.0</td>\n      <td>2017</td>\n    </tr>\n    <tr>\n      <th>4</th>\n      <td>163268</td>\n      <td>University of Maryland-Baltimore County</td>\n      <td>MD</td>\n      <td>2.0</td>\n      <td>0.6551</td>\n      <td>5910.0</td>\n      <td>2001</td>\n    </tr>\n  </tbody>\n</table>\n</div>"
     },
     "metadata": {}
    }
   ],
   "execution_count": 15
  },
  {
   "cell_type": "code",
   "source": "umbc_df.tail()",
   "metadata": {
    "tags": [],
    "cell_id": "00015-272fb918-13c9-4155-bbf7-987a196b30b2",
    "deepnote_to_be_reexecuted": false,
    "source_hash": "f86713af",
    "execution_start": 1621551952464,
    "execution_millis": 12,
    "deepnote_cell_type": "code"
   },
   "outputs": [
    {
     "output_type": "execute_result",
     "execution_count": 16,
     "data": {
      "application/vnd.deepnote.dataframe.v2+json": {
       "row_count": 5,
       "column_count": 7,
       "columns": [
        {
         "name": "UNITID",
         "dtype": "int64",
         "stats": {
          "unique_count": 1,
          "nan_count": 0,
          "min": "163268",
          "max": "163268",
          "histogram": [
           {
            "bin_start": 163267.5,
            "bin_end": 163267.6,
            "count": 0
           },
           {
            "bin_start": 163267.6,
            "bin_end": 163267.7,
            "count": 0
           },
           {
            "bin_start": 163267.7,
            "bin_end": 163267.8,
            "count": 0
           },
           {
            "bin_start": 163267.8,
            "bin_end": 163267.9,
            "count": 0
           },
           {
            "bin_start": 163267.9,
            "bin_end": 163268,
            "count": 0
           },
           {
            "bin_start": 163268,
            "bin_end": 163268.1,
            "count": 5
           },
           {
            "bin_start": 163268.1,
            "bin_end": 163268.2,
            "count": 0
           },
           {
            "bin_start": 163268.2,
            "bin_end": 163268.3,
            "count": 0
           },
           {
            "bin_start": 163268.3,
            "bin_end": 163268.4,
            "count": 0
           },
           {
            "bin_start": 163268.4,
            "bin_end": 163268.5,
            "count": 0
           }
          ]
         }
        },
        {
         "name": "INSTNM",
         "dtype": "object",
         "stats": {
          "unique_count": 1,
          "nan_count": 0,
          "categories": [
           {
            "name": "University of Maryland-Baltimore County",
            "count": 5
           }
          ]
         }
        },
        {
         "name": "STABBR",
         "dtype": "object",
         "stats": {
          "unique_count": 1,
          "nan_count": 0,
          "categories": [
           {
            "name": "MD",
            "count": 5
           }
          ]
         }
        },
        {
         "name": "REGION",
         "dtype": "float64",
         "stats": {
          "unique_count": 1,
          "nan_count": 0,
          "min": "2.0",
          "max": "2.0",
          "histogram": [
           {
            "bin_start": 1.5,
            "bin_end": 1.6,
            "count": 0
           },
           {
            "bin_start": 1.6,
            "bin_end": 1.7,
            "count": 0
           },
           {
            "bin_start": 1.7,
            "bin_end": 1.8,
            "count": 0
           },
           {
            "bin_start": 1.8,
            "bin_end": 1.9,
            "count": 0
           },
           {
            "bin_start": 1.9,
            "bin_end": 2,
            "count": 0
           },
           {
            "bin_start": 2,
            "bin_end": 2.1,
            "count": 5
           },
           {
            "bin_start": 2.1,
            "bin_end": 2.2,
            "count": 0
           },
           {
            "bin_start": 2.2,
            "bin_end": 2.3,
            "count": 0
           },
           {
            "bin_start": 2.3,
            "bin_end": 2.4,
            "count": 0
           },
           {
            "bin_start": 2.4,
            "bin_end": 2.5,
            "count": 0
           }
          ]
         }
        },
        {
         "name": "ADM_RATE",
         "dtype": "float64",
         "stats": {
          "unique_count": 2,
          "nan_count": 3,
          "min": "0.6315",
          "max": "0.6327",
          "histogram": [
           {
            "bin_start": 0.6315,
            "bin_end": 0.63162,
            "count": 1
           },
           {
            "bin_start": 0.63162,
            "bin_end": 0.63174,
            "count": 0
           },
           {
            "bin_start": 0.63174,
            "bin_end": 0.63186,
            "count": 0
           },
           {
            "bin_start": 0.63186,
            "bin_end": 0.63198,
            "count": 0
           },
           {
            "bin_start": 0.63198,
            "bin_end": 0.6321,
            "count": 0
           },
           {
            "bin_start": 0.6321,
            "bin_end": 0.63222,
            "count": 0
           },
           {
            "bin_start": 0.63222,
            "bin_end": 0.63234,
            "count": 0
           },
           {
            "bin_start": 0.63234,
            "bin_end": 0.63246,
            "count": 0
           },
           {
            "bin_start": 0.63246,
            "bin_end": 0.63258,
            "count": 0
           },
           {
            "bin_start": 0.63258,
            "bin_end": 0.6327,
            "count": 1
           }
          ]
         }
        },
        {
         "name": "TUITIONFEE_IN",
         "dtype": "float64",
         "stats": {
          "unique_count": 3,
          "nan_count": 2,
          "min": "5490.0",
          "max": "10068.0",
          "histogram": [
           {
            "bin_start": 5490,
            "bin_end": 5947.8,
            "count": 1
           },
           {
            "bin_start": 5947.8,
            "bin_end": 6405.6,
            "count": 1
           },
           {
            "bin_start": 6405.6,
            "bin_end": 6863.4,
            "count": 0
           },
           {
            "bin_start": 6863.4,
            "bin_end": 7321.2,
            "count": 0
           },
           {
            "bin_start": 7321.2,
            "bin_end": 7779,
            "count": 0
           },
           {
            "bin_start": 7779,
            "bin_end": 8236.8,
            "count": 0
           },
           {
            "bin_start": 8236.8,
            "bin_end": 8694.6,
            "count": 0
           },
           {
            "bin_start": 8694.6,
            "bin_end": 9152.4,
            "count": 0
           },
           {
            "bin_start": 9152.4,
            "bin_end": 9610.2,
            "count": 0
           },
           {
            "bin_start": 9610.2,
            "bin_end": 10068,
            "count": 1
           }
          ]
         }
        },
        {
         "name": "YEAR",
         "dtype": "object",
         "stats": {
          "unique_count": 5,
          "nan_count": 0,
          "categories": [
           {
            "name": "2000",
            "count": 1
           },
           {
            "name": "2013",
            "count": 1
           },
           {
            "name": "3 others",
            "count": 3
           }
          ]
         }
        },
        {
         "name": "_deepnote_index_column",
         "dtype": "int64"
        }
       ],
       "rows_top": [
        {
         "UNITID": 163268,
         "INSTNM": "University of Maryland-Baltimore County",
         "STABBR": "MD",
         "REGION": 2,
         "ADM_RATE": "nan",
         "TUITIONFEE_IN": "5490.0",
         "YEAR": "2000",
         "_deepnote_index_column": 18
        },
        {
         "UNITID": 163268,
         "INSTNM": "University of Maryland-Baltimore County",
         "STABBR": "MD",
         "REGION": 2,
         "ADM_RATE": "0.6315",
         "TUITIONFEE_IN": "10068.0",
         "YEAR": "2013",
         "_deepnote_index_column": 19
        },
        {
         "UNITID": 163268,
         "INSTNM": "University of Maryland-Baltimore County",
         "STABBR": "MD",
         "REGION": 2,
         "ADM_RATE": "nan",
         "TUITIONFEE_IN": "nan",
         "YEAR": "1996",
         "_deepnote_index_column": 20
        },
        {
         "UNITID": 163268,
         "INSTNM": "University of Maryland-Baltimore County",
         "STABBR": "MD",
         "REGION": 2,
         "ADM_RATE": "0.6327",
         "TUITIONFEE_IN": "6362.0",
         "YEAR": "2002",
         "_deepnote_index_column": 21
        },
        {
         "UNITID": 163268,
         "INSTNM": "University of Maryland-Baltimore County",
         "STABBR": "MD",
         "REGION": 2,
         "ADM_RATE": "nan",
         "TUITIONFEE_IN": "nan",
         "YEAR": "1997",
         "_deepnote_index_column": 22
        }
       ],
       "rows_bottom": null
      },
      "text/plain": "    UNITID                                   INSTNM STABBR  REGION  ADM_RATE  \\\n18  163268  University of Maryland-Baltimore County     MD     2.0       NaN   \n19  163268  University of Maryland-Baltimore County     MD     2.0    0.6315   \n20  163268  University of Maryland-Baltimore County     MD     2.0       NaN   \n21  163268  University of Maryland-Baltimore County     MD     2.0    0.6327   \n22  163268  University of Maryland-Baltimore County     MD     2.0       NaN   \n\n    TUITIONFEE_IN  YEAR  \n18         5490.0  2000  \n19        10068.0  2013  \n20            NaN  1996  \n21         6362.0  2002  \n22            NaN  1997  ",
      "text/html": "<div>\n<style scoped>\n    .dataframe tbody tr th:only-of-type {\n        vertical-align: middle;\n    }\n\n    .dataframe tbody tr th {\n        vertical-align: top;\n    }\n\n    .dataframe thead th {\n        text-align: right;\n    }\n</style>\n<table border=\"1\" class=\"dataframe\">\n  <thead>\n    <tr style=\"text-align: right;\">\n      <th></th>\n      <th>UNITID</th>\n      <th>INSTNM</th>\n      <th>STABBR</th>\n      <th>REGION</th>\n      <th>ADM_RATE</th>\n      <th>TUITIONFEE_IN</th>\n      <th>YEAR</th>\n    </tr>\n  </thead>\n  <tbody>\n    <tr>\n      <th>18</th>\n      <td>163268</td>\n      <td>University of Maryland-Baltimore County</td>\n      <td>MD</td>\n      <td>2.0</td>\n      <td>NaN</td>\n      <td>5490.0</td>\n      <td>2000</td>\n    </tr>\n    <tr>\n      <th>19</th>\n      <td>163268</td>\n      <td>University of Maryland-Baltimore County</td>\n      <td>MD</td>\n      <td>2.0</td>\n      <td>0.6315</td>\n      <td>10068.0</td>\n      <td>2013</td>\n    </tr>\n    <tr>\n      <th>20</th>\n      <td>163268</td>\n      <td>University of Maryland-Baltimore County</td>\n      <td>MD</td>\n      <td>2.0</td>\n      <td>NaN</td>\n      <td>NaN</td>\n      <td>1996</td>\n    </tr>\n    <tr>\n      <th>21</th>\n      <td>163268</td>\n      <td>University of Maryland-Baltimore County</td>\n      <td>MD</td>\n      <td>2.0</td>\n      <td>0.6327</td>\n      <td>6362.0</td>\n      <td>2002</td>\n    </tr>\n    <tr>\n      <th>22</th>\n      <td>163268</td>\n      <td>University of Maryland-Baltimore County</td>\n      <td>MD</td>\n      <td>2.0</td>\n      <td>NaN</td>\n      <td>NaN</td>\n      <td>1997</td>\n    </tr>\n  </tbody>\n</table>\n</div>"
     },
     "metadata": {}
    }
   ],
   "execution_count": 16
  },
  {
   "cell_type": "code",
   "source": "umbc_df.sample(10)",
   "metadata": {
    "tags": [],
    "cell_id": "00016-66e82fe9-55fb-4cf4-94a8-00e55a30dcb5",
    "deepnote_to_be_reexecuted": false,
    "source_hash": "43cddc79",
    "execution_start": 1621551952473,
    "execution_millis": 38,
    "deepnote_cell_type": "code"
   },
   "outputs": [
    {
     "output_type": "execute_result",
     "execution_count": 17,
     "data": {
      "application/vnd.deepnote.dataframe.v2+json": {
       "row_count": 10,
       "column_count": 7,
       "columns": [
        {
         "name": "UNITID",
         "dtype": "int64",
         "stats": {
          "unique_count": 1,
          "nan_count": 0,
          "min": "163268",
          "max": "163268",
          "histogram": [
           {
            "bin_start": 163267.5,
            "bin_end": 163267.6,
            "count": 0
           },
           {
            "bin_start": 163267.6,
            "bin_end": 163267.7,
            "count": 0
           },
           {
            "bin_start": 163267.7,
            "bin_end": 163267.8,
            "count": 0
           },
           {
            "bin_start": 163267.8,
            "bin_end": 163267.9,
            "count": 0
           },
           {
            "bin_start": 163267.9,
            "bin_end": 163268,
            "count": 0
           },
           {
            "bin_start": 163268,
            "bin_end": 163268.1,
            "count": 10
           },
           {
            "bin_start": 163268.1,
            "bin_end": 163268.2,
            "count": 0
           },
           {
            "bin_start": 163268.2,
            "bin_end": 163268.3,
            "count": 0
           },
           {
            "bin_start": 163268.3,
            "bin_end": 163268.4,
            "count": 0
           },
           {
            "bin_start": 163268.4,
            "bin_end": 163268.5,
            "count": 0
           }
          ]
         }
        },
        {
         "name": "INSTNM",
         "dtype": "object",
         "stats": {
          "unique_count": 1,
          "nan_count": 0,
          "categories": [
           {
            "name": "University of Maryland-Baltimore County",
            "count": 10
           }
          ]
         }
        },
        {
         "name": "STABBR",
         "dtype": "object",
         "stats": {
          "unique_count": 1,
          "nan_count": 0,
          "categories": [
           {
            "name": "MD",
            "count": 10
           }
          ]
         }
        },
        {
         "name": "REGION",
         "dtype": "float64",
         "stats": {
          "unique_count": 1,
          "nan_count": 0,
          "min": "2.0",
          "max": "2.0",
          "histogram": [
           {
            "bin_start": 1.5,
            "bin_end": 1.6,
            "count": 0
           },
           {
            "bin_start": 1.6,
            "bin_end": 1.7,
            "count": 0
           },
           {
            "bin_start": 1.7,
            "bin_end": 1.8,
            "count": 0
           },
           {
            "bin_start": 1.8,
            "bin_end": 1.9,
            "count": 0
           },
           {
            "bin_start": 1.9,
            "bin_end": 2,
            "count": 0
           },
           {
            "bin_start": 2,
            "bin_end": 2.1,
            "count": 10
           },
           {
            "bin_start": 2.1,
            "bin_end": 2.2,
            "count": 0
           },
           {
            "bin_start": 2.2,
            "bin_end": 2.3,
            "count": 0
           },
           {
            "bin_start": 2.3,
            "bin_end": 2.4,
            "count": 0
           },
           {
            "bin_start": 2.4,
            "bin_end": 2.5,
            "count": 0
           }
          ]
         }
        },
        {
         "name": "ADM_RATE",
         "dtype": "float64",
         "stats": {
          "unique_count": 7,
          "nan_count": 3,
          "min": "0.5683",
          "max": "0.7153",
          "histogram": [
           {
            "bin_start": 0.5683,
            "bin_end": 0.5830000000000001,
            "count": 2
           },
           {
            "bin_start": 0.5830000000000001,
            "bin_end": 0.5977,
            "count": 0
           },
           {
            "bin_start": 0.5977,
            "bin_end": 0.6124,
            "count": 1
           },
           {
            "bin_start": 0.6124,
            "bin_end": 0.6271,
            "count": 0
           },
           {
            "bin_start": 0.6271,
            "bin_end": 0.6418,
            "count": 1
           },
           {
            "bin_start": 0.6418,
            "bin_end": 0.6565000000000001,
            "count": 0
           },
           {
            "bin_start": 0.6565000000000001,
            "bin_end": 0.6712,
            "count": 1
           },
           {
            "bin_start": 0.6712,
            "bin_end": 0.6859000000000001,
            "count": 0
           },
           {
            "bin_start": 0.6859000000000001,
            "bin_end": 0.7006,
            "count": 1
           },
           {
            "bin_start": 0.7006,
            "bin_end": 0.7153,
            "count": 1
           }
          ]
         }
        },
        {
         "name": "TUITIONFEE_IN",
         "dtype": "float64",
         "stats": {
          "unique_count": 8,
          "nan_count": 2,
          "min": "5490.0",
          "max": "11518.0",
          "histogram": [
           {
            "bin_start": 5490,
            "bin_end": 6092.8,
            "count": 1
           },
           {
            "bin_start": 6092.8,
            "bin_end": 6695.6,
            "count": 0
           },
           {
            "bin_start": 6695.6,
            "bin_end": 7298.4,
            "count": 0
           },
           {
            "bin_start": 7298.4,
            "bin_end": 7901.2,
            "count": 1
           },
           {
            "bin_start": 7901.2,
            "bin_end": 8504,
            "count": 0
           },
           {
            "bin_start": 8504,
            "bin_end": 9106.8,
            "count": 2
           },
           {
            "bin_start": 9106.8,
            "bin_end": 9709.599999999999,
            "count": 1
           },
           {
            "bin_start": 9709.599999999999,
            "bin_end": 10312.4,
            "count": 1
           },
           {
            "bin_start": 10312.4,
            "bin_end": 10915.2,
            "count": 0
           },
           {
            "bin_start": 10915.2,
            "bin_end": 11518,
            "count": 2
           }
          ]
         }
        },
        {
         "name": "YEAR",
         "dtype": "object",
         "stats": {
          "unique_count": 10,
          "nan_count": 0,
          "categories": [
           {
            "name": "2010",
            "count": 1
           },
           {
            "name": "2016",
            "count": 1
           },
           {
            "name": "8 others",
            "count": 8
           }
          ]
         }
        },
        {
         "name": "_deepnote_index_column",
         "dtype": "int64"
        }
       ],
       "rows_top": [
        {
         "UNITID": 163268,
         "INSTNM": "University of Maryland-Baltimore County",
         "STABBR": "MD",
         "REGION": 2,
         "ADM_RATE": "0.6589",
         "TUITIONFEE_IN": "9171.0",
         "YEAR": "2010",
         "_deepnote_index_column": 8
        },
        {
         "UNITID": 163268,
         "INSTNM": "University of Maryland-Baltimore County",
         "STABBR": "MD",
         "REGION": 2,
         "ADM_RATE": "0.5683",
         "TUITIONFEE_IN": "11264.0",
         "YEAR": "2016",
         "_deepnote_index_column": 1
        },
        {
         "UNITID": 163268,
         "INSTNM": "University of Maryland-Baltimore County",
         "STABBR": "MD",
         "REGION": 2,
         "ADM_RATE": "0.6315",
         "TUITIONFEE_IN": "10068.0",
         "YEAR": "2013",
         "_deepnote_index_column": 19
        },
        {
         "UNITID": 163268,
         "INSTNM": "University of Maryland-Baltimore County",
         "STABBR": "MD",
         "REGION": 2,
         "ADM_RATE": "0.689",
         "TUITIONFEE_IN": "8872.0",
         "YEAR": "2009",
         "_deepnote_index_column": 2
        },
        {
         "UNITID": 163268,
         "INSTNM": "University of Maryland-Baltimore County",
         "STABBR": "MD",
         "REGION": 2,
         "ADM_RATE": "nan",
         "TUITIONFEE_IN": "nan",
         "YEAR": "1999",
         "_deepnote_index_column": 11
        },
        {
         "UNITID": 163268,
         "INSTNM": "University of Maryland-Baltimore County",
         "STABBR": "MD",
         "REGION": 2,
         "ADM_RATE": "0.6021",
         "TUITIONFEE_IN": "11518.0",
         "YEAR": "2017",
         "_deepnote_index_column": 3
        },
        {
         "UNITID": 163268,
         "INSTNM": "University of Maryland-Baltimore County",
         "STABBR": "MD",
         "REGION": 2,
         "ADM_RATE": "0.7153",
         "TUITIONFEE_IN": "8622.0",
         "YEAR": "2006",
         "_deepnote_index_column": 13
        },
        {
         "UNITID": 163268,
         "INSTNM": "University of Maryland-Baltimore County",
         "STABBR": "MD",
         "REGION": 2,
         "ADM_RATE": "nan",
         "TUITIONFEE_IN": "5490.0",
         "YEAR": "2000",
         "_deepnote_index_column": 18
        },
        {
         "UNITID": 163268,
         "INSTNM": "University of Maryland-Baltimore County",
         "STABBR": "MD",
         "REGION": 2,
         "ADM_RATE": "0.5757",
         "TUITIONFEE_IN": "7388.0",
         "YEAR": "2003",
         "_deepnote_index_column": 9
        },
        {
         "UNITID": 163268,
         "INSTNM": "University of Maryland-Baltimore County",
         "STABBR": "MD",
         "REGION": 2,
         "ADM_RATE": "nan",
         "TUITIONFEE_IN": "nan",
         "YEAR": "1996",
         "_deepnote_index_column": 20
        }
       ],
       "rows_bottom": null
      },
      "text/plain": "    UNITID                                   INSTNM STABBR  REGION  ADM_RATE  \\\n8   163268  University of Maryland-Baltimore County     MD     2.0    0.6589   \n1   163268  University of Maryland-Baltimore County     MD     2.0    0.5683   \n19  163268  University of Maryland-Baltimore County     MD     2.0    0.6315   \n2   163268  University of Maryland-Baltimore County     MD     2.0    0.6890   \n11  163268  University of Maryland-Baltimore County     MD     2.0       NaN   \n3   163268  University of Maryland-Baltimore County     MD     2.0    0.6021   \n13  163268  University of Maryland-Baltimore County     MD     2.0    0.7153   \n18  163268  University of Maryland-Baltimore County     MD     2.0       NaN   \n9   163268  University of Maryland-Baltimore County     MD     2.0    0.5757   \n20  163268  University of Maryland-Baltimore County     MD     2.0       NaN   \n\n    TUITIONFEE_IN  YEAR  \n8          9171.0  2010  \n1         11264.0  2016  \n19        10068.0  2013  \n2          8872.0  2009  \n11            NaN  1999  \n3         11518.0  2017  \n13         8622.0  2006  \n18         5490.0  2000  \n9          7388.0  2003  \n20            NaN  1996  ",
      "text/html": "<div>\n<style scoped>\n    .dataframe tbody tr th:only-of-type {\n        vertical-align: middle;\n    }\n\n    .dataframe tbody tr th {\n        vertical-align: top;\n    }\n\n    .dataframe thead th {\n        text-align: right;\n    }\n</style>\n<table border=\"1\" class=\"dataframe\">\n  <thead>\n    <tr style=\"text-align: right;\">\n      <th></th>\n      <th>UNITID</th>\n      <th>INSTNM</th>\n      <th>STABBR</th>\n      <th>REGION</th>\n      <th>ADM_RATE</th>\n      <th>TUITIONFEE_IN</th>\n      <th>YEAR</th>\n    </tr>\n  </thead>\n  <tbody>\n    <tr>\n      <th>8</th>\n      <td>163268</td>\n      <td>University of Maryland-Baltimore County</td>\n      <td>MD</td>\n      <td>2.0</td>\n      <td>0.6589</td>\n      <td>9171.0</td>\n      <td>2010</td>\n    </tr>\n    <tr>\n      <th>1</th>\n      <td>163268</td>\n      <td>University of Maryland-Baltimore County</td>\n      <td>MD</td>\n      <td>2.0</td>\n      <td>0.5683</td>\n      <td>11264.0</td>\n      <td>2016</td>\n    </tr>\n    <tr>\n      <th>19</th>\n      <td>163268</td>\n      <td>University of Maryland-Baltimore County</td>\n      <td>MD</td>\n      <td>2.0</td>\n      <td>0.6315</td>\n      <td>10068.0</td>\n      <td>2013</td>\n    </tr>\n    <tr>\n      <th>2</th>\n      <td>163268</td>\n      <td>University of Maryland-Baltimore County</td>\n      <td>MD</td>\n      <td>2.0</td>\n      <td>0.6890</td>\n      <td>8872.0</td>\n      <td>2009</td>\n    </tr>\n    <tr>\n      <th>11</th>\n      <td>163268</td>\n      <td>University of Maryland-Baltimore County</td>\n      <td>MD</td>\n      <td>2.0</td>\n      <td>NaN</td>\n      <td>NaN</td>\n      <td>1999</td>\n    </tr>\n    <tr>\n      <th>3</th>\n      <td>163268</td>\n      <td>University of Maryland-Baltimore County</td>\n      <td>MD</td>\n      <td>2.0</td>\n      <td>0.6021</td>\n      <td>11518.0</td>\n      <td>2017</td>\n    </tr>\n    <tr>\n      <th>13</th>\n      <td>163268</td>\n      <td>University of Maryland-Baltimore County</td>\n      <td>MD</td>\n      <td>2.0</td>\n      <td>0.7153</td>\n      <td>8622.0</td>\n      <td>2006</td>\n    </tr>\n    <tr>\n      <th>18</th>\n      <td>163268</td>\n      <td>University of Maryland-Baltimore County</td>\n      <td>MD</td>\n      <td>2.0</td>\n      <td>NaN</td>\n      <td>5490.0</td>\n      <td>2000</td>\n    </tr>\n    <tr>\n      <th>9</th>\n      <td>163268</td>\n      <td>University of Maryland-Baltimore County</td>\n      <td>MD</td>\n      <td>2.0</td>\n      <td>0.5757</td>\n      <td>7388.0</td>\n      <td>2003</td>\n    </tr>\n    <tr>\n      <th>20</th>\n      <td>163268</td>\n      <td>University of Maryland-Baltimore County</td>\n      <td>MD</td>\n      <td>2.0</td>\n      <td>NaN</td>\n      <td>NaN</td>\n      <td>1996</td>\n    </tr>\n  </tbody>\n</table>\n</div>"
     },
     "metadata": {}
    }
   ],
   "execution_count": 17
  },
  {
   "cell_type": "code",
   "source": "umbc_df.isna().any()",
   "metadata": {
    "tags": [],
    "cell_id": "00017-aef92df3-012e-4dab-afc3-a5b47a264111",
    "deepnote_to_be_reexecuted": false,
    "source_hash": "12df706f",
    "execution_start": 1621551952508,
    "execution_millis": 9,
    "deepnote_cell_type": "code"
   },
   "outputs": [
    {
     "output_type": "execute_result",
     "execution_count": 18,
     "data": {
      "text/plain": "UNITID           False\nINSTNM           False\nSTABBR           False\nREGION           False\nADM_RATE          True\nTUITIONFEE_IN     True\nYEAR             False\ndtype: bool"
     },
     "metadata": {}
    }
   ],
   "execution_count": 18
  },
  {
   "cell_type": "code",
   "source": "umbc_df.describe()",
   "metadata": {
    "tags": [],
    "cell_id": "00018-ec425081-18c6-4c70-a789-dc5554b0adfb",
    "deepnote_to_be_reexecuted": false,
    "source_hash": "ffd131b3",
    "execution_start": 1621551952528,
    "execution_millis": 26,
    "deepnote_cell_type": "code"
   },
   "outputs": [
    {
     "output_type": "execute_result",
     "execution_count": 19,
     "data": {
      "application/vnd.deepnote.dataframe.v2+json": {
       "row_count": 8,
       "column_count": 4,
       "columns": [
        {
         "name": "UNITID",
         "dtype": "float64",
         "stats": {
          "unique_count": 3,
          "nan_count": 0,
          "min": "0.0",
          "max": "163268.0",
          "histogram": [
           {
            "bin_start": 0,
            "bin_end": 16326.8,
            "count": 2
           },
           {
            "bin_start": 16326.8,
            "bin_end": 32653.6,
            "count": 0
           },
           {
            "bin_start": 32653.6,
            "bin_end": 48980.399999999994,
            "count": 0
           },
           {
            "bin_start": 48980.399999999994,
            "bin_end": 65307.2,
            "count": 0
           },
           {
            "bin_start": 65307.2,
            "bin_end": 81634,
            "count": 0
           },
           {
            "bin_start": 81634,
            "bin_end": 97960.79999999999,
            "count": 0
           },
           {
            "bin_start": 97960.79999999999,
            "bin_end": 114287.59999999999,
            "count": 0
           },
           {
            "bin_start": 114287.59999999999,
            "bin_end": 130614.4,
            "count": 0
           },
           {
            "bin_start": 130614.4,
            "bin_end": 146941.19999999998,
            "count": 0
           },
           {
            "bin_start": 146941.19999999998,
            "bin_end": 163268,
            "count": 6
           }
          ]
         }
        },
        {
         "name": "REGION",
         "dtype": "float64",
         "stats": {
          "unique_count": 3,
          "nan_count": 0,
          "min": "0.0",
          "max": "23.0",
          "histogram": [
           {
            "bin_start": 0,
            "bin_end": 2.3,
            "count": 7
           },
           {
            "bin_start": 2.3,
            "bin_end": 4.6,
            "count": 0
           },
           {
            "bin_start": 4.6,
            "bin_end": 6.8999999999999995,
            "count": 0
           },
           {
            "bin_start": 6.8999999999999995,
            "bin_end": 9.2,
            "count": 0
           },
           {
            "bin_start": 9.2,
            "bin_end": 11.5,
            "count": 0
           },
           {
            "bin_start": 11.5,
            "bin_end": 13.799999999999999,
            "count": 0
           },
           {
            "bin_start": 13.799999999999999,
            "bin_end": 16.099999999999998,
            "count": 0
           },
           {
            "bin_start": 16.099999999999998,
            "bin_end": 18.4,
            "count": 0
           },
           {
            "bin_start": 18.4,
            "bin_end": 20.7,
            "count": 0
           },
           {
            "bin_start": 20.7,
            "bin_end": 23,
            "count": 1
           }
          ]
         }
        },
        {
         "name": "ADM_RATE",
         "dtype": "float64",
         "stats": {
          "unique_count": 8,
          "nan_count": 0,
          "min": "0.052727651772461005",
          "max": "18.0",
          "histogram": [
           {
            "bin_start": 0.052727651772461005,
            "bin_end": 1.847454886595215,
            "count": 7
           },
           {
            "bin_start": 1.847454886595215,
            "bin_end": 3.6421821214179686,
            "count": 0
           },
           {
            "bin_start": 3.6421821214179686,
            "bin_end": 5.436909356240722,
            "count": 0
           },
           {
            "bin_start": 5.436909356240722,
            "bin_end": 7.231636591063476,
            "count": 0
           },
           {
            "bin_start": 7.231636591063476,
            "bin_end": 9.02636382588623,
            "count": 0
           },
           {
            "bin_start": 9.02636382588623,
            "bin_end": 10.821091060708984,
            "count": 0
           },
           {
            "bin_start": 10.821091060708984,
            "bin_end": 12.615818295531739,
            "count": 0
           },
           {
            "bin_start": 12.615818295531739,
            "bin_end": 14.410545530354492,
            "count": 0
           },
           {
            "bin_start": 14.410545530354492,
            "bin_end": 16.205272765177245,
            "count": 0
           },
           {
            "bin_start": 16.205272765177245,
            "bin_end": 18,
            "count": 1
           }
          ]
         }
        },
        {
         "name": "TUITIONFEE_IN",
         "dtype": "float64",
         "stats": {
          "unique_count": 8,
          "nan_count": 0,
          "min": "19.0",
          "max": "11778.0",
          "histogram": [
           {
            "bin_start": 19,
            "bin_end": 1194.9,
            "count": 1
           },
           {
            "bin_start": 1194.9,
            "bin_end": 2370.8,
            "count": 1
           },
           {
            "bin_start": 2370.8,
            "bin_end": 3546.7000000000003,
            "count": 0
           },
           {
            "bin_start": 3546.7000000000003,
            "bin_end": 4722.6,
            "count": 0
           },
           {
            "bin_start": 4722.6,
            "bin_end": 5898.5,
            "count": 1
           },
           {
            "bin_start": 5898.5,
            "bin_end": 7074.400000000001,
            "count": 0
           },
           {
            "bin_start": 7074.400000000001,
            "bin_end": 8250.300000000001,
            "count": 0
           },
           {
            "bin_start": 8250.300000000001,
            "bin_end": 9426.2,
            "count": 3
           },
           {
            "bin_start": 9426.2,
            "bin_end": 10602.1,
            "count": 1
           },
           {
            "bin_start": 10602.1,
            "bin_end": 11778,
            "count": 1
           }
          ]
         }
        },
        {
         "name": "_deepnote_index_column",
         "dtype": "object"
        }
       ],
       "rows_top": [
        {
         "UNITID": 23,
         "REGION": 23,
         "ADM_RATE": 18,
         "TUITIONFEE_IN": 19,
         "_deepnote_index_column": "count"
        },
        {
         "UNITID": 163268,
         "REGION": 2,
         "ADM_RATE": 0.6406944444444443,
         "TUITIONFEE_IN": 9004.842105263158,
         "_deepnote_index_column": "mean"
        },
        {
         "UNITID": 0,
         "REGION": 0,
         "ADM_RATE": 0.052727651772461005,
         "TUITIONFEE_IN": 1825.7954206670183,
         "_deepnote_index_column": "std"
        },
        {
         "UNITID": 163268,
         "REGION": 2,
         "ADM_RATE": 0.5683,
         "TUITIONFEE_IN": 5490,
         "_deepnote_index_column": "min"
        },
        {
         "UNITID": 163268,
         "REGION": 2,
         "ADM_RATE": 0.5976,
         "TUITIONFEE_IN": 8270,
         "_deepnote_index_column": "25%"
        },
        {
         "UNITID": 163268,
         "REGION": 2,
         "ADM_RATE": 0.6321,
         "TUITIONFEE_IN": 8872,
         "_deepnote_index_column": "50%"
        },
        {
         "UNITID": 163268,
         "REGION": 2,
         "ADM_RATE": 0.6893750000000001,
         "TUITIONFEE_IN": 10226,
         "_deepnote_index_column": "75%"
        },
        {
         "UNITID": 163268,
         "REGION": 2,
         "ADM_RATE": 0.7174,
         "TUITIONFEE_IN": 11778,
         "_deepnote_index_column": "max"
        }
       ],
       "rows_bottom": null
      },
      "text/plain": "         UNITID  REGION   ADM_RATE  TUITIONFEE_IN\ncount      23.0    23.0  18.000000      19.000000\nmean   163268.0     2.0   0.640694    9004.842105\nstd         0.0     0.0   0.052728    1825.795421\nmin    163268.0     2.0   0.568300    5490.000000\n25%    163268.0     2.0   0.597600    8270.000000\n50%    163268.0     2.0   0.632100    8872.000000\n75%    163268.0     2.0   0.689375   10226.000000\nmax    163268.0     2.0   0.717400   11778.000000",
      "text/html": "<div>\n<style scoped>\n    .dataframe tbody tr th:only-of-type {\n        vertical-align: middle;\n    }\n\n    .dataframe tbody tr th {\n        vertical-align: top;\n    }\n\n    .dataframe thead th {\n        text-align: right;\n    }\n</style>\n<table border=\"1\" class=\"dataframe\">\n  <thead>\n    <tr style=\"text-align: right;\">\n      <th></th>\n      <th>UNITID</th>\n      <th>REGION</th>\n      <th>ADM_RATE</th>\n      <th>TUITIONFEE_IN</th>\n    </tr>\n  </thead>\n  <tbody>\n    <tr>\n      <th>count</th>\n      <td>23.0</td>\n      <td>23.0</td>\n      <td>18.000000</td>\n      <td>19.000000</td>\n    </tr>\n    <tr>\n      <th>mean</th>\n      <td>163268.0</td>\n      <td>2.0</td>\n      <td>0.640694</td>\n      <td>9004.842105</td>\n    </tr>\n    <tr>\n      <th>std</th>\n      <td>0.0</td>\n      <td>0.0</td>\n      <td>0.052728</td>\n      <td>1825.795421</td>\n    </tr>\n    <tr>\n      <th>min</th>\n      <td>163268.0</td>\n      <td>2.0</td>\n      <td>0.568300</td>\n      <td>5490.000000</td>\n    </tr>\n    <tr>\n      <th>25%</th>\n      <td>163268.0</td>\n      <td>2.0</td>\n      <td>0.597600</td>\n      <td>8270.000000</td>\n    </tr>\n    <tr>\n      <th>50%</th>\n      <td>163268.0</td>\n      <td>2.0</td>\n      <td>0.632100</td>\n      <td>8872.000000</td>\n    </tr>\n    <tr>\n      <th>75%</th>\n      <td>163268.0</td>\n      <td>2.0</td>\n      <td>0.689375</td>\n      <td>10226.000000</td>\n    </tr>\n    <tr>\n      <th>max</th>\n      <td>163268.0</td>\n      <td>2.0</td>\n      <td>0.717400</td>\n      <td>11778.000000</td>\n    </tr>\n  </tbody>\n</table>\n</div>"
     },
     "metadata": {}
    }
   ],
   "execution_count": 19
  },
  {
   "cell_type": "code",
   "source": "plt.figure(figsize=(20,8))\nplt.bar(x='YEAR', height='TUITIONFEE_IN', data=umbc_df)\nplt.xlabel('YEAR')\nplt.ylabel('TUITION FEE IN-STATE')\nplt.title('Bar plot of UMBC instate tuition fee against each year')",
   "metadata": {
    "tags": [],
    "cell_id": "00019-b64882f2-5b04-48f2-8f4a-689bbf5d9d88",
    "deepnote_to_be_reexecuted": false,
    "source_hash": "9a8c30c",
    "execution_start": 1621551952558,
    "execution_millis": 372,
    "deepnote_cell_type": "code"
   },
   "outputs": [
    {
     "output_type": "execute_result",
     "execution_count": 20,
     "data": {
      "text/plain": "Text(0.5, 1.0, 'Bar plot of UMBC instate tuition fee against each year')"
     },
     "metadata": {}
    },
    {
     "data": {
      "text/plain": "<Figure size 1440x576 with 1 Axes>",
      "image/png": "[encoded data removed]"
     },
     "metadata": {
      "needs_background": "light",
      "image/png": {
       "width": 1182,
       "height": 496
      }
     },
     "output_type": "display_data"
    }
   ],
   "execution_count": 20
  },
  {
   "cell_type": "code",
   "source": "plt.figure(figsize=(20,8))\nplt.grid()\nplt.plot('YEAR', 'TUITIONFEE_IN', data=umbc_df)\nplt.xlabel('YEAR')\nplt.ylabel('TUITION FEE IN-STATE')\nplt.title('Line plot of UMBC instate tuition fee against each year')",
   "metadata": {
    "tags": [],
    "cell_id": "00020-4c542174-7fee-405e-9ee1-792af0eda6ad",
    "deepnote_to_be_reexecuted": false,
    "source_hash": "34958213",
    "execution_start": 1621551952937,
    "execution_millis": 302,
    "deepnote_cell_type": "code"
   },
   "outputs": [
    {
     "output_type": "execute_result",
     "execution_count": 21,
     "data": {
      "text/plain": "Text(0.5, 1.0, 'Line plot of UMBC instate tuition fee against each year')"
     },
     "metadata": {}
    },
    {
     "data": {
      "text/plain": "<Figure size 1440x576 with 1 Axes>",
      "image/png": "[encoded data removed]"
     },
     "metadata": {
      "needs_background": "light",
      "image/png": {
       "width": 1193,
       "height": 496
      }
     },
     "output_type": "display_data"
    }
   ],
   "execution_count": 21
  },
  {
   "cell_type": "code",
   "source": "lst_tuti = umbc_df['TUITIONFEE_IN'].to_list() # List with only the UMBC tuition fee over the years 1996-2019\nlst_tuti",
   "metadata": {
    "tags": [],
    "cell_id": "00021-5bedc433-eff6-476e-887b-510e8b06e7b8",
    "deepnote_to_be_reexecuted": false,
    "source_hash": "cce6bdd6",
    "execution_start": 1621551953245,
    "execution_millis": 5,
    "deepnote_cell_type": "code"
   },
   "outputs": [
    {
     "output_type": "execute_result",
     "execution_count": 22,
     "data": {
      "text/plain": "[8780.0,\n 11264.0,\n 8872.0,\n 11518.0,\n 5910.0,\n 10384.0,\n 8520.0,\n nan,\n 9171.0,\n 7388.0,\n 9764.0,\n nan,\n 11778.0,\n 8622.0,\n 8708.0,\n 9467.0,\n 8020.0,\n 11006.0,\n 5490.0,\n 10068.0,\n nan,\n 6362.0,\n nan]"
     },
     "metadata": {}
    }
   ],
   "execution_count": 22
  },
  {
   "cell_type": "code",
   "source": "temp_Series = pd.Series(lst_tuti) # Creating a series\nchanges = temp_Series.pct_change()*100 #pct_change() returns percentage change from before and after values\nchanges = changes.to_list() #Converts from series to list\nchanges #The percentage changes list",
   "metadata": {
    "tags": [],
    "cell_id": "00022-d2e687a5-edcc-4e95-b210-ff8839cb02be",
    "deepnote_to_be_reexecuted": false,
    "source_hash": "968b2dcd",
    "execution_start": 1621551953247,
    "execution_millis": 15,
    "deepnote_cell_type": "code"
   },
   "outputs": [
    {
     "output_type": "execute_result",
     "execution_count": 23,
     "data": {
      "text/plain": "[nan,\n 28.291571753986332,\n -21.23579545454546,\n 29.824165915238954,\n -48.68900850842161,\n 75.70219966159053,\n -17.950693374422187,\n 0.0,\n 7.640845070422531,\n -19.44171846036419,\n 32.160259880887935,\n 0.0,\n 20.626792298238428,\n -26.79572083545594,\n 0.9974483878450568,\n 8.716123105190633,\n -15.28467307489173,\n 37.23192019950125,\n -50.11811739051426,\n 83.3879781420765,\n 0.0,\n -36.809694080254275,\n 0.0]"
     },
     "metadata": {}
    }
   ],
   "execution_count": 23
  },
  {
   "cell_type": "code",
   "source": "my_formatted_list = [round(i, 2) for i in changes ] # Rounding off to 2 decimals\nmy_formatted_list",
   "metadata": {
    "tags": [],
    "cell_id": "00023-3067f014-445c-4ec0-b216-de4f06f1f869",
    "deepnote_to_be_reexecuted": false,
    "source_hash": "cafd50ac",
    "execution_start": 1621551953258,
    "execution_millis": 8,
    "deepnote_cell_type": "code"
   },
   "outputs": [
    {
     "output_type": "execute_result",
     "execution_count": 24,
     "data": {
      "text/plain": "[nan,\n 28.29,\n -21.24,\n 29.82,\n -48.69,\n 75.7,\n -17.95,\n 0.0,\n 7.64,\n -19.44,\n 32.16,\n 0.0,\n 20.63,\n -26.8,\n 1.0,\n 8.72,\n -15.28,\n 37.23,\n -50.12,\n 83.39,\n 0.0,\n -36.81,\n 0.0]"
     },
     "metadata": {}
    }
   ],
   "execution_count": 24
  },
  {
   "cell_type": "code",
   "source": "umbc_df['PCT_CHANGE'] = my_formatted_list # Inserting values to column PCT_CHANGE\numbc_df",
   "metadata": {
    "tags": [],
    "cell_id": "00024-b3e048ef-0a45-4689-8759-d074f15fa36c",
    "deepnote_to_be_reexecuted": false,
    "source_hash": "147a1cae",
    "execution_start": 1621551953307,
    "execution_millis": 7,
    "deepnote_cell_type": "code"
   },
   "outputs": [
    {
     "output_type": "execute_result",
     "execution_count": 25,
     "data": {
      "application/vnd.deepnote.dataframe.v2+json": {
       "row_count": 23,
       "column_count": 8,
       "columns": [
        {
         "name": "UNITID",
         "dtype": "int64",
         "stats": {
          "unique_count": 1,
          "nan_count": 0,
          "min": "163268",
          "max": "163268",
          "histogram": [
           {
            "bin_start": 163267.5,
            "bin_end": 163267.6,
            "count": 0
           },
           {
            "bin_start": 163267.6,
            "bin_end": 163267.7,
            "count": 0
           },
           {
            "bin_start": 163267.7,
            "bin_end": 163267.8,
            "count": 0
           },
           {
            "bin_start": 163267.8,
            "bin_end": 163267.9,
            "count": 0
           },
           {
            "bin_start": 163267.9,
            "bin_end": 163268,
            "count": 0
           },
           {
            "bin_start": 163268,
            "bin_end": 163268.1,
            "count": 23
           },
           {
            "bin_start": 163268.1,
            "bin_end": 163268.2,
            "count": 0
           },
           {
            "bin_start": 163268.2,
            "bin_end": 163268.3,
            "count": 0
           },
           {
            "bin_start": 163268.3,
            "bin_end": 163268.4,
            "count": 0
           },
           {
            "bin_start": 163268.4,
            "bin_end": 163268.5,
            "count": 0
           }
          ]
         }
        },
        {
         "name": "INSTNM",
         "dtype": "object",
         "stats": {
          "unique_count": 1,
          "nan_count": 0,
          "categories": [
           {
            "name": "University of Maryland-Baltimore County",
            "count": 23
           }
          ]
         }
        },
        {
         "name": "STABBR",
         "dtype": "object",
         "stats": {
          "unique_count": 1,
          "nan_count": 0,
          "categories": [
           {
            "name": "MD",
            "count": 23
           }
          ]
         }
        },
        {
         "name": "REGION",
         "dtype": "float64",
         "stats": {
          "unique_count": 1,
          "nan_count": 0,
          "min": "2.0",
          "max": "2.0",
          "histogram": [
           {
            "bin_start": 1.5,
            "bin_end": 1.6,
            "count": 0
           },
           {
            "bin_start": 1.6,
            "bin_end": 1.7,
            "count": 0
           },
           {
            "bin_start": 1.7,
            "bin_end": 1.8,
            "count": 0
           },
           {
            "bin_start": 1.8,
            "bin_end": 1.9,
            "count": 0
           },
           {
            "bin_start": 1.9,
            "bin_end": 2,
            "count": 0
           },
           {
            "bin_start": 2,
            "bin_end": 2.1,
            "count": 23
           },
           {
            "bin_start": 2.1,
            "bin_end": 2.2,
            "count": 0
           },
           {
            "bin_start": 2.2,
            "bin_end": 2.3,
            "count": 0
           },
           {
            "bin_start": 2.3,
            "bin_end": 2.4,
            "count": 0
           },
           {
            "bin_start": 2.4,
            "bin_end": 2.5,
            "count": 0
           }
          ]
         }
        },
        {
         "name": "ADM_RATE",
         "dtype": "float64",
         "stats": {
          "unique_count": 18,
          "nan_count": 5,
          "min": "0.5683",
          "max": "0.7174",
          "histogram": [
           {
            "bin_start": 0.5683,
            "bin_end": 0.58321,
            "count": 3
           },
           {
            "bin_start": 0.58321,
            "bin_end": 0.59812,
            "count": 2
           },
           {
            "bin_start": 0.59812,
            "bin_end": 0.6130300000000001,
            "count": 3
           },
           {
            "bin_start": 0.6130300000000001,
            "bin_end": 0.62794,
            "count": 0
           },
           {
            "bin_start": 0.62794,
            "bin_end": 0.64285,
            "count": 2
           },
           {
            "bin_start": 0.64285,
            "bin_end": 0.65776,
            "count": 1
           },
           {
            "bin_start": 0.65776,
            "bin_end": 0.67267,
            "count": 1
           },
           {
            "bin_start": 0.67267,
            "bin_end": 0.6875800000000001,
            "count": 0
           },
           {
            "bin_start": 0.6875800000000001,
            "bin_end": 0.7024900000000001,
            "count": 3
           },
           {
            "bin_start": 0.7024900000000001,
            "bin_end": 0.7174,
            "count": 3
           }
          ]
         }
        },
        {
         "name": "TUITIONFEE_IN",
         "dtype": "float64",
         "stats": {
          "unique_count": 19,
          "nan_count": 4,
          "min": "5490.0",
          "max": "11778.0",
          "histogram": [
           {
            "bin_start": 5490,
            "bin_end": 6118.8,
            "count": 2
           },
           {
            "bin_start": 6118.8,
            "bin_end": 6747.6,
            "count": 1
           },
           {
            "bin_start": 6747.6,
            "bin_end": 7376.4,
            "count": 0
           },
           {
            "bin_start": 7376.4,
            "bin_end": 8005.2,
            "count": 1
           },
           {
            "bin_start": 8005.2,
            "bin_end": 8634,
            "count": 3
           },
           {
            "bin_start": 8634,
            "bin_end": 9262.8,
            "count": 4
           },
           {
            "bin_start": 9262.8,
            "bin_end": 9891.599999999999,
            "count": 2
           },
           {
            "bin_start": 9891.599999999999,
            "bin_end": 10520.4,
            "count": 2
           },
           {
            "bin_start": 10520.4,
            "bin_end": 11149.2,
            "count": 1
           },
           {
            "bin_start": 11149.2,
            "bin_end": 11778,
            "count": 3
           }
          ]
         }
        },
        {
         "name": "YEAR",
         "dtype": "object",
         "stats": {
          "unique_count": 23,
          "nan_count": 0,
          "categories": [
           {
            "name": "2008",
            "count": 1
           },
           {
            "name": "2016",
            "count": 1
           },
           {
            "name": "21 others",
            "count": 21
           }
          ]
         }
        },
        {
         "name": "PCT_CHANGE",
         "dtype": "float64",
         "stats": {
          "unique_count": 19,
          "nan_count": 1,
          "min": "-50.12",
          "max": "83.39",
          "histogram": [
           {
            "bin_start": -50.12,
            "bin_end": -36.769,
            "count": 3
           },
           {
            "bin_start": -36.769,
            "bin_end": -23.418,
            "count": 1
           },
           {
            "bin_start": -23.418,
            "bin_end": -10.067,
            "count": 4
           },
           {
            "bin_start": -10.067,
            "bin_end": 3.283999999999999,
            "count": 5
           },
           {
            "bin_start": 3.283999999999999,
            "bin_end": 16.634999999999998,
            "count": 2
           },
           {
            "bin_start": 16.634999999999998,
            "bin_end": 29.985999999999997,
            "count": 3
           },
           {
            "bin_start": 29.985999999999997,
            "bin_end": 43.336999999999996,
            "count": 2
           },
           {
            "bin_start": 43.336999999999996,
            "bin_end": 56.687999999999995,
            "count": 0
           },
           {
            "bin_start": 56.687999999999995,
            "bin_end": 70.03899999999999,
            "count": 0
           },
           {
            "bin_start": 70.03899999999999,
            "bin_end": 83.39,
            "count": 2
           }
          ]
         }
        },
        {
         "name": "_deepnote_index_column",
         "dtype": "int64"
        }
       ],
       "rows_top": [
        {
         "UNITID": 163268,
         "INSTNM": "University of Maryland-Baltimore County",
         "STABBR": "MD",
         "REGION": 2,
         "ADM_RATE": "0.7174",
         "TUITIONFEE_IN": "8780.0",
         "YEAR": "2008",
         "PCT_CHANGE": "nan",
         "_deepnote_index_column": 0
        },
        {
         "UNITID": 163268,
         "INSTNM": "University of Maryland-Baltimore County",
         "STABBR": "MD",
         "REGION": 2,
         "ADM_RATE": "0.5683",
         "TUITIONFEE_IN": "11264.0",
         "YEAR": "2016",
         "PCT_CHANGE": "28.29",
         "_deepnote_index_column": 1
        },
        {
         "UNITID": 163268,
         "INSTNM": "University of Maryland-Baltimore County",
         "STABBR": "MD",
         "REGION": 2,
         "ADM_RATE": "0.689",
         "TUITIONFEE_IN": "8872.0",
         "YEAR": "2009",
         "PCT_CHANGE": "-21.24",
         "_deepnote_index_column": 2
        },
        {
         "UNITID": 163268,
         "INSTNM": "University of Maryland-Baltimore County",
         "STABBR": "MD",
         "REGION": 2,
         "ADM_RATE": "0.6021",
         "TUITIONFEE_IN": "11518.0",
         "YEAR": "2017",
         "PCT_CHANGE": "29.82",
         "_deepnote_index_column": 3
        },
        {
         "UNITID": 163268,
         "INSTNM": "University of Maryland-Baltimore County",
         "STABBR": "MD",
         "REGION": 2,
         "ADM_RATE": "0.6551",
         "TUITIONFEE_IN": "5910.0",
         "YEAR": "2001",
         "PCT_CHANGE": "-48.69",
         "_deepnote_index_column": 4
        },
        {
         "UNITID": 163268,
         "INSTNM": "University of Maryland-Baltimore County",
         "STABBR": "MD",
         "REGION": 2,
         "ADM_RATE": "0.5961",
         "TUITIONFEE_IN": "10384.0",
         "YEAR": "2014",
         "PCT_CHANGE": "75.7",
         "_deepnote_index_column": 5
        },
        {
         "UNITID": 163268,
         "INSTNM": "University of Maryland-Baltimore County",
         "STABBR": "MD",
         "REGION": 2,
         "ADM_RATE": "0.7143",
         "TUITIONFEE_IN": "8520.0",
         "YEAR": "2005",
         "PCT_CHANGE": "-17.95",
         "_deepnote_index_column": 6
        },
        {
         "UNITID": 163268,
         "INSTNM": "University of Maryland-Baltimore County",
         "STABBR": "MD",
         "REGION": 2,
         "ADM_RATE": "nan",
         "TUITIONFEE_IN": "nan",
         "YEAR": "1998",
         "PCT_CHANGE": "0.0",
         "_deepnote_index_column": 7
        },
        {
         "UNITID": 163268,
         "INSTNM": "University of Maryland-Baltimore County",
         "STABBR": "MD",
         "REGION": 2,
         "ADM_RATE": "0.6589",
         "TUITIONFEE_IN": "9171.0",
         "YEAR": "2010",
         "PCT_CHANGE": "7.64",
         "_deepnote_index_column": 8
        },
        {
         "UNITID": 163268,
         "INSTNM": "University of Maryland-Baltimore County",
         "STABBR": "MD",
         "REGION": 2,
         "ADM_RATE": "0.5757",
         "TUITIONFEE_IN": "7388.0",
         "YEAR": "2003",
         "PCT_CHANGE": "-19.44",
         "_deepnote_index_column": 9
        },
        {
         "UNITID": 163268,
         "INSTNM": "University of Maryland-Baltimore County",
         "STABBR": "MD",
         "REGION": 2,
         "ADM_RATE": "0.6035",
         "TUITIONFEE_IN": "9764.0",
         "YEAR": "2012",
         "PCT_CHANGE": "32.16",
         "_deepnote_index_column": 10
        },
        {
         "UNITID": 163268,
         "INSTNM": "University of Maryland-Baltimore County",
         "STABBR": "MD",
         "REGION": 2,
         "ADM_RATE": "nan",
         "TUITIONFEE_IN": "nan",
         "YEAR": "1999",
         "PCT_CHANGE": "0.0",
         "_deepnote_index_column": 11
        },
        {
         "UNITID": 163268,
         "INSTNM": "University of Maryland-Baltimore County",
         "STABBR": "MD",
         "REGION": 2,
         "ADM_RATE": "0.5794",
         "TUITIONFEE_IN": "11778.0",
         "YEAR": "2018",
         "PCT_CHANGE": "20.63",
         "_deepnote_index_column": 12
        },
        {
         "UNITID": 163268,
         "INSTNM": "University of Maryland-Baltimore County",
         "STABBR": "MD",
         "REGION": 2,
         "ADM_RATE": "0.7153",
         "TUITIONFEE_IN": "8622.0",
         "YEAR": "2006",
         "PCT_CHANGE": "-26.8",
         "_deepnote_index_column": 13
        },
        {
         "UNITID": 163268,
         "INSTNM": "University of Maryland-Baltimore County",
         "STABBR": "MD",
         "REGION": 2,
         "ADM_RATE": "0.6895",
         "TUITIONFEE_IN": "8708.0",
         "YEAR": "2007",
         "PCT_CHANGE": "1.0",
         "_deepnote_index_column": 14
        },
        {
         "UNITID": 163268,
         "INSTNM": "University of Maryland-Baltimore County",
         "STABBR": "MD",
         "REGION": 2,
         "ADM_RATE": "0.6081",
         "TUITIONFEE_IN": "9467.0",
         "YEAR": "2011",
         "PCT_CHANGE": "8.72",
         "_deepnote_index_column": 15
        },
        {
         "UNITID": 163268,
         "INSTNM": "University of Maryland-Baltimore County",
         "STABBR": "MD",
         "REGION": 2,
         "ADM_RATE": "0.7014",
         "TUITIONFEE_IN": "8020.0",
         "YEAR": "2004",
         "PCT_CHANGE": "-15.28",
         "_deepnote_index_column": 16
        },
        {
         "UNITID": 163268,
         "INSTNM": "University of Maryland-Baltimore County",
         "STABBR": "MD",
         "REGION": 2,
         "ADM_RATE": "0.5942",
         "TUITIONFEE_IN": "11006.0",
         "YEAR": "2015",
         "PCT_CHANGE": "37.23",
         "_deepnote_index_column": 17
        },
        {
         "UNITID": 163268,
         "INSTNM": "University of Maryland-Baltimore County",
         "STABBR": "MD",
         "REGION": 2,
         "ADM_RATE": "nan",
         "TUITIONFEE_IN": "5490.0",
         "YEAR": "2000",
         "PCT_CHANGE": "-50.12",
         "_deepnote_index_column": 18
        },
        {
         "UNITID": 163268,
         "INSTNM": "University of Maryland-Baltimore County",
         "STABBR": "MD",
         "REGION": 2,
         "ADM_RATE": "0.6315",
         "TUITIONFEE_IN": "10068.0",
         "YEAR": "2013",
         "PCT_CHANGE": "83.39",
         "_deepnote_index_column": 19
        },
        {
         "UNITID": 163268,
         "INSTNM": "University of Maryland-Baltimore County",
         "STABBR": "MD",
         "REGION": 2,
         "ADM_RATE": "nan",
         "TUITIONFEE_IN": "nan",
         "YEAR": "1996",
         "PCT_CHANGE": "0.0",
         "_deepnote_index_column": 20
        },
        {
         "UNITID": 163268,
         "INSTNM": "University of Maryland-Baltimore County",
         "STABBR": "MD",
         "REGION": 2,
         "ADM_RATE": "0.6327",
         "TUITIONFEE_IN": "6362.0",
         "YEAR": "2002",
         "PCT_CHANGE": "-36.81",
         "_deepnote_index_column": 21
        },
        {
         "UNITID": 163268,
         "INSTNM": "University of Maryland-Baltimore County",
         "STABBR": "MD",
         "REGION": 2,
         "ADM_RATE": "nan",
         "TUITIONFEE_IN": "nan",
         "YEAR": "1997",
         "PCT_CHANGE": "0.0",
         "_deepnote_index_column": 22
        }
       ],
       "rows_bottom": null
      },
      "text/plain": "    UNITID                                   INSTNM STABBR  REGION  ADM_RATE  \\\n0   163268  University of Maryland-Baltimore County     MD     2.0    0.7174   \n1   163268  University of Maryland-Baltimore County     MD     2.0    0.5683   \n2   163268  University of Maryland-Baltimore County     MD     2.0    0.6890   \n3   163268  University of Maryland-Baltimore County     MD     2.0    0.6021   \n4   163268  University of Maryland-Baltimore County     MD     2.0    0.6551   \n5   163268  University of Maryland-Baltimore County     MD     2.0    0.5961   \n6   163268  University of Maryland-Baltimore County     MD     2.0    0.7143   \n7   163268  University of Maryland-Baltimore County     MD     2.0       NaN   \n8   163268  University of Maryland-Baltimore County     MD     2.0    0.6589   \n9   163268  University of Maryland-Baltimore County     MD     2.0    0.5757   \n10  163268  University of Maryland-Baltimore County     MD     2.0    0.6035   \n11  163268  University of Maryland-Baltimore County     MD     2.0       NaN   \n12  163268  University of Maryland-Baltimore County     MD     2.0    0.5794   \n13  163268  University of Maryland-Baltimore County     MD     2.0    0.7153   \n14  163268  University of Maryland-Baltimore County     MD     2.0    0.6895   \n15  163268  University of Maryland-Baltimore County     MD     2.0    0.6081   \n16  163268  University of Maryland-Baltimore County     MD     2.0    0.7014   \n17  163268  University of Maryland-Baltimore County     MD     2.0    0.5942   \n18  163268  University of Maryland-Baltimore County     MD     2.0       NaN   \n19  163268  University of Maryland-Baltimore County     MD     2.0    0.6315   \n20  163268  University of Maryland-Baltimore County     MD     2.0       NaN   \n21  163268  University of Maryland-Baltimore County     MD     2.0    0.6327   \n22  163268  University of Maryland-Baltimore County     MD     2.0       NaN   \n\n    TUITIONFEE_IN  YEAR  PCT_CHANGE  \n0          8780.0  2008         NaN  \n1         11264.0  2016       28.29  \n2          8872.0  2009      -21.24  \n3         11518.0  2017       29.82  \n4          5910.0  2001      -48.69  \n5         10384.0  2014       75.70  \n6          8520.0  2005      -17.95  \n7             NaN  1998        0.00  \n8          9171.0  2010        7.64  \n9          7388.0  2003      -19.44  \n10         9764.0  2012       32.16  \n11            NaN  1999        0.00  \n12        11778.0  2018       20.63  \n13         8622.0  2006      -26.80  \n14         8708.0  2007        1.00  \n15         9467.0  2011        8.72  \n16         8020.0  2004      -15.28  \n17        11006.0  2015       37.23  \n18         5490.0  2000      -50.12  \n19        10068.0  2013       83.39  \n20            NaN  1996        0.00  \n21         6362.0  2002      -36.81  \n22            NaN  1997        0.00  ",
      "text/html": "<div>\n<style scoped>\n    .dataframe tbody tr th:only-of-type {\n        vertical-align: middle;\n    }\n\n    .dataframe tbody tr th {\n        vertical-align: top;\n    }\n\n    .dataframe thead th {\n        text-align: right;\n    }\n</style>\n<table border=\"1\" class=\"dataframe\">\n  <thead>\n    <tr style=\"text-align: right;\">\n      <th></th>\n      <th>UNITID</th>\n      <th>INSTNM</th>\n      <th>STABBR</th>\n      <th>REGION</th>\n      <th>ADM_RATE</th>\n      <th>TUITIONFEE_IN</th>\n      <th>YEAR</th>\n      <th>PCT_CHANGE</th>\n    </tr>\n  </thead>\n  <tbody>\n    <tr>\n      <th>0</th>\n      <td>163268</td>\n      <td>University of Maryland-Baltimore County</td>\n      <td>MD</td>\n      <td>2.0</td>\n      <td>0.7174</td>\n      <td>8780.0</td>\n      <td>2008</td>\n      <td>NaN</td>\n    </tr>\n    <tr>\n      <th>1</th>\n      <td>163268</td>\n      <td>University of Maryland-Baltimore County</td>\n      <td>MD</td>\n      <td>2.0</td>\n      <td>0.5683</td>\n      <td>11264.0</td>\n      <td>2016</td>\n      <td>28.29</td>\n    </tr>\n    <tr>\n      <th>2</th>\n      <td>163268</td>\n      <td>University of Maryland-Baltimore County</td>\n      <td>MD</td>\n      <td>2.0</td>\n      <td>0.6890</td>\n      <td>8872.0</td>\n      <td>2009</td>\n      <td>-21.24</td>\n    </tr>\n    <tr>\n      <th>3</th>\n      <td>163268</td>\n      <td>University of Maryland-Baltimore County</td>\n      <td>MD</td>\n      <td>2.0</td>\n      <td>0.6021</td>\n      <td>11518.0</td>\n      <td>2017</td>\n      <td>29.82</td>\n    </tr>\n    <tr>\n      <th>4</th>\n      <td>163268</td>\n      <td>University of Maryland-Baltimore County</td>\n      <td>MD</td>\n      <td>2.0</td>\n      <td>0.6551</td>\n      <td>5910.0</td>\n      <td>2001</td>\n      <td>-48.69</td>\n    </tr>\n    <tr>\n      <th>5</th>\n      <td>163268</td>\n      <td>University of Maryland-Baltimore County</td>\n      <td>MD</td>\n      <td>2.0</td>\n      <td>0.5961</td>\n      <td>10384.0</td>\n      <td>2014</td>\n      <td>75.70</td>\n    </tr>\n    <tr>\n      <th>6</th>\n      <td>163268</td>\n      <td>University of Maryland-Baltimore County</td>\n      <td>MD</td>\n      <td>2.0</td>\n      <td>0.7143</td>\n      <td>8520.0</td>\n      <td>2005</td>\n      <td>-17.95</td>\n    </tr>\n    <tr>\n      <th>7</th>\n      <td>163268</td>\n      <td>University of Maryland-Baltimore County</td>\n      <td>MD</td>\n      <td>2.0</td>\n      <td>NaN</td>\n      <td>NaN</td>\n      <td>1998</td>\n      <td>0.00</td>\n    </tr>\n    <tr>\n      <th>8</th>\n      <td>163268</td>\n      <td>University of Maryland-Baltimore County</td>\n      <td>MD</td>\n      <td>2.0</td>\n      <td>0.6589</td>\n      <td>9171.0</td>\n      <td>2010</td>\n      <td>7.64</td>\n    </tr>\n    <tr>\n      <th>9</th>\n      <td>163268</td>\n      <td>University of Maryland-Baltimore County</td>\n      <td>MD</td>\n      <td>2.0</td>\n      <td>0.5757</td>\n      <td>7388.0</td>\n      <td>2003</td>\n      <td>-19.44</td>\n    </tr>\n    <tr>\n      <th>10</th>\n      <td>163268</td>\n      <td>University of Maryland-Baltimore County</td>\n      <td>MD</td>\n      <td>2.0</td>\n      <td>0.6035</td>\n      <td>9764.0</td>\n      <td>2012</td>\n      <td>32.16</td>\n    </tr>\n    <tr>\n      <th>11</th>\n      <td>163268</td>\n      <td>University of Maryland-Baltimore County</td>\n      <td>MD</td>\n      <td>2.0</td>\n      <td>NaN</td>\n      <td>NaN</td>\n      <td>1999</td>\n      <td>0.00</td>\n    </tr>\n    <tr>\n      <th>12</th>\n      <td>163268</td>\n      <td>University of Maryland-Baltimore County</td>\n      <td>MD</td>\n      <td>2.0</td>\n      <td>0.5794</td>\n      <td>11778.0</td>\n      <td>2018</td>\n      <td>20.63</td>\n    </tr>\n    <tr>\n      <th>13</th>\n      <td>163268</td>\n      <td>University of Maryland-Baltimore County</td>\n      <td>MD</td>\n      <td>2.0</td>\n      <td>0.7153</td>\n      <td>8622.0</td>\n      <td>2006</td>\n      <td>-26.80</td>\n    </tr>\n    <tr>\n      <th>14</th>\n      <td>163268</td>\n      <td>University of Maryland-Baltimore County</td>\n      <td>MD</td>\n      <td>2.0</td>\n      <td>0.6895</td>\n      <td>8708.0</td>\n      <td>2007</td>\n      <td>1.00</td>\n    </tr>\n    <tr>\n      <th>15</th>\n      <td>163268</td>\n      <td>University of Maryland-Baltimore County</td>\n      <td>MD</td>\n      <td>2.0</td>\n      <td>0.6081</td>\n      <td>9467.0</td>\n      <td>2011</td>\n      <td>8.72</td>\n    </tr>\n    <tr>\n      <th>16</th>\n      <td>163268</td>\n      <td>University of Maryland-Baltimore County</td>\n      <td>MD</td>\n      <td>2.0</td>\n      <td>0.7014</td>\n      <td>8020.0</td>\n      <td>2004</td>\n      <td>-15.28</td>\n    </tr>\n    <tr>\n      <th>17</th>\n      <td>163268</td>\n      <td>University of Maryland-Baltimore County</td>\n      <td>MD</td>\n      <td>2.0</td>\n      <td>0.5942</td>\n      <td>11006.0</td>\n      <td>2015</td>\n      <td>37.23</td>\n    </tr>\n    <tr>\n      <th>18</th>\n      <td>163268</td>\n      <td>University of Maryland-Baltimore County</td>\n      <td>MD</td>\n      <td>2.0</td>\n      <td>NaN</td>\n      <td>5490.0</td>\n      <td>2000</td>\n      <td>-50.12</td>\n    </tr>\n    <tr>\n      <th>19</th>\n      <td>163268</td>\n      <td>University of Maryland-Baltimore County</td>\n      <td>MD</td>\n      <td>2.0</td>\n      <td>0.6315</td>\n      <td>10068.0</td>\n      <td>2013</td>\n      <td>83.39</td>\n    </tr>\n    <tr>\n      <th>20</th>\n      <td>163268</td>\n      <td>University of Maryland-Baltimore County</td>\n      <td>MD</td>\n      <td>2.0</td>\n      <td>NaN</td>\n      <td>NaN</td>\n      <td>1996</td>\n      <td>0.00</td>\n    </tr>\n    <tr>\n      <th>21</th>\n      <td>163268</td>\n      <td>University of Maryland-Baltimore County</td>\n      <td>MD</td>\n      <td>2.0</td>\n      <td>0.6327</td>\n      <td>6362.0</td>\n      <td>2002</td>\n      <td>-36.81</td>\n    </tr>\n    <tr>\n      <th>22</th>\n      <td>163268</td>\n      <td>University of Maryland-Baltimore County</td>\n      <td>MD</td>\n      <td>2.0</td>\n      <td>NaN</td>\n      <td>NaN</td>\n      <td>1997</td>\n      <td>0.00</td>\n    </tr>\n  </tbody>\n</table>\n</div>"
     },
     "metadata": {}
    }
   ],
   "execution_count": 25
  },
  {
   "cell_type": "code",
   "source": "plt.figure(figsize=(20,10))\nplt.subplot(2,1,1)\nplt.grid()\nplt.title('Plots of UMBC- Year v/s percentage change in tuition', color='green')\nplt.bar(x='YEAR', height='PCT_CHANGE', data=umbc_df)\nplt.xlabel('YEAR')\nplt.ylabel('Percentage Change')\nplt.subplot(2,1,2)\nplt.grid()\nplt.title('Plots of UMBC- Year v/s percentage change in tuition', color='green')\nplt.plot('YEAR', 'PCT_CHANGE', data=umbc_df)\nplt.xlabel('YEAR')\nplt.ylabel('Percentage Change')",
   "metadata": {
    "tags": [],
    "cell_id": "00025-e51ee08e-0074-4ef1-a665-be7d5089d4cc",
    "deepnote_to_be_reexecuted": false,
    "source_hash": "e15a2416",
    "execution_start": 1621551953330,
    "execution_millis": 513,
    "deepnote_cell_type": "code"
   },
   "outputs": [
    {
     "output_type": "execute_result",
     "execution_count": 26,
     "data": {
      "text/plain": "Text(0, 0.5, 'Percentage Change')"
     },
     "metadata": {}
    },
    {
     "data": {
      "text/plain": "<Figure size 1440x720 with 2 Axes>",
      "image/png": "[encoded data removed]"
     },
     "metadata": {
      "needs_background": "light",
      "image/png": {
       "width": 1172,
       "height": 604
      }
     },
     "output_type": "display_data"
    }
   ],
   "execution_count": 26
  },
  {
   "cell_type": "code",
   "source": "def calculate_percent_change(any_list):\n    \"\"\"\n    This function takes list as argument and\n    returns llist with percentage changes\n    \"\"\"\n    temp = pd.Series(any_list)\n    new = temp_Series.pct_change()*100\n    new = new.to_list()\n    return new",
   "metadata": {
    "tags": [],
    "cell_id": "00026-35061156-9518-428f-a1d5-7f21fa420958",
    "deepnote_to_be_reexecuted": false,
    "source_hash": "3684ca6d",
    "execution_start": 1621551953846,
    "execution_millis": 3,
    "deepnote_cell_type": "code"
   },
   "outputs": [],
   "execution_count": 27
  },
  {
   "cell_type": "code",
   "source": "jhu_df = data_conct.loc[data_conct['INSTNM'] == 'Johns Hopkins University'].reset_index(drop=True)\njhu_df",
   "metadata": {
    "tags": [],
    "cell_id": "00027-31467e25-5aa8-433b-9707-d42b67438b18",
    "deepnote_to_be_reexecuted": false,
    "source_hash": "b8890f89",
    "execution_start": 1621551953860,
    "execution_millis": 39,
    "deepnote_cell_type": "code"
   },
   "outputs": [
    {
     "output_type": "execute_result",
     "execution_count": 28,
     "data": {
      "application/vnd.deepnote.dataframe.v2+json": {
       "row_count": 23,
       "column_count": 7,
       "columns": [
        {
         "name": "UNITID",
         "dtype": "int64",
         "stats": {
          "unique_count": 1,
          "nan_count": 0,
          "min": "162928",
          "max": "162928",
          "histogram": [
           {
            "bin_start": 162927.5,
            "bin_end": 162927.6,
            "count": 0
           },
           {
            "bin_start": 162927.6,
            "bin_end": 162927.7,
            "count": 0
           },
           {
            "bin_start": 162927.7,
            "bin_end": 162927.8,
            "count": 0
           },
           {
            "bin_start": 162927.8,
            "bin_end": 162927.9,
            "count": 0
           },
           {
            "bin_start": 162927.9,
            "bin_end": 162928,
            "count": 0
           },
           {
            "bin_start": 162928,
            "bin_end": 162928.1,
            "count": 23
           },
           {
            "bin_start": 162928.1,
            "bin_end": 162928.2,
            "count": 0
           },
           {
            "bin_start": 162928.2,
            "bin_end": 162928.3,
            "count": 0
           },
           {
            "bin_start": 162928.3,
            "bin_end": 162928.4,
            "count": 0
           },
           {
            "bin_start": 162928.4,
            "bin_end": 162928.5,
            "count": 0
           }
          ]
         }
        },
        {
         "name": "INSTNM",
         "dtype": "object",
         "stats": {
          "unique_count": 1,
          "nan_count": 0,
          "categories": [
           {
            "name": "Johns Hopkins University",
            "count": 23
           }
          ]
         }
        },
        {
         "name": "STABBR",
         "dtype": "object",
         "stats": {
          "unique_count": 1,
          "nan_count": 0,
          "categories": [
           {
            "name": "MD",
            "count": 23
           }
          ]
         }
        },
        {
         "name": "REGION",
         "dtype": "float64",
         "stats": {
          "unique_count": 1,
          "nan_count": 0,
          "min": "2.0",
          "max": "2.0",
          "histogram": [
           {
            "bin_start": 1.5,
            "bin_end": 1.6,
            "count": 0
           },
           {
            "bin_start": 1.6,
            "bin_end": 1.7,
            "count": 0
           },
           {
            "bin_start": 1.7,
            "bin_end": 1.8,
            "count": 0
           },
           {
            "bin_start": 1.8,
            "bin_end": 1.9,
            "count": 0
           },
           {
            "bin_start": 1.9,
            "bin_end": 2,
            "count": 0
           },
           {
            "bin_start": 2,
            "bin_end": 2.1,
            "count": 23
           },
           {
            "bin_start": 2.1,
            "bin_end": 2.2,
            "count": 0
           },
           {
            "bin_start": 2.2,
            "bin_end": 2.3,
            "count": 0
           },
           {
            "bin_start": 2.3,
            "bin_end": 2.4,
            "count": 0
           },
           {
            "bin_start": 2.4,
            "bin_end": 2.5,
            "count": 0
           }
          ]
         }
        },
        {
         "name": "ADM_RATE",
         "dtype": "float64",
         "stats": {
          "unique_count": 18,
          "nan_count": 5,
          "min": "0.1148",
          "max": "0.3509",
          "histogram": [
           {
            "bin_start": 0.1148,
            "bin_end": 0.13841,
            "count": 3
           },
           {
            "bin_start": 0.13841,
            "bin_end": 0.16202,
            "count": 2
           },
           {
            "bin_start": 0.16202,
            "bin_end": 0.18563000000000002,
            "count": 2
           },
           {
            "bin_start": 0.18563000000000002,
            "bin_end": 0.20923999999999998,
            "count": 1
           },
           {
            "bin_start": 0.20923999999999998,
            "bin_end": 0.23285,
            "count": 1
           },
           {
            "bin_start": 0.23285,
            "bin_end": 0.25646,
            "count": 0
           },
           {
            "bin_start": 0.25646,
            "bin_end": 0.28007,
            "count": 4
           },
           {
            "bin_start": 0.28007,
            "bin_end": 0.30368,
            "count": 0
           },
           {
            "bin_start": 0.30368,
            "bin_end": 0.32728999999999997,
            "count": 2
           },
           {
            "bin_start": 0.32728999999999997,
            "bin_end": 0.3509,
            "count": 3
           }
          ]
         }
        },
        {
         "name": "TUITIONFEE_IN",
         "dtype": "float64",
         "stats": {
          "unique_count": 19,
          "nan_count": 4,
          "min": "24930.0",
          "max": "53740.0",
          "histogram": [
           {
            "bin_start": 24930,
            "bin_end": 27811,
            "count": 3
           },
           {
            "bin_start": 27811,
            "bin_end": 30692,
            "count": 2
           },
           {
            "bin_start": 30692,
            "bin_end": 33573,
            "count": 1
           },
           {
            "bin_start": 33573,
            "bin_end": 36454,
            "count": 2
           },
           {
            "bin_start": 36454,
            "bin_end": 39335,
            "count": 2
           },
           {
            "bin_start": 39335,
            "bin_end": 42216,
            "count": 1
           },
           {
            "bin_start": 42216,
            "bin_end": 45097,
            "count": 2
           },
           {
            "bin_start": 45097,
            "bin_end": 47978,
            "count": 2
           },
           {
            "bin_start": 47978,
            "bin_end": 50859,
            "count": 2
           },
           {
            "bin_start": 50859,
            "bin_end": 53740,
            "count": 2
           }
          ]
         }
        },
        {
         "name": "YEAR",
         "dtype": "object",
         "stats": {
          "unique_count": 23,
          "nan_count": 0,
          "categories": [
           {
            "name": "2008",
            "count": 1
           },
           {
            "name": "2016",
            "count": 1
           },
           {
            "name": "21 others",
            "count": 21
           }
          ]
         }
        },
        {
         "name": "_deepnote_index_column",
         "dtype": "int64"
        }
       ],
       "rows_top": [
        {
         "UNITID": 162928,
         "INSTNM": "Johns Hopkins University",
         "STABBR": "MD",
         "REGION": 2,
         "ADM_RATE": "0.2609",
         "TUITIONFEE_IN": "37700.0",
         "YEAR": "2008",
         "_deepnote_index_column": 0
        },
        {
         "UNITID": 162928,
         "INSTNM": "Johns Hopkins University",
         "STABBR": "MD",
         "REGION": 2,
         "ADM_RATE": "0.1284",
         "TUITIONFEE_IN": "50410.0",
         "YEAR": "2016",
         "_deepnote_index_column": 1
        },
        {
         "UNITID": 162928,
         "INSTNM": "Johns Hopkins University",
         "STABBR": "MD",
         "REGION": 2,
         "ADM_RATE": "0.2782",
         "TUITIONFEE_IN": "39150.0",
         "YEAR": "2009",
         "_deepnote_index_column": 2
        },
        {
         "UNITID": 162928,
         "INSTNM": "Johns Hopkins University",
         "STABBR": "MD",
         "REGION": 2,
         "ADM_RATE": "0.1254",
         "TUITIONFEE_IN": "52170.0",
         "YEAR": "2017",
         "_deepnote_index_column": 3
        },
        {
         "UNITID": 162928,
         "INSTNM": "Johns Hopkins University",
         "STABBR": "MD",
         "REGION": 2,
         "ADM_RATE": "0.3431",
         "TUITIONFEE_IN": "26210.0",
         "YEAR": "2001",
         "_deepnote_index_column": 4
        },
        {
         "UNITID": 162928,
         "INSTNM": "Johns Hopkins University",
         "STABBR": "MD",
         "REGION": 2,
         "ADM_RATE": "0.1608",
         "TUITIONFEE_IN": "47060.0",
         "YEAR": "2014",
         "_deepnote_index_column": 5
        },
        {
         "UNITID": 162928,
         "INSTNM": "Johns Hopkins University",
         "STABBR": "MD",
         "REGION": 2,
         "ADM_RATE": "0.3509",
         "TUITIONFEE_IN": "31620.0",
         "YEAR": "2005",
         "_deepnote_index_column": 6
        },
        {
         "UNITID": 162928,
         "INSTNM": "Johns Hopkins University",
         "STABBR": "MD",
         "REGION": 2,
         "ADM_RATE": "nan",
         "TUITIONFEE_IN": "nan",
         "YEAR": "1998",
         "_deepnote_index_column": 7
        },
        {
         "UNITID": 162928,
         "INSTNM": "Johns Hopkins University",
         "STABBR": "MD",
         "REGION": 2,
         "ADM_RATE": "0.2225",
         "TUITIONFEE_IN": "40680.0",
         "YEAR": "2010",
         "_deepnote_index_column": 8
        },
        {
         "UNITID": 162928,
         "INSTNM": "Johns Hopkins University",
         "STABBR": "MD",
         "REGION": 2,
         "ADM_RATE": "0.306",
         "TUITIONFEE_IN": "28730.0",
         "YEAR": "2003",
         "_deepnote_index_column": 9
        },
        {
         "UNITID": 162928,
         "INSTNM": "Johns Hopkins University",
         "STABBR": "MD",
         "REGION": 2,
         "ADM_RATE": "0.1843",
         "TUITIONFEE_IN": "43390.0",
         "YEAR": "2012",
         "_deepnote_index_column": 10
        },
        {
         "UNITID": 162928,
         "INSTNM": "Johns Hopkins University",
         "STABBR": "MD",
         "REGION": 2,
         "ADM_RATE": "nan",
         "TUITIONFEE_IN": "nan",
         "YEAR": "1999",
         "_deepnote_index_column": 11
        },
        {
         "UNITID": 162928,
         "INSTNM": "Johns Hopkins University",
         "STABBR": "MD",
         "REGION": 2,
         "ADM_RATE": "0.1148",
         "TUITIONFEE_IN": "53740.0",
         "YEAR": "2018",
         "_deepnote_index_column": 12
        },
        {
         "UNITID": 162928,
         "INSTNM": "Johns Hopkins University",
         "STABBR": "MD",
         "REGION": 2,
         "ADM_RATE": "0.2792",
         "TUITIONFEE_IN": "33900.0",
         "YEAR": "2006",
         "_deepnote_index_column": 13
        },
        {
         "UNITID": 162928,
         "INSTNM": "Johns Hopkins University",
         "STABBR": "MD",
         "REGION": 2,
         "ADM_RATE": "0.2571",
         "TUITIONFEE_IN": "35900.0",
         "YEAR": "2007",
         "_deepnote_index_column": 14
        },
        {
         "UNITID": 162928,
         "INSTNM": "Johns Hopkins University",
         "STABBR": "MD",
         "REGION": 2,
         "ADM_RATE": "0.194",
         "TUITIONFEE_IN": "42280.0",
         "YEAR": "2011",
         "_deepnote_index_column": 15
        },
        {
         "UNITID": 162928,
         "INSTNM": "Johns Hopkins University",
         "STABBR": "MD",
         "REGION": 2,
         "ADM_RATE": "0.3071",
         "TUITIONFEE_IN": "30140.0",
         "YEAR": "2004",
         "_deepnote_index_column": 16
        },
        {
         "UNITID": 162928,
         "INSTNM": "Johns Hopkins University",
         "STABBR": "MD",
         "REGION": 2,
         "ADM_RATE": "0.1412",
         "TUITIONFEE_IN": "48710.0",
         "YEAR": "2015",
         "_deepnote_index_column": 17
        },
        {
         "UNITID": 162928,
         "INSTNM": "Johns Hopkins University",
         "STABBR": "MD",
         "REGION": 2,
         "ADM_RATE": "nan",
         "TUITIONFEE_IN": "24930.0",
         "YEAR": "2000",
         "_deepnote_index_column": 18
        },
        {
         "UNITID": 162928,
         "INSTNM": "Johns Hopkins University",
         "STABBR": "MD",
         "REGION": 2,
         "ADM_RATE": "0.1813",
         "TUITIONFEE_IN": "45470.0",
         "YEAR": "2013",
         "_deepnote_index_column": 19
        },
        {
         "UNITID": 162928,
         "INSTNM": "Johns Hopkins University",
         "STABBR": "MD",
         "REGION": 2,
         "ADM_RATE": "nan",
         "TUITIONFEE_IN": "nan",
         "YEAR": "1996",
         "_deepnote_index_column": 20
        },
        {
         "UNITID": 162928,
         "INSTNM": "Johns Hopkins University",
         "STABBR": "MD",
         "REGION": 2,
         "ADM_RATE": "0.3506",
         "TUITIONFEE_IN": "27390.0",
         "YEAR": "2002",
         "_deepnote_index_column": 21
        },
        {
         "UNITID": 162928,
         "INSTNM": "Johns Hopkins University",
         "STABBR": "MD",
         "REGION": 2,
         "ADM_RATE": "nan",
         "TUITIONFEE_IN": "nan",
         "YEAR": "1997",
         "_deepnote_index_column": 22
        }
       ],
       "rows_bottom": null
      },
      "text/plain": "    UNITID                    INSTNM STABBR  REGION  ADM_RATE  TUITIONFEE_IN  \\\n0   162928  Johns Hopkins University     MD     2.0    0.2609        37700.0   \n1   162928  Johns Hopkins University     MD     2.0    0.1284        50410.0   \n2   162928  Johns Hopkins University     MD     2.0    0.2782        39150.0   \n3   162928  Johns Hopkins University     MD     2.0    0.1254        52170.0   \n4   162928  Johns Hopkins University     MD     2.0    0.3431        26210.0   \n5   162928  Johns Hopkins University     MD     2.0    0.1608        47060.0   \n6   162928  Johns Hopkins University     MD     2.0    0.3509        31620.0   \n7   162928  Johns Hopkins University     MD     2.0       NaN            NaN   \n8   162928  Johns Hopkins University     MD     2.0    0.2225        40680.0   \n9   162928  Johns Hopkins University     MD     2.0    0.3060        28730.0   \n10  162928  Johns Hopkins University     MD     2.0    0.1843        43390.0   \n11  162928  Johns Hopkins University     MD     2.0       NaN            NaN   \n12  162928  Johns Hopkins University     MD     2.0    0.1148        53740.0   \n13  162928  Johns Hopkins University     MD     2.0    0.2792        33900.0   \n14  162928  Johns Hopkins University     MD     2.0    0.2571        35900.0   \n15  162928  Johns Hopkins University     MD     2.0    0.1940        42280.0   \n16  162928  Johns Hopkins University     MD     2.0    0.3071        30140.0   \n17  162928  Johns Hopkins University     MD     2.0    0.1412        48710.0   \n18  162928  Johns Hopkins University     MD     2.0       NaN        24930.0   \n19  162928  Johns Hopkins University     MD     2.0    0.1813        45470.0   \n20  162928  Johns Hopkins University     MD     2.0       NaN            NaN   \n21  162928  Johns Hopkins University     MD     2.0    0.3506        27390.0   \n22  162928  Johns Hopkins University     MD     2.0       NaN            NaN   \n\n    YEAR  \n0   2008  \n1   2016  \n2   2009  \n3   2017  \n4   2001  \n5   2014  \n6   2005  \n7   1998  \n8   2010  \n9   2003  \n10  2012  \n11  1999  \n12  2018  \n13  2006  \n14  2007  \n15  2011  \n16  2004  \n17  2015  \n18  2000  \n19  2013  \n20  1996  \n21  2002  \n22  1997  ",
      "text/html": "<div>\n<style scoped>\n    .dataframe tbody tr th:only-of-type {\n        vertical-align: middle;\n    }\n\n    .dataframe tbody tr th {\n        vertical-align: top;\n    }\n\n    .dataframe thead th {\n        text-align: right;\n    }\n</style>\n<table border=\"1\" class=\"dataframe\">\n  <thead>\n    <tr style=\"text-align: right;\">\n      <th></th>\n      <th>UNITID</th>\n      <th>INSTNM</th>\n      <th>STABBR</th>\n      <th>REGION</th>\n      <th>ADM_RATE</th>\n      <th>TUITIONFEE_IN</th>\n      <th>YEAR</th>\n    </tr>\n  </thead>\n  <tbody>\n    <tr>\n      <th>0</th>\n      <td>162928</td>\n      <td>Johns Hopkins University</td>\n      <td>MD</td>\n      <td>2.0</td>\n      <td>0.2609</td>\n      <td>37700.0</td>\n      <td>2008</td>\n    </tr>\n    <tr>\n      <th>1</th>\n      <td>162928</td>\n      <td>Johns Hopkins University</td>\n      <td>MD</td>\n      <td>2.0</td>\n      <td>0.1284</td>\n      <td>50410.0</td>\n      <td>2016</td>\n    </tr>\n    <tr>\n      <th>2</th>\n      <td>162928</td>\n      <td>Johns Hopkins University</td>\n      <td>MD</td>\n      <td>2.0</td>\n      <td>0.2782</td>\n      <td>39150.0</td>\n      <td>2009</td>\n    </tr>\n    <tr>\n      <th>3</th>\n      <td>162928</td>\n      <td>Johns Hopkins University</td>\n      <td>MD</td>\n      <td>2.0</td>\n      <td>0.1254</td>\n      <td>52170.0</td>\n      <td>2017</td>\n    </tr>\n    <tr>\n      <th>4</th>\n      <td>162928</td>\n      <td>Johns Hopkins University</td>\n      <td>MD</td>\n      <td>2.0</td>\n      <td>0.3431</td>\n      <td>26210.0</td>\n      <td>2001</td>\n    </tr>\n    <tr>\n      <th>5</th>\n      <td>162928</td>\n      <td>Johns Hopkins University</td>\n      <td>MD</td>\n      <td>2.0</td>\n      <td>0.1608</td>\n      <td>47060.0</td>\n      <td>2014</td>\n    </tr>\n    <tr>\n      <th>6</th>\n      <td>162928</td>\n      <td>Johns Hopkins University</td>\n      <td>MD</td>\n      <td>2.0</td>\n      <td>0.3509</td>\n      <td>31620.0</td>\n      <td>2005</td>\n    </tr>\n    <tr>\n      <th>7</th>\n      <td>162928</td>\n      <td>Johns Hopkins University</td>\n      <td>MD</td>\n      <td>2.0</td>\n      <td>NaN</td>\n      <td>NaN</td>\n      <td>1998</td>\n    </tr>\n    <tr>\n      <th>8</th>\n      <td>162928</td>\n      <td>Johns Hopkins University</td>\n      <td>MD</td>\n      <td>2.0</td>\n      <td>0.2225</td>\n      <td>40680.0</td>\n      <td>2010</td>\n    </tr>\n    <tr>\n      <th>9</th>\n      <td>162928</td>\n      <td>Johns Hopkins University</td>\n      <td>MD</td>\n      <td>2.0</td>\n      <td>0.3060</td>\n      <td>28730.0</td>\n      <td>2003</td>\n    </tr>\n    <tr>\n      <th>10</th>\n      <td>162928</td>\n      <td>Johns Hopkins University</td>\n      <td>MD</td>\n      <td>2.0</td>\n      <td>0.1843</td>\n      <td>43390.0</td>\n      <td>2012</td>\n    </tr>\n    <tr>\n      <th>11</th>\n      <td>162928</td>\n      <td>Johns Hopkins University</td>\n      <td>MD</td>\n      <td>2.0</td>\n      <td>NaN</td>\n      <td>NaN</td>\n      <td>1999</td>\n    </tr>\n    <tr>\n      <th>12</th>\n      <td>162928</td>\n      <td>Johns Hopkins University</td>\n      <td>MD</td>\n      <td>2.0</td>\n      <td>0.1148</td>\n      <td>53740.0</td>\n      <td>2018</td>\n    </tr>\n    <tr>\n      <th>13</th>\n      <td>162928</td>\n      <td>Johns Hopkins University</td>\n      <td>MD</td>\n      <td>2.0</td>\n      <td>0.2792</td>\n      <td>33900.0</td>\n      <td>2006</td>\n    </tr>\n    <tr>\n      <th>14</th>\n      <td>162928</td>\n      <td>Johns Hopkins University</td>\n      <td>MD</td>\n      <td>2.0</td>\n      <td>0.2571</td>\n      <td>35900.0</td>\n      <td>2007</td>\n    </tr>\n    <tr>\n      <th>15</th>\n      <td>162928</td>\n      <td>Johns Hopkins University</td>\n      <td>MD</td>\n      <td>2.0</td>\n      <td>0.1940</td>\n      <td>42280.0</td>\n      <td>2011</td>\n    </tr>\n    <tr>\n      <th>16</th>\n      <td>162928</td>\n      <td>Johns Hopkins University</td>\n      <td>MD</td>\n      <td>2.0</td>\n      <td>0.3071</td>\n      <td>30140.0</td>\n      <td>2004</td>\n    </tr>\n    <tr>\n      <th>17</th>\n      <td>162928</td>\n      <td>Johns Hopkins University</td>\n      <td>MD</td>\n      <td>2.0</td>\n      <td>0.1412</td>\n      <td>48710.0</td>\n      <td>2015</td>\n    </tr>\n    <tr>\n      <th>18</th>\n      <td>162928</td>\n      <td>Johns Hopkins University</td>\n      <td>MD</td>\n      <td>2.0</td>\n      <td>NaN</td>\n      <td>24930.0</td>\n      <td>2000</td>\n    </tr>\n    <tr>\n      <th>19</th>\n      <td>162928</td>\n      <td>Johns Hopkins University</td>\n      <td>MD</td>\n      <td>2.0</td>\n      <td>0.1813</td>\n      <td>45470.0</td>\n      <td>2013</td>\n    </tr>\n    <tr>\n      <th>20</th>\n      <td>162928</td>\n      <td>Johns Hopkins University</td>\n      <td>MD</td>\n      <td>2.0</td>\n      <td>NaN</td>\n      <td>NaN</td>\n      <td>1996</td>\n    </tr>\n    <tr>\n      <th>21</th>\n      <td>162928</td>\n      <td>Johns Hopkins University</td>\n      <td>MD</td>\n      <td>2.0</td>\n      <td>0.3506</td>\n      <td>27390.0</td>\n      <td>2002</td>\n    </tr>\n    <tr>\n      <th>22</th>\n      <td>162928</td>\n      <td>Johns Hopkins University</td>\n      <td>MD</td>\n      <td>2.0</td>\n      <td>NaN</td>\n      <td>NaN</td>\n      <td>1997</td>\n    </tr>\n  </tbody>\n</table>\n</div>"
     },
     "metadata": {}
    }
   ],
   "execution_count": 28
  },
  {
   "cell_type": "code",
   "source": "plt.figure(figsize=(20,8))\nplt.bar(x='YEAR', height='TUITIONFEE_IN', data=jhu_df)\nplt.grid()\nplt.title('Bar Plot of JHU- Year v/s Tution in-state', color='red')\nplt.xlabel('YEAR')\nplt.ylabel('Tution in-state')\nplt.figure(figsize=(20,8))\nplt.grid()\nplt.title('Line Plot of JHU- Year v/s Tution in-state', color='red')\nplt.xlabel('YEAR')\nplt.ylabel('Tution in-state')\nplt.plot('YEAR', 'TUITIONFEE_IN', data=jhu_df)",
   "metadata": {
    "tags": [],
    "cell_id": "00028-5939aeb0-132b-4408-ad74-11548f72eb2c",
    "deepnote_to_be_reexecuted": false,
    "source_hash": "abae7686",
    "execution_start": 1621551953913,
    "execution_millis": 589,
    "deepnote_cell_type": "code"
   },
   "outputs": [
    {
     "output_type": "execute_result",
     "execution_count": 29,
     "data": {
      "text/plain": "[<matplotlib.lines.Line2D at 0x7f4d9ed74c10>]"
     },
     "metadata": {}
    },
    {
     "data": {
      "text/plain": "<Figure size 1440x576 with 1 Axes>",
      "image/png": "[encoded data removed]"
     },
     "metadata": {
      "needs_background": "light",
      "image/png": {
       "width": 1182,
       "height": 496
      }
     },
     "output_type": "display_data"
    },
    {
     "data": {
      "text/plain": "<Figure size 1440x576 with 1 Axes>",
      "image/png": "[encoded data removed]"
     },
     "metadata": {
      "needs_background": "light",
      "image/png": {
       "width": 1193,
       "height": 496
      }
     },
     "output_type": "display_data"
    }
   ],
   "execution_count": 29
  },
  {
   "cell_type": "code",
   "source": "jhu_list = jhu_df['TUITIONFEE_IN'].to_list()\n# Using the function created above to get the percentage changes of JHU data\njhu_percent_change_list = calculate_percent_change(jhu_list)\njhu_formatted_list = [round(i, 2) for i in jhu_percent_change_list ]\njhu_formatted_list # List with percentage changes of jhu tuition fees over years",
   "metadata": {
    "tags": [],
    "cell_id": "00029-b2da7afd-0d08-4416-aa16-4c741963559b",
    "deepnote_to_be_reexecuted": false,
    "source_hash": "ef622c28",
    "execution_start": 1621551954505,
    "execution_millis": 10,
    "deepnote_cell_type": "code"
   },
   "outputs": [
    {
     "output_type": "execute_result",
     "execution_count": 30,
     "data": {
      "text/plain": "[nan,\n 28.29,\n -21.24,\n 29.82,\n -48.69,\n 75.7,\n -17.95,\n 0.0,\n 7.64,\n -19.44,\n 32.16,\n 0.0,\n 20.63,\n -26.8,\n 1.0,\n 8.72,\n -15.28,\n 37.23,\n -50.12,\n 83.39,\n 0.0,\n -36.81,\n 0.0]"
     },
     "metadata": {}
    }
   ],
   "execution_count": 30
  },
  {
   "cell_type": "code",
   "source": "jhu_df['PCT_CHANGE'] = jhu_formatted_list\njhu_df # added the above list to jhu dataframe",
   "metadata": {
    "tags": [],
    "cell_id": "00030-88b713f1-d3a8-4bb2-b075-dd7ddf040797",
    "deepnote_to_be_reexecuted": false,
    "source_hash": "2157638f",
    "execution_start": 1621551954512,
    "execution_millis": 41,
    "deepnote_cell_type": "code"
   },
   "outputs": [
    {
     "output_type": "execute_result",
     "execution_count": 31,
     "data": {
      "application/vnd.deepnote.dataframe.v2+json": {
       "row_count": 23,
       "column_count": 8,
       "columns": [
        {
         "name": "UNITID",
         "dtype": "int64",
         "stats": {
          "unique_count": 1,
          "nan_count": 0,
          "min": "162928",
          "max": "162928",
          "histogram": [
           {
            "bin_start": 162927.5,
            "bin_end": 162927.6,
            "count": 0
           },
           {
            "bin_start": 162927.6,
            "bin_end": 162927.7,
            "count": 0
           },
           {
            "bin_start": 162927.7,
            "bin_end": 162927.8,
            "count": 0
           },
           {
            "bin_start": 162927.8,
            "bin_end": 162927.9,
            "count": 0
           },
           {
            "bin_start": 162927.9,
            "bin_end": 162928,
            "count": 0
           },
           {
            "bin_start": 162928,
            "bin_end": 162928.1,
            "count": 23
           },
           {
            "bin_start": 162928.1,
            "bin_end": 162928.2,
            "count": 0
           },
           {
            "bin_start": 162928.2,
            "bin_end": 162928.3,
            "count": 0
           },
           {
            "bin_start": 162928.3,
            "bin_end": 162928.4,
            "count": 0
           },
           {
            "bin_start": 162928.4,
            "bin_end": 162928.5,
            "count": 0
           }
          ]
         }
        },
        {
         "name": "INSTNM",
         "dtype": "object",
         "stats": {
          "unique_count": 1,
          "nan_count": 0,
          "categories": [
           {
            "name": "Johns Hopkins University",
            "count": 23
           }
          ]
         }
        },
        {
         "name": "STABBR",
         "dtype": "object",
         "stats": {
          "unique_count": 1,
          "nan_count": 0,
          "categories": [
           {
            "name": "MD",
            "count": 23
           }
          ]
         }
        },
        {
         "name": "REGION",
         "dtype": "float64",
         "stats": {
          "unique_count": 1,
          "nan_count": 0,
          "min": "2.0",
          "max": "2.0",
          "histogram": [
           {
            "bin_start": 1.5,
            "bin_end": 1.6,
            "count": 0
           },
           {
            "bin_start": 1.6,
            "bin_end": 1.7,
            "count": 0
           },
           {
            "bin_start": 1.7,
            "bin_end": 1.8,
            "count": 0
           },
           {
            "bin_start": 1.8,
            "bin_end": 1.9,
            "count": 0
           },
           {
            "bin_start": 1.9,
            "bin_end": 2,
            "count": 0
           },
           {
            "bin_start": 2,
            "bin_end": 2.1,
            "count": 23
           },
           {
            "bin_start": 2.1,
            "bin_end": 2.2,
            "count": 0
           },
           {
            "bin_start": 2.2,
            "bin_end": 2.3,
            "count": 0
           },
           {
            "bin_start": 2.3,
            "bin_end": 2.4,
            "count": 0
           },
           {
            "bin_start": 2.4,
            "bin_end": 2.5,
            "count": 0
           }
          ]
         }
        },
        {
         "name": "ADM_RATE",
         "dtype": "float64",
         "stats": {
          "unique_count": 18,
          "nan_count": 5,
          "min": "0.1148",
          "max": "0.3509",
          "histogram": [
           {
            "bin_start": 0.1148,
            "bin_end": 0.13841,
            "count": 3
           },
           {
            "bin_start": 0.13841,
            "bin_end": 0.16202,
            "count": 2
           },
           {
            "bin_start": 0.16202,
            "bin_end": 0.18563000000000002,
            "count": 2
           },
           {
            "bin_start": 0.18563000000000002,
            "bin_end": 0.20923999999999998,
            "count": 1
           },
           {
            "bin_start": 0.20923999999999998,
            "bin_end": 0.23285,
            "count": 1
           },
           {
            "bin_start": 0.23285,
            "bin_end": 0.25646,
            "count": 0
           },
           {
            "bin_start": 0.25646,
            "bin_end": 0.28007,
            "count": 4
           },
           {
            "bin_start": 0.28007,
            "bin_end": 0.30368,
            "count": 0
           },
           {
            "bin_start": 0.30368,
            "bin_end": 0.32728999999999997,
            "count": 2
           },
           {
            "bin_start": 0.32728999999999997,
            "bin_end": 0.3509,
            "count": 3
           }
          ]
         }
        },
        {
         "name": "TUITIONFEE_IN",
         "dtype": "float64",
         "stats": {
          "unique_count": 19,
          "nan_count": 4,
          "min": "24930.0",
          "max": "53740.0",
          "histogram": [
           {
            "bin_start": 24930,
            "bin_end": 27811,
            "count": 3
           },
           {
            "bin_start": 27811,
            "bin_end": 30692,
            "count": 2
           },
           {
            "bin_start": 30692,
            "bin_end": 33573,
            "count": 1
           },
           {
            "bin_start": 33573,
            "bin_end": 36454,
            "count": 2
           },
           {
            "bin_start": 36454,
            "bin_end": 39335,
            "count": 2
           },
           {
            "bin_start": 39335,
            "bin_end": 42216,
            "count": 1
           },
           {
            "bin_start": 42216,
            "bin_end": 45097,
            "count": 2
           },
           {
            "bin_start": 45097,
            "bin_end": 47978,
            "count": 2
           },
           {
            "bin_start": 47978,
            "bin_end": 50859,
            "count": 2
           },
           {
            "bin_start": 50859,
            "bin_end": 53740,
            "count": 2
           }
          ]
         }
        },
        {
         "name": "YEAR",
         "dtype": "object",
         "stats": {
          "unique_count": 23,
          "nan_count": 0,
          "categories": [
           {
            "name": "2008",
            "count": 1
           },
           {
            "name": "2016",
            "count": 1
           },
           {
            "name": "21 others",
            "count": 21
           }
          ]
         }
        },
        {
         "name": "PCT_CHANGE",
         "dtype": "float64",
         "stats": {
          "unique_count": 19,
          "nan_count": 1,
          "min": "-50.12",
          "max": "83.39",
          "histogram": [
           {
            "bin_start": -50.12,
            "bin_end": -36.769,
            "count": 3
           },
           {
            "bin_start": -36.769,
            "bin_end": -23.418,
            "count": 1
           },
           {
            "bin_start": -23.418,
            "bin_end": -10.067,
            "count": 4
           },
           {
            "bin_start": -10.067,
            "bin_end": 3.283999999999999,
            "count": 5
           },
           {
            "bin_start": 3.283999999999999,
            "bin_end": 16.634999999999998,
            "count": 2
           },
           {
            "bin_start": 16.634999999999998,
            "bin_end": 29.985999999999997,
            "count": 3
           },
           {
            "bin_start": 29.985999999999997,
            "bin_end": 43.336999999999996,
            "count": 2
           },
           {
            "bin_start": 43.336999999999996,
            "bin_end": 56.687999999999995,
            "count": 0
           },
           {
            "bin_start": 56.687999999999995,
            "bin_end": 70.03899999999999,
            "count": 0
           },
           {
            "bin_start": 70.03899999999999,
            "bin_end": 83.39,
            "count": 2
           }
          ]
         }
        },
        {
         "name": "_deepnote_index_column",
         "dtype": "int64"
        }
       ],
       "rows_top": [
        {
         "UNITID": 162928,
         "INSTNM": "Johns Hopkins University",
         "STABBR": "MD",
         "REGION": 2,
         "ADM_RATE": "0.2609",
         "TUITIONFEE_IN": "37700.0",
         "YEAR": "2008",
         "PCT_CHANGE": "nan",
         "_deepnote_index_column": 0
        },
        {
         "UNITID": 162928,
         "INSTNM": "Johns Hopkins University",
         "STABBR": "MD",
         "REGION": 2,
         "ADM_RATE": "0.1284",
         "TUITIONFEE_IN": "50410.0",
         "YEAR": "2016",
         "PCT_CHANGE": "28.29",
         "_deepnote_index_column": 1
        },
        {
         "UNITID": 162928,
         "INSTNM": "Johns Hopkins University",
         "STABBR": "MD",
         "REGION": 2,
         "ADM_RATE": "0.2782",
         "TUITIONFEE_IN": "39150.0",
         "YEAR": "2009",
         "PCT_CHANGE": "-21.24",
         "_deepnote_index_column": 2
        },
        {
         "UNITID": 162928,
         "INSTNM": "Johns Hopkins University",
         "STABBR": "MD",
         "REGION": 2,
         "ADM_RATE": "0.1254",
         "TUITIONFEE_IN": "52170.0",
         "YEAR": "2017",
         "PCT_CHANGE": "29.82",
         "_deepnote_index_column": 3
        },
        {
         "UNITID": 162928,
         "INSTNM": "Johns Hopkins University",
         "STABBR": "MD",
         "REGION": 2,
         "ADM_RATE": "0.3431",
         "TUITIONFEE_IN": "26210.0",
         "YEAR": "2001",
         "PCT_CHANGE": "-48.69",
         "_deepnote_index_column": 4
        },
        {
         "UNITID": 162928,
         "INSTNM": "Johns Hopkins University",
         "STABBR": "MD",
         "REGION": 2,
         "ADM_RATE": "0.1608",
         "TUITIONFEE_IN": "47060.0",
         "YEAR": "2014",
         "PCT_CHANGE": "75.7",
         "_deepnote_index_column": 5
        },
        {
         "UNITID": 162928,
         "INSTNM": "Johns Hopkins University",
         "STABBR": "MD",
         "REGION": 2,
         "ADM_RATE": "0.3509",
         "TUITIONFEE_IN": "31620.0",
         "YEAR": "2005",
         "PCT_CHANGE": "-17.95",
         "_deepnote_index_column": 6
        },
        {
         "UNITID": 162928,
         "INSTNM": "Johns Hopkins University",
         "STABBR": "MD",
         "REGION": 2,
         "ADM_RATE": "nan",
         "TUITIONFEE_IN": "nan",
         "YEAR": "1998",
         "PCT_CHANGE": "0.0",
         "_deepnote_index_column": 7
        },
        {
         "UNITID": 162928,
         "INSTNM": "Johns Hopkins University",
         "STABBR": "MD",
         "REGION": 2,
         "ADM_RATE": "0.2225",
         "TUITIONFEE_IN": "40680.0",
         "YEAR": "2010",
         "PCT_CHANGE": "7.64",
         "_deepnote_index_column": 8
        },
        {
         "UNITID": 162928,
         "INSTNM": "Johns Hopkins University",
         "STABBR": "MD",
         "REGION": 2,
         "ADM_RATE": "0.306",
         "TUITIONFEE_IN": "28730.0",
         "YEAR": "2003",
         "PCT_CHANGE": "-19.44",
         "_deepnote_index_column": 9
        },
        {
         "UNITID": 162928,
         "INSTNM": "Johns Hopkins University",
         "STABBR": "MD",
         "REGION": 2,
         "ADM_RATE": "0.1843",
         "TUITIONFEE_IN": "43390.0",
         "YEAR": "2012",
         "PCT_CHANGE": "32.16",
         "_deepnote_index_column": 10
        },
        {
         "UNITID": 162928,
         "INSTNM": "Johns Hopkins University",
         "STABBR": "MD",
         "REGION": 2,
         "ADM_RATE": "nan",
         "TUITIONFEE_IN": "nan",
         "YEAR": "1999",
         "PCT_CHANGE": "0.0",
         "_deepnote_index_column": 11
        },
        {
         "UNITID": 162928,
         "INSTNM": "Johns Hopkins University",
         "STABBR": "MD",
         "REGION": 2,
         "ADM_RATE": "0.1148",
         "TUITIONFEE_IN": "53740.0",
         "YEAR": "2018",
         "PCT_CHANGE": "20.63",
         "_deepnote_index_column": 12
        },
        {
         "UNITID": 162928,
         "INSTNM": "Johns Hopkins University",
         "STABBR": "MD",
         "REGION": 2,
         "ADM_RATE": "0.2792",
         "TUITIONFEE_IN": "33900.0",
         "YEAR": "2006",
         "PCT_CHANGE": "-26.8",
         "_deepnote_index_column": 13
        },
        {
         "UNITID": 162928,
         "INSTNM": "Johns Hopkins University",
         "STABBR": "MD",
         "REGION": 2,
         "ADM_RATE": "0.2571",
         "TUITIONFEE_IN": "35900.0",
         "YEAR": "2007",
         "PCT_CHANGE": "1.0",
         "_deepnote_index_column": 14
        },
        {
         "UNITID": 162928,
         "INSTNM": "Johns Hopkins University",
         "STABBR": "MD",
         "REGION": 2,
         "ADM_RATE": "0.194",
         "TUITIONFEE_IN": "42280.0",
         "YEAR": "2011",
         "PCT_CHANGE": "8.72",
         "_deepnote_index_column": 15
        },
        {
         "UNITID": 162928,
         "INSTNM": "Johns Hopkins University",
         "STABBR": "MD",
         "REGION": 2,
         "ADM_RATE": "0.3071",
         "TUITIONFEE_IN": "30140.0",
         "YEAR": "2004",
         "PCT_CHANGE": "-15.28",
         "_deepnote_index_column": 16
        },
        {
         "UNITID": 162928,
         "INSTNM": "Johns Hopkins University",
         "STABBR": "MD",
         "REGION": 2,
         "ADM_RATE": "0.1412",
         "TUITIONFEE_IN": "48710.0",
         "YEAR": "2015",
         "PCT_CHANGE": "37.23",
         "_deepnote_index_column": 17
        },
        {
         "UNITID": 162928,
         "INSTNM": "Johns Hopkins University",
         "STABBR": "MD",
         "REGION": 2,
         "ADM_RATE": "nan",
         "TUITIONFEE_IN": "24930.0",
         "YEAR": "2000",
         "PCT_CHANGE": "-50.12",
         "_deepnote_index_column": 18
        },
        {
         "UNITID": 162928,
         "INSTNM": "Johns Hopkins University",
         "STABBR": "MD",
         "REGION": 2,
         "ADM_RATE": "0.1813",
         "TUITIONFEE_IN": "45470.0",
         "YEAR": "2013",
         "PCT_CHANGE": "83.39",
         "_deepnote_index_column": 19
        },
        {
         "UNITID": 162928,
         "INSTNM": "Johns Hopkins University",
         "STABBR": "MD",
         "REGION": 2,
         "ADM_RATE": "nan",
         "TUITIONFEE_IN": "nan",
         "YEAR": "1996",
         "PCT_CHANGE": "0.0",
         "_deepnote_index_column": 20
        },
        {
         "UNITID": 162928,
         "INSTNM": "Johns Hopkins University",
         "STABBR": "MD",
         "REGION": 2,
         "ADM_RATE": "0.3506",
         "TUITIONFEE_IN": "27390.0",
         "YEAR": "2002",
         "PCT_CHANGE": "-36.81",
         "_deepnote_index_column": 21
        },
        {
         "UNITID": 162928,
         "INSTNM": "Johns Hopkins University",
         "STABBR": "MD",
         "REGION": 2,
         "ADM_RATE": "nan",
         "TUITIONFEE_IN": "nan",
         "YEAR": "1997",
         "PCT_CHANGE": "0.0",
         "_deepnote_index_column": 22
        }
       ],
       "rows_bottom": null
      },
      "text/plain": "    UNITID                    INSTNM STABBR  REGION  ADM_RATE  TUITIONFEE_IN  \\\n0   162928  Johns Hopkins University     MD     2.0    0.2609        37700.0   \n1   162928  Johns Hopkins University     MD     2.0    0.1284        50410.0   \n2   162928  Johns Hopkins University     MD     2.0    0.2782        39150.0   \n3   162928  Johns Hopkins University     MD     2.0    0.1254        52170.0   \n4   162928  Johns Hopkins University     MD     2.0    0.3431        26210.0   \n5   162928  Johns Hopkins University     MD     2.0    0.1608        47060.0   \n6   162928  Johns Hopkins University     MD     2.0    0.3509        31620.0   \n7   162928  Johns Hopkins University     MD     2.0       NaN            NaN   \n8   162928  Johns Hopkins University     MD     2.0    0.2225        40680.0   \n9   162928  Johns Hopkins University     MD     2.0    0.3060        28730.0   \n10  162928  Johns Hopkins University     MD     2.0    0.1843        43390.0   \n11  162928  Johns Hopkins University     MD     2.0       NaN            NaN   \n12  162928  Johns Hopkins University     MD     2.0    0.1148        53740.0   \n13  162928  Johns Hopkins University     MD     2.0    0.2792        33900.0   \n14  162928  Johns Hopkins University     MD     2.0    0.2571        35900.0   \n15  162928  Johns Hopkins University     MD     2.0    0.1940        42280.0   \n16  162928  Johns Hopkins University     MD     2.0    0.3071        30140.0   \n17  162928  Johns Hopkins University     MD     2.0    0.1412        48710.0   \n18  162928  Johns Hopkins University     MD     2.0       NaN        24930.0   \n19  162928  Johns Hopkins University     MD     2.0    0.1813        45470.0   \n20  162928  Johns Hopkins University     MD     2.0       NaN            NaN   \n21  162928  Johns Hopkins University     MD     2.0    0.3506        27390.0   \n22  162928  Johns Hopkins University     MD     2.0       NaN            NaN   \n\n    YEAR  PCT_CHANGE  \n0   2008         NaN  \n1   2016       28.29  \n2   2009      -21.24  \n3   2017       29.82  \n4   2001      -48.69  \n5   2014       75.70  \n6   2005      -17.95  \n7   1998        0.00  \n8   2010        7.64  \n9   2003      -19.44  \n10  2012       32.16  \n11  1999        0.00  \n12  2018       20.63  \n13  2006      -26.80  \n14  2007        1.00  \n15  2011        8.72  \n16  2004      -15.28  \n17  2015       37.23  \n18  2000      -50.12  \n19  2013       83.39  \n20  1996        0.00  \n21  2002      -36.81  \n22  1997        0.00  ",
      "text/html": "<div>\n<style scoped>\n    .dataframe tbody tr th:only-of-type {\n        vertical-align: middle;\n    }\n\n    .dataframe tbody tr th {\n        vertical-align: top;\n    }\n\n    .dataframe thead th {\n        text-align: right;\n    }\n</style>\n<table border=\"1\" class=\"dataframe\">\n  <thead>\n    <tr style=\"text-align: right;\">\n      <th></th>\n      <th>UNITID</th>\n      <th>INSTNM</th>\n      <th>STABBR</th>\n      <th>REGION</th>\n      <th>ADM_RATE</th>\n      <th>TUITIONFEE_IN</th>\n      <th>YEAR</th>\n      <th>PCT_CHANGE</th>\n    </tr>\n  </thead>\n  <tbody>\n    <tr>\n      <th>0</th>\n      <td>162928</td>\n      <td>Johns Hopkins University</td>\n      <td>MD</td>\n      <td>2.0</td>\n      <td>0.2609</td>\n      <td>37700.0</td>\n      <td>2008</td>\n      <td>NaN</td>\n    </tr>\n    <tr>\n      <th>1</th>\n      <td>162928</td>\n      <td>Johns Hopkins University</td>\n      <td>MD</td>\n      <td>2.0</td>\n      <td>0.1284</td>\n      <td>50410.0</td>\n      <td>2016</td>\n      <td>28.29</td>\n    </tr>\n    <tr>\n      <th>2</th>\n      <td>162928</td>\n      <td>Johns Hopkins University</td>\n      <td>MD</td>\n      <td>2.0</td>\n      <td>0.2782</td>\n      <td>39150.0</td>\n      <td>2009</td>\n      <td>-21.24</td>\n    </tr>\n    <tr>\n      <th>3</th>\n      <td>162928</td>\n      <td>Johns Hopkins University</td>\n      <td>MD</td>\n      <td>2.0</td>\n      <td>0.1254</td>\n      <td>52170.0</td>\n      <td>2017</td>\n      <td>29.82</td>\n    </tr>\n    <tr>\n      <th>4</th>\n      <td>162928</td>\n      <td>Johns Hopkins University</td>\n      <td>MD</td>\n      <td>2.0</td>\n      <td>0.3431</td>\n      <td>26210.0</td>\n      <td>2001</td>\n      <td>-48.69</td>\n    </tr>\n    <tr>\n      <th>5</th>\n      <td>162928</td>\n      <td>Johns Hopkins University</td>\n      <td>MD</td>\n      <td>2.0</td>\n      <td>0.1608</td>\n      <td>47060.0</td>\n      <td>2014</td>\n      <td>75.70</td>\n    </tr>\n    <tr>\n      <th>6</th>\n      <td>162928</td>\n      <td>Johns Hopkins University</td>\n      <td>MD</td>\n      <td>2.0</td>\n      <td>0.3509</td>\n      <td>31620.0</td>\n      <td>2005</td>\n      <td>-17.95</td>\n    </tr>\n    <tr>\n      <th>7</th>\n      <td>162928</td>\n      <td>Johns Hopkins University</td>\n      <td>MD</td>\n      <td>2.0</td>\n      <td>NaN</td>\n      <td>NaN</td>\n      <td>1998</td>\n      <td>0.00</td>\n    </tr>\n    <tr>\n      <th>8</th>\n      <td>162928</td>\n      <td>Johns Hopkins University</td>\n      <td>MD</td>\n      <td>2.0</td>\n      <td>0.2225</td>\n      <td>40680.0</td>\n      <td>2010</td>\n      <td>7.64</td>\n    </tr>\n    <tr>\n      <th>9</th>\n      <td>162928</td>\n      <td>Johns Hopkins University</td>\n      <td>MD</td>\n      <td>2.0</td>\n      <td>0.3060</td>\n      <td>28730.0</td>\n      <td>2003</td>\n      <td>-19.44</td>\n    </tr>\n    <tr>\n      <th>10</th>\n      <td>162928</td>\n      <td>Johns Hopkins University</td>\n      <td>MD</td>\n      <td>2.0</td>\n      <td>0.1843</td>\n      <td>43390.0</td>\n      <td>2012</td>\n      <td>32.16</td>\n    </tr>\n    <tr>\n      <th>11</th>\n      <td>162928</td>\n      <td>Johns Hopkins University</td>\n      <td>MD</td>\n      <td>2.0</td>\n      <td>NaN</td>\n      <td>NaN</td>\n      <td>1999</td>\n      <td>0.00</td>\n    </tr>\n    <tr>\n      <th>12</th>\n      <td>162928</td>\n      <td>Johns Hopkins University</td>\n      <td>MD</td>\n      <td>2.0</td>\n      <td>0.1148</td>\n      <td>53740.0</td>\n      <td>2018</td>\n      <td>20.63</td>\n    </tr>\n    <tr>\n      <th>13</th>\n      <td>162928</td>\n      <td>Johns Hopkins University</td>\n      <td>MD</td>\n      <td>2.0</td>\n      <td>0.2792</td>\n      <td>33900.0</td>\n      <td>2006</td>\n      <td>-26.80</td>\n    </tr>\n    <tr>\n      <th>14</th>\n      <td>162928</td>\n      <td>Johns Hopkins University</td>\n      <td>MD</td>\n      <td>2.0</td>\n      <td>0.2571</td>\n      <td>35900.0</td>\n      <td>2007</td>\n      <td>1.00</td>\n    </tr>\n    <tr>\n      <th>15</th>\n      <td>162928</td>\n      <td>Johns Hopkins University</td>\n      <td>MD</td>\n      <td>2.0</td>\n      <td>0.1940</td>\n      <td>42280.0</td>\n      <td>2011</td>\n      <td>8.72</td>\n    </tr>\n    <tr>\n      <th>16</th>\n      <td>162928</td>\n      <td>Johns Hopkins University</td>\n      <td>MD</td>\n      <td>2.0</td>\n      <td>0.3071</td>\n      <td>30140.0</td>\n      <td>2004</td>\n      <td>-15.28</td>\n    </tr>\n    <tr>\n      <th>17</th>\n      <td>162928</td>\n      <td>Johns Hopkins University</td>\n      <td>MD</td>\n      <td>2.0</td>\n      <td>0.1412</td>\n      <td>48710.0</td>\n      <td>2015</td>\n      <td>37.23</td>\n    </tr>\n    <tr>\n      <th>18</th>\n      <td>162928</td>\n      <td>Johns Hopkins University</td>\n      <td>MD</td>\n      <td>2.0</td>\n      <td>NaN</td>\n      <td>24930.0</td>\n      <td>2000</td>\n      <td>-50.12</td>\n    </tr>\n    <tr>\n      <th>19</th>\n      <td>162928</td>\n      <td>Johns Hopkins University</td>\n      <td>MD</td>\n      <td>2.0</td>\n      <td>0.1813</td>\n      <td>45470.0</td>\n      <td>2013</td>\n      <td>83.39</td>\n    </tr>\n    <tr>\n      <th>20</th>\n      <td>162928</td>\n      <td>Johns Hopkins University</td>\n      <td>MD</td>\n      <td>2.0</td>\n      <td>NaN</td>\n      <td>NaN</td>\n      <td>1996</td>\n      <td>0.00</td>\n    </tr>\n    <tr>\n      <th>21</th>\n      <td>162928</td>\n      <td>Johns Hopkins University</td>\n      <td>MD</td>\n      <td>2.0</td>\n      <td>0.3506</td>\n      <td>27390.0</td>\n      <td>2002</td>\n      <td>-36.81</td>\n    </tr>\n    <tr>\n      <th>22</th>\n      <td>162928</td>\n      <td>Johns Hopkins University</td>\n      <td>MD</td>\n      <td>2.0</td>\n      <td>NaN</td>\n      <td>NaN</td>\n      <td>1997</td>\n      <td>0.00</td>\n    </tr>\n  </tbody>\n</table>\n</div>"
     },
     "metadata": {}
    }
   ],
   "execution_count": 31
  },
  {
   "cell_type": "code",
   "source": "plt.figure(figsize=(20,10))\nplt.grid()\nplt.title('Plots of JHU- Year v/s percentage change in tuition', color='green')\nplt.bar(x='YEAR', height='PCT_CHANGE', data=jhu_df)\nplt.xlabel('YEAR')\nplt.ylabel('Percentage Change')",
   "metadata": {
    "tags": [],
    "cell_id": "00031-db841e5c-4a8f-41d5-8a15-d5f4ea161865",
    "deepnote_to_be_reexecuted": false,
    "source_hash": "60be43c1",
    "execution_start": 1621551954555,
    "execution_millis": 560,
    "deepnote_cell_type": "code"
   },
   "outputs": [
    {
     "output_type": "execute_result",
     "execution_count": 32,
     "data": {
      "text/plain": "Text(0, 0.5, 'Percentage Change')"
     },
     "metadata": {}
    },
    {
     "data": {
      "text/plain": "<Figure size 1440x720 with 1 Axes>",
      "image/png": "[encoded data removed]"
     },
     "metadata": {
      "needs_background": "light",
      "image/png": {
       "width": 1172,
       "height": 604
      }
     },
     "output_type": "display_data"
    }
   ],
   "execution_count": 32
  },
  {
   "cell_type": "code",
   "source": "umbc2 = umbc_df[['YEAR', 'PCT_CHANGE']]\numbc2 = umbc2.rename(columns = {\"PCT_CHANGE\":\"UMBC_PCT\"}).reset_index(drop=True)# Renaming column\numbc2",
   "metadata": {
    "tags": [],
    "cell_id": "00032-edd2c6ad-5727-4e25-97c8-402554455acc",
    "deepnote_to_be_reexecuted": false,
    "source_hash": "6e41b7f2",
    "execution_start": 1621551955116,
    "execution_millis": 46,
    "deepnote_cell_type": "code"
   },
   "outputs": [
    {
     "output_type": "execute_result",
     "execution_count": 33,
     "data": {
      "application/vnd.deepnote.dataframe.v2+json": {
       "row_count": 23,
       "column_count": 2,
       "columns": [
        {
         "name": "YEAR",
         "dtype": "object",
         "stats": {
          "unique_count": 23,
          "nan_count": 0,
          "categories": [
           {
            "name": "2008",
            "count": 1
           },
           {
            "name": "2016",
            "count": 1
           },
           {
            "name": "21 others",
            "count": 21
           }
          ]
         }
        },
        {
         "name": "UMBC_PCT",
         "dtype": "float64",
         "stats": {
          "unique_count": 19,
          "nan_count": 1,
          "min": "-50.12",
          "max": "83.39",
          "histogram": [
           {
            "bin_start": -50.12,
            "bin_end": -36.769,
            "count": 3
           },
           {
            "bin_start": -36.769,
            "bin_end": -23.418,
            "count": 1
           },
           {
            "bin_start": -23.418,
            "bin_end": -10.067,
            "count": 4
           },
           {
            "bin_start": -10.067,
            "bin_end": 3.283999999999999,
            "count": 5
           },
           {
            "bin_start": 3.283999999999999,
            "bin_end": 16.634999999999998,
            "count": 2
           },
           {
            "bin_start": 16.634999999999998,
            "bin_end": 29.985999999999997,
            "count": 3
           },
           {
            "bin_start": 29.985999999999997,
            "bin_end": 43.336999999999996,
            "count": 2
           },
           {
            "bin_start": 43.336999999999996,
            "bin_end": 56.687999999999995,
            "count": 0
           },
           {
            "bin_start": 56.687999999999995,
            "bin_end": 70.03899999999999,
            "count": 0
           },
           {
            "bin_start": 70.03899999999999,
            "bin_end": 83.39,
            "count": 2
           }
          ]
         }
        },
        {
         "name": "_deepnote_index_column",
         "dtype": "int64"
        }
       ],
       "rows_top": [
        {
         "YEAR": "2008",
         "UMBC_PCT": "nan",
         "_deepnote_index_column": 0
        },
        {
         "YEAR": "2016",
         "UMBC_PCT": "28.29",
         "_deepnote_index_column": 1
        },
        {
         "YEAR": "2009",
         "UMBC_PCT": "-21.24",
         "_deepnote_index_column": 2
        },
        {
         "YEAR": "2017",
         "UMBC_PCT": "29.82",
         "_deepnote_index_column": 3
        },
        {
         "YEAR": "2001",
         "UMBC_PCT": "-48.69",
         "_deepnote_index_column": 4
        },
        {
         "YEAR": "2014",
         "UMBC_PCT": "75.7",
         "_deepnote_index_column": 5
        },
        {
         "YEAR": "2005",
         "UMBC_PCT": "-17.95",
         "_deepnote_index_column": 6
        },
        {
         "YEAR": "1998",
         "UMBC_PCT": "0.0",
         "_deepnote_index_column": 7
        },
        {
         "YEAR": "2010",
         "UMBC_PCT": "7.64",
         "_deepnote_index_column": 8
        },
        {
         "YEAR": "2003",
         "UMBC_PCT": "-19.44",
         "_deepnote_index_column": 9
        },
        {
         "YEAR": "2012",
         "UMBC_PCT": "32.16",
         "_deepnote_index_column": 10
        },
        {
         "YEAR": "1999",
         "UMBC_PCT": "0.0",
         "_deepnote_index_column": 11
        },
        {
         "YEAR": "2018",
         "UMBC_PCT": "20.63",
         "_deepnote_index_column": 12
        },
        {
         "YEAR": "2006",
         "UMBC_PCT": "-26.8",
         "_deepnote_index_column": 13
        },
        {
         "YEAR": "2007",
         "UMBC_PCT": "1.0",
         "_deepnote_index_column": 14
        },
        {
         "YEAR": "2011",
         "UMBC_PCT": "8.72",
         "_deepnote_index_column": 15
        },
        {
         "YEAR": "2004",
         "UMBC_PCT": "-15.28",
         "_deepnote_index_column": 16
        },
        {
         "YEAR": "2015",
         "UMBC_PCT": "37.23",
         "_deepnote_index_column": 17
        },
        {
         "YEAR": "2000",
         "UMBC_PCT": "-50.12",
         "_deepnote_index_column": 18
        },
        {
         "YEAR": "2013",
         "UMBC_PCT": "83.39",
         "_deepnote_index_column": 19
        },
        {
         "YEAR": "1996",
         "UMBC_PCT": "0.0",
         "_deepnote_index_column": 20
        },
        {
         "YEAR": "2002",
         "UMBC_PCT": "-36.81",
         "_deepnote_index_column": 21
        },
        {
         "YEAR": "1997",
         "UMBC_PCT": "0.0",
         "_deepnote_index_column": 22
        }
       ],
       "rows_bottom": null
      },
      "text/plain": "    YEAR  UMBC_PCT\n0   2008       NaN\n1   2016     28.29\n2   2009    -21.24\n3   2017     29.82\n4   2001    -48.69\n5   2014     75.70\n6   2005    -17.95\n7   1998      0.00\n8   2010      7.64\n9   2003    -19.44\n10  2012     32.16\n11  1999      0.00\n12  2018     20.63\n13  2006    -26.80\n14  2007      1.00\n15  2011      8.72\n16  2004    -15.28\n17  2015     37.23\n18  2000    -50.12\n19  2013     83.39\n20  1996      0.00\n21  2002    -36.81\n22  1997      0.00",
      "text/html": "<div>\n<style scoped>\n    .dataframe tbody tr th:only-of-type {\n        vertical-align: middle;\n    }\n\n    .dataframe tbody tr th {\n        vertical-align: top;\n    }\n\n    .dataframe thead th {\n        text-align: right;\n    }\n</style>\n<table border=\"1\" class=\"dataframe\">\n  <thead>\n    <tr style=\"text-align: right;\">\n      <th></th>\n      <th>YEAR</th>\n      <th>UMBC_PCT</th>\n    </tr>\n  </thead>\n  <tbody>\n    <tr>\n      <th>0</th>\n      <td>2008</td>\n      <td>NaN</td>\n    </tr>\n    <tr>\n      <th>1</th>\n      <td>2016</td>\n      <td>28.29</td>\n    </tr>\n    <tr>\n      <th>2</th>\n      <td>2009</td>\n      <td>-21.24</td>\n    </tr>\n    <tr>\n      <th>3</th>\n      <td>2017</td>\n      <td>29.82</td>\n    </tr>\n    <tr>\n      <th>4</th>\n      <td>2001</td>\n      <td>-48.69</td>\n    </tr>\n    <tr>\n      <th>5</th>\n      <td>2014</td>\n      <td>75.70</td>\n    </tr>\n    <tr>\n      <th>6</th>\n      <td>2005</td>\n      <td>-17.95</td>\n    </tr>\n    <tr>\n      <th>7</th>\n      <td>1998</td>\n      <td>0.00</td>\n    </tr>\n    <tr>\n      <th>8</th>\n      <td>2010</td>\n      <td>7.64</td>\n    </tr>\n    <tr>\n      <th>9</th>\n      <td>2003</td>\n      <td>-19.44</td>\n    </tr>\n    <tr>\n      <th>10</th>\n      <td>2012</td>\n      <td>32.16</td>\n    </tr>\n    <tr>\n      <th>11</th>\n      <td>1999</td>\n      <td>0.00</td>\n    </tr>\n    <tr>\n      <th>12</th>\n      <td>2018</td>\n      <td>20.63</td>\n    </tr>\n    <tr>\n      <th>13</th>\n      <td>2006</td>\n      <td>-26.80</td>\n    </tr>\n    <tr>\n      <th>14</th>\n      <td>2007</td>\n      <td>1.00</td>\n    </tr>\n    <tr>\n      <th>15</th>\n      <td>2011</td>\n      <td>8.72</td>\n    </tr>\n    <tr>\n      <th>16</th>\n      <td>2004</td>\n      <td>-15.28</td>\n    </tr>\n    <tr>\n      <th>17</th>\n      <td>2015</td>\n      <td>37.23</td>\n    </tr>\n    <tr>\n      <th>18</th>\n      <td>2000</td>\n      <td>-50.12</td>\n    </tr>\n    <tr>\n      <th>19</th>\n      <td>2013</td>\n      <td>83.39</td>\n    </tr>\n    <tr>\n      <th>20</th>\n      <td>1996</td>\n      <td>0.00</td>\n    </tr>\n    <tr>\n      <th>21</th>\n      <td>2002</td>\n      <td>-36.81</td>\n    </tr>\n    <tr>\n      <th>22</th>\n      <td>1997</td>\n      <td>0.00</td>\n    </tr>\n  </tbody>\n</table>\n</div>"
     },
     "metadata": {}
    }
   ],
   "execution_count": 33
  },
  {
   "cell_type": "code",
   "source": "jhu2 = jhu_df[['YEAR', 'PCT_CHANGE']]\njhu2 = jhu2.rename(columns = {\"PCT_CHANGE\":\"JHU_PCT\"}).reset_index(drop=True) # Renaming column\njhu2",
   "metadata": {
    "tags": [],
    "cell_id": "00033-fbaf42d4-faac-4054-b876-05d199d9b252",
    "deepnote_to_be_reexecuted": false,
    "source_hash": "39d2f3bb",
    "execution_start": 1621551955166,
    "execution_millis": 41,
    "deepnote_cell_type": "code"
   },
   "outputs": [
    {
     "output_type": "execute_result",
     "execution_count": 34,
     "data": {
      "application/vnd.deepnote.dataframe.v2+json": {
       "row_count": 23,
       "column_count": 2,
       "columns": [
        {
         "name": "YEAR",
         "dtype": "object",
         "stats": {
          "unique_count": 23,
          "nan_count": 0,
          "categories": [
           {
            "name": "2008",
            "count": 1
           },
           {
            "name": "2016",
            "count": 1
           },
           {
            "name": "21 others",
            "count": 21
           }
          ]
         }
        },
        {
         "name": "JHU_PCT",
         "dtype": "float64",
         "stats": {
          "unique_count": 19,
          "nan_count": 1,
          "min": "-50.12",
          "max": "83.39",
          "histogram": [
           {
            "bin_start": -50.12,
            "bin_end": -36.769,
            "count": 3
           },
           {
            "bin_start": -36.769,
            "bin_end": -23.418,
            "count": 1
           },
           {
            "bin_start": -23.418,
            "bin_end": -10.067,
            "count": 4
           },
           {
            "bin_start": -10.067,
            "bin_end": 3.283999999999999,
            "count": 5
           },
           {
            "bin_start": 3.283999999999999,
            "bin_end": 16.634999999999998,
            "count": 2
           },
           {
            "bin_start": 16.634999999999998,
            "bin_end": 29.985999999999997,
            "count": 3
           },
           {
            "bin_start": 29.985999999999997,
            "bin_end": 43.336999999999996,
            "count": 2
           },
           {
            "bin_start": 43.336999999999996,
            "bin_end": 56.687999999999995,
            "count": 0
           },
           {
            "bin_start": 56.687999999999995,
            "bin_end": 70.03899999999999,
            "count": 0
           },
           {
            "bin_start": 70.03899999999999,
            "bin_end": 83.39,
            "count": 2
           }
          ]
         }
        },
        {
         "name": "_deepnote_index_column",
         "dtype": "int64"
        }
       ],
       "rows_top": [
        {
         "YEAR": "2008",
         "JHU_PCT": "nan",
         "_deepnote_index_column": 0
        },
        {
         "YEAR": "2016",
         "JHU_PCT": "28.29",
         "_deepnote_index_column": 1
        },
        {
         "YEAR": "2009",
         "JHU_PCT": "-21.24",
         "_deepnote_index_column": 2
        },
        {
         "YEAR": "2017",
         "JHU_PCT": "29.82",
         "_deepnote_index_column": 3
        },
        {
         "YEAR": "2001",
         "JHU_PCT": "-48.69",
         "_deepnote_index_column": 4
        },
        {
         "YEAR": "2014",
         "JHU_PCT": "75.7",
         "_deepnote_index_column": 5
        },
        {
         "YEAR": "2005",
         "JHU_PCT": "-17.95",
         "_deepnote_index_column": 6
        },
        {
         "YEAR": "1998",
         "JHU_PCT": "0.0",
         "_deepnote_index_column": 7
        },
        {
         "YEAR": "2010",
         "JHU_PCT": "7.64",
         "_deepnote_index_column": 8
        },
        {
         "YEAR": "2003",
         "JHU_PCT": "-19.44",
         "_deepnote_index_column": 9
        },
        {
         "YEAR": "2012",
         "JHU_PCT": "32.16",
         "_deepnote_index_column": 10
        },
        {
         "YEAR": "1999",
         "JHU_PCT": "0.0",
         "_deepnote_index_column": 11
        },
        {
         "YEAR": "2018",
         "JHU_PCT": "20.63",
         "_deepnote_index_column": 12
        },
        {
         "YEAR": "2006",
         "JHU_PCT": "-26.8",
         "_deepnote_index_column": 13
        },
        {
         "YEAR": "2007",
         "JHU_PCT": "1.0",
         "_deepnote_index_column": 14
        },
        {
         "YEAR": "2011",
         "JHU_PCT": "8.72",
         "_deepnote_index_column": 15
        },
        {
         "YEAR": "2004",
         "JHU_PCT": "-15.28",
         "_deepnote_index_column": 16
        },
        {
         "YEAR": "2015",
         "JHU_PCT": "37.23",
         "_deepnote_index_column": 17
        },
        {
         "YEAR": "2000",
         "JHU_PCT": "-50.12",
         "_deepnote_index_column": 18
        },
        {
         "YEAR": "2013",
         "JHU_PCT": "83.39",
         "_deepnote_index_column": 19
        },
        {
         "YEAR": "1996",
         "JHU_PCT": "0.0",
         "_deepnote_index_column": 20
        },
        {
         "YEAR": "2002",
         "JHU_PCT": "-36.81",
         "_deepnote_index_column": 21
        },
        {
         "YEAR": "1997",
         "JHU_PCT": "0.0",
         "_deepnote_index_column": 22
        }
       ],
       "rows_bottom": null
      },
      "text/plain": "    YEAR  JHU_PCT\n0   2008      NaN\n1   2016    28.29\n2   2009   -21.24\n3   2017    29.82\n4   2001   -48.69\n5   2014    75.70\n6   2005   -17.95\n7   1998     0.00\n8   2010     7.64\n9   2003   -19.44\n10  2012    32.16\n11  1999     0.00\n12  2018    20.63\n13  2006   -26.80\n14  2007     1.00\n15  2011     8.72\n16  2004   -15.28\n17  2015    37.23\n18  2000   -50.12\n19  2013    83.39\n20  1996     0.00\n21  2002   -36.81\n22  1997     0.00",
      "text/html": "<div>\n<style scoped>\n    .dataframe tbody tr th:only-of-type {\n        vertical-align: middle;\n    }\n\n    .dataframe tbody tr th {\n        vertical-align: top;\n    }\n\n    .dataframe thead th {\n        text-align: right;\n    }\n</style>\n<table border=\"1\" class=\"dataframe\">\n  <thead>\n    <tr style=\"text-align: right;\">\n      <th></th>\n      <th>YEAR</th>\n      <th>JHU_PCT</th>\n    </tr>\n  </thead>\n  <tbody>\n    <tr>\n      <th>0</th>\n      <td>2008</td>\n      <td>NaN</td>\n    </tr>\n    <tr>\n      <th>1</th>\n      <td>2016</td>\n      <td>28.29</td>\n    </tr>\n    <tr>\n      <th>2</th>\n      <td>2009</td>\n      <td>-21.24</td>\n    </tr>\n    <tr>\n      <th>3</th>\n      <td>2017</td>\n      <td>29.82</td>\n    </tr>\n    <tr>\n      <th>4</th>\n      <td>2001</td>\n      <td>-48.69</td>\n    </tr>\n    <tr>\n      <th>5</th>\n      <td>2014</td>\n      <td>75.70</td>\n    </tr>\n    <tr>\n      <th>6</th>\n      <td>2005</td>\n      <td>-17.95</td>\n    </tr>\n    <tr>\n      <th>7</th>\n      <td>1998</td>\n      <td>0.00</td>\n    </tr>\n    <tr>\n      <th>8</th>\n      <td>2010</td>\n      <td>7.64</td>\n    </tr>\n    <tr>\n      <th>9</th>\n      <td>2003</td>\n      <td>-19.44</td>\n    </tr>\n    <tr>\n      <th>10</th>\n      <td>2012</td>\n      <td>32.16</td>\n    </tr>\n    <tr>\n      <th>11</th>\n      <td>1999</td>\n      <td>0.00</td>\n    </tr>\n    <tr>\n      <th>12</th>\n      <td>2018</td>\n      <td>20.63</td>\n    </tr>\n    <tr>\n      <th>13</th>\n      <td>2006</td>\n      <td>-26.80</td>\n    </tr>\n    <tr>\n      <th>14</th>\n      <td>2007</td>\n      <td>1.00</td>\n    </tr>\n    <tr>\n      <th>15</th>\n      <td>2011</td>\n      <td>8.72</td>\n    </tr>\n    <tr>\n      <th>16</th>\n      <td>2004</td>\n      <td>-15.28</td>\n    </tr>\n    <tr>\n      <th>17</th>\n      <td>2015</td>\n      <td>37.23</td>\n    </tr>\n    <tr>\n      <th>18</th>\n      <td>2000</td>\n      <td>-50.12</td>\n    </tr>\n    <tr>\n      <th>19</th>\n      <td>2013</td>\n      <td>83.39</td>\n    </tr>\n    <tr>\n      <th>20</th>\n      <td>1996</td>\n      <td>0.00</td>\n    </tr>\n    <tr>\n      <th>21</th>\n      <td>2002</td>\n      <td>-36.81</td>\n    </tr>\n    <tr>\n      <th>22</th>\n      <td>1997</td>\n      <td>0.00</td>\n    </tr>\n  </tbody>\n</table>\n</div>"
     },
     "metadata": {}
    }
   ],
   "execution_count": 34
  },
  {
   "cell_type": "code",
   "source": "merged_df = pd.merge(umbc2,jhu2) # Merging two dataframe to one\nmerged_df",
   "metadata": {
    "tags": [],
    "cell_id": "00034-47564856-2e54-47c4-9eb0-bc785c540ce9",
    "deepnote_to_be_reexecuted": false,
    "source_hash": "c88cc282",
    "execution_start": 1621551955210,
    "execution_millis": 57,
    "deepnote_cell_type": "code"
   },
   "outputs": [
    {
     "output_type": "execute_result",
     "execution_count": 35,
     "data": {
      "application/vnd.deepnote.dataframe.v2+json": {
       "row_count": 23,
       "column_count": 3,
       "columns": [
        {
         "name": "YEAR",
         "dtype": "object",
         "stats": {
          "unique_count": 23,
          "nan_count": 0,
          "categories": [
           {
            "name": "2008",
            "count": 1
           },
           {
            "name": "2016",
            "count": 1
           },
           {
            "name": "21 others",
            "count": 21
           }
          ]
         }
        },
        {
         "name": "UMBC_PCT",
         "dtype": "float64",
         "stats": {
          "unique_count": 19,
          "nan_count": 1,
          "min": "-50.12",
          "max": "83.39",
          "histogram": [
           {
            "bin_start": -50.12,
            "bin_end": -36.769,
            "count": 3
           },
           {
            "bin_start": -36.769,
            "bin_end": -23.418,
            "count": 1
           },
           {
            "bin_start": -23.418,
            "bin_end": -10.067,
            "count": 4
           },
           {
            "bin_start": -10.067,
            "bin_end": 3.283999999999999,
            "count": 5
           },
           {
            "bin_start": 3.283999999999999,
            "bin_end": 16.634999999999998,
            "count": 2
           },
           {
            "bin_start": 16.634999999999998,
            "bin_end": 29.985999999999997,
            "count": 3
           },
           {
            "bin_start": 29.985999999999997,
            "bin_end": 43.336999999999996,
            "count": 2
           },
           {
            "bin_start": 43.336999999999996,
            "bin_end": 56.687999999999995,
            "count": 0
           },
           {
            "bin_start": 56.687999999999995,
            "bin_end": 70.03899999999999,
            "count": 0
           },
           {
            "bin_start": 70.03899999999999,
            "bin_end": 83.39,
            "count": 2
           }
          ]
         }
        },
        {
         "name": "JHU_PCT",
         "dtype": "float64",
         "stats": {
          "unique_count": 19,
          "nan_count": 1,
          "min": "-50.12",
          "max": "83.39",
          "histogram": [
           {
            "bin_start": -50.12,
            "bin_end": -36.769,
            "count": 3
           },
           {
            "bin_start": -36.769,
            "bin_end": -23.418,
            "count": 1
           },
           {
            "bin_start": -23.418,
            "bin_end": -10.067,
            "count": 4
           },
           {
            "bin_start": -10.067,
            "bin_end": 3.283999999999999,
            "count": 5
           },
           {
            "bin_start": 3.283999999999999,
            "bin_end": 16.634999999999998,
            "count": 2
           },
           {
            "bin_start": 16.634999999999998,
            "bin_end": 29.985999999999997,
            "count": 3
           },
           {
            "bin_start": 29.985999999999997,
            "bin_end": 43.336999999999996,
            "count": 2
           },
           {
            "bin_start": 43.336999999999996,
            "bin_end": 56.687999999999995,
            "count": 0
           },
           {
            "bin_start": 56.687999999999995,
            "bin_end": 70.03899999999999,
            "count": 0
           },
           {
            "bin_start": 70.03899999999999,
            "bin_end": 83.39,
            "count": 2
           }
          ]
         }
        },
        {
         "name": "_deepnote_index_column",
         "dtype": "int64"
        }
       ],
       "rows_top": [
        {
         "YEAR": "2008",
         "UMBC_PCT": "nan",
         "JHU_PCT": "nan",
         "_deepnote_index_column": 0
        },
        {
         "YEAR": "2016",
         "UMBC_PCT": "28.29",
         "JHU_PCT": "28.29",
         "_deepnote_index_column": 1
        },
        {
         "YEAR": "2009",
         "UMBC_PCT": "-21.24",
         "JHU_PCT": "-21.24",
         "_deepnote_index_column": 2
        },
        {
         "YEAR": "2017",
         "UMBC_PCT": "29.82",
         "JHU_PCT": "29.82",
         "_deepnote_index_column": 3
        },
        {
         "YEAR": "2001",
         "UMBC_PCT": "-48.69",
         "JHU_PCT": "-48.69",
         "_deepnote_index_column": 4
        },
        {
         "YEAR": "2014",
         "UMBC_PCT": "75.7",
         "JHU_PCT": "75.7",
         "_deepnote_index_column": 5
        },
        {
         "YEAR": "2005",
         "UMBC_PCT": "-17.95",
         "JHU_PCT": "-17.95",
         "_deepnote_index_column": 6
        },
        {
         "YEAR": "1998",
         "UMBC_PCT": "0.0",
         "JHU_PCT": "0.0",
         "_deepnote_index_column": 7
        },
        {
         "YEAR": "2010",
         "UMBC_PCT": "7.64",
         "JHU_PCT": "7.64",
         "_deepnote_index_column": 8
        },
        {
         "YEAR": "2003",
         "UMBC_PCT": "-19.44",
         "JHU_PCT": "-19.44",
         "_deepnote_index_column": 9
        },
        {
         "YEAR": "2012",
         "UMBC_PCT": "32.16",
         "JHU_PCT": "32.16",
         "_deepnote_index_column": 10
        },
        {
         "YEAR": "1999",
         "UMBC_PCT": "0.0",
         "JHU_PCT": "0.0",
         "_deepnote_index_column": 11
        },
        {
         "YEAR": "2018",
         "UMBC_PCT": "20.63",
         "JHU_PCT": "20.63",
         "_deepnote_index_column": 12
        },
        {
         "YEAR": "2006",
         "UMBC_PCT": "-26.8",
         "JHU_PCT": "-26.8",
         "_deepnote_index_column": 13
        },
        {
         "YEAR": "2007",
         "UMBC_PCT": "1.0",
         "JHU_PCT": "1.0",
         "_deepnote_index_column": 14
        },
        {
         "YEAR": "2011",
         "UMBC_PCT": "8.72",
         "JHU_PCT": "8.72",
         "_deepnote_index_column": 15
        },
        {
         "YEAR": "2004",
         "UMBC_PCT": "-15.28",
         "JHU_PCT": "-15.28",
         "_deepnote_index_column": 16
        },
        {
         "YEAR": "2015",
         "UMBC_PCT": "37.23",
         "JHU_PCT": "37.23",
         "_deepnote_index_column": 17
        },
        {
         "YEAR": "2000",
         "UMBC_PCT": "-50.12",
         "JHU_PCT": "-50.12",
         "_deepnote_index_column": 18
        },
        {
         "YEAR": "2013",
         "UMBC_PCT": "83.39",
         "JHU_PCT": "83.39",
         "_deepnote_index_column": 19
        },
        {
         "YEAR": "1996",
         "UMBC_PCT": "0.0",
         "JHU_PCT": "0.0",
         "_deepnote_index_column": 20
        },
        {
         "YEAR": "2002",
         "UMBC_PCT": "-36.81",
         "JHU_PCT": "-36.81",
         "_deepnote_index_column": 21
        },
        {
         "YEAR": "1997",
         "UMBC_PCT": "0.0",
         "JHU_PCT": "0.0",
         "_deepnote_index_column": 22
        }
       ],
       "rows_bottom": null
      },
      "text/plain": "    YEAR  UMBC_PCT  JHU_PCT\n0   2008       NaN      NaN\n1   2016     28.29    28.29\n2   2009    -21.24   -21.24\n3   2017     29.82    29.82\n4   2001    -48.69   -48.69\n5   2014     75.70    75.70\n6   2005    -17.95   -17.95\n7   1998      0.00     0.00\n8   2010      7.64     7.64\n9   2003    -19.44   -19.44\n10  2012     32.16    32.16\n11  1999      0.00     0.00\n12  2018     20.63    20.63\n13  2006    -26.80   -26.80\n14  2007      1.00     1.00\n15  2011      8.72     8.72\n16  2004    -15.28   -15.28\n17  2015     37.23    37.23\n18  2000    -50.12   -50.12\n19  2013     83.39    83.39\n20  1996      0.00     0.00\n21  2002    -36.81   -36.81\n22  1997      0.00     0.00",
      "text/html": "<div>\n<style scoped>\n    .dataframe tbody tr th:only-of-type {\n        vertical-align: middle;\n    }\n\n    .dataframe tbody tr th {\n        vertical-align: top;\n    }\n\n    .dataframe thead th {\n        text-align: right;\n    }\n</style>\n<table border=\"1\" class=\"dataframe\">\n  <thead>\n    <tr style=\"text-align: right;\">\n      <th></th>\n      <th>YEAR</th>\n      <th>UMBC_PCT</th>\n      <th>JHU_PCT</th>\n    </tr>\n  </thead>\n  <tbody>\n    <tr>\n      <th>0</th>\n      <td>2008</td>\n      <td>NaN</td>\n      <td>NaN</td>\n    </tr>\n    <tr>\n      <th>1</th>\n      <td>2016</td>\n      <td>28.29</td>\n      <td>28.29</td>\n    </tr>\n    <tr>\n      <th>2</th>\n      <td>2009</td>\n      <td>-21.24</td>\n      <td>-21.24</td>\n    </tr>\n    <tr>\n      <th>3</th>\n      <td>2017</td>\n      <td>29.82</td>\n      <td>29.82</td>\n    </tr>\n    <tr>\n      <th>4</th>\n      <td>2001</td>\n      <td>-48.69</td>\n      <td>-48.69</td>\n    </tr>\n    <tr>\n      <th>5</th>\n      <td>2014</td>\n      <td>75.70</td>\n      <td>75.70</td>\n    </tr>\n    <tr>\n      <th>6</th>\n      <td>2005</td>\n      <td>-17.95</td>\n      <td>-17.95</td>\n    </tr>\n    <tr>\n      <th>7</th>\n      <td>1998</td>\n      <td>0.00</td>\n      <td>0.00</td>\n    </tr>\n    <tr>\n      <th>8</th>\n      <td>2010</td>\n      <td>7.64</td>\n      <td>7.64</td>\n    </tr>\n    <tr>\n      <th>9</th>\n      <td>2003</td>\n      <td>-19.44</td>\n      <td>-19.44</td>\n    </tr>\n    <tr>\n      <th>10</th>\n      <td>2012</td>\n      <td>32.16</td>\n      <td>32.16</td>\n    </tr>\n    <tr>\n      <th>11</th>\n      <td>1999</td>\n      <td>0.00</td>\n      <td>0.00</td>\n    </tr>\n    <tr>\n      <th>12</th>\n      <td>2018</td>\n      <td>20.63</td>\n      <td>20.63</td>\n    </tr>\n    <tr>\n      <th>13</th>\n      <td>2006</td>\n      <td>-26.80</td>\n      <td>-26.80</td>\n    </tr>\n    <tr>\n      <th>14</th>\n      <td>2007</td>\n      <td>1.00</td>\n      <td>1.00</td>\n    </tr>\n    <tr>\n      <th>15</th>\n      <td>2011</td>\n      <td>8.72</td>\n      <td>8.72</td>\n    </tr>\n    <tr>\n      <th>16</th>\n      <td>2004</td>\n      <td>-15.28</td>\n      <td>-15.28</td>\n    </tr>\n    <tr>\n      <th>17</th>\n      <td>2015</td>\n      <td>37.23</td>\n      <td>37.23</td>\n    </tr>\n    <tr>\n      <th>18</th>\n      <td>2000</td>\n      <td>-50.12</td>\n      <td>-50.12</td>\n    </tr>\n    <tr>\n      <th>19</th>\n      <td>2013</td>\n      <td>83.39</td>\n      <td>83.39</td>\n    </tr>\n    <tr>\n      <th>20</th>\n      <td>1996</td>\n      <td>0.00</td>\n      <td>0.00</td>\n    </tr>\n    <tr>\n      <th>21</th>\n      <td>2002</td>\n      <td>-36.81</td>\n      <td>-36.81</td>\n    </tr>\n    <tr>\n      <th>22</th>\n      <td>1997</td>\n      <td>0.00</td>\n      <td>0.00</td>\n    </tr>\n  </tbody>\n</table>\n</div>"
     },
     "metadata": {}
    }
   ],
   "execution_count": 35
  },
  {
   "cell_type": "code",
   "source": "merged_df.plot(x='YEAR', y=['UMBC_PCT', 'JHU_PCT'], kind='bar', figsize=(20,8),\n               ylabel='Percentage change',\n               title='Bar plot of instate tuition fee of UMBC and JHU percentage change for each year ')",
   "metadata": {
    "tags": [],
    "cell_id": "00035-658afe44-4972-446c-9414-a25452d4518f",
    "deepnote_to_be_reexecuted": false,
    "source_hash": "f792a8b6",
    "execution_start": 1621551955267,
    "execution_millis": 488,
    "deepnote_cell_type": "code"
   },
   "outputs": [
    {
     "output_type": "execute_result",
     "execution_count": 36,
     "data": {
      "text/plain": "<AxesSubplot:title={'center':'Bar plot of instate tuition fee of UMBC and JHU percentage change for each year '}, xlabel='YEAR', ylabel='Percentage change'>"
     },
     "metadata": {}
    },
    {
     "data": {
      "text/plain": "<Figure size 1440x576 with 1 Axes>",
      "image/png": "[encoded data removed]"
     },
     "metadata": {
      "needs_background": "light",
      "image/png": {
       "width": 1172,
       "height": 511
      }
     },
     "output_type": "display_data"
    }
   ],
   "execution_count": 36
  },
  {
   "cell_type": "code",
   "source": "merged_df.plot(x='YEAR', y=['UMBC_PCT', 'JHU_PCT'], figsize=(20,8),\n               ylabel='Percentage change',\n               title='Line plot of instate tuition fee of UMBC and JHU percentage change for each year ')",
   "metadata": {
    "tags": [],
    "cell_id": "00036-c793bb94-8c9a-414d-80cd-3436ee24da16",
    "deepnote_to_be_reexecuted": false,
    "source_hash": "4bee6d2a",
    "execution_start": 1621551955767,
    "execution_millis": 229,
    "deepnote_cell_type": "code"
   },
   "outputs": [
    {
     "output_type": "execute_result",
     "execution_count": 37,
     "data": {
      "text/plain": "<AxesSubplot:title={'center':'Line plot of instate tuition fee of UMBC and JHU percentage change for each year '}, xlabel='YEAR', ylabel='Percentage change'>"
     },
     "metadata": {}
    },
    {
     "data": {
      "text/plain": "<Figure size 1440x576 with 1 Axes>",
      "image/png": "[encoded data removed]"
     },
     "metadata": {
      "needs_background": "light",
      "image/png": {
       "width": 1172,
       "height": 496
      }
     },
     "output_type": "display_data"
    }
   ],
   "execution_count": 37
  },
  {
   "cell_type": "markdown",
   "source": "From the above plot, the instate tuition fee for the universities UMBC and JHU is same over the years 2001-2008. For the line plot, the percentage change is same.",
   "metadata": {
    "tags": [],
    "cell_id": "00037-28e32732-df67-4ad6-8d43-0c33810772ac",
    "deepnote_cell_type": "markdown"
   }
  },
  {
   "cell_type": "markdown",
   "source": "<a style='text-decoration:none;line-height:16px;display:flex;color:#5B5B62;padding:10px;justify-content:end;' href='https://deepnote.com?utm_source=created-in-deepnote-cell&projectId=18807e03-ecfb-4e0c-9a27-6159e281083f' target=\"_blank\">\n<img alt='Created in deepnote.com' style='display:inline;max-height:16px;margin:0px;margin-right:7.5px;' src='data:image/svg+xml;base64,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' > </img>\nCreated in <span style='font-weight:600;margin-left:4px;'>Deepnote</span></a>",
   "metadata": {
    "tags": [],
    "created_in_deepnote_cell": true,
    "deepnote_cell_type": "markdown"
   }
  }
 ],
 "nbformat": 4,
 "nbformat_minor": 2,
 "metadata": {
  "orig_nbformat": 2,
  "deepnote": {
   "is_reactive": false
  },
  "deepnote_notebook_id": "5482430e-db35-4249-95a7-a47565e28894",
  "deepnote_execution_queue": []
 }
}